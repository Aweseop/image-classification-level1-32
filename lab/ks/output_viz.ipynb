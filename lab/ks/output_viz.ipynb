{
 "cells": [
  {
   "cell_type": "code",
   "execution_count": 2,
   "source": [
    "import pandas as pd\n",
    "import numpy as np\n",
    "import seaborn as sns\n",
    "import matplotlib.pyplot as plt\n",
    "def age(cls):\n",
    "    if cls in [age for age in range(0, 18, 3)]:\n",
    "        return 'young'\n",
    "    elif cls in [age for age in range(1, 18, 3)]:\n",
    "        return 'middle'\n",
    "    else:\n",
    "        return 'old'\n",
    "def gender(cls):\n",
    "    male_cls = np.concatenate([[i for i in range(gender, gender+3)] for gender in range(0, 18, 6)])\n",
    "    if cls in male_cls:\n",
    "        return 'male'\n",
    "    else:\n",
    "        return 'female'\n",
    "        \n",
    "def mask(cls):\n",
    "    if cls in [i for i in range(6)]:\n",
    "        return 'wear'\n",
    "    elif cls in [i for i in range(6, 12)]:\n",
    "        return 'incorrect'\n",
    "    else:\n",
    "        return 'notwear'\n",
    "\n",
    "def showAnsDist(path, mode=None):\n",
    "    sns.set_theme(style=\"whitegrid\")\n",
    "    sota_sm = pd.read_csv(path) \n",
    "    chart, axes = plt.subplots(nrows=2, ncols=2, figsize=(15, 6))\n",
    "    \n",
    "    if mode is None:\n",
    "        sota_sm['age'] = list(map(age, sota_sm.ans))\n",
    "        age_sota = sota_sm.groupby(['age']).count()\n",
    "        age_sota['age'] = age_sota.index\n",
    "        sns.barplot(ax=axes[0][1], x='age', y='ImageID', data=age_sota)\n",
    "\n",
    "        sota_sm['gen'] = list(map(gender, sota_sm.ans))\n",
    "        gen_sota = sota_sm.groupby(['gen']).count()\n",
    "        gen_sota['gen'] = gen_sota.index\n",
    "        sns.barplot(ax=axes[1][0], x='gen', y='ImageID', data=gen_sota)\n",
    "        \n",
    "\n",
    "        sota_sm['mask'] = list(map(mask, sota_sm.ans))\n",
    "        mask_sota = sota_sm.groupby(['mask']).count()\n",
    "        mask_sota['mask'] = mask_sota.index\n",
    "        sns.barplot(ax=axes[1][1], x='mask', y='ImageID', data=mask_sota)\n",
    "\n",
    "    ans_sota = sota_sm.groupby(['ans']).count()\n",
    "    ans_sota['ans'] = ans_sota.index\n",
    "    sns.barplot(ax=axes[0][0], x='ans', y='ImageID', data=ans_sota)\n",
    "# example\n",
    "showAnsDist(\"./sota_output.csv\")"
   ],
   "outputs": [],
   "metadata": {}
  },
  {
   "cell_type": "code",
   "execution_count": null,
   "source": [],
   "outputs": [],
   "metadata": {}
  }
 ],
 "metadata": {
  "orig_nbformat": 4,
  "language_info": {
   "name": "python",
   "version": "3.8.5",
   "mimetype": "text/x-python",
   "codemirror_mode": {
    "name": "ipython",
    "version": 3
   },
   "pygments_lexer": "ipython3",
   "nbconvert_exporter": "python",
   "file_extension": ".py"
  },
  "kernelspec": {
   "name": "python3",
   "display_name": "Python 3.8.5 64-bit ('base': conda)"
  },
  "interpreter": {
   "hash": "98b0a9b7b4eaaa670588a142fd0a9b87eaafe866f1db4228be72b4211d12040f"
  }
 },
 "nbformat": 4,
 "nbformat_minor": 2
}