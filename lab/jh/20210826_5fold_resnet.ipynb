{
 "cells": [
  {
   "cell_type": "code",
   "execution_count": 63,
   "source": [
    "import os\n",
    "import sys\n",
    "from glob import glob\n",
    "import numpy as np\n",
    "import pandas as pd\n",
    "import cv2\n",
    "from PIL import Image\n",
    "from tqdm.notebook import tqdm\n",
    "from time import time\n",
    "import pickle\n",
    "import math\n",
    "\n",
    "import matplotlib.pyplot as plt\n",
    "import seaborn as sns\n",
    "import multiprocessing as mp\n",
    "\n",
    "import torch\n",
    "import torch.nn as nn\n",
    "import torch.nn.functional as F\n",
    "from torch.utils.data import Dataset, DataLoader\n",
    "\n",
    "from torchvision import transforms, models\n",
    "from torchvision.transforms import Resize, ToTensor, Normalize\n",
    "\n",
    "import warnings\n",
    "warnings.filterwarnings('ignore')"
   ],
   "outputs": [],
   "metadata": {}
  },
  {
   "cell_type": "code",
   "execution_count": 64,
   "source": [
    "import random\n",
    "\n",
    "# Set random seed\n",
    "SEED = 42\n",
    "random.seed(SEED)\n",
    "np.random.seed(SEED)\n",
    "os.environ[\"PYTHONHASHSEED\"] = str(SEED)\n",
    "torch.manual_seed(SEED)\n",
    "torch.cuda.manual_seed(SEED)  # type: ignore\n",
    "torch.backends.cudnn.deterministic = True  # type: ignore\n",
    "torch.backends.cudnn.benchmark = True  # type: ignore"
   ],
   "outputs": [],
   "metadata": {}
  },
  {
   "cell_type": "markdown",
   "source": [
    "# Prepare Data"
   ],
   "metadata": {}
  },
  {
   "cell_type": "code",
   "execution_count": 83,
   "source": [
    "class cfg:\n",
    "    data_dir = '/opt/ml/input/data/train'\n",
    "    img_dir = f'{data_dir}/images'\n",
    "    df_path = f'{data_dir}/train.csv'"
   ],
   "outputs": [],
   "metadata": {}
  },
  {
   "cell_type": "code",
   "execution_count": 84,
   "source": [
    "# 데이터프레임 -> 데이터셋\n",
    "class CustomDatasetFromDF(Dataset):\n",
    "    def __init__(self, DataFrame):\n",
    "        \n",
    "        # Transforms\n",
    "        self.to_tensor = transforms.Compose([transforms.Resize(256),\n",
    "                                             transforms.CenterCrop(224),\n",
    "                                             transforms.ToTensor()])\n",
    "        self.data_info = DataFrame\n",
    "        \n",
    "        # First column contains the image paths\n",
    "        self.image_arr = np.asarray(self.data_info.loc[:, 'imageFile'])\n",
    "        \n",
    "        # Second column is the labels\n",
    "        self.label_arr = np.asarray(self.data_info.loc[:, 'allcate'])\n",
    "       \n",
    "        # Calculate len\n",
    "        self.data_len = len(self.data_info.index)\n",
    "\n",
    "    def __getitem__(self, index):\n",
    "        # Get image name from the pandas df\n",
    "        single_image_name = self.image_arr[index]\n",
    "        \n",
    "        # Open image\n",
    "        img_as_img = Image.open(single_image_name)\n",
    "        \n",
    "        # Transform image to tensor\n",
    "        img_as_tensor = self.to_tensor(img_as_img)\n",
    "\n",
    "        # Get label(class) of the image based on the cropped pandas column\n",
    "        single_image_label = self.label_arr[index]\n",
    "\n",
    "        return (img_as_tensor, single_image_label)\n",
    "\n",
    "    def __len__(self):\n",
    "        return self.data_len"
   ],
   "outputs": [],
   "metadata": {}
  },
  {
   "cell_type": "code",
   "execution_count": 85,
   "source": [
    "with open(f'{cfg.data_dir}/df_0825.pickle', 'rb') as f:\n",
    "    df = pickle.load(f)"
   ],
   "outputs": [],
   "metadata": {}
  },
  {
   "cell_type": "code",
   "execution_count": 86,
   "source": [
    "df.head()"
   ],
   "outputs": [
    {
     "output_type": "execute_result",
     "data": {
      "text/plain": [
       "       id   race                    path  gender  age  classMask    G, A, M  \\\n",
       "0  000001  Asian  000001_female_Asian_45       0    1          0  (0, 1, 0)   \n",
       "1  000001  Asian  000001_female_Asian_45       0    1          1  (0, 1, 1)   \n",
       "2  000001  Asian  000001_female_Asian_45       0    1          1  (0, 1, 1)   \n",
       "3  000001  Asian  000001_female_Asian_45       0    1          1  (0, 1, 1)   \n",
       "4  000001  Asian  000001_female_Asian_45       0    1          1  (0, 1, 1)   \n",
       "\n",
       "   allcate  maskState                                          imageFile  \n",
       "0       10  incorrect  /opt/ml/input/data/train/images/000001_female_...  \n",
       "1        4       mask  /opt/ml/input/data/train/images/000001_female_...  \n",
       "2        4       mask  /opt/ml/input/data/train/images/000001_female_...  \n",
       "3        4       mask  /opt/ml/input/data/train/images/000001_female_...  \n",
       "4        4       mask  /opt/ml/input/data/train/images/000001_female_...  "
      ],
      "text/html": [
       "<div>\n",
       "<style scoped>\n",
       "    .dataframe tbody tr th:only-of-type {\n",
       "        vertical-align: middle;\n",
       "    }\n",
       "\n",
       "    .dataframe tbody tr th {\n",
       "        vertical-align: top;\n",
       "    }\n",
       "\n",
       "    .dataframe thead th {\n",
       "        text-align: right;\n",
       "    }\n",
       "</style>\n",
       "<table border=\"1\" class=\"dataframe\">\n",
       "  <thead>\n",
       "    <tr style=\"text-align: right;\">\n",
       "      <th></th>\n",
       "      <th>id</th>\n",
       "      <th>race</th>\n",
       "      <th>path</th>\n",
       "      <th>gender</th>\n",
       "      <th>age</th>\n",
       "      <th>classMask</th>\n",
       "      <th>G, A, M</th>\n",
       "      <th>allcate</th>\n",
       "      <th>maskState</th>\n",
       "      <th>imageFile</th>\n",
       "    </tr>\n",
       "  </thead>\n",
       "  <tbody>\n",
       "    <tr>\n",
       "      <th>0</th>\n",
       "      <td>000001</td>\n",
       "      <td>Asian</td>\n",
       "      <td>000001_female_Asian_45</td>\n",
       "      <td>0</td>\n",
       "      <td>1</td>\n",
       "      <td>0</td>\n",
       "      <td>(0, 1, 0)</td>\n",
       "      <td>10</td>\n",
       "      <td>incorrect</td>\n",
       "      <td>/opt/ml/input/data/train/images/000001_female_...</td>\n",
       "    </tr>\n",
       "    <tr>\n",
       "      <th>1</th>\n",
       "      <td>000001</td>\n",
       "      <td>Asian</td>\n",
       "      <td>000001_female_Asian_45</td>\n",
       "      <td>0</td>\n",
       "      <td>1</td>\n",
       "      <td>1</td>\n",
       "      <td>(0, 1, 1)</td>\n",
       "      <td>4</td>\n",
       "      <td>mask</td>\n",
       "      <td>/opt/ml/input/data/train/images/000001_female_...</td>\n",
       "    </tr>\n",
       "    <tr>\n",
       "      <th>2</th>\n",
       "      <td>000001</td>\n",
       "      <td>Asian</td>\n",
       "      <td>000001_female_Asian_45</td>\n",
       "      <td>0</td>\n",
       "      <td>1</td>\n",
       "      <td>1</td>\n",
       "      <td>(0, 1, 1)</td>\n",
       "      <td>4</td>\n",
       "      <td>mask</td>\n",
       "      <td>/opt/ml/input/data/train/images/000001_female_...</td>\n",
       "    </tr>\n",
       "    <tr>\n",
       "      <th>3</th>\n",
       "      <td>000001</td>\n",
       "      <td>Asian</td>\n",
       "      <td>000001_female_Asian_45</td>\n",
       "      <td>0</td>\n",
       "      <td>1</td>\n",
       "      <td>1</td>\n",
       "      <td>(0, 1, 1)</td>\n",
       "      <td>4</td>\n",
       "      <td>mask</td>\n",
       "      <td>/opt/ml/input/data/train/images/000001_female_...</td>\n",
       "    </tr>\n",
       "    <tr>\n",
       "      <th>4</th>\n",
       "      <td>000001</td>\n",
       "      <td>Asian</td>\n",
       "      <td>000001_female_Asian_45</td>\n",
       "      <td>0</td>\n",
       "      <td>1</td>\n",
       "      <td>1</td>\n",
       "      <td>(0, 1, 1)</td>\n",
       "      <td>4</td>\n",
       "      <td>mask</td>\n",
       "      <td>/opt/ml/input/data/train/images/000001_female_...</td>\n",
       "    </tr>\n",
       "  </tbody>\n",
       "</table>\n",
       "</div>"
      ]
     },
     "metadata": {},
     "execution_count": 86
    }
   ],
   "metadata": {}
  },
  {
   "cell_type": "code",
   "execution_count": 87,
   "source": [
    "# 5 - fold cross validation\n",
    "from sklearn.model_selection import StratifiedKFold\n",
    "\n",
    "skf = StratifiedKFold(n_splits=5, shuffle=True, random_state=42)\n",
    "folds = []\n",
    "for train_idx, valid_idx in skf.split(df, df['allcate']):\n",
    "    folds.append((train_idx, valid_idx))\n",
    "\n",
    "for train_idx, valid_idx in folds:\n",
    "    df_train, df_valid = df.iloc[train_idx], df.iloc[valid_idx]"
   ],
   "outputs": [],
   "metadata": {}
  },
  {
   "cell_type": "code",
   "execution_count": 88,
   "source": [
    "train_data = CustomDatasetFromDF(df.iloc[folds[0][0]])\n",
    "train_loader = DataLoader(train_data, shuffle=True, batch_size=1)\n",
    "next(iter(train_loader))"
   ],
   "outputs": [
    {
     "output_type": "execute_result",
     "data": {
      "text/plain": [
       "[tensor([[[[0.8667, 0.8667, 0.8667,  ..., 0.8549, 0.8549, 0.8549],\n",
       "           [0.8667, 0.8667, 0.8667,  ..., 0.8549, 0.8549, 0.8549],\n",
       "           [0.8667, 0.8667, 0.8667,  ..., 0.8549, 0.8549, 0.8549],\n",
       "           ...,\n",
       "           [0.7569, 0.7529, 0.7451,  ..., 0.6980, 0.6980, 0.7020],\n",
       "           [0.7451, 0.7412, 0.7373,  ..., 0.6941, 0.6980, 0.6980],\n",
       "           [0.7373, 0.7333, 0.7255,  ..., 0.6902, 0.6941, 0.6941]],\n",
       " \n",
       "          [[0.8824, 0.8824, 0.8824,  ..., 0.8706, 0.8706, 0.8706],\n",
       "           [0.8824, 0.8824, 0.8824,  ..., 0.8706, 0.8706, 0.8706],\n",
       "           [0.8824, 0.8824, 0.8824,  ..., 0.8706, 0.8706, 0.8706],\n",
       "           ...,\n",
       "           [0.1451, 0.1412, 0.1333,  ..., 0.1255, 0.1255, 0.1294],\n",
       "           [0.1333, 0.1294, 0.1255,  ..., 0.1216, 0.1255, 0.1255],\n",
       "           [0.1255, 0.1216, 0.1137,  ..., 0.1176, 0.1216, 0.1216]],\n",
       " \n",
       "          [[0.8863, 0.8863, 0.8863,  ..., 0.8745, 0.8745, 0.8745],\n",
       "           [0.8863, 0.8863, 0.8863,  ..., 0.8745, 0.8745, 0.8745],\n",
       "           [0.8863, 0.8863, 0.8863,  ..., 0.8745, 0.8745, 0.8745],\n",
       "           ...,\n",
       "           [0.1608, 0.1569, 0.1490,  ..., 0.1647, 0.1647, 0.1686],\n",
       "           [0.1490, 0.1451, 0.1412,  ..., 0.1608, 0.1647, 0.1647],\n",
       "           [0.1412, 0.1373, 0.1294,  ..., 0.1569, 0.1608, 0.1608]]]]),\n",
       " tensor([4])]"
      ]
     },
     "metadata": {},
     "execution_count": 88
    }
   ],
   "metadata": {}
  },
  {
   "cell_type": "code",
   "execution_count": 89,
   "source": [
    "resnet50 = models.resnet50(pretrained=True)\n",
    "print(\"네트워크 필요 입력 채널 개수\", resnet50.conv1.weight.shape[1])\n",
    "print(\"네트워크 출력 채널 개수 (예측 class type 개수)\", resnet50.fc.weight.shape[0])"
   ],
   "outputs": [
    {
     "output_type": "stream",
     "name": "stdout",
     "text": [
      "네트워크 필요 입력 채널 개수 3\n",
      "네트워크 출력 채널 개수 (예측 class type 개수) 1000\n"
     ]
    }
   ],
   "metadata": {}
  },
  {
   "cell_type": "code",
   "execution_count": 90,
   "source": [
    "resnet50.fc.in_features"
   ],
   "outputs": [
    {
     "output_type": "execute_result",
     "data": {
      "text/plain": [
       "2048"
      ]
     },
     "metadata": {},
     "execution_count": 90
    }
   ],
   "metadata": {}
  },
  {
   "cell_type": "code",
   "execution_count": 91,
   "source": [
    "target_model = models.resnet50(pretrained=True)\n",
    "CLASS_NUM = 18\n",
    "target_model.fc = torch.nn.Linear(in_features=2048, out_features=CLASS_NUM, bias=True)\n",
    "nn.init.xavier_uniform_(target_model.fc.weight)\n",
    "stdv =  1 / math.sqrt(target_model.fc.in_features)\n",
    "target_model.fc.bias.data.uniform_(-stdv, stdv)\n",
    "\n",
    "print(\"네트워크 필요 입력 채널 개수\", target_model.conv1.weight.shape[1])\n",
    "print(\"네트워크 출력 채널 개수 (예측 class type 개수)\", target_model.fc.weight.shape[0])"
   ],
   "outputs": [
    {
     "output_type": "stream",
     "name": "stdout",
     "text": [
      "네트워크 필요 입력 채널 개수 3\n",
      "네트워크 출력 채널 개수 (예측 class type 개수) 18\n"
     ]
    }
   ],
   "metadata": {}
  },
  {
   "cell_type": "code",
   "execution_count": 92,
   "source": [
    "train_data = CustomDatasetFromDF(df.iloc[folds[0][0]])\n",
    "valid_data = CustomDatasetFromDF(df.iloc[folds[0][1]])\n",
    "\n",
    "# Mnist Dataset을 DataLoader에 붙이기\n",
    "BATCH_SIZE = 64\n",
    "train_dataloader = torch.utils.data.DataLoader(train_data, batch_size=BATCH_SIZE, shuffle=True, num_workers=4)\n",
    "valid_dataloader = torch.utils.data.DataLoader(valid_data, batch_size=BATCH_SIZE, shuffle=False, num_workers=4)"
   ],
   "outputs": [],
   "metadata": {}
  },
  {
   "cell_type": "code",
   "execution_count": 93,
   "source": [
    "## 2. mnist train 데이터 셋을 resnet50 모델에 학습하기\n",
    "\n",
    "device = torch.device(\"cuda\" if torch.cuda.is_available() else \"cpu\") # 학습 때 GPU 사용여부 결정. Colab에서는 \"런타임\"->\"런타임 유형 변경\"에서 \"GPU\"를 선택할 수 있음\n",
    "\n",
    "print(f\"{device} is using!\")\n",
    "\n",
    "target_model.to(device) # Resnent 18 네트워크의 Tensor들을 GPU에 올릴지 Memory에 올릴지 결정함\n",
    "\n",
    "LEARNING_RATE = 0.0001 # 학습 때 사용하는 optimizer의 학습률 옵션 설정\n",
    "NUM_EPOCH = 20 # 학습 때 mnist train 데이터 셋을 얼마나 많이 학습할지 결정하는 옵션\n",
    "\n",
    "loss_fn = torch.nn.CrossEntropyLoss() # 분류 학습 때 많이 사용되는 Cross entropy loss를 objective function으로 사용 - https://en.wikipedia.org/wiki/Cross_entropy\n",
    "optimizer = torch.optim.Adam(target_model.parameters(), lr=LEARNING_RATE) # weight 업데이트를 위한 optimizer를 Adam으로 사용함\n",
    "\n",
    "dataloaders = {\n",
    "    \"train\" : train_dataloader,\n",
    "    \"test\" : valid_dataloader\n",
    "}\n",
    "\n",
    "best_models = {}"
   ],
   "outputs": [
    {
     "output_type": "stream",
     "name": "stdout",
     "text": [
      "cuda is using!\n"
     ]
    }
   ],
   "metadata": {}
  },
  {
   "cell_type": "code",
   "execution_count": 76,
   "source": [
    "### 학습 코드 시작\n",
    "best_test_accuracy = 0.\n",
    "best_test_loss = 0.\n",
    "\n",
    "\n",
    "for epoch in range(NUM_EPOCH):\n",
    "  for phase in [\"train\", \"test\"]:\n",
    "    running_loss = 0.\n",
    "    running_acc = 0.\n",
    "    if phase == \"train\":\n",
    "      target_model.train() # 네트워크 모델을 train 모드로 두어 gradient을 계산하고, 여러 sub module (배치 정규화, 드롭아웃 등)이 train mode로 작동할 수 있도록 함\n",
    "    elif phase == \"test\":\n",
    "      target_model.eval() # 네트워크 모델을 eval 모드 두어 여러 sub module들이 eval mode로 작동할 수 있게 함\n",
    "\n",
    "    for ind, (images, labels) in enumerate(tqdm(dataloaders[phase])):\n",
    "      # (참고.해보기) 현재 tqdm으로 출력되는 것이 단순히 진행 상황 뿐인데 현재 epoch, running_loss와 running_acc을 출력하려면 어떻게 할 수 있는지 tqdm 문서를 보고 해봅시다!\n",
    "      # hint - with, pbar\n",
    "      images = images.to(device)\n",
    "      labels = labels.to(device)\n",
    "\n",
    "      optimizer.zero_grad() # parameter gradient를 업데이트 전 초기화함\n",
    "\n",
    "      with torch.set_grad_enabled(phase == \"train\"): # train 모드일 시에는 gradient를 계산하고, 아닐 때는 gradient를 계산하지 않아 연산량 최소화\n",
    "        logits = target_model(images)\n",
    "        _, preds = torch.max(logits, 1) # 모델에서 linear 값으로 나오는 예측 값 ([0.9,1.2, 3.2,0.1,-0.1,...])을 최대 output index를 찾아 예측 레이블([2])로 변경함  \n",
    "        loss = loss_fn(logits, labels)\n",
    "\n",
    "        if phase == \"train\":\n",
    "          loss.backward() # 모델의 예측 값과 실제 값의 CrossEntropy 차이를 통해 gradient 계산\n",
    "          optimizer.step() # 계산된 gradient를 가지고 모델 업데이트\n",
    "\n",
    "      running_loss += loss.item() * images.size(0) # 한 Batch에서의 loss 값 저장\n",
    "      running_acc += torch.sum(preds == labels.data) # 한 Batch에서의 Accuracy 값 저장\n",
    "\n",
    "    # 한 epoch이 모두 종료되었을 때,\n",
    "    epoch_loss = running_loss / len(dataloaders[phase].dataset)\n",
    "    epoch_acc = running_acc / len(dataloaders[phase].dataset)\n",
    "\n",
    "    print(f\"현재 epoch-{epoch}의 {phase}-데이터 셋에서 평균 Loss : {epoch_loss:.3f}, 평균 Accuracy : {epoch_acc:.3f}\")\n",
    "    if phase == \"test\" and best_test_accuracy < epoch_acc: # phase가 test일 때, best accuracy 계산\n",
    "      best_test_accuracy = epoch_acc\n",
    "    if phase == \"test\" and best_test_loss < epoch_loss: # phase가 test일 때, best loss 계산\n",
    "      best_test_loss = epoch_loss\n",
    "      best_model = target_model\n",
    "    \n",
    "print(\"학습 종료!\")\n",
    "print(f\"최고 accuracy : {best_test_accuracy}, 최고 낮은 loss : {best_test_loss}\")"
   ],
   "outputs": [
    {
     "output_type": "display_data",
     "data": {
      "text/plain": [
       "HBox(children=(HTML(value=''), FloatProgress(value=0.0, max=237.0), HTML(value='')))"
      ],
      "application/vnd.jupyter.widget-view+json": {
       "model_id": "97fc9cf97d1a47b1aba801acceacfc98",
       "version_major": 2,
       "version_minor": 0
      }
     },
     "metadata": {}
    },
    {
     "output_type": "stream",
     "name": "stdout",
     "text": [
      "\n",
      "현재 epoch-0의 train-데이터 셋에서 평균 Loss : 0.377, 평균 Accuracy : 0.881\n"
     ]
    },
    {
     "output_type": "display_data",
     "data": {
      "text/plain": [
       "HBox(children=(HTML(value=''), FloatProgress(value=0.0, max=60.0), HTML(value='')))"
      ],
      "application/vnd.jupyter.widget-view+json": {
       "model_id": "3e942760dea3403d9450ab508defd1a5",
       "version_major": 2,
       "version_minor": 0
      }
     },
     "metadata": {}
    },
    {
     "output_type": "stream",
     "name": "stdout",
     "text": [
      "\n",
      "현재 epoch-0의 test-데이터 셋에서 평균 Loss : 0.239, 평균 Accuracy : 0.910\n"
     ]
    },
    {
     "output_type": "display_data",
     "data": {
      "text/plain": [
       "HBox(children=(HTML(value=''), FloatProgress(value=0.0, max=237.0), HTML(value='')))"
      ],
      "application/vnd.jupyter.widget-view+json": {
       "model_id": "94292fd6151d40d0a02369b96bebe12e",
       "version_major": 2,
       "version_minor": 0
      }
     },
     "metadata": {}
    },
    {
     "output_type": "stream",
     "name": "stdout",
     "text": [
      "\n",
      "현재 epoch-1의 train-데이터 셋에서 평균 Loss : 0.076, 평균 Accuracy : 0.975\n"
     ]
    },
    {
     "output_type": "display_data",
     "data": {
      "text/plain": [
       "HBox(children=(HTML(value=''), FloatProgress(value=0.0, max=60.0), HTML(value='')))"
      ],
      "application/vnd.jupyter.widget-view+json": {
       "model_id": "bbf23dabf2f44e238deb1eb7993cbb7f",
       "version_major": 2,
       "version_minor": 0
      }
     },
     "metadata": {}
    },
    {
     "output_type": "stream",
     "name": "stdout",
     "text": [
      "\n",
      "현재 epoch-1의 test-데이터 셋에서 평균 Loss : 0.129, 평균 Accuracy : 0.957\n"
     ]
    },
    {
     "output_type": "display_data",
     "data": {
      "text/plain": [
       "HBox(children=(HTML(value=''), FloatProgress(value=0.0, max=237.0), HTML(value='')))"
      ],
      "application/vnd.jupyter.widget-view+json": {
       "model_id": "b56227ad08ce422e8abf1f03fd8f4a78",
       "version_major": 2,
       "version_minor": 0
      }
     },
     "metadata": {}
    },
    {
     "output_type": "stream",
     "name": "stdout",
     "text": [
      "\n",
      "현재 epoch-2의 train-데이터 셋에서 평균 Loss : 0.046, 평균 Accuracy : 0.986\n"
     ]
    },
    {
     "output_type": "display_data",
     "data": {
      "text/plain": [
       "HBox(children=(HTML(value=''), FloatProgress(value=0.0, max=60.0), HTML(value='')))"
      ],
      "application/vnd.jupyter.widget-view+json": {
       "model_id": "323d9bc7c14c425f96540725813b21c3",
       "version_major": 2,
       "version_minor": 0
      }
     },
     "metadata": {}
    },
    {
     "output_type": "stream",
     "name": "stdout",
     "text": [
      "\n",
      "현재 epoch-2의 test-데이터 셋에서 평균 Loss : 0.104, 평균 Accuracy : 0.967\n"
     ]
    },
    {
     "output_type": "display_data",
     "data": {
      "text/plain": [
       "HBox(children=(HTML(value=''), FloatProgress(value=0.0, max=237.0), HTML(value='')))"
      ],
      "application/vnd.jupyter.widget-view+json": {
       "model_id": "c2cdc873559441cf9b64496c32b22f6c",
       "version_major": 2,
       "version_minor": 0
      }
     },
     "metadata": {}
    },
    {
     "output_type": "stream",
     "name": "stdout",
     "text": [
      "\n",
      "현재 epoch-3의 train-데이터 셋에서 평균 Loss : 0.036, 평균 Accuracy : 0.988\n"
     ]
    },
    {
     "output_type": "display_data",
     "data": {
      "text/plain": [
       "HBox(children=(HTML(value=''), FloatProgress(value=0.0, max=60.0), HTML(value='')))"
      ],
      "application/vnd.jupyter.widget-view+json": {
       "model_id": "d08088f021ab4d1eac79fd2b9655339a",
       "version_major": 2,
       "version_minor": 0
      }
     },
     "metadata": {}
    },
    {
     "output_type": "stream",
     "name": "stdout",
     "text": [
      "\n",
      "현재 epoch-3의 test-데이터 셋에서 평균 Loss : 0.080, 평균 Accuracy : 0.976\n"
     ]
    },
    {
     "output_type": "display_data",
     "data": {
      "text/plain": [
       "HBox(children=(HTML(value=''), FloatProgress(value=0.0, max=237.0), HTML(value='')))"
      ],
      "application/vnd.jupyter.widget-view+json": {
       "model_id": "50732f83671343918d738d787a91e5ed",
       "version_major": 2,
       "version_minor": 0
      }
     },
     "metadata": {}
    },
    {
     "output_type": "stream",
     "name": "stdout",
     "text": [
      "\n",
      "현재 epoch-4의 train-데이터 셋에서 평균 Loss : 0.018, 평균 Accuracy : 0.995\n"
     ]
    },
    {
     "output_type": "display_data",
     "data": {
      "text/plain": [
       "HBox(children=(HTML(value=''), FloatProgress(value=0.0, max=60.0), HTML(value='')))"
      ],
      "application/vnd.jupyter.widget-view+json": {
       "model_id": "0cf5309d126d4193b80f591b4b77edde",
       "version_major": 2,
       "version_minor": 0
      }
     },
     "metadata": {}
    },
    {
     "output_type": "stream",
     "name": "stdout",
     "text": [
      "\n",
      "현재 epoch-4의 test-데이터 셋에서 평균 Loss : 0.060, 평균 Accuracy : 0.978\n",
      "학습 종료!\n",
      "최고 accuracy : 0.9780423641204834, 최고 낮은 loss : 0.23931330035209025\n"
     ]
    }
   ],
   "metadata": {}
  },
  {
   "cell_type": "markdown",
   "source": [
    "## 프리즈 실험"
   ],
   "metadata": {}
  },
  {
   "cell_type": "code",
   "execution_count": 104,
   "source": [
    "# resnet34, epoch20\n",
    "target_model = models.resnet34(pretrained=True)\n",
    "CLASS_NUM = 18\n",
    "target_model.fc = torch.nn.Linear(in_features=512, out_features=CLASS_NUM, bias=True)\n",
    "nn.init.xavier_uniform_(target_model.fc.weight)\n",
    "stdv =  1 / math.sqrt(target_model.fc.in_features)\n",
    "target_model.fc.bias.data.uniform_(-stdv, stdv)\n",
    "\n",
    "train_data = CustomDatasetFromDF(df.iloc[folds[0][0]])\n",
    "valid_data = CustomDatasetFromDF(df.iloc[folds[0][1]])\n",
    "\n",
    "# Mnist Dataset을 DataLoader에 붙이기\n",
    "BATCH_SIZE = 64\n",
    "train_dataloader = torch.utils.data.DataLoader(train_data, batch_size=BATCH_SIZE, shuffle=True, num_workers=4)\n",
    "valid_dataloader = torch.utils.data.DataLoader(valid_data, batch_size=BATCH_SIZE, shuffle=False, num_workers=4)\n",
    "\n",
    "device = torch.device(\"cuda\" if torch.cuda.is_available() else \"cpu\") # 학습 때 GPU 사용여부 결정. Colab에서는 \"런타임\"->\"런타임 유형 변경\"에서 \"GPU\"를 선택할 수 있음\n",
    "\n",
    "print(f\"{device} is using!\")\n",
    "\n",
    "target_model.to(device) # Resnent 18 네트워크의 Tensor들을 GPU에 올릴지 Memory에 올릴지 결정함\n",
    "\n",
    "LEARNING_RATE = 0.0001 # 학습 때 사용하는 optimizer의 학습률 옵션 설정\n",
    "NUM_EPOCH = 20 # 학습 때 mnist train 데이터 셋을 얼마나 많이 학습할지 결정하는 옵션\n",
    "\n",
    "loss_fn = torch.nn.CrossEntropyLoss() # 분류 학습 때 많이 사용되는 Cross entropy loss를 objective function으로 사용 - https://en.wikipedia.org/wiki/Cross_entropy\n",
    "optimizer = torch.optim.Adam(target_model.parameters(), lr=LEARNING_RATE) # weight 업데이트를 위한 optimizer를 Adam으로 사용함\n",
    "\n",
    "dataloaders = {\n",
    "    \"train\" : train_dataloader,\n",
    "    \"test\" : valid_dataloader\n",
    "}\n",
    "\n",
    "# freeze\n",
    "for param in target_model.parameters():\n",
    "    param.requires_grad = False\n",
    "\n",
    "CLASS_NUM = 18\n",
    "\n",
    "# melt layer4\n",
    "for param in target_model.layer4.parameters():\n",
    "    param.requires_grad = True\n",
    "\n",
    "# melt fc\n",
    "for param in target_model.fc.parameters():\n",
    "    param.requires_grad = True\n",
    "\n",
    "### 학습 코드 시작\n",
    "best_test_accuracy = 0.\n",
    "best_test_loss = 0.\n",
    "\n",
    "for epoch in range(NUM_EPOCH):\n",
    "  for phase in [\"train\", \"test\"]:\n",
    "    running_loss = 0.\n",
    "    running_acc = 0.\n",
    "    if phase == \"train\":\n",
    "      target_model.train() # 네트워크 모델을 train 모드로 두어 gradient을 계산하고, 여러 sub module (배치 정규화, 드롭아웃 등)이 train mode로 작동할 수 있도록 함\n",
    "    elif phase == \"test\":\n",
    "      target_model.eval() # 네트워크 모델을 eval 모드 두어 여러 sub module들이 eval mode로 작동할 수 있게 함\n",
    "\n",
    "    for ind, (images, labels) in enumerate(tqdm(dataloaders[phase])):\n",
    "      # (참고.해보기) 현재 tqdm으로 출력되는 것이 단순히 진행 상황 뿐인데 현재 epoch, running_loss와 running_acc을 출력하려면 어떻게 할 수 있는지 tqdm 문서를 보고 해봅시다!\n",
    "      # hint - with, pbar\n",
    "      images = images.to(device)\n",
    "      labels = labels.to(device)\n",
    "\n",
    "      optimizer.zero_grad() # parameter gradient를 업데이트 전 초기화함\n",
    "\n",
    "      with torch.set_grad_enabled(phase == \"train\"): # train 모드일 시에는 gradient를 계산하고, 아닐 때는 gradient를 계산하지 않아 연산량 최소화\n",
    "        logits = target_model(images)\n",
    "        _, preds = torch.max(logits, 1) # 모델에서 linear 값으로 나오는 예측 값 ([0.9,1.2, 3.2,0.1,-0.1,...])을 최대 output index를 찾아 예측 레이블([2])로 변경함  \n",
    "        loss = loss_fn(logits, labels)\n",
    "\n",
    "        if phase == \"train\":\n",
    "          loss.backward() # 모델의 예측 값과 실제 값의 CrossEntropy 차이를 통해 gradient 계산\n",
    "          optimizer.step() # 계산된 gradient를 가지고 모델 업데이트\n",
    "\n",
    "      running_loss += loss.item() * images.size(0) # 한 Batch에서의 loss 값 저장\n",
    "      running_acc += torch.sum(preds == labels.data) # 한 Batch에서의 Accuracy 값 저장\n",
    "\n",
    "    # 한 epoch이 모두 종료되었을 때,\n",
    "    epoch_loss = running_loss / len(dataloaders[phase].dataset)\n",
    "    epoch_acc = running_acc / len(dataloaders[phase].dataset)\n",
    "\n",
    "    print(f\"현재 epoch-{epoch}의 {phase}-데이터 셋에서 평균 Loss : {epoch_loss:.3f}, 평균 Accuracy : {epoch_acc:.3f}\")\n",
    "    if phase == \"test\" and best_test_accuracy < epoch_acc: # phase가 test일 때, best accuracy 계산\n",
    "      best_test_accuracy = epoch_acc\n",
    "    if phase == \"test\" and best_test_loss < epoch_loss: # phase가 test일 때, best loss 계산\n",
    "      best_test_loss = epoch_loss\n",
    "      best_model = target_model\n",
    "    \n",
    "print(\"학습 종료!\")\n",
    "print(f\"최고 accuracy : {best_test_accuracy}, 최고 낮은 loss : {best_test_loss}\")"
   ],
   "outputs": [
    {
     "output_type": "stream",
     "name": "stdout",
     "text": [
      "cuda is using!\n"
     ]
    },
    {
     "output_type": "display_data",
     "data": {
      "text/plain": [
       "HBox(children=(HTML(value=''), FloatProgress(value=0.0, max=237.0), HTML(value='')))"
      ],
      "application/vnd.jupyter.widget-view+json": {
       "model_id": "d314d50ec0e24881b84627a675ac7524",
       "version_major": 2,
       "version_minor": 0
      }
     },
     "metadata": {}
    },
    {
     "output_type": "stream",
     "name": "stdout",
     "text": [
      "\n",
      "현재 epoch-0의 train-데이터 셋에서 평균 Loss : 0.514, 평균 Accuracy : 0.838\n"
     ]
    },
    {
     "output_type": "display_data",
     "data": {
      "text/plain": [
       "HBox(children=(HTML(value=''), FloatProgress(value=0.0, max=60.0), HTML(value='')))"
      ],
      "application/vnd.jupyter.widget-view+json": {
       "model_id": "ab03b91623754380a115bec2636cbb06",
       "version_major": 2,
       "version_minor": 0
      }
     },
     "metadata": {}
    },
    {
     "output_type": "stream",
     "name": "stdout",
     "text": [
      "\n",
      "현재 epoch-0의 test-데이터 셋에서 평균 Loss : 0.249, 평균 Accuracy : 0.911\n"
     ]
    },
    {
     "output_type": "display_data",
     "data": {
      "text/plain": [
       "HBox(children=(HTML(value=''), FloatProgress(value=0.0, max=237.0), HTML(value='')))"
      ],
      "application/vnd.jupyter.widget-view+json": {
       "model_id": "5aa54f7f0cbf42c8ace8bba3d8689eff",
       "version_major": 2,
       "version_minor": 0
      }
     },
     "metadata": {}
    },
    {
     "output_type": "stream",
     "name": "stdout",
     "text": [
      "\n",
      "현재 epoch-1의 train-데이터 셋에서 평균 Loss : 0.103, 평균 Accuracy : 0.968\n"
     ]
    },
    {
     "output_type": "display_data",
     "data": {
      "text/plain": [
       "HBox(children=(HTML(value=''), FloatProgress(value=0.0, max=60.0), HTML(value='')))"
      ],
      "application/vnd.jupyter.widget-view+json": {
       "model_id": "b1c609e6e44244a4b594ca52f252cb30",
       "version_major": 2,
       "version_minor": 0
      }
     },
     "metadata": {}
    },
    {
     "output_type": "stream",
     "name": "stdout",
     "text": [
      "\n",
      "현재 epoch-1의 test-데이터 셋에서 평균 Loss : 0.170, 평균 Accuracy : 0.944\n"
     ]
    },
    {
     "output_type": "display_data",
     "data": {
      "text/plain": [
       "HBox(children=(HTML(value=''), FloatProgress(value=0.0, max=237.0), HTML(value='')))"
      ],
      "application/vnd.jupyter.widget-view+json": {
       "model_id": "29308d07a6304e54ba678e439cfdfc27",
       "version_major": 2,
       "version_minor": 0
      }
     },
     "metadata": {}
    },
    {
     "output_type": "stream",
     "name": "stdout",
     "text": [
      "\n",
      "현재 epoch-2의 train-데이터 셋에서 평균 Loss : 0.046, 평균 Accuracy : 0.987\n"
     ]
    },
    {
     "output_type": "display_data",
     "data": {
      "text/plain": [
       "HBox(children=(HTML(value=''), FloatProgress(value=0.0, max=60.0), HTML(value='')))"
      ],
      "application/vnd.jupyter.widget-view+json": {
       "model_id": "434f722dfb684f0794e0cf5cd31b68b9",
       "version_major": 2,
       "version_minor": 0
      }
     },
     "metadata": {}
    },
    {
     "output_type": "stream",
     "name": "stdout",
     "text": [
      "\n",
      "현재 epoch-2의 test-데이터 셋에서 평균 Loss : 0.131, 평균 Accuracy : 0.958\n"
     ]
    },
    {
     "output_type": "display_data",
     "data": {
      "text/plain": [
       "HBox(children=(HTML(value=''), FloatProgress(value=0.0, max=237.0), HTML(value='')))"
      ],
      "application/vnd.jupyter.widget-view+json": {
       "model_id": "22e2c96533874eeab86a5b120dc01d6d",
       "version_major": 2,
       "version_minor": 0
      }
     },
     "metadata": {}
    },
    {
     "output_type": "stream",
     "name": "stdout",
     "text": [
      "\n",
      "현재 epoch-3의 train-데이터 셋에서 평균 Loss : 0.014, 평균 Accuracy : 0.997\n"
     ]
    },
    {
     "output_type": "display_data",
     "data": {
      "text/plain": [
       "HBox(children=(HTML(value=''), FloatProgress(value=0.0, max=60.0), HTML(value='')))"
      ],
      "application/vnd.jupyter.widget-view+json": {
       "model_id": "311bf4672c524754ba97e23bff5fbf73",
       "version_major": 2,
       "version_minor": 0
      }
     },
     "metadata": {}
    },
    {
     "output_type": "stream",
     "name": "stdout",
     "text": [
      "\n",
      "현재 epoch-3의 test-데이터 셋에서 평균 Loss : 0.117, 평균 Accuracy : 0.965\n"
     ]
    },
    {
     "output_type": "display_data",
     "data": {
      "text/plain": [
       "HBox(children=(HTML(value=''), FloatProgress(value=0.0, max=237.0), HTML(value='')))"
      ],
      "application/vnd.jupyter.widget-view+json": {
       "model_id": "8355c964941640f48aae753bef50dfb6",
       "version_major": 2,
       "version_minor": 0
      }
     },
     "metadata": {}
    },
    {
     "output_type": "stream",
     "name": "stdout",
     "text": [
      "\n",
      "현재 epoch-4의 train-데이터 셋에서 평균 Loss : 0.018, 평균 Accuracy : 0.995\n"
     ]
    },
    {
     "output_type": "display_data",
     "data": {
      "text/plain": [
       "HBox(children=(HTML(value=''), FloatProgress(value=0.0, max=60.0), HTML(value='')))"
      ],
      "application/vnd.jupyter.widget-view+json": {
       "model_id": "16d9f5b3465d4513b27cde13a2b17ef3",
       "version_major": 2,
       "version_minor": 0
      }
     },
     "metadata": {}
    },
    {
     "output_type": "stream",
     "name": "stdout",
     "text": [
      "\n",
      "현재 epoch-4의 test-데이터 셋에서 평균 Loss : 0.106, 평균 Accuracy : 0.966\n"
     ]
    },
    {
     "output_type": "display_data",
     "data": {
      "text/plain": [
       "HBox(children=(HTML(value=''), FloatProgress(value=0.0, max=237.0), HTML(value='')))"
      ],
      "application/vnd.jupyter.widget-view+json": {
       "model_id": "e9d32921fd834130a03cf4f3d8434d25",
       "version_major": 2,
       "version_minor": 0
      }
     },
     "metadata": {}
    },
    {
     "output_type": "stream",
     "name": "stdout",
     "text": [
      "\n",
      "현재 epoch-5의 train-데이터 셋에서 평균 Loss : 0.014, 평균 Accuracy : 0.996\n"
     ]
    },
    {
     "output_type": "display_data",
     "data": {
      "text/plain": [
       "HBox(children=(HTML(value=''), FloatProgress(value=0.0, max=60.0), HTML(value='')))"
      ],
      "application/vnd.jupyter.widget-view+json": {
       "model_id": "5aa099194c38448680773de0b16961fd",
       "version_major": 2,
       "version_minor": 0
      }
     },
     "metadata": {}
    },
    {
     "output_type": "stream",
     "name": "stdout",
     "text": [
      "\n",
      "현재 epoch-5의 test-데이터 셋에서 평균 Loss : 0.135, 평균 Accuracy : 0.955\n"
     ]
    },
    {
     "output_type": "display_data",
     "data": {
      "text/plain": [
       "HBox(children=(HTML(value=''), FloatProgress(value=0.0, max=237.0), HTML(value='')))"
      ],
      "application/vnd.jupyter.widget-view+json": {
       "model_id": "e80b9016578c473a86e26c2e4c90e574",
       "version_major": 2,
       "version_minor": 0
      }
     },
     "metadata": {}
    },
    {
     "output_type": "stream",
     "name": "stdout",
     "text": [
      "\n",
      "현재 epoch-6의 train-데이터 셋에서 평균 Loss : 0.028, 평균 Accuracy : 0.991\n"
     ]
    },
    {
     "output_type": "display_data",
     "data": {
      "text/plain": [
       "HBox(children=(HTML(value=''), FloatProgress(value=0.0, max=60.0), HTML(value='')))"
      ],
      "application/vnd.jupyter.widget-view+json": {
       "model_id": "9bf5050b69d94dc4af87b6f8038c5167",
       "version_major": 2,
       "version_minor": 0
      }
     },
     "metadata": {}
    },
    {
     "output_type": "stream",
     "name": "stdout",
     "text": [
      "\n",
      "현재 epoch-6의 test-데이터 셋에서 평균 Loss : 0.140, 평균 Accuracy : 0.955\n"
     ]
    },
    {
     "output_type": "display_data",
     "data": {
      "text/plain": [
       "HBox(children=(HTML(value=''), FloatProgress(value=0.0, max=237.0), HTML(value='')))"
      ],
      "application/vnd.jupyter.widget-view+json": {
       "model_id": "6ef23545443e418c9bca4a516119f59c",
       "version_major": 2,
       "version_minor": 0
      }
     },
     "metadata": {}
    },
    {
     "output_type": "stream",
     "name": "stdout",
     "text": [
      "\n"
     ]
    },
    {
     "output_type": "error",
     "ename": "KeyboardInterrupt",
     "evalue": "",
     "traceback": [
      "\u001b[0;31m---------------------------------------------------------------------------\u001b[0m",
      "\u001b[0;31mKeyboardInterrupt\u001b[0m                         Traceback (most recent call last)",
      "\u001b[0;32m<ipython-input-104-a7102ba9846c>\u001b[0m in \u001b[0;36m<module>\u001b[0;34m\u001b[0m\n\u001b[1;32m     67\u001b[0m \u001b[0;34m\u001b[0m\u001b[0m\n\u001b[1;32m     68\u001b[0m       \u001b[0;32mwith\u001b[0m \u001b[0mtorch\u001b[0m\u001b[0;34m.\u001b[0m\u001b[0mset_grad_enabled\u001b[0m\u001b[0;34m(\u001b[0m\u001b[0mphase\u001b[0m \u001b[0;34m==\u001b[0m \u001b[0;34m\"train\"\u001b[0m\u001b[0;34m)\u001b[0m\u001b[0;34m:\u001b[0m \u001b[0;31m# train 모드일 시에는 gradient를 계산하고, 아닐 때는 gradient를 계산하지 않아 연산량 최소화\u001b[0m\u001b[0;34m\u001b[0m\u001b[0;34m\u001b[0m\u001b[0m\n\u001b[0;32m---> 69\u001b[0;31m         \u001b[0mlogits\u001b[0m \u001b[0;34m=\u001b[0m \u001b[0mtarget_model\u001b[0m\u001b[0;34m(\u001b[0m\u001b[0mimages\u001b[0m\u001b[0;34m)\u001b[0m\u001b[0;34m\u001b[0m\u001b[0;34m\u001b[0m\u001b[0m\n\u001b[0m\u001b[1;32m     70\u001b[0m         \u001b[0m_\u001b[0m\u001b[0;34m,\u001b[0m \u001b[0mpreds\u001b[0m \u001b[0;34m=\u001b[0m \u001b[0mtorch\u001b[0m\u001b[0;34m.\u001b[0m\u001b[0mmax\u001b[0m\u001b[0;34m(\u001b[0m\u001b[0mlogits\u001b[0m\u001b[0;34m,\u001b[0m \u001b[0;36m1\u001b[0m\u001b[0;34m)\u001b[0m \u001b[0;31m# 모델에서 linear 값으로 나오는 예측 값 ([0.9,1.2, 3.2,0.1,-0.1,...])을 최대 output index를 찾아 예측 레이블([2])로 변경함\u001b[0m\u001b[0;34m\u001b[0m\u001b[0;34m\u001b[0m\u001b[0m\n\u001b[1;32m     71\u001b[0m         \u001b[0mloss\u001b[0m \u001b[0;34m=\u001b[0m \u001b[0mloss_fn\u001b[0m\u001b[0;34m(\u001b[0m\u001b[0mlogits\u001b[0m\u001b[0;34m,\u001b[0m \u001b[0mlabels\u001b[0m\u001b[0;34m)\u001b[0m\u001b[0;34m\u001b[0m\u001b[0;34m\u001b[0m\u001b[0m\n",
      "\u001b[0;32m/opt/conda/lib/python3.8/site-packages/torch/nn/modules/module.py\u001b[0m in \u001b[0;36m_call_impl\u001b[0;34m(self, *input, **kwargs)\u001b[0m\n\u001b[1;32m    725\u001b[0m             \u001b[0mresult\u001b[0m \u001b[0;34m=\u001b[0m \u001b[0mself\u001b[0m\u001b[0;34m.\u001b[0m\u001b[0m_slow_forward\u001b[0m\u001b[0;34m(\u001b[0m\u001b[0;34m*\u001b[0m\u001b[0minput\u001b[0m\u001b[0;34m,\u001b[0m \u001b[0;34m**\u001b[0m\u001b[0mkwargs\u001b[0m\u001b[0;34m)\u001b[0m\u001b[0;34m\u001b[0m\u001b[0;34m\u001b[0m\u001b[0m\n\u001b[1;32m    726\u001b[0m         \u001b[0;32melse\u001b[0m\u001b[0;34m:\u001b[0m\u001b[0;34m\u001b[0m\u001b[0;34m\u001b[0m\u001b[0m\n\u001b[0;32m--> 727\u001b[0;31m             \u001b[0mresult\u001b[0m \u001b[0;34m=\u001b[0m \u001b[0mself\u001b[0m\u001b[0;34m.\u001b[0m\u001b[0mforward\u001b[0m\u001b[0;34m(\u001b[0m\u001b[0;34m*\u001b[0m\u001b[0minput\u001b[0m\u001b[0;34m,\u001b[0m \u001b[0;34m**\u001b[0m\u001b[0mkwargs\u001b[0m\u001b[0;34m)\u001b[0m\u001b[0;34m\u001b[0m\u001b[0;34m\u001b[0m\u001b[0m\n\u001b[0m\u001b[1;32m    728\u001b[0m         for hook in itertools.chain(\n\u001b[1;32m    729\u001b[0m                 \u001b[0m_global_forward_hooks\u001b[0m\u001b[0;34m.\u001b[0m\u001b[0mvalues\u001b[0m\u001b[0;34m(\u001b[0m\u001b[0;34m)\u001b[0m\u001b[0;34m,\u001b[0m\u001b[0;34m\u001b[0m\u001b[0;34m\u001b[0m\u001b[0m\n",
      "\u001b[0;32m/opt/conda/lib/python3.8/site-packages/torchvision/models/resnet.py\u001b[0m in \u001b[0;36mforward\u001b[0;34m(self, x)\u001b[0m\n\u001b[1;32m    218\u001b[0m \u001b[0;34m\u001b[0m\u001b[0m\n\u001b[1;32m    219\u001b[0m     \u001b[0;32mdef\u001b[0m \u001b[0mforward\u001b[0m\u001b[0;34m(\u001b[0m\u001b[0mself\u001b[0m\u001b[0;34m,\u001b[0m \u001b[0mx\u001b[0m\u001b[0;34m)\u001b[0m\u001b[0;34m:\u001b[0m\u001b[0;34m\u001b[0m\u001b[0;34m\u001b[0m\u001b[0m\n\u001b[0;32m--> 220\u001b[0;31m         \u001b[0;32mreturn\u001b[0m \u001b[0mself\u001b[0m\u001b[0;34m.\u001b[0m\u001b[0m_forward_impl\u001b[0m\u001b[0;34m(\u001b[0m\u001b[0mx\u001b[0m\u001b[0;34m)\u001b[0m\u001b[0;34m\u001b[0m\u001b[0;34m\u001b[0m\u001b[0m\n\u001b[0m\u001b[1;32m    221\u001b[0m \u001b[0;34m\u001b[0m\u001b[0m\n\u001b[1;32m    222\u001b[0m \u001b[0;34m\u001b[0m\u001b[0m\n",
      "\u001b[0;32m/opt/conda/lib/python3.8/site-packages/torchvision/models/resnet.py\u001b[0m in \u001b[0;36m_forward_impl\u001b[0;34m(self, x)\u001b[0m\n\u001b[1;32m    208\u001b[0m         \u001b[0mx\u001b[0m \u001b[0;34m=\u001b[0m \u001b[0mself\u001b[0m\u001b[0;34m.\u001b[0m\u001b[0mlayer1\u001b[0m\u001b[0;34m(\u001b[0m\u001b[0mx\u001b[0m\u001b[0;34m)\u001b[0m\u001b[0;34m\u001b[0m\u001b[0;34m\u001b[0m\u001b[0m\n\u001b[1;32m    209\u001b[0m         \u001b[0mx\u001b[0m \u001b[0;34m=\u001b[0m \u001b[0mself\u001b[0m\u001b[0;34m.\u001b[0m\u001b[0mlayer2\u001b[0m\u001b[0;34m(\u001b[0m\u001b[0mx\u001b[0m\u001b[0;34m)\u001b[0m\u001b[0;34m\u001b[0m\u001b[0;34m\u001b[0m\u001b[0m\n\u001b[0;32m--> 210\u001b[0;31m         \u001b[0mx\u001b[0m \u001b[0;34m=\u001b[0m \u001b[0mself\u001b[0m\u001b[0;34m.\u001b[0m\u001b[0mlayer3\u001b[0m\u001b[0;34m(\u001b[0m\u001b[0mx\u001b[0m\u001b[0;34m)\u001b[0m\u001b[0;34m\u001b[0m\u001b[0;34m\u001b[0m\u001b[0m\n\u001b[0m\u001b[1;32m    211\u001b[0m         \u001b[0mx\u001b[0m \u001b[0;34m=\u001b[0m \u001b[0mself\u001b[0m\u001b[0;34m.\u001b[0m\u001b[0mlayer4\u001b[0m\u001b[0;34m(\u001b[0m\u001b[0mx\u001b[0m\u001b[0;34m)\u001b[0m\u001b[0;34m\u001b[0m\u001b[0;34m\u001b[0m\u001b[0m\n\u001b[1;32m    212\u001b[0m \u001b[0;34m\u001b[0m\u001b[0m\n",
      "\u001b[0;32m/opt/conda/lib/python3.8/site-packages/torch/nn/modules/module.py\u001b[0m in \u001b[0;36m_call_impl\u001b[0;34m(self, *input, **kwargs)\u001b[0m\n\u001b[1;32m    725\u001b[0m             \u001b[0mresult\u001b[0m \u001b[0;34m=\u001b[0m \u001b[0mself\u001b[0m\u001b[0;34m.\u001b[0m\u001b[0m_slow_forward\u001b[0m\u001b[0;34m(\u001b[0m\u001b[0;34m*\u001b[0m\u001b[0minput\u001b[0m\u001b[0;34m,\u001b[0m \u001b[0;34m**\u001b[0m\u001b[0mkwargs\u001b[0m\u001b[0;34m)\u001b[0m\u001b[0;34m\u001b[0m\u001b[0;34m\u001b[0m\u001b[0m\n\u001b[1;32m    726\u001b[0m         \u001b[0;32melse\u001b[0m\u001b[0;34m:\u001b[0m\u001b[0;34m\u001b[0m\u001b[0;34m\u001b[0m\u001b[0m\n\u001b[0;32m--> 727\u001b[0;31m             \u001b[0mresult\u001b[0m \u001b[0;34m=\u001b[0m \u001b[0mself\u001b[0m\u001b[0;34m.\u001b[0m\u001b[0mforward\u001b[0m\u001b[0;34m(\u001b[0m\u001b[0;34m*\u001b[0m\u001b[0minput\u001b[0m\u001b[0;34m,\u001b[0m \u001b[0;34m**\u001b[0m\u001b[0mkwargs\u001b[0m\u001b[0;34m)\u001b[0m\u001b[0;34m\u001b[0m\u001b[0;34m\u001b[0m\u001b[0m\n\u001b[0m\u001b[1;32m    728\u001b[0m         for hook in itertools.chain(\n\u001b[1;32m    729\u001b[0m                 \u001b[0m_global_forward_hooks\u001b[0m\u001b[0;34m.\u001b[0m\u001b[0mvalues\u001b[0m\u001b[0;34m(\u001b[0m\u001b[0;34m)\u001b[0m\u001b[0;34m,\u001b[0m\u001b[0;34m\u001b[0m\u001b[0;34m\u001b[0m\u001b[0m\n",
      "\u001b[0;32m/opt/conda/lib/python3.8/site-packages/torch/nn/modules/container.py\u001b[0m in \u001b[0;36mforward\u001b[0;34m(self, input)\u001b[0m\n\u001b[1;32m    115\u001b[0m     \u001b[0;32mdef\u001b[0m \u001b[0mforward\u001b[0m\u001b[0;34m(\u001b[0m\u001b[0mself\u001b[0m\u001b[0;34m,\u001b[0m \u001b[0minput\u001b[0m\u001b[0;34m)\u001b[0m\u001b[0;34m:\u001b[0m\u001b[0;34m\u001b[0m\u001b[0;34m\u001b[0m\u001b[0m\n\u001b[1;32m    116\u001b[0m         \u001b[0;32mfor\u001b[0m \u001b[0mmodule\u001b[0m \u001b[0;32min\u001b[0m \u001b[0mself\u001b[0m\u001b[0;34m:\u001b[0m\u001b[0;34m\u001b[0m\u001b[0;34m\u001b[0m\u001b[0m\n\u001b[0;32m--> 117\u001b[0;31m             \u001b[0minput\u001b[0m \u001b[0;34m=\u001b[0m \u001b[0mmodule\u001b[0m\u001b[0;34m(\u001b[0m\u001b[0minput\u001b[0m\u001b[0;34m)\u001b[0m\u001b[0;34m\u001b[0m\u001b[0;34m\u001b[0m\u001b[0m\n\u001b[0m\u001b[1;32m    118\u001b[0m         \u001b[0;32mreturn\u001b[0m \u001b[0minput\u001b[0m\u001b[0;34m\u001b[0m\u001b[0;34m\u001b[0m\u001b[0m\n\u001b[1;32m    119\u001b[0m \u001b[0;34m\u001b[0m\u001b[0m\n",
      "\u001b[0;32m/opt/conda/lib/python3.8/site-packages/torch/nn/modules/module.py\u001b[0m in \u001b[0;36m_call_impl\u001b[0;34m(self, *input, **kwargs)\u001b[0m\n\u001b[1;32m    725\u001b[0m             \u001b[0mresult\u001b[0m \u001b[0;34m=\u001b[0m \u001b[0mself\u001b[0m\u001b[0;34m.\u001b[0m\u001b[0m_slow_forward\u001b[0m\u001b[0;34m(\u001b[0m\u001b[0;34m*\u001b[0m\u001b[0minput\u001b[0m\u001b[0;34m,\u001b[0m \u001b[0;34m**\u001b[0m\u001b[0mkwargs\u001b[0m\u001b[0;34m)\u001b[0m\u001b[0;34m\u001b[0m\u001b[0;34m\u001b[0m\u001b[0m\n\u001b[1;32m    726\u001b[0m         \u001b[0;32melse\u001b[0m\u001b[0;34m:\u001b[0m\u001b[0;34m\u001b[0m\u001b[0;34m\u001b[0m\u001b[0m\n\u001b[0;32m--> 727\u001b[0;31m             \u001b[0mresult\u001b[0m \u001b[0;34m=\u001b[0m \u001b[0mself\u001b[0m\u001b[0;34m.\u001b[0m\u001b[0mforward\u001b[0m\u001b[0;34m(\u001b[0m\u001b[0;34m*\u001b[0m\u001b[0minput\u001b[0m\u001b[0;34m,\u001b[0m \u001b[0;34m**\u001b[0m\u001b[0mkwargs\u001b[0m\u001b[0;34m)\u001b[0m\u001b[0;34m\u001b[0m\u001b[0;34m\u001b[0m\u001b[0m\n\u001b[0m\u001b[1;32m    728\u001b[0m         for hook in itertools.chain(\n\u001b[1;32m    729\u001b[0m                 \u001b[0m_global_forward_hooks\u001b[0m\u001b[0;34m.\u001b[0m\u001b[0mvalues\u001b[0m\u001b[0;34m(\u001b[0m\u001b[0;34m)\u001b[0m\u001b[0;34m,\u001b[0m\u001b[0;34m\u001b[0m\u001b[0;34m\u001b[0m\u001b[0m\n",
      "\u001b[0;32m/opt/conda/lib/python3.8/site-packages/torchvision/models/resnet.py\u001b[0m in \u001b[0;36mforward\u001b[0;34m(self, x)\u001b[0m\n\u001b[1;32m     57\u001b[0m         \u001b[0midentity\u001b[0m \u001b[0;34m=\u001b[0m \u001b[0mx\u001b[0m\u001b[0;34m\u001b[0m\u001b[0;34m\u001b[0m\u001b[0m\n\u001b[1;32m     58\u001b[0m \u001b[0;34m\u001b[0m\u001b[0m\n\u001b[0;32m---> 59\u001b[0;31m         \u001b[0mout\u001b[0m \u001b[0;34m=\u001b[0m \u001b[0mself\u001b[0m\u001b[0;34m.\u001b[0m\u001b[0mconv1\u001b[0m\u001b[0;34m(\u001b[0m\u001b[0mx\u001b[0m\u001b[0;34m)\u001b[0m\u001b[0;34m\u001b[0m\u001b[0;34m\u001b[0m\u001b[0m\n\u001b[0m\u001b[1;32m     60\u001b[0m         \u001b[0mout\u001b[0m \u001b[0;34m=\u001b[0m \u001b[0mself\u001b[0m\u001b[0;34m.\u001b[0m\u001b[0mbn1\u001b[0m\u001b[0;34m(\u001b[0m\u001b[0mout\u001b[0m\u001b[0;34m)\u001b[0m\u001b[0;34m\u001b[0m\u001b[0;34m\u001b[0m\u001b[0m\n\u001b[1;32m     61\u001b[0m         \u001b[0mout\u001b[0m \u001b[0;34m=\u001b[0m \u001b[0mself\u001b[0m\u001b[0;34m.\u001b[0m\u001b[0mrelu\u001b[0m\u001b[0;34m(\u001b[0m\u001b[0mout\u001b[0m\u001b[0;34m)\u001b[0m\u001b[0;34m\u001b[0m\u001b[0;34m\u001b[0m\u001b[0m\n",
      "\u001b[0;32m/opt/conda/lib/python3.8/site-packages/torch/nn/modules/module.py\u001b[0m in \u001b[0;36m_call_impl\u001b[0;34m(self, *input, **kwargs)\u001b[0m\n\u001b[1;32m    725\u001b[0m             \u001b[0mresult\u001b[0m \u001b[0;34m=\u001b[0m \u001b[0mself\u001b[0m\u001b[0;34m.\u001b[0m\u001b[0m_slow_forward\u001b[0m\u001b[0;34m(\u001b[0m\u001b[0;34m*\u001b[0m\u001b[0minput\u001b[0m\u001b[0;34m,\u001b[0m \u001b[0;34m**\u001b[0m\u001b[0mkwargs\u001b[0m\u001b[0;34m)\u001b[0m\u001b[0;34m\u001b[0m\u001b[0;34m\u001b[0m\u001b[0m\n\u001b[1;32m    726\u001b[0m         \u001b[0;32melse\u001b[0m\u001b[0;34m:\u001b[0m\u001b[0;34m\u001b[0m\u001b[0;34m\u001b[0m\u001b[0m\n\u001b[0;32m--> 727\u001b[0;31m             \u001b[0mresult\u001b[0m \u001b[0;34m=\u001b[0m \u001b[0mself\u001b[0m\u001b[0;34m.\u001b[0m\u001b[0mforward\u001b[0m\u001b[0;34m(\u001b[0m\u001b[0;34m*\u001b[0m\u001b[0minput\u001b[0m\u001b[0;34m,\u001b[0m \u001b[0;34m**\u001b[0m\u001b[0mkwargs\u001b[0m\u001b[0;34m)\u001b[0m\u001b[0;34m\u001b[0m\u001b[0;34m\u001b[0m\u001b[0m\n\u001b[0m\u001b[1;32m    728\u001b[0m         for hook in itertools.chain(\n\u001b[1;32m    729\u001b[0m                 \u001b[0m_global_forward_hooks\u001b[0m\u001b[0;34m.\u001b[0m\u001b[0mvalues\u001b[0m\u001b[0;34m(\u001b[0m\u001b[0;34m)\u001b[0m\u001b[0;34m,\u001b[0m\u001b[0;34m\u001b[0m\u001b[0;34m\u001b[0m\u001b[0m\n",
      "\u001b[0;32m/opt/conda/lib/python3.8/site-packages/torch/nn/modules/conv.py\u001b[0m in \u001b[0;36mforward\u001b[0;34m(self, input)\u001b[0m\n\u001b[1;32m    421\u001b[0m \u001b[0;34m\u001b[0m\u001b[0m\n\u001b[1;32m    422\u001b[0m     \u001b[0;32mdef\u001b[0m \u001b[0mforward\u001b[0m\u001b[0;34m(\u001b[0m\u001b[0mself\u001b[0m\u001b[0;34m,\u001b[0m \u001b[0minput\u001b[0m\u001b[0;34m:\u001b[0m \u001b[0mTensor\u001b[0m\u001b[0;34m)\u001b[0m \u001b[0;34m->\u001b[0m \u001b[0mTensor\u001b[0m\u001b[0;34m:\u001b[0m\u001b[0;34m\u001b[0m\u001b[0;34m\u001b[0m\u001b[0m\n\u001b[0;32m--> 423\u001b[0;31m         \u001b[0;32mreturn\u001b[0m \u001b[0mself\u001b[0m\u001b[0;34m.\u001b[0m\u001b[0m_conv_forward\u001b[0m\u001b[0;34m(\u001b[0m\u001b[0minput\u001b[0m\u001b[0;34m,\u001b[0m \u001b[0mself\u001b[0m\u001b[0;34m.\u001b[0m\u001b[0mweight\u001b[0m\u001b[0;34m)\u001b[0m\u001b[0;34m\u001b[0m\u001b[0;34m\u001b[0m\u001b[0m\n\u001b[0m\u001b[1;32m    424\u001b[0m \u001b[0;34m\u001b[0m\u001b[0m\n\u001b[1;32m    425\u001b[0m \u001b[0;32mclass\u001b[0m \u001b[0mConv3d\u001b[0m\u001b[0;34m(\u001b[0m\u001b[0m_ConvNd\u001b[0m\u001b[0;34m)\u001b[0m\u001b[0;34m:\u001b[0m\u001b[0;34m\u001b[0m\u001b[0;34m\u001b[0m\u001b[0m\n",
      "\u001b[0;32m/opt/conda/lib/python3.8/site-packages/torch/nn/modules/conv.py\u001b[0m in \u001b[0;36m_conv_forward\u001b[0;34m(self, input, weight)\u001b[0m\n\u001b[1;32m    417\u001b[0m                             \u001b[0mweight\u001b[0m\u001b[0;34m,\u001b[0m \u001b[0mself\u001b[0m\u001b[0;34m.\u001b[0m\u001b[0mbias\u001b[0m\u001b[0;34m,\u001b[0m \u001b[0mself\u001b[0m\u001b[0;34m.\u001b[0m\u001b[0mstride\u001b[0m\u001b[0;34m,\u001b[0m\u001b[0;34m\u001b[0m\u001b[0;34m\u001b[0m\u001b[0m\n\u001b[1;32m    418\u001b[0m                             _pair(0), self.dilation, self.groups)\n\u001b[0;32m--> 419\u001b[0;31m         return F.conv2d(input, weight, self.bias, self.stride,\n\u001b[0m\u001b[1;32m    420\u001b[0m                         self.padding, self.dilation, self.groups)\n\u001b[1;32m    421\u001b[0m \u001b[0;34m\u001b[0m\u001b[0m\n",
      "\u001b[0;31mKeyboardInterrupt\u001b[0m: "
     ]
    }
   ],
   "metadata": {}
  },
  {
   "cell_type": "code",
   "execution_count": null,
   "source": [
    "# resnet34, epoch20\n",
    "target_model = models.resnet34(pretrained=True)\n",
    "CLASS_NUM = 18\n",
    "target_model.fc = torch.nn.Linear(in_features=512, out_features=CLASS_NUM, bias=True)\n",
    "nn.init.xavier_uniform_(target_model.fc.weight)\n",
    "stdv =  1 / math.sqrt(target_model.fc.in_features)\n",
    "target_model.fc.bias.data.uniform_(-stdv, stdv)\n",
    "\n",
    "train_data = CustomDatasetFromDF(df.iloc[folds[0][0]])\n",
    "valid_data = CustomDatasetFromDF(df.iloc[folds[0][1]])\n",
    "\n",
    "# Mnist Dataset을 DataLoader에 붙이기\n",
    "BATCH_SIZE = 64\n",
    "train_dataloader = torch.utils.data.DataLoader(train_data, batch_size=BATCH_SIZE, shuffle=True, num_workers=4)\n",
    "valid_dataloader = torch.utils.data.DataLoader(valid_data, batch_size=BATCH_SIZE, shuffle=False, num_workers=4)\n",
    "\n",
    "device = torch.device(\"cuda\" if torch.cuda.is_available() else \"cpu\") # 학습 때 GPU 사용여부 결정. Colab에서는 \"런타임\"->\"런타임 유형 변경\"에서 \"GPU\"를 선택할 수 있음\n",
    "\n",
    "print(f\"{device} is using!\")\n",
    "\n",
    "target_model.to(device) # Resnent 18 네트워크의 Tensor들을 GPU에 올릴지 Memory에 올릴지 결정함\n",
    "\n",
    "LEARNING_RATE = 0.0001 # 학습 때 사용하는 optimizer의 학습률 옵션 설정\n",
    "NUM_EPOCH = 20 # 학습 때 mnist train 데이터 셋을 얼마나 많이 학습할지 결정하는 옵션\n",
    "\n",
    "loss_fn = torch.nn.CrossEntropyLoss() # 분류 학습 때 많이 사용되는 Cross entropy loss를 objective function으로 사용 - https://en.wikipedia.org/wiki/Cross_entropy\n",
    "optimizer = torch.optim.Adam(target_model.parameters(), lr=LEARNING_RATE) # weight 업데이트를 위한 optimizer를 Adam으로 사용함\n",
    "\n",
    "dataloaders = {\n",
    "    \"train\" : train_dataloader,\n",
    "    \"test\" : valid_dataloader\n",
    "}\n",
    "\n",
    "# freeze\n",
    "for param in target_model.parameters():\n",
    "    param.requires_grad = False\n",
    "\n",
    "CLASS_NUM = 18\n",
    "\n",
    "# melt layer4\n",
    "for param in target_model.layer4.parameters():\n",
    "    param.requires_grad = True\n",
    "\n",
    "# melt fc\n",
    "for param in target_model.fc.parameters():\n",
    "    param.requires_grad = True\n",
    "\n",
    "### 학습 코드 시작\n",
    "best_test_accuracy = 0.\n",
    "best_test_loss = 0.\n",
    "\n",
    "for epoch in range(NUM_EPOCH):\n",
    "  for phase in [\"train\", \"test\"]:\n",
    "    running_loss = 0.\n",
    "    running_acc = 0.\n",
    "    if phase == \"train\":\n",
    "      target_model.train() # 네트워크 모델을 train 모드로 두어 gradient을 계산하고, 여러 sub module (배치 정규화, 드롭아웃 등)이 train mode로 작동할 수 있도록 함\n",
    "    elif phase == \"test\":\n",
    "      target_model.eval() # 네트워크 모델을 eval 모드 두어 여러 sub module들이 eval mode로 작동할 수 있게 함\n",
    "\n",
    "    for ind, (images, labels) in enumerate(tqdm(dataloaders[phase])):\n",
    "      # (참고.해보기) 현재 tqdm으로 출력되는 것이 단순히 진행 상황 뿐인데 현재 epoch, running_loss와 running_acc을 출력하려면 어떻게 할 수 있는지 tqdm 문서를 보고 해봅시다!\n",
    "      # hint - with, pbar\n",
    "      images = images.to(device)\n",
    "      labels = labels.to(device)\n",
    "\n",
    "      optimizer.zero_grad() # parameter gradient를 업데이트 전 초기화함\n",
    "\n",
    "      with torch.set_grad_enabled(phase == \"train\"): # train 모드일 시에는 gradient를 계산하고, 아닐 때는 gradient를 계산하지 않아 연산량 최소화\n",
    "        logits = target_model(images)\n",
    "        _, preds = torch.max(logits, 1) # 모델에서 linear 값으로 나오는 예측 값 ([0.9,1.2, 3.2,0.1,-0.1,...])을 최대 output index를 찾아 예측 레이블([2])로 변경함  \n",
    "        loss = loss_fn(logits, labels)\n",
    "\n",
    "        if phase == \"train\":\n",
    "          loss.backward() # 모델의 예측 값과 실제 값의 CrossEntropy 차이를 통해 gradient 계산\n",
    "          optimizer.step() # 계산된 gradient를 가지고 모델 업데이트\n",
    "\n",
    "      running_loss += loss.item() * images.size(0) # 한 Batch에서의 loss 값 저장\n",
    "      running_acc += torch.sum(preds == labels.data) # 한 Batch에서의 Accuracy 값 저장\n",
    "\n",
    "    # 한 epoch이 모두 종료되었을 때,\n",
    "    epoch_loss = running_loss / len(dataloaders[phase].dataset)\n",
    "    epoch_acc = running_acc / len(dataloaders[phase].dataset)\n",
    "\n",
    "    print(f\"현재 epoch-{epoch}의 {phase}-데이터 셋에서 평균 Loss : {epoch_loss:.3f}, 평균 Accuracy : {epoch_acc:.3f}\")\n",
    "    if phase == \"test\" and best_test_accuracy < epoch_acc: # phase가 test일 때, best accuracy 계산\n",
    "      best_test_accuracy = epoch_acc\n",
    "    if phase == \"test\" and best_test_loss < epoch_loss: # phase가 test일 때, best loss 계산\n",
    "      best_test_loss = epoch_loss\n",
    "      best_model = target_model\n",
    "    \n",
    "print(\"학습 종료!\")\n",
    "print(f\"최고 accuracy : {best_test_accuracy}, 최고 낮은 loss : {best_test_loss}\")"
   ],
   "outputs": [],
   "metadata": {}
  },
  {
   "cell_type": "markdown",
   "source": [
    "# fold 별 모델 학습"
   ],
   "metadata": {}
  },
  {
   "cell_type": "code",
   "execution_count": 106,
   "source": [
    "# resnet152, epoch 10\n",
    "target_model = models.resnet152(pretrained=True)\n",
    "CLASS_NUM = 18\n",
    "target_model.fc = torch.nn.Linear(in_features=2048, out_features=CLASS_NUM, bias=True)\n",
    "nn.init.xavier_uniform_(target_model.fc.weight)\n",
    "stdv =  1 / math.sqrt(target_model.fc.in_features)\n",
    "target_model.fc.bias.data.uniform_(-stdv, stdv)\n",
    "\n",
    "train_data = CustomDatasetFromDF(df.iloc[folds[0][0]])\n",
    "valid_data = CustomDatasetFromDF(df.iloc[folds[0][1]])\n",
    "\n",
    "# Mnist Dataset을 DataLoader에 붙이기\n",
    "BATCH_SIZE = 64\n",
    "train_dataloader = torch.utils.data.DataLoader(train_data, batch_size=BATCH_SIZE, shuffle=True, num_workers=4)\n",
    "valid_dataloader = torch.utils.data.DataLoader(valid_data, batch_size=BATCH_SIZE, shuffle=False, num_workers=4)\n",
    "\n",
    "device = torch.device(\"cuda\" if torch.cuda.is_available() else \"cpu\") # 학습 때 GPU 사용여부 결정. Colab에서는 \"런타임\"->\"런타임 유형 변경\"에서 \"GPU\"를 선택할 수 있음\n",
    "\n",
    "print(f\"{device} is using!\")\n",
    "\n",
    "target_model.to(device) # Resnent 18 네트워크의 Tensor들을 GPU에 올릴지 Memory에 올릴지 결정함\n",
    "\n",
    "LEARNING_RATE = 0.0001 # 학습 때 사용하는 optimizer의 학습률 옵션 설정\n",
    "NUM_EPOCH = 10 # 학습 때 mnist train 데이터 셋을 얼마나 많이 학습할지 결정하는 옵션\n",
    "\n",
    "loss_fn = torch.nn.CrossEntropyLoss() # 분류 학습 때 많이 사용되는 Cross entropy loss를 objective function으로 사용 - https://en.wikipedia.org/wiki/Cross_entropy\n",
    "optimizer = torch.optim.Adam(target_model.parameters(), lr=LEARNING_RATE) # weight 업데이트를 위한 optimizer를 Adam으로 사용함\n",
    "\n",
    "dataloaders = {\n",
    "    \"train\" : train_dataloader,\n",
    "    \"test\" : valid_dataloader\n",
    "}\n",
    "\n",
    "# freeze\n",
    "for param in target_model.parameters():\n",
    "    param.requires_grad = False\n",
    "\n",
    "CLASS_NUM = 18\n",
    "\n",
    "# melt layer4\n",
    "for param in target_model.layer4.parameters():\n",
    "    param.requires_grad = True\n",
    "\n",
    "# melt fc\n",
    "for param in target_model.fc.parameters():\n",
    "    param.requires_grad = True\n",
    "\n",
    "### 학습 코드 시작\n",
    "best_test_accuracy = 0.\n",
    "best_test_loss = 0.\n",
    "\n",
    "for epoch in range(NUM_EPOCH):\n",
    "  for phase in [\"train\", \"test\"]:\n",
    "    running_loss = 0.\n",
    "    running_acc = 0.\n",
    "    if phase == \"train\":\n",
    "      target_model.train() # 네트워크 모델을 train 모드로 두어 gradient을 계산하고, 여러 sub module (배치 정규화, 드롭아웃 등)이 train mode로 작동할 수 있도록 함\n",
    "    elif phase == \"test\":\n",
    "      target_model.eval() # 네트워크 모델을 eval 모드 두어 여러 sub module들이 eval mode로 작동할 수 있게 함\n",
    "\n",
    "    for ind, (images, labels) in enumerate(tqdm(dataloaders[phase])):\n",
    "      # (참고.해보기) 현재 tqdm으로 출력되는 것이 단순히 진행 상황 뿐인데 현재 epoch, running_loss와 running_acc을 출력하려면 어떻게 할 수 있는지 tqdm 문서를 보고 해봅시다!\n",
    "      # hint - with, pbar\n",
    "      images = images.to(device)\n",
    "      labels = labels.to(device)\n",
    "\n",
    "      optimizer.zero_grad() # parameter gradient를 업데이트 전 초기화함\n",
    "\n",
    "      with torch.set_grad_enabled(phase == \"train\"): # train 모드일 시에는 gradient를 계산하고, 아닐 때는 gradient를 계산하지 않아 연산량 최소화\n",
    "        logits = target_model(images)\n",
    "        _, preds = torch.max(logits, 1) # 모델에서 linear 값으로 나오는 예측 값 ([0.9,1.2, 3.2,0.1,-0.1,...])을 최대 output index를 찾아 예측 레이블([2])로 변경함  \n",
    "        loss = loss_fn(logits, labels)\n",
    "\n",
    "        if phase == \"train\":\n",
    "          loss.backward() # 모델의 예측 값과 실제 값의 CrossEntropy 차이를 통해 gradient 계산\n",
    "          optimizer.step() # 계산된 gradient를 가지고 모델 업데이트\n",
    "\n",
    "      running_loss += loss.item() * images.size(0) # 한 Batch에서의 loss 값 저장\n",
    "      running_acc += torch.sum(preds == labels.data) # 한 Batch에서의 Accuracy 값 저장\n",
    "\n",
    "    # 한 epoch이 모두 종료되었을 때,\n",
    "    epoch_loss = running_loss / len(dataloaders[phase].dataset)\n",
    "    epoch_acc = running_acc / len(dataloaders[phase].dataset)\n",
    "\n",
    "    print(f\"현재 epoch-{epoch}의 {phase}-데이터 셋에서 평균 Loss : {epoch_loss:.3f}, 평균 Accuracy : {epoch_acc:.3f}\")\n",
    "    if phase == \"test\" and best_test_accuracy < epoch_acc: # phase가 test일 때, best accuracy 계산\n",
    "      best_test_accuracy = epoch_acc\n",
    "    if phase == \"test\" and best_test_loss < epoch_loss: # phase가 test일 때, best loss 계산\n",
    "      best_test_loss = epoch_loss\n",
    "      best_model = target_model\n",
    "    \n",
    "print(\"학습 종료!\")\n",
    "print(f\"최고 accuracy : {best_test_accuracy}, 최고 낮은 loss : {best_test_loss}\")"
   ],
   "outputs": [
    {
     "output_type": "stream",
     "name": "stdout",
     "text": [
      "cuda is using!\n"
     ]
    },
    {
     "output_type": "display_data",
     "data": {
      "text/plain": [
       "HBox(children=(HTML(value=''), FloatProgress(value=0.0, max=237.0), HTML(value='')))"
      ],
      "application/vnd.jupyter.widget-view+json": {
       "model_id": "54e824e5bc00446f8f804ea09417ea12",
       "version_major": 2,
       "version_minor": 0
      }
     },
     "metadata": {}
    },
    {
     "output_type": "stream",
     "name": "stdout",
     "text": [
      "\n",
      "현재 epoch-0의 train-데이터 셋에서 평균 Loss : 0.443, 평균 Accuracy : 0.860\n"
     ]
    },
    {
     "output_type": "display_data",
     "data": {
      "text/plain": [
       "HBox(children=(HTML(value=''), FloatProgress(value=0.0, max=60.0), HTML(value='')))"
      ],
      "application/vnd.jupyter.widget-view+json": {
       "model_id": "0b76185bc9284e75ad0497b6b4cb8b8f",
       "version_major": 2,
       "version_minor": 0
      }
     },
     "metadata": {}
    },
    {
     "output_type": "stream",
     "name": "stdout",
     "text": [
      "\n",
      "현재 epoch-0의 test-데이터 셋에서 평균 Loss : 0.195, 평균 Accuracy : 0.929\n"
     ]
    },
    {
     "output_type": "display_data",
     "data": {
      "text/plain": [
       "HBox(children=(HTML(value=''), FloatProgress(value=0.0, max=237.0), HTML(value='')))"
      ],
      "application/vnd.jupyter.widget-view+json": {
       "model_id": "159255731c7340b9892ad206600df81b",
       "version_major": 2,
       "version_minor": 0
      }
     },
     "metadata": {}
    },
    {
     "output_type": "stream",
     "name": "stdout",
     "text": [
      "\n",
      "현재 epoch-1의 train-데이터 셋에서 평균 Loss : 0.082, 평균 Accuracy : 0.974\n"
     ]
    },
    {
     "output_type": "display_data",
     "data": {
      "text/plain": [
       "HBox(children=(HTML(value=''), FloatProgress(value=0.0, max=60.0), HTML(value='')))"
      ],
      "application/vnd.jupyter.widget-view+json": {
       "model_id": "b781d059db8742779849fb70d15e08b5",
       "version_major": 2,
       "version_minor": 0
      }
     },
     "metadata": {}
    },
    {
     "output_type": "stream",
     "name": "stdout",
     "text": [
      "\n",
      "현재 epoch-1의 test-데이터 셋에서 평균 Loss : 0.106, 평균 Accuracy : 0.963\n"
     ]
    },
    {
     "output_type": "display_data",
     "data": {
      "text/plain": [
       "HBox(children=(HTML(value=''), FloatProgress(value=0.0, max=237.0), HTML(value='')))"
      ],
      "application/vnd.jupyter.widget-view+json": {
       "model_id": "2bb819fc63794c1daa08a0cb426eb3f9",
       "version_major": 2,
       "version_minor": 0
      }
     },
     "metadata": {}
    },
    {
     "output_type": "stream",
     "name": "stdout",
     "text": [
      "\n",
      "현재 epoch-2의 train-데이터 셋에서 평균 Loss : 0.031, 평균 Accuracy : 0.992\n"
     ]
    },
    {
     "output_type": "display_data",
     "data": {
      "text/plain": [
       "HBox(children=(HTML(value=''), FloatProgress(value=0.0, max=60.0), HTML(value='')))"
      ],
      "application/vnd.jupyter.widget-view+json": {
       "model_id": "db3248d872bf4ec9a8344edcfc0b6e9b",
       "version_major": 2,
       "version_minor": 0
      }
     },
     "metadata": {}
    },
    {
     "output_type": "stream",
     "name": "stdout",
     "text": [
      "\n",
      "현재 epoch-2의 test-데이터 셋에서 평균 Loss : 0.110, 평균 Accuracy : 0.965\n"
     ]
    },
    {
     "output_type": "display_data",
     "data": {
      "text/plain": [
       "HBox(children=(HTML(value=''), FloatProgress(value=0.0, max=237.0), HTML(value='')))"
      ],
      "application/vnd.jupyter.widget-view+json": {
       "model_id": "d106c7017b874c718fd76b5f4d0d76df",
       "version_major": 2,
       "version_minor": 0
      }
     },
     "metadata": {}
    },
    {
     "output_type": "stream",
     "name": "stdout",
     "text": [
      "\n",
      "현재 epoch-3의 train-데이터 셋에서 평균 Loss : 0.026, 평균 Accuracy : 0.992\n"
     ]
    },
    {
     "output_type": "display_data",
     "data": {
      "text/plain": [
       "HBox(children=(HTML(value=''), FloatProgress(value=0.0, max=60.0), HTML(value='')))"
      ],
      "application/vnd.jupyter.widget-view+json": {
       "model_id": "b332c5b33f604e30b740600ba12480d5",
       "version_major": 2,
       "version_minor": 0
      }
     },
     "metadata": {}
    },
    {
     "output_type": "stream",
     "name": "stdout",
     "text": [
      "\n",
      "현재 epoch-3의 test-데이터 셋에서 평균 Loss : 0.108, 평균 Accuracy : 0.966\n"
     ]
    },
    {
     "output_type": "display_data",
     "data": {
      "text/plain": [
       "HBox(children=(HTML(value=''), FloatProgress(value=0.0, max=237.0), HTML(value='')))"
      ],
      "application/vnd.jupyter.widget-view+json": {
       "model_id": "bc74af6ff55444fbb2be30174d0db1a2",
       "version_major": 2,
       "version_minor": 0
      }
     },
     "metadata": {}
    },
    {
     "output_type": "stream",
     "name": "stdout",
     "text": [
      "\n",
      "현재 epoch-4의 train-데이터 셋에서 평균 Loss : 0.022, 평균 Accuracy : 0.994\n"
     ]
    },
    {
     "output_type": "display_data",
     "data": {
      "text/plain": [
       "HBox(children=(HTML(value=''), FloatProgress(value=0.0, max=60.0), HTML(value='')))"
      ],
      "application/vnd.jupyter.widget-view+json": {
       "model_id": "6f3a944fa61f4b648f985768a21ba25f",
       "version_major": 2,
       "version_minor": 0
      }
     },
     "metadata": {}
    },
    {
     "output_type": "stream",
     "name": "stdout",
     "text": [
      "\n",
      "현재 epoch-4의 test-데이터 셋에서 평균 Loss : 0.093, 평균 Accuracy : 0.971\n"
     ]
    },
    {
     "output_type": "display_data",
     "data": {
      "text/plain": [
       "HBox(children=(HTML(value=''), FloatProgress(value=0.0, max=237.0), HTML(value='')))"
      ],
      "application/vnd.jupyter.widget-view+json": {
       "model_id": "c8fdcd758a314169a9cc4c2a5a46969b",
       "version_major": 2,
       "version_minor": 0
      }
     },
     "metadata": {}
    },
    {
     "output_type": "stream",
     "name": "stdout",
     "text": [
      "\n",
      "현재 epoch-5의 train-데이터 셋에서 평균 Loss : 0.018, 평균 Accuracy : 0.995\n"
     ]
    },
    {
     "output_type": "display_data",
     "data": {
      "text/plain": [
       "HBox(children=(HTML(value=''), FloatProgress(value=0.0, max=60.0), HTML(value='')))"
      ],
      "application/vnd.jupyter.widget-view+json": {
       "model_id": "f956b1c01f71463b97bd03bb028213f4",
       "version_major": 2,
       "version_minor": 0
      }
     },
     "metadata": {}
    },
    {
     "output_type": "stream",
     "name": "stdout",
     "text": [
      "\n",
      "현재 epoch-5의 test-데이터 셋에서 평균 Loss : 0.113, 평균 Accuracy : 0.968\n"
     ]
    },
    {
     "output_type": "display_data",
     "data": {
      "text/plain": [
       "HBox(children=(HTML(value=''), FloatProgress(value=0.0, max=237.0), HTML(value='')))"
      ],
      "application/vnd.jupyter.widget-view+json": {
       "model_id": "4d0d23534b9a4646b88f85b3841a2f1d",
       "version_major": 2,
       "version_minor": 0
      }
     },
     "metadata": {}
    },
    {
     "output_type": "stream",
     "name": "stdout",
     "text": [
      "\n",
      "현재 epoch-6의 train-데이터 셋에서 평균 Loss : 0.018, 평균 Accuracy : 0.994\n"
     ]
    },
    {
     "output_type": "display_data",
     "data": {
      "text/plain": [
       "HBox(children=(HTML(value=''), FloatProgress(value=0.0, max=60.0), HTML(value='')))"
      ],
      "application/vnd.jupyter.widget-view+json": {
       "model_id": "a65ee8ab8e2a4f5fac976d81105277b7",
       "version_major": 2,
       "version_minor": 0
      }
     },
     "metadata": {}
    },
    {
     "output_type": "stream",
     "name": "stdout",
     "text": [
      "\n",
      "현재 epoch-6의 test-데이터 셋에서 평균 Loss : 0.107, 평균 Accuracy : 0.972\n"
     ]
    },
    {
     "output_type": "display_data",
     "data": {
      "text/plain": [
       "HBox(children=(HTML(value=''), FloatProgress(value=0.0, max=237.0), HTML(value='')))"
      ],
      "application/vnd.jupyter.widget-view+json": {
       "model_id": "fec3fe90bd154f6685f7ae334ed4fdf9",
       "version_major": 2,
       "version_minor": 0
      }
     },
     "metadata": {}
    },
    {
     "output_type": "stream",
     "name": "stdout",
     "text": [
      "\n",
      "현재 epoch-7의 train-데이터 셋에서 평균 Loss : 0.019, 평균 Accuracy : 0.994\n"
     ]
    },
    {
     "output_type": "display_data",
     "data": {
      "text/plain": [
       "HBox(children=(HTML(value=''), FloatProgress(value=0.0, max=60.0), HTML(value='')))"
      ],
      "application/vnd.jupyter.widget-view+json": {
       "model_id": "68deaea47d8d4083be1c2d7ee2594b93",
       "version_major": 2,
       "version_minor": 0
      }
     },
     "metadata": {}
    },
    {
     "output_type": "stream",
     "name": "stdout",
     "text": [
      "\n",
      "현재 epoch-7의 test-데이터 셋에서 평균 Loss : 0.100, 평균 Accuracy : 0.971\n"
     ]
    },
    {
     "output_type": "display_data",
     "data": {
      "text/plain": [
       "HBox(children=(HTML(value=''), FloatProgress(value=0.0, max=237.0), HTML(value='')))"
      ],
      "application/vnd.jupyter.widget-view+json": {
       "model_id": "1c4174e504194735b1079370eeeb637a",
       "version_major": 2,
       "version_minor": 0
      }
     },
     "metadata": {}
    },
    {
     "output_type": "stream",
     "name": "stdout",
     "text": [
      "\n",
      "현재 epoch-8의 train-데이터 셋에서 평균 Loss : 0.008, 평균 Accuracy : 0.998\n"
     ]
    },
    {
     "output_type": "display_data",
     "data": {
      "text/plain": [
       "HBox(children=(HTML(value=''), FloatProgress(value=0.0, max=60.0), HTML(value='')))"
      ],
      "application/vnd.jupyter.widget-view+json": {
       "model_id": "ffffebf4cc344b848dca83b2acdcbf87",
       "version_major": 2,
       "version_minor": 0
      }
     },
     "metadata": {}
    },
    {
     "output_type": "stream",
     "name": "stdout",
     "text": [
      "\n",
      "현재 epoch-8의 test-데이터 셋에서 평균 Loss : 0.070, 평균 Accuracy : 0.981\n"
     ]
    },
    {
     "output_type": "display_data",
     "data": {
      "text/plain": [
       "HBox(children=(HTML(value=''), FloatProgress(value=0.0, max=237.0), HTML(value='')))"
      ],
      "application/vnd.jupyter.widget-view+json": {
       "model_id": "c1ce34bdbd2f46db86e27ad9b04e1e28",
       "version_major": 2,
       "version_minor": 0
      }
     },
     "metadata": {}
    },
    {
     "output_type": "stream",
     "name": "stdout",
     "text": [
      "\n",
      "현재 epoch-9의 train-데이터 셋에서 평균 Loss : 0.007, 평균 Accuracy : 0.998\n"
     ]
    },
    {
     "output_type": "display_data",
     "data": {
      "text/plain": [
       "HBox(children=(HTML(value=''), FloatProgress(value=0.0, max=60.0), HTML(value='')))"
      ],
      "application/vnd.jupyter.widget-view+json": {
       "model_id": "92bfe026a50b469381135887db64f8f8",
       "version_major": 2,
       "version_minor": 0
      }
     },
     "metadata": {}
    },
    {
     "output_type": "stream",
     "name": "stdout",
     "text": [
      "\n",
      "현재 epoch-9의 test-데이터 셋에서 평균 Loss : 0.068, 평균 Accuracy : 0.979\n",
      "학습 종료!\n",
      "최고 accuracy : 0.9814814925193787, 최고 낮은 loss : 0.1951458761330556\n"
     ]
    }
   ],
   "metadata": {}
  },
  {
   "cell_type": "code",
   "execution_count": 95,
   "source": [
    "## 5-폴드 결과 합쳐보기"
   ],
   "outputs": [],
   "metadata": {}
  },
  {
   "cell_type": "code",
   "execution_count": 119,
   "source": [
    "# 1.\n",
    "\n",
    "target_model = models.resnet50(pretrained=True)\n",
    "CLASS_NUM = 18\n",
    "target_model.fc = torch.nn.Linear(in_features=2048, out_features=CLASS_NUM, bias=True)\n",
    "nn.init.xavier_uniform_(target_model.fc.weight)\n",
    "stdv =  1 / math.sqrt(target_model.fc.in_features)\n",
    "target_model.fc.bias.data.uniform_(-stdv, stdv)\n",
    "\n",
    "train_data = CustomDatasetFromDF(df.iloc[folds[0][0]])\n",
    "valid_data = CustomDatasetFromDF(df.iloc[folds[0][1]])\n",
    "\n",
    "# Mnist Dataset을 DataLoader에 붙이기\n",
    "BATCH_SIZE = 64\n",
    "train_dataloader = torch.utils.data.DataLoader(train_data, batch_size=BATCH_SIZE, shuffle=True, num_workers=4)\n",
    "valid_dataloader = torch.utils.data.DataLoader(valid_data, batch_size=BATCH_SIZE, shuffle=False, num_workers=4)\n",
    "\n",
    "## 2. mnist train 데이터 셋을 resnet50 모델에 학습하기\n",
    "device = torch.device(\"cuda\" if torch.cuda.is_available() else \"cpu\") # 학습 때 GPU 사용여부 결정. Colab에서는 \"런타임\"->\"런타임 유형 변경\"에서 \"GPU\"를 선택할 수 있음\n",
    "\n",
    "print(f\"{device} is using!\")\n",
    "\n",
    "target_model.to(device) # Resnent 18 네트워크의 Tensor들을 GPU에 올릴지 Memory에 올릴지 결정함\n",
    "\n",
    "LEARNING_RATE = 0.0001 # 학습 때 사용하는 optimizer의 학습률 옵션 설정\n",
    "NUM_EPOCH = 15 # 학습 때 mnist train 데이터 셋을 얼마나 많이 학습할지 결정하는 옵션\n",
    "\n",
    "loss_fn = torch.nn.CrossEntropyLoss() # 분류 학습 때 많이 사용되는 Cross entropy loss를 objective function으로 사용 - https://en.wikipedia.org/wiki/Cross_entropy\n",
    "optimizer = torch.optim.Adam(target_model.parameters(), lr=LEARNING_RATE) # weight 업데이트를 위한 optimizer를 Adam으로 사용함\n",
    "\n",
    "dataloaders = {\n",
    "    \"train\" : train_dataloader,\n",
    "    \"test\" : valid_dataloader\n",
    "}\n",
    "\n",
    "# freeze\n",
    "for param in target_model.parameters():\n",
    "    param.requires_grad = False\n",
    "\n",
    "CLASS_NUM = 18\n",
    "\n",
    "# melt layer4\n",
    "for param in target_model.layer4.parameters():\n",
    "    param.requires_grad = True\n",
    "\n",
    "# melt fc\n",
    "for param in target_model.fc.parameters():\n",
    "    param.requires_grad = True\n",
    "\n",
    "### 학습 코드 시작\n",
    "best_test_accuracy = 0.\n",
    "best_test_loss = 1.\n",
    "\n",
    "for epoch in range(NUM_EPOCH):\n",
    "  for phase in [\"train\", \"test\"]:\n",
    "    running_loss = 0.\n",
    "    running_acc = 0.\n",
    "    if phase == \"train\":\n",
    "      target_model.train() # 네트워크 모델을 train 모드로 두어 gradient을 계산하고, 여러 sub module (배치 정규화, 드롭아웃 등)이 train mode로 작동할 수 있도록 함\n",
    "    elif phase == \"test\":\n",
    "      target_model.eval() # 네트워크 모델을 eval 모드 두어 여러 sub module들이 eval mode로 작동할 수 있게 함\n",
    "\n",
    "    for ind, (images, labels) in enumerate(tqdm(dataloaders[phase])):\n",
    "      # (참고.해보기) 현재 tqdm으로 출력되는 것이 단순히 진행 상황 뿐인데 현재 epoch, running_loss와 running_acc을 출력하려면 어떻게 할 수 있는지 tqdm 문서를 보고 해봅시다!\n",
    "      # hint - with, pbar\n",
    "      images = images.to(device)\n",
    "      labels = labels.to(device)\n",
    "\n",
    "      optimizer.zero_grad() # parameter gradient를 업데이트 전 초기화함\n",
    "\n",
    "      with torch.set_grad_enabled(phase == \"train\"): # train 모드일 시에는 gradient를 계산하고, 아닐 때는 gradient를 계산하지 않아 연산량 최소화\n",
    "        logits = target_model(images)\n",
    "        _, preds = torch.max(logits, 1) # 모델에서 linear 값으로 나오는 예측 값 ([0.9,1.2, 3.2,0.1,-0.1,...])을 최대 output index를 찾아 예측 레이블([2])로 변경함  \n",
    "        loss = loss_fn(logits, labels)\n",
    "\n",
    "        if phase == \"train\":\n",
    "          loss.backward() # 모델의 예측 값과 실제 값의 CrossEntropy 차이를 통해 gradient 계산\n",
    "          optimizer.step() # 계산된 gradient를 가지고 모델 업데이트\n",
    "\n",
    "      running_loss += loss.item() * images.size(0) # 한 Batch에서의 loss 값 저장\n",
    "      running_acc += torch.sum(preds == labels.data) # 한 Batch에서의 Accuracy 값 저장\n",
    "\n",
    "    # 한 epoch이 모두 종료되었을 때,\n",
    "    epoch_loss = running_loss / len(dataloaders[phase].dataset)\n",
    "    epoch_acc = running_acc / len(dataloaders[phase].dataset)\n",
    "    print(f\"현재 epoch-{epoch}의 {phase}-데이터 셋에서 평균 Loss : {epoch_loss:.3f}, 평균 Accuracy : {epoch_acc:.3f}\")\n",
    "    if phase == \"test\" and best_test_accuracy < epoch_acc: # phase가 test일 때, best accuracy 계산\n",
    "      best_test_accuracy = epoch_acc\n",
    "    if phase == \"test\" and best_test_loss > epoch_loss: # phase가 test일 때, best loss 계산\n",
    "      print('Get best model!')\n",
    "      best_test_loss = epoch_loss\n",
    "      best_model_1 = target_model\n",
    "    \n",
    "print(\"학습 종료!\")\n",
    "print(f\"최고 accuracy : {best_test_accuracy}, 최고 낮은 loss : {best_test_loss}\")"
   ],
   "outputs": [
    {
     "output_type": "stream",
     "name": "stdout",
     "text": [
      "cuda is using!\n"
     ]
    },
    {
     "output_type": "display_data",
     "data": {
      "text/plain": [
       "HBox(children=(HTML(value=''), FloatProgress(value=0.0, max=237.0), HTML(value='')))"
      ],
      "application/vnd.jupyter.widget-view+json": {
       "model_id": "71f5aaf5601b469b8e46424523030495",
       "version_major": 2,
       "version_minor": 0
      }
     },
     "metadata": {}
    },
    {
     "output_type": "stream",
     "name": "stdout",
     "text": [
      "\n",
      "현재 epoch-0의 train-데이터 셋에서 평균 Loss : 0.427, 평균 Accuracy : 0.866\n"
     ]
    },
    {
     "output_type": "display_data",
     "data": {
      "text/plain": [
       "HBox(children=(HTML(value=''), FloatProgress(value=0.0, max=60.0), HTML(value='')))"
      ],
      "application/vnd.jupyter.widget-view+json": {
       "model_id": "2a781fc1b4964ff3b29136f823f99d64",
       "version_major": 2,
       "version_minor": 0
      }
     },
     "metadata": {}
    },
    {
     "output_type": "stream",
     "name": "stdout",
     "text": [
      "\n",
      "현재 epoch-0의 test-데이터 셋에서 평균 Loss : 0.204, 평균 Accuracy : 0.933\n",
      "Get best model!\n"
     ]
    },
    {
     "output_type": "display_data",
     "data": {
      "text/plain": [
       "HBox(children=(HTML(value=''), FloatProgress(value=0.0, max=237.0), HTML(value='')))"
      ],
      "application/vnd.jupyter.widget-view+json": {
       "model_id": "8b8ef68f1b034eb1bf53d71e72f2f2fb",
       "version_major": 2,
       "version_minor": 0
      }
     },
     "metadata": {}
    },
    {
     "output_type": "stream",
     "name": "stdout",
     "text": [
      "\n",
      "현재 epoch-1의 train-데이터 셋에서 평균 Loss : 0.079, 평균 Accuracy : 0.975\n"
     ]
    },
    {
     "output_type": "display_data",
     "data": {
      "text/plain": [
       "HBox(children=(HTML(value=''), FloatProgress(value=0.0, max=60.0), HTML(value='')))"
      ],
      "application/vnd.jupyter.widget-view+json": {
       "model_id": "d91494de71de4e1d87bb179996254ca2",
       "version_major": 2,
       "version_minor": 0
      }
     },
     "metadata": {}
    },
    {
     "output_type": "stream",
     "name": "stdout",
     "text": [
      "\n",
      "현재 epoch-1의 test-데이터 셋에서 평균 Loss : 0.115, 평균 Accuracy : 0.962\n",
      "Get best model!\n"
     ]
    },
    {
     "output_type": "display_data",
     "data": {
      "text/plain": [
       "HBox(children=(HTML(value=''), FloatProgress(value=0.0, max=237.0), HTML(value='')))"
      ],
      "application/vnd.jupyter.widget-view+json": {
       "model_id": "872e2c67f57a4d0994bae14d15503294",
       "version_major": 2,
       "version_minor": 0
      }
     },
     "metadata": {}
    },
    {
     "output_type": "stream",
     "name": "stdout",
     "text": [
      "\n",
      "현재 epoch-2의 train-데이터 셋에서 평균 Loss : 0.027, 평균 Accuracy : 0.992\n"
     ]
    },
    {
     "output_type": "display_data",
     "data": {
      "text/plain": [
       "HBox(children=(HTML(value=''), FloatProgress(value=0.0, max=60.0), HTML(value='')))"
      ],
      "application/vnd.jupyter.widget-view+json": {
       "model_id": "8be5d4d92a284c2eb9b5320b0ab38d3f",
       "version_major": 2,
       "version_minor": 0
      }
     },
     "metadata": {}
    },
    {
     "output_type": "stream",
     "name": "stdout",
     "text": [
      "\n",
      "현재 epoch-2의 test-데이터 셋에서 평균 Loss : 0.118, 평균 Accuracy : 0.965\n"
     ]
    },
    {
     "output_type": "display_data",
     "data": {
      "text/plain": [
       "HBox(children=(HTML(value=''), FloatProgress(value=0.0, max=237.0), HTML(value='')))"
      ],
      "application/vnd.jupyter.widget-view+json": {
       "model_id": "4088fc1a34974d92b7c39195a91537b2",
       "version_major": 2,
       "version_minor": 0
      }
     },
     "metadata": {}
    },
    {
     "output_type": "stream",
     "name": "stdout",
     "text": [
      "\n",
      "현재 epoch-3의 train-데이터 셋에서 평균 Loss : 0.019, 평균 Accuracy : 0.995\n"
     ]
    },
    {
     "output_type": "display_data",
     "data": {
      "text/plain": [
       "HBox(children=(HTML(value=''), FloatProgress(value=0.0, max=60.0), HTML(value='')))"
      ],
      "application/vnd.jupyter.widget-view+json": {
       "model_id": "620c8f23333b494d9acab7191694c544",
       "version_major": 2,
       "version_minor": 0
      }
     },
     "metadata": {}
    },
    {
     "output_type": "stream",
     "name": "stdout",
     "text": [
      "\n",
      "현재 epoch-3의 test-데이터 셋에서 평균 Loss : 0.112, 평균 Accuracy : 0.969\n",
      "Get best model!\n"
     ]
    },
    {
     "output_type": "display_data",
     "data": {
      "text/plain": [
       "HBox(children=(HTML(value=''), FloatProgress(value=0.0, max=237.0), HTML(value='')))"
      ],
      "application/vnd.jupyter.widget-view+json": {
       "model_id": "89514732227249789e358315b866c9d1",
       "version_major": 2,
       "version_minor": 0
      }
     },
     "metadata": {}
    },
    {
     "output_type": "stream",
     "name": "stdout",
     "text": [
      "\n",
      "현재 epoch-4의 train-데이터 셋에서 평균 Loss : 0.022, 평균 Accuracy : 0.993\n"
     ]
    },
    {
     "output_type": "display_data",
     "data": {
      "text/plain": [
       "HBox(children=(HTML(value=''), FloatProgress(value=0.0, max=60.0), HTML(value='')))"
      ],
      "application/vnd.jupyter.widget-view+json": {
       "model_id": "4f48cc5270db4c4083f3fe05fa17f578",
       "version_major": 2,
       "version_minor": 0
      }
     },
     "metadata": {}
    },
    {
     "output_type": "stream",
     "name": "stdout",
     "text": [
      "\n",
      "현재 epoch-4의 test-데이터 셋에서 평균 Loss : 0.151, 평균 Accuracy : 0.951\n"
     ]
    },
    {
     "output_type": "display_data",
     "data": {
      "text/plain": [
       "HBox(children=(HTML(value=''), FloatProgress(value=0.0, max=237.0), HTML(value='')))"
      ],
      "application/vnd.jupyter.widget-view+json": {
       "model_id": "34a706e234fe4a289a5e508b36adbf28",
       "version_major": 2,
       "version_minor": 0
      }
     },
     "metadata": {}
    },
    {
     "output_type": "stream",
     "name": "stdout",
     "text": [
      "\n",
      "현재 epoch-5의 train-데이터 셋에서 평균 Loss : 0.023, 평균 Accuracy : 0.993\n"
     ]
    },
    {
     "output_type": "display_data",
     "data": {
      "text/plain": [
       "HBox(children=(HTML(value=''), FloatProgress(value=0.0, max=60.0), HTML(value='')))"
      ],
      "application/vnd.jupyter.widget-view+json": {
       "model_id": "24a01865dbd94b27a914d242bc4f2260",
       "version_major": 2,
       "version_minor": 0
      }
     },
     "metadata": {}
    },
    {
     "output_type": "stream",
     "name": "stdout",
     "text": [
      "\n",
      "현재 epoch-5의 test-데이터 셋에서 평균 Loss : 0.099, 평균 Accuracy : 0.973\n",
      "Get best model!\n"
     ]
    },
    {
     "output_type": "display_data",
     "data": {
      "text/plain": [
       "HBox(children=(HTML(value=''), FloatProgress(value=0.0, max=237.0), HTML(value='')))"
      ],
      "application/vnd.jupyter.widget-view+json": {
       "model_id": "b733bfca569f4f27badd2e31e7e4394f",
       "version_major": 2,
       "version_minor": 0
      }
     },
     "metadata": {}
    },
    {
     "output_type": "stream",
     "name": "stdout",
     "text": [
      "\n",
      "현재 epoch-6의 train-데이터 셋에서 평균 Loss : 0.019, 평균 Accuracy : 0.994\n"
     ]
    },
    {
     "output_type": "display_data",
     "data": {
      "text/plain": [
       "HBox(children=(HTML(value=''), FloatProgress(value=0.0, max=60.0), HTML(value='')))"
      ],
      "application/vnd.jupyter.widget-view+json": {
       "model_id": "817bc20e01e4439f92f3ebf1cdf93c9c",
       "version_major": 2,
       "version_minor": 0
      }
     },
     "metadata": {}
    },
    {
     "output_type": "stream",
     "name": "stdout",
     "text": [
      "\n",
      "현재 epoch-6의 test-데이터 셋에서 평균 Loss : 0.079, 평균 Accuracy : 0.977\n",
      "Get best model!\n"
     ]
    },
    {
     "output_type": "display_data",
     "data": {
      "text/plain": [
       "HBox(children=(HTML(value=''), FloatProgress(value=0.0, max=237.0), HTML(value='')))"
      ],
      "application/vnd.jupyter.widget-view+json": {
       "model_id": "d5848b99e7024dcf88fcba3a1c68284a",
       "version_major": 2,
       "version_minor": 0
      }
     },
     "metadata": {}
    },
    {
     "output_type": "stream",
     "name": "stdout",
     "text": [
      "\n",
      "현재 epoch-7의 train-데이터 셋에서 평균 Loss : 0.009, 평균 Accuracy : 0.997\n"
     ]
    },
    {
     "output_type": "display_data",
     "data": {
      "text/plain": [
       "HBox(children=(HTML(value=''), FloatProgress(value=0.0, max=60.0), HTML(value='')))"
      ],
      "application/vnd.jupyter.widget-view+json": {
       "model_id": "46c16cdec6ab45c9a0077057e5df4a05",
       "version_major": 2,
       "version_minor": 0
      }
     },
     "metadata": {}
    },
    {
     "output_type": "stream",
     "name": "stdout",
     "text": [
      "\n",
      "현재 epoch-7의 test-데이터 셋에서 평균 Loss : 0.096, 평균 Accuracy : 0.974\n"
     ]
    },
    {
     "output_type": "display_data",
     "data": {
      "text/plain": [
       "HBox(children=(HTML(value=''), FloatProgress(value=0.0, max=237.0), HTML(value='')))"
      ],
      "application/vnd.jupyter.widget-view+json": {
       "model_id": "6617b77302ad4803a72d01265e6b3f06",
       "version_major": 2,
       "version_minor": 0
      }
     },
     "metadata": {}
    },
    {
     "output_type": "stream",
     "name": "stdout",
     "text": [
      "\n",
      "현재 epoch-8의 train-데이터 셋에서 평균 Loss : 0.015, 평균 Accuracy : 0.995\n"
     ]
    },
    {
     "output_type": "display_data",
     "data": {
      "text/plain": [
       "HBox(children=(HTML(value=''), FloatProgress(value=0.0, max=60.0), HTML(value='')))"
      ],
      "application/vnd.jupyter.widget-view+json": {
       "model_id": "af52d1acd094415eac9f5d719142a96d",
       "version_major": 2,
       "version_minor": 0
      }
     },
     "metadata": {}
    },
    {
     "output_type": "stream",
     "name": "stdout",
     "text": [
      "\n",
      "현재 epoch-8의 test-데이터 셋에서 평균 Loss : 0.129, 평균 Accuracy : 0.962\n"
     ]
    },
    {
     "output_type": "display_data",
     "data": {
      "text/plain": [
       "HBox(children=(HTML(value=''), FloatProgress(value=0.0, max=237.0), HTML(value='')))"
      ],
      "application/vnd.jupyter.widget-view+json": {
       "model_id": "ba96b0e4576a4140a64f377a3b134a9d",
       "version_major": 2,
       "version_minor": 0
      }
     },
     "metadata": {}
    },
    {
     "output_type": "stream",
     "name": "stdout",
     "text": [
      "\n",
      "현재 epoch-9의 train-데이터 셋에서 평균 Loss : 0.016, 평균 Accuracy : 0.994\n"
     ]
    },
    {
     "output_type": "display_data",
     "data": {
      "text/plain": [
       "HBox(children=(HTML(value=''), FloatProgress(value=0.0, max=60.0), HTML(value='')))"
      ],
      "application/vnd.jupyter.widget-view+json": {
       "model_id": "a579c67267454f22842c758c02f8e7ab",
       "version_major": 2,
       "version_minor": 0
      }
     },
     "metadata": {}
    },
    {
     "output_type": "stream",
     "name": "stdout",
     "text": [
      "\n",
      "현재 epoch-9의 test-데이터 셋에서 평균 Loss : 0.089, 평균 Accuracy : 0.977\n"
     ]
    },
    {
     "output_type": "display_data",
     "data": {
      "text/plain": [
       "HBox(children=(HTML(value=''), FloatProgress(value=0.0, max=237.0), HTML(value='')))"
      ],
      "application/vnd.jupyter.widget-view+json": {
       "model_id": "34bb8dec48ee4428bf20ab639a1afbdb",
       "version_major": 2,
       "version_minor": 0
      }
     },
     "metadata": {}
    },
    {
     "output_type": "stream",
     "name": "stdout",
     "text": [
      "\n",
      "현재 epoch-10의 train-데이터 셋에서 평균 Loss : 0.007, 평균 Accuracy : 0.998\n"
     ]
    },
    {
     "output_type": "display_data",
     "data": {
      "text/plain": [
       "HBox(children=(HTML(value=''), FloatProgress(value=0.0, max=60.0), HTML(value='')))"
      ],
      "application/vnd.jupyter.widget-view+json": {
       "model_id": "e0ee3dbbd5f64a279262cba4531391d1",
       "version_major": 2,
       "version_minor": 0
      }
     },
     "metadata": {}
    },
    {
     "output_type": "stream",
     "name": "stdout",
     "text": [
      "\n",
      "현재 epoch-10의 test-데이터 셋에서 평균 Loss : 0.078, 평균 Accuracy : 0.982\n",
      "Get best model!\n"
     ]
    },
    {
     "output_type": "display_data",
     "data": {
      "text/plain": [
       "HBox(children=(HTML(value=''), FloatProgress(value=0.0, max=237.0), HTML(value='')))"
      ],
      "application/vnd.jupyter.widget-view+json": {
       "model_id": "d4d84d8f7cb246b28d6ba8a5510bebbc",
       "version_major": 2,
       "version_minor": 0
      }
     },
     "metadata": {}
    },
    {
     "output_type": "stream",
     "name": "stdout",
     "text": [
      "\n",
      "현재 epoch-11의 train-데이터 셋에서 평균 Loss : 0.015, 평균 Accuracy : 0.996\n"
     ]
    },
    {
     "output_type": "display_data",
     "data": {
      "text/plain": [
       "HBox(children=(HTML(value=''), FloatProgress(value=0.0, max=60.0), HTML(value='')))"
      ],
      "application/vnd.jupyter.widget-view+json": {
       "model_id": "3cd3800fc596452c9459488d9a133e64",
       "version_major": 2,
       "version_minor": 0
      }
     },
     "metadata": {}
    },
    {
     "output_type": "stream",
     "name": "stdout",
     "text": [
      "\n",
      "현재 epoch-11의 test-데이터 셋에서 평균 Loss : 0.119, 평균 Accuracy : 0.970\n"
     ]
    },
    {
     "output_type": "display_data",
     "data": {
      "text/plain": [
       "HBox(children=(HTML(value=''), FloatProgress(value=0.0, max=237.0), HTML(value='')))"
      ],
      "application/vnd.jupyter.widget-view+json": {
       "model_id": "8f62520f61a441acb33c731ee1317a57",
       "version_major": 2,
       "version_minor": 0
      }
     },
     "metadata": {}
    },
    {
     "output_type": "stream",
     "name": "stdout",
     "text": [
      "\n",
      "현재 epoch-12의 train-데이터 셋에서 평균 Loss : 0.007, 평균 Accuracy : 0.998\n"
     ]
    },
    {
     "output_type": "display_data",
     "data": {
      "text/plain": [
       "HBox(children=(HTML(value=''), FloatProgress(value=0.0, max=60.0), HTML(value='')))"
      ],
      "application/vnd.jupyter.widget-view+json": {
       "model_id": "5e6c2155092a4f089857e3af72a5aa19",
       "version_major": 2,
       "version_minor": 0
      }
     },
     "metadata": {}
    },
    {
     "output_type": "stream",
     "name": "stdout",
     "text": [
      "\n",
      "현재 epoch-12의 test-데이터 셋에서 평균 Loss : 0.083, 평균 Accuracy : 0.981\n"
     ]
    },
    {
     "output_type": "display_data",
     "data": {
      "text/plain": [
       "HBox(children=(HTML(value=''), FloatProgress(value=0.0, max=237.0), HTML(value='')))"
      ],
      "application/vnd.jupyter.widget-view+json": {
       "model_id": "269869462f4e4755bf632d9aaefee010",
       "version_major": 2,
       "version_minor": 0
      }
     },
     "metadata": {}
    },
    {
     "output_type": "stream",
     "name": "stdout",
     "text": [
      "\n",
      "현재 epoch-13의 train-데이터 셋에서 평균 Loss : 0.006, 평균 Accuracy : 0.999\n"
     ]
    },
    {
     "output_type": "display_data",
     "data": {
      "text/plain": [
       "HBox(children=(HTML(value=''), FloatProgress(value=0.0, max=60.0), HTML(value='')))"
      ],
      "application/vnd.jupyter.widget-view+json": {
       "model_id": "38633804284f4f7a8ecf3b6b411349c5",
       "version_major": 2,
       "version_minor": 0
      }
     },
     "metadata": {}
    },
    {
     "output_type": "stream",
     "name": "stdout",
     "text": [
      "\n",
      "현재 epoch-13의 test-데이터 셋에서 평균 Loss : 0.092, 평균 Accuracy : 0.978\n"
     ]
    },
    {
     "output_type": "display_data",
     "data": {
      "text/plain": [
       "HBox(children=(HTML(value=''), FloatProgress(value=0.0, max=237.0), HTML(value='')))"
      ],
      "application/vnd.jupyter.widget-view+json": {
       "model_id": "176133b15bab44c58276748e7ce2ce5f",
       "version_major": 2,
       "version_minor": 0
      }
     },
     "metadata": {}
    },
    {
     "output_type": "stream",
     "name": "stdout",
     "text": [
      "\n",
      "현재 epoch-14의 train-데이터 셋에서 평균 Loss : 0.002, 평균 Accuracy : 1.000\n"
     ]
    },
    {
     "output_type": "display_data",
     "data": {
      "text/plain": [
       "HBox(children=(HTML(value=''), FloatProgress(value=0.0, max=60.0), HTML(value='')))"
      ],
      "application/vnd.jupyter.widget-view+json": {
       "model_id": "104f4e232f3d472e8f7152ca08e6a30b",
       "version_major": 2,
       "version_minor": 0
      }
     },
     "metadata": {}
    },
    {
     "output_type": "stream",
     "name": "stdout",
     "text": [
      "\n",
      "현재 epoch-14의 test-데이터 셋에서 평균 Loss : 0.063, 평균 Accuracy : 0.983\n",
      "Get best model!\n",
      "학습 종료!\n",
      "최고 accuracy : 0.9833333492279053, 최고 낮은 loss : 0.0634587104444065\n"
     ]
    }
   ],
   "metadata": {}
  },
  {
   "cell_type": "code",
   "execution_count": 120,
   "source": [
    "# 2.\n",
    "\n",
    "target_model = models.resnet50(pretrained=True)\n",
    "CLASS_NUM = 18\n",
    "target_model.fc = torch.nn.Linear(in_features=2048, out_features=CLASS_NUM, bias=True)\n",
    "nn.init.xavier_uniform_(target_model.fc.weight)\n",
    "stdv =  1 / math.sqrt(target_model.fc.in_features)\n",
    "target_model.fc.bias.data.uniform_(-stdv, stdv)\n",
    "\n",
    "train_data = CustomDatasetFromDF(df.iloc[folds[1][0]])\n",
    "valid_data = CustomDatasetFromDF(df.iloc[folds[1][1]])\n",
    "\n",
    "# Mnist Dataset을 DataLoader에 붙이기\n",
    "BATCH_SIZE = 64\n",
    "train_dataloader = torch.utils.data.DataLoader(train_data, batch_size=BATCH_SIZE, shuffle=True, num_workers=4)\n",
    "valid_dataloader = torch.utils.data.DataLoader(valid_data, batch_size=BATCH_SIZE, shuffle=False, num_workers=4)\n",
    "\n",
    "## 2. mnist train 데이터 셋을 resnet50 모델에 학습하기\n",
    "device = torch.device(\"cuda\" if torch.cuda.is_available() else \"cpu\") # 학습 때 GPU 사용여부 결정. Colab에서는 \"런타임\"->\"런타임 유형 변경\"에서 \"GPU\"를 선택할 수 있음\n",
    "\n",
    "print(f\"{device} is using!\")\n",
    "\n",
    "target_model.to(device) # Resnent 18 네트워크의 Tensor들을 GPU에 올릴지 Memory에 올릴지 결정함\n",
    "\n",
    "LEARNING_RATE = 0.0001 # 학습 때 사용하는 optimizer의 학습률 옵션 설정\n",
    "NUM_EPOCH = 15 # 학습 때 mnist train 데이터 셋을 얼마나 많이 학습할지 결정하는 옵션\n",
    "\n",
    "loss_fn = torch.nn.CrossEntropyLoss() # 분류 학습 때 많이 사용되는 Cross entropy loss를 objective function으로 사용 - https://en.wikipedia.org/wiki/Cross_entropy\n",
    "optimizer = torch.optim.Adam(target_model.parameters(), lr=LEARNING_RATE) # weight 업데이트를 위한 optimizer를 Adam으로 사용함\n",
    "\n",
    "dataloaders = {\n",
    "    \"train\" : train_dataloader,\n",
    "    \"test\" : valid_dataloader\n",
    "}\n",
    "\n",
    "# freeze\n",
    "for param in target_model.parameters():\n",
    "    param.requires_grad = False\n",
    "\n",
    "CLASS_NUM = 18\n",
    "\n",
    "# melt layer4\n",
    "for param in target_model.layer4.parameters():\n",
    "    param.requires_grad = True\n",
    "\n",
    "# melt fc\n",
    "for param in target_model.fc.parameters():\n",
    "    param.requires_grad = True\n",
    "\n",
    "### 학습 코드 시작\n",
    "best_test_accuracy = 0.\n",
    "best_test_loss = 1.\n",
    "\n",
    "for epoch in range(NUM_EPOCH):\n",
    "  for phase in [\"train\", \"test\"]:\n",
    "    running_loss = 0.\n",
    "    running_acc = 0.\n",
    "    if phase == \"train\":\n",
    "      target_model.train() # 네트워크 모델을 train 모드로 두어 gradient을 계산하고, 여러 sub module (배치 정규화, 드롭아웃 등)이 train mode로 작동할 수 있도록 함\n",
    "    elif phase == \"test\":\n",
    "      target_model.eval() # 네트워크 모델을 eval 모드 두어 여러 sub module들이 eval mode로 작동할 수 있게 함\n",
    "\n",
    "    for ind, (images, labels) in enumerate(tqdm(dataloaders[phase])):\n",
    "      # (참고.해보기) 현재 tqdm으로 출력되는 것이 단순히 진행 상황 뿐인데 현재 epoch, running_loss와 running_acc을 출력하려면 어떻게 할 수 있는지 tqdm 문서를 보고 해봅시다!\n",
    "      # hint - with, pbar\n",
    "      images = images.to(device)\n",
    "      labels = labels.to(device)\n",
    "\n",
    "      optimizer.zero_grad() # parameter gradient를 업데이트 전 초기화함\n",
    "\n",
    "      with torch.set_grad_enabled(phase == \"train\"): # train 모드일 시에는 gradient를 계산하고, 아닐 때는 gradient를 계산하지 않아 연산량 최소화\n",
    "        logits = target_model(images)\n",
    "        _, preds = torch.max(logits, 1) # 모델에서 linear 값으로 나오는 예측 값 ([0.9,1.2, 3.2,0.1,-0.1,...])을 최대 output index를 찾아 예측 레이블([2])로 변경함  \n",
    "        loss = loss_fn(logits, labels)\n",
    "\n",
    "        if phase == \"train\":\n",
    "          loss.backward() # 모델의 예측 값과 실제 값의 CrossEntropy 차이를 통해 gradient 계산\n",
    "          optimizer.step() # 계산된 gradient를 가지고 모델 업데이트\n",
    "\n",
    "      running_loss += loss.item() * images.size(0) # 한 Batch에서의 loss 값 저장\n",
    "      running_acc += torch.sum(preds == labels.data) # 한 Batch에서의 Accuracy 값 저장\n",
    "\n",
    "    # 한 epoch이 모두 종료되었을 때,\n",
    "    epoch_loss = running_loss / len(dataloaders[phase].dataset)\n",
    "    epoch_acc = running_acc / len(dataloaders[phase].dataset)\n",
    "    print(f\"현재 epoch-{epoch}의 {phase}-데이터 셋에서 평균 Loss : {epoch_loss:.3f}, 평균 Accuracy : {epoch_acc:.3f}\")\n",
    "    if phase == \"test\" and best_test_accuracy < epoch_acc: # phase가 test일 때, best accuracy 계산\n",
    "      best_test_accuracy = epoch_acc\n",
    "    if phase == \"test\" and best_test_loss > epoch_loss: # phase가 test일 때, best loss 계산\n",
    "      print('Get best model!')\n",
    "      best_test_loss = epoch_loss\n",
    "      best_model_2 = target_model\n",
    "    \n",
    "print(\"학습 종료!\")\n",
    "print(f\"최고 accuracy : {best_test_accuracy}, 최고 낮은 loss : {best_test_loss}\")"
   ],
   "outputs": [
    {
     "output_type": "stream",
     "name": "stdout",
     "text": [
      "cuda is using!\n"
     ]
    },
    {
     "output_type": "display_data",
     "data": {
      "text/plain": [
       "HBox(children=(HTML(value=''), FloatProgress(value=0.0, max=237.0), HTML(value='')))"
      ],
      "application/vnd.jupyter.widget-view+json": {
       "model_id": "442eb8f1b8724cce8ba0d53c80474860",
       "version_major": 2,
       "version_minor": 0
      }
     },
     "metadata": {}
    },
    {
     "output_type": "stream",
     "name": "stdout",
     "text": [
      "\n",
      "현재 epoch-0의 train-데이터 셋에서 평균 Loss : 0.431, 평균 Accuracy : 0.864\n"
     ]
    },
    {
     "output_type": "display_data",
     "data": {
      "text/plain": [
       "HBox(children=(HTML(value=''), FloatProgress(value=0.0, max=60.0), HTML(value='')))"
      ],
      "application/vnd.jupyter.widget-view+json": {
       "model_id": "aeb7f12eb7b74ac3a139992ae3727473",
       "version_major": 2,
       "version_minor": 0
      }
     },
     "metadata": {}
    },
    {
     "output_type": "stream",
     "name": "stdout",
     "text": [
      "\n",
      "현재 epoch-0의 test-데이터 셋에서 평균 Loss : 0.159, 평균 Accuracy : 0.947\n",
      "Get best model!\n"
     ]
    },
    {
     "output_type": "display_data",
     "data": {
      "text/plain": [
       "HBox(children=(HTML(value=''), FloatProgress(value=0.0, max=237.0), HTML(value='')))"
      ],
      "application/vnd.jupyter.widget-view+json": {
       "model_id": "fa9bd26a6b7d4bd68acdc7ab19a45e6b",
       "version_major": 2,
       "version_minor": 0
      }
     },
     "metadata": {}
    },
    {
     "output_type": "stream",
     "name": "stdout",
     "text": [
      "\n",
      "현재 epoch-1의 train-데이터 셋에서 평균 Loss : 0.079, 평균 Accuracy : 0.975\n"
     ]
    },
    {
     "output_type": "display_data",
     "data": {
      "text/plain": [
       "HBox(children=(HTML(value=''), FloatProgress(value=0.0, max=60.0), HTML(value='')))"
      ],
      "application/vnd.jupyter.widget-view+json": {
       "model_id": "e62036de20c948d69910d391e9f8010e",
       "version_major": 2,
       "version_minor": 0
      }
     },
     "metadata": {}
    },
    {
     "output_type": "stream",
     "name": "stdout",
     "text": [
      "\n",
      "현재 epoch-1의 test-데이터 셋에서 평균 Loss : 0.101, 평균 Accuracy : 0.967\n",
      "Get best model!\n"
     ]
    },
    {
     "output_type": "display_data",
     "data": {
      "text/plain": [
       "HBox(children=(HTML(value=''), FloatProgress(value=0.0, max=237.0), HTML(value='')))"
      ],
      "application/vnd.jupyter.widget-view+json": {
       "model_id": "71908d5409f8497ab74e417ff1437b94",
       "version_major": 2,
       "version_minor": 0
      }
     },
     "metadata": {}
    },
    {
     "output_type": "stream",
     "name": "stdout",
     "text": [
      "\n",
      "현재 epoch-2의 train-데이터 셋에서 평균 Loss : 0.031, 평균 Accuracy : 0.990\n"
     ]
    },
    {
     "output_type": "display_data",
     "data": {
      "text/plain": [
       "HBox(children=(HTML(value=''), FloatProgress(value=0.0, max=60.0), HTML(value='')))"
      ],
      "application/vnd.jupyter.widget-view+json": {
       "model_id": "16e2a0b723c9423fbbbfc7d1ce7777ff",
       "version_major": 2,
       "version_minor": 0
      }
     },
     "metadata": {}
    },
    {
     "output_type": "stream",
     "name": "stdout",
     "text": [
      "\n",
      "현재 epoch-2의 test-데이터 셋에서 평균 Loss : 0.091, 평균 Accuracy : 0.969\n",
      "Get best model!\n"
     ]
    },
    {
     "output_type": "display_data",
     "data": {
      "text/plain": [
       "HBox(children=(HTML(value=''), FloatProgress(value=0.0, max=237.0), HTML(value='')))"
      ],
      "application/vnd.jupyter.widget-view+json": {
       "model_id": "5047e0b7b8444f5081041ac146ced6ea",
       "version_major": 2,
       "version_minor": 0
      }
     },
     "metadata": {}
    },
    {
     "output_type": "stream",
     "name": "stdout",
     "text": [
      "\n",
      "현재 epoch-3의 train-데이터 셋에서 평균 Loss : 0.022, 평균 Accuracy : 0.993\n"
     ]
    },
    {
     "output_type": "display_data",
     "data": {
      "text/plain": [
       "HBox(children=(HTML(value=''), FloatProgress(value=0.0, max=60.0), HTML(value='')))"
      ],
      "application/vnd.jupyter.widget-view+json": {
       "model_id": "be671fd1ac424cd6bcd44dbfba424f2e",
       "version_major": 2,
       "version_minor": 0
      }
     },
     "metadata": {}
    },
    {
     "output_type": "stream",
     "name": "stdout",
     "text": [
      "\n",
      "현재 epoch-3의 test-데이터 셋에서 평균 Loss : 0.067, 평균 Accuracy : 0.979\n",
      "Get best model!\n"
     ]
    },
    {
     "output_type": "display_data",
     "data": {
      "text/plain": [
       "HBox(children=(HTML(value=''), FloatProgress(value=0.0, max=237.0), HTML(value='')))"
      ],
      "application/vnd.jupyter.widget-view+json": {
       "model_id": "8cbe3b5790da4d92b3a11011acd5a21f",
       "version_major": 2,
       "version_minor": 0
      }
     },
     "metadata": {}
    },
    {
     "output_type": "stream",
     "name": "stdout",
     "text": [
      "\n",
      "현재 epoch-4의 train-데이터 셋에서 평균 Loss : 0.026, 평균 Accuracy : 0.993\n"
     ]
    },
    {
     "output_type": "display_data",
     "data": {
      "text/plain": [
       "HBox(children=(HTML(value=''), FloatProgress(value=0.0, max=60.0), HTML(value='')))"
      ],
      "application/vnd.jupyter.widget-view+json": {
       "model_id": "423b5c8566fe4f728b83f363b7781993",
       "version_major": 2,
       "version_minor": 0
      }
     },
     "metadata": {}
    },
    {
     "output_type": "stream",
     "name": "stdout",
     "text": [
      "\n",
      "현재 epoch-4의 test-데이터 셋에서 평균 Loss : 0.088, 평균 Accuracy : 0.972\n"
     ]
    },
    {
     "output_type": "display_data",
     "data": {
      "text/plain": [
       "HBox(children=(HTML(value=''), FloatProgress(value=0.0, max=237.0), HTML(value='')))"
      ],
      "application/vnd.jupyter.widget-view+json": {
       "model_id": "e85f35406fed481c9ce4df180b2195f5",
       "version_major": 2,
       "version_minor": 0
      }
     },
     "metadata": {}
    },
    {
     "output_type": "stream",
     "name": "stdout",
     "text": [
      "\n",
      "현재 epoch-5의 train-데이터 셋에서 평균 Loss : 0.012, 평균 Accuracy : 0.997\n"
     ]
    },
    {
     "output_type": "display_data",
     "data": {
      "text/plain": [
       "HBox(children=(HTML(value=''), FloatProgress(value=0.0, max=60.0), HTML(value='')))"
      ],
      "application/vnd.jupyter.widget-view+json": {
       "model_id": "e65b1cba64f44069ba38ce5d0131aeb6",
       "version_major": 2,
       "version_minor": 0
      }
     },
     "metadata": {}
    },
    {
     "output_type": "stream",
     "name": "stdout",
     "text": [
      "\n",
      "현재 epoch-5의 test-데이터 셋에서 평균 Loss : 0.069, 평균 Accuracy : 0.979\n"
     ]
    },
    {
     "output_type": "display_data",
     "data": {
      "text/plain": [
       "HBox(children=(HTML(value=''), FloatProgress(value=0.0, max=237.0), HTML(value='')))"
      ],
      "application/vnd.jupyter.widget-view+json": {
       "model_id": "ff1fa39df29c4d149db5c11c8624e94e",
       "version_major": 2,
       "version_minor": 0
      }
     },
     "metadata": {}
    },
    {
     "output_type": "stream",
     "name": "stdout",
     "text": [
      "\n",
      "현재 epoch-6의 train-데이터 셋에서 평균 Loss : 0.010, 평균 Accuracy : 0.997\n"
     ]
    },
    {
     "output_type": "display_data",
     "data": {
      "text/plain": [
       "HBox(children=(HTML(value=''), FloatProgress(value=0.0, max=60.0), HTML(value='')))"
      ],
      "application/vnd.jupyter.widget-view+json": {
       "model_id": "c555ab64385540fbbfbcd6f67a82a0f2",
       "version_major": 2,
       "version_minor": 0
      }
     },
     "metadata": {}
    },
    {
     "output_type": "stream",
     "name": "stdout",
     "text": [
      "\n",
      "현재 epoch-6의 test-데이터 셋에서 평균 Loss : 0.079, 평균 Accuracy : 0.975\n"
     ]
    },
    {
     "output_type": "display_data",
     "data": {
      "text/plain": [
       "HBox(children=(HTML(value=''), FloatProgress(value=0.0, max=237.0), HTML(value='')))"
      ],
      "application/vnd.jupyter.widget-view+json": {
       "model_id": "a76a78acf78446d4900fc98d15567c06",
       "version_major": 2,
       "version_minor": 0
      }
     },
     "metadata": {}
    },
    {
     "output_type": "stream",
     "name": "stdout",
     "text": [
      "\n",
      "현재 epoch-7의 train-데이터 셋에서 평균 Loss : 0.011, 평균 Accuracy : 0.997\n"
     ]
    },
    {
     "output_type": "display_data",
     "data": {
      "text/plain": [
       "HBox(children=(HTML(value=''), FloatProgress(value=0.0, max=60.0), HTML(value='')))"
      ],
      "application/vnd.jupyter.widget-view+json": {
       "model_id": "8247ff1ea26c4684bb23eb0260004b59",
       "version_major": 2,
       "version_minor": 0
      }
     },
     "metadata": {}
    },
    {
     "output_type": "stream",
     "name": "stdout",
     "text": [
      "\n",
      "현재 epoch-7의 test-데이터 셋에서 평균 Loss : 0.093, 평균 Accuracy : 0.972\n"
     ]
    },
    {
     "output_type": "display_data",
     "data": {
      "text/plain": [
       "HBox(children=(HTML(value=''), FloatProgress(value=0.0, max=237.0), HTML(value='')))"
      ],
      "application/vnd.jupyter.widget-view+json": {
       "model_id": "1b0712bb0582463db21d7905e6fd0399",
       "version_major": 2,
       "version_minor": 0
      }
     },
     "metadata": {}
    },
    {
     "output_type": "stream",
     "name": "stdout",
     "text": [
      "\n",
      "현재 epoch-8의 train-데이터 셋에서 평균 Loss : 0.016, 평균 Accuracy : 0.995\n"
     ]
    },
    {
     "output_type": "display_data",
     "data": {
      "text/plain": [
       "HBox(children=(HTML(value=''), FloatProgress(value=0.0, max=60.0), HTML(value='')))"
      ],
      "application/vnd.jupyter.widget-view+json": {
       "model_id": "1f20fb4fa94247a2809a18b71a2751c7",
       "version_major": 2,
       "version_minor": 0
      }
     },
     "metadata": {}
    },
    {
     "output_type": "stream",
     "name": "stdout",
     "text": [
      "\n",
      "현재 epoch-8의 test-데이터 셋에서 평균 Loss : 0.094, 평균 Accuracy : 0.971\n"
     ]
    },
    {
     "output_type": "display_data",
     "data": {
      "text/plain": [
       "HBox(children=(HTML(value=''), FloatProgress(value=0.0, max=237.0), HTML(value='')))"
      ],
      "application/vnd.jupyter.widget-view+json": {
       "model_id": "34c7a69be06b4537a3d1277828a7d92f",
       "version_major": 2,
       "version_minor": 0
      }
     },
     "metadata": {}
    },
    {
     "output_type": "stream",
     "name": "stdout",
     "text": [
      "\n",
      "현재 epoch-9의 train-데이터 셋에서 평균 Loss : 0.026, 평균 Accuracy : 0.992\n"
     ]
    },
    {
     "output_type": "display_data",
     "data": {
      "text/plain": [
       "HBox(children=(HTML(value=''), FloatProgress(value=0.0, max=60.0), HTML(value='')))"
      ],
      "application/vnd.jupyter.widget-view+json": {
       "model_id": "a8987be4d77949c785048f44bd51b0b9",
       "version_major": 2,
       "version_minor": 0
      }
     },
     "metadata": {}
    },
    {
     "output_type": "stream",
     "name": "stdout",
     "text": [
      "\n",
      "현재 epoch-9의 test-데이터 셋에서 평균 Loss : 0.072, 평균 Accuracy : 0.978\n"
     ]
    },
    {
     "output_type": "display_data",
     "data": {
      "text/plain": [
       "HBox(children=(HTML(value=''), FloatProgress(value=0.0, max=237.0), HTML(value='')))"
      ],
      "application/vnd.jupyter.widget-view+json": {
       "model_id": "eb6299701bc8483084f9dbe384d92e7f",
       "version_major": 2,
       "version_minor": 0
      }
     },
     "metadata": {}
    },
    {
     "output_type": "stream",
     "name": "stdout",
     "text": [
      "\n",
      "현재 epoch-10의 train-데이터 셋에서 평균 Loss : 0.007, 평균 Accuracy : 0.998\n"
     ]
    },
    {
     "output_type": "display_data",
     "data": {
      "text/plain": [
       "HBox(children=(HTML(value=''), FloatProgress(value=0.0, max=60.0), HTML(value='')))"
      ],
      "application/vnd.jupyter.widget-view+json": {
       "model_id": "39e4315ff4f944ecb5de5992e39c8e0d",
       "version_major": 2,
       "version_minor": 0
      }
     },
     "metadata": {}
    },
    {
     "output_type": "stream",
     "name": "stdout",
     "text": [
      "\n",
      "현재 epoch-10의 test-데이터 셋에서 평균 Loss : 0.093, 평균 Accuracy : 0.975\n"
     ]
    },
    {
     "output_type": "display_data",
     "data": {
      "text/plain": [
       "HBox(children=(HTML(value=''), FloatProgress(value=0.0, max=237.0), HTML(value='')))"
      ],
      "application/vnd.jupyter.widget-view+json": {
       "model_id": "de60d86645b34529a0b18661a87d0164",
       "version_major": 2,
       "version_minor": 0
      }
     },
     "metadata": {}
    },
    {
     "output_type": "stream",
     "name": "stdout",
     "text": [
      "\n",
      "현재 epoch-11의 train-데이터 셋에서 평균 Loss : 0.009, 평균 Accuracy : 0.998\n"
     ]
    },
    {
     "output_type": "display_data",
     "data": {
      "text/plain": [
       "HBox(children=(HTML(value=''), FloatProgress(value=0.0, max=60.0), HTML(value='')))"
      ],
      "application/vnd.jupyter.widget-view+json": {
       "model_id": "65dedac1caf24ea39501cf9c3c56d979",
       "version_major": 2,
       "version_minor": 0
      }
     },
     "metadata": {}
    },
    {
     "output_type": "stream",
     "name": "stdout",
     "text": [
      "\n",
      "현재 epoch-11의 test-데이터 셋에서 평균 Loss : 0.062, 평균 Accuracy : 0.984\n",
      "Get best model!\n"
     ]
    },
    {
     "output_type": "display_data",
     "data": {
      "text/plain": [
       "HBox(children=(HTML(value=''), FloatProgress(value=0.0, max=237.0), HTML(value='')))"
      ],
      "application/vnd.jupyter.widget-view+json": {
       "model_id": "68532010fa6e4562ae6f22ca36ab779e",
       "version_major": 2,
       "version_minor": 0
      }
     },
     "metadata": {}
    },
    {
     "output_type": "stream",
     "name": "stdout",
     "text": [
      "\n",
      "현재 epoch-12의 train-데이터 셋에서 평균 Loss : 0.011, 평균 Accuracy : 0.996\n"
     ]
    },
    {
     "output_type": "display_data",
     "data": {
      "text/plain": [
       "HBox(children=(HTML(value=''), FloatProgress(value=0.0, max=60.0), HTML(value='')))"
      ],
      "application/vnd.jupyter.widget-view+json": {
       "model_id": "573c6e999e9a49a5a470a51b403a3a5a",
       "version_major": 2,
       "version_minor": 0
      }
     },
     "metadata": {}
    },
    {
     "output_type": "stream",
     "name": "stdout",
     "text": [
      "\n",
      "현재 epoch-12의 test-데이터 셋에서 평균 Loss : 0.078, 평균 Accuracy : 0.980\n"
     ]
    },
    {
     "output_type": "display_data",
     "data": {
      "text/plain": [
       "HBox(children=(HTML(value=''), FloatProgress(value=0.0, max=237.0), HTML(value='')))"
      ],
      "application/vnd.jupyter.widget-view+json": {
       "model_id": "8ac9df15e3e74b6d9572ef41045747ba",
       "version_major": 2,
       "version_minor": 0
      }
     },
     "metadata": {}
    },
    {
     "output_type": "stream",
     "name": "stdout",
     "text": [
      "\n",
      "현재 epoch-13의 train-데이터 셋에서 평균 Loss : 0.015, 평균 Accuracy : 0.995\n"
     ]
    },
    {
     "output_type": "display_data",
     "data": {
      "text/plain": [
       "HBox(children=(HTML(value=''), FloatProgress(value=0.0, max=60.0), HTML(value='')))"
      ],
      "application/vnd.jupyter.widget-view+json": {
       "model_id": "b2f7bedd9e0d488aaef9ca69bb4dad81",
       "version_major": 2,
       "version_minor": 0
      }
     },
     "metadata": {}
    },
    {
     "output_type": "stream",
     "name": "stdout",
     "text": [
      "\n",
      "현재 epoch-13의 test-데이터 셋에서 평균 Loss : 0.070, 평균 Accuracy : 0.979\n"
     ]
    },
    {
     "output_type": "display_data",
     "data": {
      "text/plain": [
       "HBox(children=(HTML(value=''), FloatProgress(value=0.0, max=237.0), HTML(value='')))"
      ],
      "application/vnd.jupyter.widget-view+json": {
       "model_id": "dc55db0dc3cd4ff3a00f1b66d038c61d",
       "version_major": 2,
       "version_minor": 0
      }
     },
     "metadata": {}
    },
    {
     "output_type": "stream",
     "name": "stdout",
     "text": [
      "\n",
      "현재 epoch-14의 train-데이터 셋에서 평균 Loss : 0.007, 평균 Accuracy : 0.998\n"
     ]
    },
    {
     "output_type": "display_data",
     "data": {
      "text/plain": [
       "HBox(children=(HTML(value=''), FloatProgress(value=0.0, max=60.0), HTML(value='')))"
      ],
      "application/vnd.jupyter.widget-view+json": {
       "model_id": "1a285da3792b4c858f838f9c5140b35c",
       "version_major": 2,
       "version_minor": 0
      }
     },
     "metadata": {}
    },
    {
     "output_type": "stream",
     "name": "stdout",
     "text": [
      "\n",
      "현재 epoch-14의 test-데이터 셋에서 평균 Loss : 0.076, 평균 Accuracy : 0.983\n",
      "학습 종료!\n",
      "최고 accuracy : 0.9838624596595764, 최고 낮은 loss : 0.06209983522720803\n"
     ]
    }
   ],
   "metadata": {}
  },
  {
   "cell_type": "code",
   "execution_count": 121,
   "source": [
    "# 3.\n",
    "\n",
    "target_model = models.resnet50(pretrained=True)\n",
    "CLASS_NUM = 18\n",
    "target_model.fc = torch.nn.Linear(in_features=2048, out_features=CLASS_NUM, bias=True)\n",
    "nn.init.xavier_uniform_(target_model.fc.weight)\n",
    "stdv =  1 / math.sqrt(target_model.fc.in_features)\n",
    "target_model.fc.bias.data.uniform_(-stdv, stdv)\n",
    "\n",
    "train_data = CustomDatasetFromDF(df.iloc[folds[2][0]])\n",
    "valid_data = CustomDatasetFromDF(df.iloc[folds[2][1]])\n",
    "\n",
    "# Mnist Dataset을 DataLoader에 붙이기\n",
    "BATCH_SIZE = 64\n",
    "train_dataloader = torch.utils.data.DataLoader(train_data, batch_size=BATCH_SIZE, shuffle=True, num_workers=4)\n",
    "valid_dataloader = torch.utils.data.DataLoader(valid_data, batch_size=BATCH_SIZE, shuffle=False, num_workers=4)\n",
    "\n",
    "## 2. mnist train 데이터 셋을 resnet50 모델에 학습하기\n",
    "device = torch.device(\"cuda\" if torch.cuda.is_available() else \"cpu\") # 학습 때 GPU 사용여부 결정. Colab에서는 \"런타임\"->\"런타임 유형 변경\"에서 \"GPU\"를 선택할 수 있음\n",
    "\n",
    "print(f\"{device} is using!\")\n",
    "\n",
    "target_model.to(device) # Resnent 18 네트워크의 Tensor들을 GPU에 올릴지 Memory에 올릴지 결정함\n",
    "\n",
    "LEARNING_RATE = 0.0001 # 학습 때 사용하는 optimizer의 학습률 옵션 설정\n",
    "NUM_EPOCH = 15 # 학습 때 mnist train 데이터 셋을 얼마나 많이 학습할지 결정하는 옵션\n",
    "\n",
    "loss_fn = torch.nn.CrossEntropyLoss() # 분류 학습 때 많이 사용되는 Cross entropy loss를 objective function으로 사용 - https://en.wikipedia.org/wiki/Cross_entropy\n",
    "optimizer = torch.optim.Adam(target_model.parameters(), lr=LEARNING_RATE) # weight 업데이트를 위한 optimizer를 Adam으로 사용함\n",
    "\n",
    "dataloaders = {\n",
    "    \"train\" : train_dataloader,\n",
    "    \"test\" : valid_dataloader\n",
    "}\n",
    "\n",
    "# freeze\n",
    "for param in target_model.parameters():\n",
    "    param.requires_grad = False\n",
    "\n",
    "CLASS_NUM = 18\n",
    "\n",
    "# melt layer4\n",
    "for param in target_model.layer4.parameters():\n",
    "    param.requires_grad = True\n",
    "\n",
    "# melt fc\n",
    "for param in target_model.fc.parameters():\n",
    "    param.requires_grad = True\n",
    "\n",
    "### 학습 코드 시작\n",
    "best_test_accuracy = 0.\n",
    "best_test_loss = 1.\n",
    "\n",
    "for epoch in range(NUM_EPOCH):\n",
    "  for phase in [\"train\", \"test\"]:\n",
    "    running_loss = 0.\n",
    "    running_acc = 0.\n",
    "    if phase == \"train\":\n",
    "      target_model.train() # 네트워크 모델을 train 모드로 두어 gradient을 계산하고, 여러 sub module (배치 정규화, 드롭아웃 등)이 train mode로 작동할 수 있도록 함\n",
    "    elif phase == \"test\":\n",
    "      target_model.eval() # 네트워크 모델을 eval 모드 두어 여러 sub module들이 eval mode로 작동할 수 있게 함\n",
    "\n",
    "    for ind, (images, labels) in enumerate(tqdm(dataloaders[phase])):\n",
    "      # (참고.해보기) 현재 tqdm으로 출력되는 것이 단순히 진행 상황 뿐인데 현재 epoch, running_loss와 running_acc을 출력하려면 어떻게 할 수 있는지 tqdm 문서를 보고 해봅시다!\n",
    "      # hint - with, pbar\n",
    "      images = images.to(device)\n",
    "      labels = labels.to(device)\n",
    "\n",
    "      optimizer.zero_grad() # parameter gradient를 업데이트 전 초기화함\n",
    "\n",
    "      with torch.set_grad_enabled(phase == \"train\"): # train 모드일 시에는 gradient를 계산하고, 아닐 때는 gradient를 계산하지 않아 연산량 최소화\n",
    "        logits = target_model(images)\n",
    "        _, preds = torch.max(logits, 1) # 모델에서 linear 값으로 나오는 예측 값 ([0.9,1.2, 3.2,0.1,-0.1,...])을 최대 output index를 찾아 예측 레이블([2])로 변경함  \n",
    "        loss = loss_fn(logits, labels)\n",
    "\n",
    "        if phase == \"train\":\n",
    "          loss.backward() # 모델의 예측 값과 실제 값의 CrossEntropy 차이를 통해 gradient 계산\n",
    "          optimizer.step() # 계산된 gradient를 가지고 모델 업데이트\n",
    "\n",
    "      running_loss += loss.item() * images.size(0) # 한 Batch에서의 loss 값 저장\n",
    "      running_acc += torch.sum(preds == labels.data) # 한 Batch에서의 Accuracy 값 저장\n",
    "\n",
    "    # 한 epoch이 모두 종료되었을 때,\n",
    "    epoch_loss = running_loss / len(dataloaders[phase].dataset)\n",
    "    epoch_acc = running_acc / len(dataloaders[phase].dataset)\n",
    "    print(f\"현재 epoch-{epoch}의 {phase}-데이터 셋에서 평균 Loss : {epoch_loss:.3f}, 평균 Accuracy : {epoch_acc:.3f}\")\n",
    "    if phase == \"test\" and best_test_accuracy < epoch_acc: # phase가 test일 때, best accuracy 계산\n",
    "      best_test_accuracy = epoch_acc\n",
    "    if phase == \"test\" and best_test_loss > epoch_loss: # phase가 test일 때, best loss 계산\n",
    "      print('Get best model!')\n",
    "      best_test_loss = epoch_loss\n",
    "      best_model_3 = target_model\n",
    "    \n",
    "print(\"학습 종료!\")\n",
    "print(f\"최고 accuracy : {best_test_accuracy}, 최고 낮은 loss : {best_test_loss}\")"
   ],
   "outputs": [
    {
     "output_type": "stream",
     "name": "stdout",
     "text": [
      "cuda is using!\n"
     ]
    },
    {
     "output_type": "display_data",
     "data": {
      "text/plain": [
       "HBox(children=(HTML(value=''), FloatProgress(value=0.0, max=237.0), HTML(value='')))"
      ],
      "application/vnd.jupyter.widget-view+json": {
       "model_id": "c0f2a718848d49b28d3ac197e43839ed",
       "version_major": 2,
       "version_minor": 0
      }
     },
     "metadata": {}
    },
    {
     "output_type": "stream",
     "name": "stdout",
     "text": [
      "\n",
      "현재 epoch-0의 train-데이터 셋에서 평균 Loss : 0.433, 평균 Accuracy : 0.859\n"
     ]
    },
    {
     "output_type": "display_data",
     "data": {
      "text/plain": [
       "HBox(children=(HTML(value=''), FloatProgress(value=0.0, max=60.0), HTML(value='')))"
      ],
      "application/vnd.jupyter.widget-view+json": {
       "model_id": "1fa4a76b46a34d7988c4519fffb81849",
       "version_major": 2,
       "version_minor": 0
      }
     },
     "metadata": {}
    },
    {
     "output_type": "stream",
     "name": "stdout",
     "text": [
      "\n",
      "현재 epoch-0의 test-데이터 셋에서 평균 Loss : 0.175, 평균 Accuracy : 0.941\n",
      "Get best model!\n"
     ]
    },
    {
     "output_type": "display_data",
     "data": {
      "text/plain": [
       "HBox(children=(HTML(value=''), FloatProgress(value=0.0, max=237.0), HTML(value='')))"
      ],
      "application/vnd.jupyter.widget-view+json": {
       "model_id": "1c7475a320934bbb9620ea0963d12d82",
       "version_major": 2,
       "version_minor": 0
      }
     },
     "metadata": {}
    },
    {
     "output_type": "stream",
     "name": "stdout",
     "text": [
      "\n",
      "현재 epoch-1의 train-데이터 셋에서 평균 Loss : 0.074, 평균 Accuracy : 0.977\n"
     ]
    },
    {
     "output_type": "display_data",
     "data": {
      "text/plain": [
       "HBox(children=(HTML(value=''), FloatProgress(value=0.0, max=60.0), HTML(value='')))"
      ],
      "application/vnd.jupyter.widget-view+json": {
       "model_id": "0a741e7b3a4047799f2d023473458ab2",
       "version_major": 2,
       "version_minor": 0
      }
     },
     "metadata": {}
    },
    {
     "output_type": "stream",
     "name": "stdout",
     "text": [
      "\n",
      "현재 epoch-1의 test-데이터 셋에서 평균 Loss : 0.135, 평균 Accuracy : 0.955\n",
      "Get best model!\n"
     ]
    },
    {
     "output_type": "display_data",
     "data": {
      "text/plain": [
       "HBox(children=(HTML(value=''), FloatProgress(value=0.0, max=237.0), HTML(value='')))"
      ],
      "application/vnd.jupyter.widget-view+json": {
       "model_id": "b5c270602b8b4d529b8b3940a244f121",
       "version_major": 2,
       "version_minor": 0
      }
     },
     "metadata": {}
    },
    {
     "output_type": "stream",
     "name": "stdout",
     "text": [
      "\n",
      "현재 epoch-2의 train-데이터 셋에서 평균 Loss : 0.032, 평균 Accuracy : 0.991\n"
     ]
    },
    {
     "output_type": "display_data",
     "data": {
      "text/plain": [
       "HBox(children=(HTML(value=''), FloatProgress(value=0.0, max=60.0), HTML(value='')))"
      ],
      "application/vnd.jupyter.widget-view+json": {
       "model_id": "cc4e4c48eb914d77b3aeb1f3fef2e0a2",
       "version_major": 2,
       "version_minor": 0
      }
     },
     "metadata": {}
    },
    {
     "output_type": "stream",
     "name": "stdout",
     "text": [
      "\n",
      "현재 epoch-2의 test-데이터 셋에서 평균 Loss : 0.107, 평균 Accuracy : 0.965\n",
      "Get best model!\n"
     ]
    },
    {
     "output_type": "display_data",
     "data": {
      "text/plain": [
       "HBox(children=(HTML(value=''), FloatProgress(value=0.0, max=237.0), HTML(value='')))"
      ],
      "application/vnd.jupyter.widget-view+json": {
       "model_id": "9e6857a30c3b4533b4f857b7c4efb183",
       "version_major": 2,
       "version_minor": 0
      }
     },
     "metadata": {}
    },
    {
     "output_type": "stream",
     "name": "stdout",
     "text": [
      "\n",
      "현재 epoch-3의 train-데이터 셋에서 평균 Loss : 0.031, 평균 Accuracy : 0.990\n"
     ]
    },
    {
     "output_type": "display_data",
     "data": {
      "text/plain": [
       "HBox(children=(HTML(value=''), FloatProgress(value=0.0, max=60.0), HTML(value='')))"
      ],
      "application/vnd.jupyter.widget-view+json": {
       "model_id": "3898c4fd262944529b2f500ebffd8520",
       "version_major": 2,
       "version_minor": 0
      }
     },
     "metadata": {}
    },
    {
     "output_type": "stream",
     "name": "stdout",
     "text": [
      "\n",
      "현재 epoch-3의 test-데이터 셋에서 평균 Loss : 0.090, 평균 Accuracy : 0.968\n",
      "Get best model!\n"
     ]
    },
    {
     "output_type": "display_data",
     "data": {
      "text/plain": [
       "HBox(children=(HTML(value=''), FloatProgress(value=0.0, max=237.0), HTML(value='')))"
      ],
      "application/vnd.jupyter.widget-view+json": {
       "model_id": "b3e069a88e84484797c6acf8b62a7b6b",
       "version_major": 2,
       "version_minor": 0
      }
     },
     "metadata": {}
    },
    {
     "output_type": "stream",
     "name": "stdout",
     "text": [
      "\n",
      "현재 epoch-4의 train-데이터 셋에서 평균 Loss : 0.029, 평균 Accuracy : 0.991\n"
     ]
    },
    {
     "output_type": "display_data",
     "data": {
      "text/plain": [
       "HBox(children=(HTML(value=''), FloatProgress(value=0.0, max=60.0), HTML(value='')))"
      ],
      "application/vnd.jupyter.widget-view+json": {
       "model_id": "74a06525ef1941c0b2c1f8173e381a5e",
       "version_major": 2,
       "version_minor": 0
      }
     },
     "metadata": {}
    },
    {
     "output_type": "stream",
     "name": "stdout",
     "text": [
      "\n",
      "현재 epoch-4의 test-데이터 셋에서 평균 Loss : 0.096, 평균 Accuracy : 0.971\n"
     ]
    },
    {
     "output_type": "display_data",
     "data": {
      "text/plain": [
       "HBox(children=(HTML(value=''), FloatProgress(value=0.0, max=237.0), HTML(value='')))"
      ],
      "application/vnd.jupyter.widget-view+json": {
       "model_id": "1e7ab629e00c425ab86c230c13719db2",
       "version_major": 2,
       "version_minor": 0
      }
     },
     "metadata": {}
    },
    {
     "output_type": "stream",
     "name": "stdout",
     "text": [
      "\n",
      "현재 epoch-5의 train-데이터 셋에서 평균 Loss : 0.016, 평균 Accuracy : 0.996\n"
     ]
    },
    {
     "output_type": "display_data",
     "data": {
      "text/plain": [
       "HBox(children=(HTML(value=''), FloatProgress(value=0.0, max=60.0), HTML(value='')))"
      ],
      "application/vnd.jupyter.widget-view+json": {
       "model_id": "40d37f695043456284bf03685a0ac8b8",
       "version_major": 2,
       "version_minor": 0
      }
     },
     "metadata": {}
    },
    {
     "output_type": "stream",
     "name": "stdout",
     "text": [
      "\n",
      "현재 epoch-5의 test-데이터 셋에서 평균 Loss : 0.079, 평균 Accuracy : 0.976\n",
      "Get best model!\n"
     ]
    },
    {
     "output_type": "display_data",
     "data": {
      "text/plain": [
       "HBox(children=(HTML(value=''), FloatProgress(value=0.0, max=237.0), HTML(value='')))"
      ],
      "application/vnd.jupyter.widget-view+json": {
       "model_id": "cfe68834a7d34725b37c6b9cacc9d73d",
       "version_major": 2,
       "version_minor": 0
      }
     },
     "metadata": {}
    },
    {
     "output_type": "stream",
     "name": "stdout",
     "text": [
      "\n",
      "현재 epoch-6의 train-데이터 셋에서 평균 Loss : 0.009, 평균 Accuracy : 0.997\n"
     ]
    },
    {
     "output_type": "display_data",
     "data": {
      "text/plain": [
       "HBox(children=(HTML(value=''), FloatProgress(value=0.0, max=60.0), HTML(value='')))"
      ],
      "application/vnd.jupyter.widget-view+json": {
       "model_id": "3e4edf20c0f84eff963d5d032fe98240",
       "version_major": 2,
       "version_minor": 0
      }
     },
     "metadata": {}
    },
    {
     "output_type": "stream",
     "name": "stdout",
     "text": [
      "\n",
      "현재 epoch-6의 test-데이터 셋에서 평균 Loss : 0.075, 평균 Accuracy : 0.977\n",
      "Get best model!\n"
     ]
    },
    {
     "output_type": "display_data",
     "data": {
      "text/plain": [
       "HBox(children=(HTML(value=''), FloatProgress(value=0.0, max=237.0), HTML(value='')))"
      ],
      "application/vnd.jupyter.widget-view+json": {
       "model_id": "662c877593da40c1b52addae0b0f171d",
       "version_major": 2,
       "version_minor": 0
      }
     },
     "metadata": {}
    },
    {
     "output_type": "stream",
     "name": "stdout",
     "text": [
      "\n",
      "현재 epoch-7의 train-데이터 셋에서 평균 Loss : 0.009, 평균 Accuracy : 0.998\n"
     ]
    },
    {
     "output_type": "display_data",
     "data": {
      "text/plain": [
       "HBox(children=(HTML(value=''), FloatProgress(value=0.0, max=60.0), HTML(value='')))"
      ],
      "application/vnd.jupyter.widget-view+json": {
       "model_id": "cf3a4a1ec0b540d69daee849993295cd",
       "version_major": 2,
       "version_minor": 0
      }
     },
     "metadata": {}
    },
    {
     "output_type": "stream",
     "name": "stdout",
     "text": [
      "\n",
      "현재 epoch-7의 test-데이터 셋에서 평균 Loss : 0.126, 평균 Accuracy : 0.963\n"
     ]
    },
    {
     "output_type": "display_data",
     "data": {
      "text/plain": [
       "HBox(children=(HTML(value=''), FloatProgress(value=0.0, max=237.0), HTML(value='')))"
      ],
      "application/vnd.jupyter.widget-view+json": {
       "model_id": "aaf034b011ee468082c04f0687ff1ad9",
       "version_major": 2,
       "version_minor": 0
      }
     },
     "metadata": {}
    },
    {
     "output_type": "stream",
     "name": "stdout",
     "text": [
      "\n",
      "현재 epoch-8의 train-데이터 셋에서 평균 Loss : 0.015, 평균 Accuracy : 0.996\n"
     ]
    },
    {
     "output_type": "display_data",
     "data": {
      "text/plain": [
       "HBox(children=(HTML(value=''), FloatProgress(value=0.0, max=60.0), HTML(value='')))"
      ],
      "application/vnd.jupyter.widget-view+json": {
       "model_id": "4a943881f8334db6934b20121ea70601",
       "version_major": 2,
       "version_minor": 0
      }
     },
     "metadata": {}
    },
    {
     "output_type": "stream",
     "name": "stdout",
     "text": [
      "\n",
      "현재 epoch-8의 test-데이터 셋에서 평균 Loss : 0.094, 평균 Accuracy : 0.975\n"
     ]
    },
    {
     "output_type": "display_data",
     "data": {
      "text/plain": [
       "HBox(children=(HTML(value=''), FloatProgress(value=0.0, max=237.0), HTML(value='')))"
      ],
      "application/vnd.jupyter.widget-view+json": {
       "model_id": "5ee60c4d776744d69f722a251eb73b28",
       "version_major": 2,
       "version_minor": 0
      }
     },
     "metadata": {}
    },
    {
     "output_type": "stream",
     "name": "stdout",
     "text": [
      "\n",
      "현재 epoch-9의 train-데이터 셋에서 평균 Loss : 0.019, 평균 Accuracy : 0.994\n"
     ]
    },
    {
     "output_type": "display_data",
     "data": {
      "text/plain": [
       "HBox(children=(HTML(value=''), FloatProgress(value=0.0, max=60.0), HTML(value='')))"
      ],
      "application/vnd.jupyter.widget-view+json": {
       "model_id": "56e8dd962bf24285bcd4b2d8b69f007e",
       "version_major": 2,
       "version_minor": 0
      }
     },
     "metadata": {}
    },
    {
     "output_type": "stream",
     "name": "stdout",
     "text": [
      "\n",
      "현재 epoch-9의 test-데이터 셋에서 평균 Loss : 0.085, 평균 Accuracy : 0.976\n"
     ]
    },
    {
     "output_type": "display_data",
     "data": {
      "text/plain": [
       "HBox(children=(HTML(value=''), FloatProgress(value=0.0, max=237.0), HTML(value='')))"
      ],
      "application/vnd.jupyter.widget-view+json": {
       "model_id": "8d2175076e5d4e81a67ec368c10ea678",
       "version_major": 2,
       "version_minor": 0
      }
     },
     "metadata": {}
    },
    {
     "output_type": "stream",
     "name": "stdout",
     "text": [
      "\n",
      "현재 epoch-10의 train-데이터 셋에서 평균 Loss : 0.011, 평균 Accuracy : 0.996\n"
     ]
    },
    {
     "output_type": "display_data",
     "data": {
      "text/plain": [
       "HBox(children=(HTML(value=''), FloatProgress(value=0.0, max=60.0), HTML(value='')))"
      ],
      "application/vnd.jupyter.widget-view+json": {
       "model_id": "b1801789bb924e6285c42fad347b1cca",
       "version_major": 2,
       "version_minor": 0
      }
     },
     "metadata": {}
    },
    {
     "output_type": "stream",
     "name": "stdout",
     "text": [
      "\n",
      "현재 epoch-10의 test-데이터 셋에서 평균 Loss : 0.070, 평균 Accuracy : 0.979\n",
      "Get best model!\n"
     ]
    },
    {
     "output_type": "display_data",
     "data": {
      "text/plain": [
       "HBox(children=(HTML(value=''), FloatProgress(value=0.0, max=237.0), HTML(value='')))"
      ],
      "application/vnd.jupyter.widget-view+json": {
       "model_id": "7a0c4f2905c04a4c8d23ec83f67c6a80",
       "version_major": 2,
       "version_minor": 0
      }
     },
     "metadata": {}
    },
    {
     "output_type": "stream",
     "name": "stdout",
     "text": [
      "\n",
      "현재 epoch-11의 train-데이터 셋에서 평균 Loss : 0.013, 평균 Accuracy : 0.996\n"
     ]
    },
    {
     "output_type": "display_data",
     "data": {
      "text/plain": [
       "HBox(children=(HTML(value=''), FloatProgress(value=0.0, max=60.0), HTML(value='')))"
      ],
      "application/vnd.jupyter.widget-view+json": {
       "model_id": "4df2ec3d80634adfb4ad47c067bfaa77",
       "version_major": 2,
       "version_minor": 0
      }
     },
     "metadata": {}
    },
    {
     "output_type": "stream",
     "name": "stdout",
     "text": [
      "\n",
      "현재 epoch-11의 test-데이터 셋에서 평균 Loss : 0.082, 평균 Accuracy : 0.976\n"
     ]
    },
    {
     "output_type": "display_data",
     "data": {
      "text/plain": [
       "HBox(children=(HTML(value=''), FloatProgress(value=0.0, max=237.0), HTML(value='')))"
      ],
      "application/vnd.jupyter.widget-view+json": {
       "model_id": "ab803d9504f74dc3a461fc51713e45ae",
       "version_major": 2,
       "version_minor": 0
      }
     },
     "metadata": {}
    },
    {
     "output_type": "stream",
     "name": "stdout",
     "text": [
      "\n",
      "현재 epoch-12의 train-데이터 셋에서 평균 Loss : 0.010, 평균 Accuracy : 0.997\n"
     ]
    },
    {
     "output_type": "display_data",
     "data": {
      "text/plain": [
       "HBox(children=(HTML(value=''), FloatProgress(value=0.0, max=60.0), HTML(value='')))"
      ],
      "application/vnd.jupyter.widget-view+json": {
       "model_id": "9ae0448880254493aaabe4f342abfd78",
       "version_major": 2,
       "version_minor": 0
      }
     },
     "metadata": {}
    },
    {
     "output_type": "stream",
     "name": "stdout",
     "text": [
      "\n",
      "현재 epoch-12의 test-데이터 셋에서 평균 Loss : 0.085, 평균 Accuracy : 0.977\n"
     ]
    },
    {
     "output_type": "display_data",
     "data": {
      "text/plain": [
       "HBox(children=(HTML(value=''), FloatProgress(value=0.0, max=237.0), HTML(value='')))"
      ],
      "application/vnd.jupyter.widget-view+json": {
       "model_id": "bb51420f344741e6a170f06863e16a29",
       "version_major": 2,
       "version_minor": 0
      }
     },
     "metadata": {}
    },
    {
     "output_type": "stream",
     "name": "stdout",
     "text": [
      "\n",
      "현재 epoch-13의 train-데이터 셋에서 평균 Loss : 0.005, 평균 Accuracy : 0.999\n"
     ]
    },
    {
     "output_type": "display_data",
     "data": {
      "text/plain": [
       "HBox(children=(HTML(value=''), FloatProgress(value=0.0, max=60.0), HTML(value='')))"
      ],
      "application/vnd.jupyter.widget-view+json": {
       "model_id": "bc581333474844c49d3451db2f7ee06f",
       "version_major": 2,
       "version_minor": 0
      }
     },
     "metadata": {}
    },
    {
     "output_type": "stream",
     "name": "stdout",
     "text": [
      "\n",
      "현재 epoch-13의 test-데이터 셋에서 평균 Loss : 0.059, 평균 Accuracy : 0.985\n",
      "Get best model!\n"
     ]
    },
    {
     "output_type": "display_data",
     "data": {
      "text/plain": [
       "HBox(children=(HTML(value=''), FloatProgress(value=0.0, max=237.0), HTML(value='')))"
      ],
      "application/vnd.jupyter.widget-view+json": {
       "model_id": "0c67e1878cfc4d13acfc418a1531cc81",
       "version_major": 2,
       "version_minor": 0
      }
     },
     "metadata": {}
    },
    {
     "output_type": "stream",
     "name": "stdout",
     "text": [
      "\n",
      "현재 epoch-14의 train-데이터 셋에서 평균 Loss : 0.007, 평균 Accuracy : 0.998\n"
     ]
    },
    {
     "output_type": "display_data",
     "data": {
      "text/plain": [
       "HBox(children=(HTML(value=''), FloatProgress(value=0.0, max=60.0), HTML(value='')))"
      ],
      "application/vnd.jupyter.widget-view+json": {
       "model_id": "74e2b605b0c14fac8d3d008f7f80fea6",
       "version_major": 2,
       "version_minor": 0
      }
     },
     "metadata": {}
    },
    {
     "output_type": "stream",
     "name": "stdout",
     "text": [
      "\n",
      "현재 epoch-14의 test-데이터 셋에서 평균 Loss : 0.093, 평균 Accuracy : 0.975\n",
      "학습 종료!\n",
      "최고 accuracy : 0.9851852059364319, 최고 낮은 loss : 0.059035697943366515\n"
     ]
    }
   ],
   "metadata": {}
  },
  {
   "cell_type": "code",
   "execution_count": 122,
   "source": [
    "# 4.\n",
    "\n",
    "target_model = models.resnet50(pretrained=True)\n",
    "CLASS_NUM = 18\n",
    "target_model.fc = torch.nn.Linear(in_features=2048, out_features=CLASS_NUM, bias=True)\n",
    "nn.init.xavier_uniform_(target_model.fc.weight)\n",
    "stdv =  1 / math.sqrt(target_model.fc.in_features)\n",
    "target_model.fc.bias.data.uniform_(-stdv, stdv)\n",
    "\n",
    "train_data = CustomDatasetFromDF(df.iloc[folds[3][0]])\n",
    "valid_data = CustomDatasetFromDF(df.iloc[folds[3][1]])\n",
    "\n",
    "# Mnist Dataset을 DataLoader에 붙이기\n",
    "BATCH_SIZE = 64\n",
    "train_dataloader = torch.utils.data.DataLoader(train_data, batch_size=BATCH_SIZE, shuffle=True, num_workers=4)\n",
    "valid_dataloader = torch.utils.data.DataLoader(valid_data, batch_size=BATCH_SIZE, shuffle=False, num_workers=4)\n",
    "\n",
    "## 2. mnist train 데이터 셋을 resnet50 모델에 학습하기\n",
    "device = torch.device(\"cuda\" if torch.cuda.is_available() else \"cpu\") # 학습 때 GPU 사용여부 결정. Colab에서는 \"런타임\"->\"런타임 유형 변경\"에서 \"GPU\"를 선택할 수 있음\n",
    "\n",
    "print(f\"{device} is using!\")\n",
    "\n",
    "target_model.to(device) # Resnent 18 네트워크의 Tensor들을 GPU에 올릴지 Memory에 올릴지 결정함\n",
    "\n",
    "LEARNING_RATE = 0.0001 # 학습 때 사용하는 optimizer의 학습률 옵션 설정\n",
    "NUM_EPOCH = 15 # 학습 때 mnist train 데이터 셋을 얼마나 많이 학습할지 결정하는 옵션\n",
    "\n",
    "loss_fn = torch.nn.CrossEntropyLoss() # 분류 학습 때 많이 사용되는 Cross entropy loss를 objective function으로 사용 - https://en.wikipedia.org/wiki/Cross_entropy\n",
    "optimizer = torch.optim.Adam(target_model.parameters(), lr=LEARNING_RATE) # weight 업데이트를 위한 optimizer를 Adam으로 사용함\n",
    "\n",
    "dataloaders = {\n",
    "    \"train\" : train_dataloader,\n",
    "    \"test\" : valid_dataloader\n",
    "}\n",
    "\n",
    "# freeze\n",
    "for param in target_model.parameters():\n",
    "    param.requires_grad = False\n",
    "\n",
    "CLASS_NUM = 18\n",
    "\n",
    "# melt layer4\n",
    "for param in target_model.layer4.parameters():\n",
    "    param.requires_grad = True\n",
    "\n",
    "# melt fc\n",
    "for param in target_model.fc.parameters():\n",
    "    param.requires_grad = True\n",
    "\n",
    "### 학습 코드 시작\n",
    "best_test_accuracy = 0.\n",
    "best_test_loss = 1.\n",
    "\n",
    "for epoch in range(NUM_EPOCH):\n",
    "  for phase in [\"train\", \"test\"]:\n",
    "    running_loss = 0.\n",
    "    running_acc = 0.\n",
    "    if phase == \"train\":\n",
    "      target_model.train() # 네트워크 모델을 train 모드로 두어 gradient을 계산하고, 여러 sub module (배치 정규화, 드롭아웃 등)이 train mode로 작동할 수 있도록 함\n",
    "    elif phase == \"test\":\n",
    "      target_model.eval() # 네트워크 모델을 eval 모드 두어 여러 sub module들이 eval mode로 작동할 수 있게 함\n",
    "\n",
    "    for ind, (images, labels) in enumerate(tqdm(dataloaders[phase])):\n",
    "      # (참고.해보기) 현재 tqdm으로 출력되는 것이 단순히 진행 상황 뿐인데 현재 epoch, running_loss와 running_acc을 출력하려면 어떻게 할 수 있는지 tqdm 문서를 보고 해봅시다!\n",
    "      # hint - with, pbar\n",
    "      images = images.to(device)\n",
    "      labels = labels.to(device)\n",
    "\n",
    "      optimizer.zero_grad() # parameter gradient를 업데이트 전 초기화함\n",
    "\n",
    "      with torch.set_grad_enabled(phase == \"train\"): # train 모드일 시에는 gradient를 계산하고, 아닐 때는 gradient를 계산하지 않아 연산량 최소화\n",
    "        logits = target_model(images)\n",
    "        _, preds = torch.max(logits, 1) # 모델에서 linear 값으로 나오는 예측 값 ([0.9,1.2, 3.2,0.1,-0.1,...])을 최대 output index를 찾아 예측 레이블([2])로 변경함  \n",
    "        loss = loss_fn(logits, labels)\n",
    "\n",
    "        if phase == \"train\":\n",
    "          loss.backward() # 모델의 예측 값과 실제 값의 CrossEntropy 차이를 통해 gradient 계산\n",
    "          optimizer.step() # 계산된 gradient를 가지고 모델 업데이트\n",
    "\n",
    "      running_loss += loss.item() * images.size(0) # 한 Batch에서의 loss 값 저장\n",
    "      running_acc += torch.sum(preds == labels.data) # 한 Batch에서의 Accuracy 값 저장\n",
    "\n",
    "    # 한 epoch이 모두 종료되었을 때,\n",
    "    epoch_loss = running_loss / len(dataloaders[phase].dataset)\n",
    "    epoch_acc = running_acc / len(dataloaders[phase].dataset)\n",
    "    print(f\"현재 epoch-{epoch}의 {phase}-데이터 셋에서 평균 Loss : {epoch_loss:.3f}, 평균 Accuracy : {epoch_acc:.3f}\")\n",
    "    if phase == \"test\" and best_test_accuracy < epoch_acc: # phase가 test일 때, best accuracy 계산\n",
    "      best_test_accuracy = epoch_acc\n",
    "    if phase == \"test\" and best_test_loss > epoch_loss: # phase가 test일 때, best loss 계산\n",
    "      print('Get best model!')\n",
    "      best_test_loss = epoch_loss\n",
    "      best_model_4 = target_model\n",
    "    \n",
    "print(\"학습 종료!\")\n",
    "print(f\"최고 accuracy : {best_test_accuracy}, 최고 낮은 loss : {best_test_loss}\")"
   ],
   "outputs": [
    {
     "output_type": "stream",
     "name": "stdout",
     "text": [
      "cuda is using!\n"
     ]
    },
    {
     "output_type": "display_data",
     "data": {
      "text/plain": [
       "HBox(children=(HTML(value=''), FloatProgress(value=0.0, max=237.0), HTML(value='')))"
      ],
      "application/vnd.jupyter.widget-view+json": {
       "model_id": "db047a3c9d574fa09e7ffcaea9996831",
       "version_major": 2,
       "version_minor": 0
      }
     },
     "metadata": {}
    },
    {
     "output_type": "stream",
     "name": "stdout",
     "text": [
      "\n",
      "현재 epoch-0의 train-데이터 셋에서 평균 Loss : 0.432, 평균 Accuracy : 0.861\n"
     ]
    },
    {
     "output_type": "display_data",
     "data": {
      "text/plain": [
       "HBox(children=(HTML(value=''), FloatProgress(value=0.0, max=60.0), HTML(value='')))"
      ],
      "application/vnd.jupyter.widget-view+json": {
       "model_id": "8c1d7361846143a1a64c0aa4a0af5038",
       "version_major": 2,
       "version_minor": 0
      }
     },
     "metadata": {}
    },
    {
     "output_type": "stream",
     "name": "stdout",
     "text": [
      "\n",
      "현재 epoch-0의 test-데이터 셋에서 평균 Loss : 0.172, 평균 Accuracy : 0.942\n",
      "Get best model!\n"
     ]
    },
    {
     "output_type": "display_data",
     "data": {
      "text/plain": [
       "HBox(children=(HTML(value=''), FloatProgress(value=0.0, max=237.0), HTML(value='')))"
      ],
      "application/vnd.jupyter.widget-view+json": {
       "model_id": "991e4dfa41b9456c85e13fe1b53402d1",
       "version_major": 2,
       "version_minor": 0
      }
     },
     "metadata": {}
    },
    {
     "output_type": "stream",
     "name": "stdout",
     "text": [
      "\n",
      "현재 epoch-1의 train-데이터 셋에서 평균 Loss : 0.077, 평균 Accuracy : 0.978\n"
     ]
    },
    {
     "output_type": "display_data",
     "data": {
      "text/plain": [
       "HBox(children=(HTML(value=''), FloatProgress(value=0.0, max=60.0), HTML(value='')))"
      ],
      "application/vnd.jupyter.widget-view+json": {
       "model_id": "c981fc89db994c8a900d1937d36a5e26",
       "version_major": 2,
       "version_minor": 0
      }
     },
     "metadata": {}
    },
    {
     "output_type": "stream",
     "name": "stdout",
     "text": [
      "\n",
      "현재 epoch-1의 test-데이터 셋에서 평균 Loss : 0.114, 평균 Accuracy : 0.962\n",
      "Get best model!\n"
     ]
    },
    {
     "output_type": "display_data",
     "data": {
      "text/plain": [
       "HBox(children=(HTML(value=''), FloatProgress(value=0.0, max=237.0), HTML(value='')))"
      ],
      "application/vnd.jupyter.widget-view+json": {
       "model_id": "dc09919498cd4b71a8dce3c9a19f10b0",
       "version_major": 2,
       "version_minor": 0
      }
     },
     "metadata": {}
    },
    {
     "output_type": "stream",
     "name": "stdout",
     "text": [
      "\n",
      "현재 epoch-2의 train-데이터 셋에서 평균 Loss : 0.035, 평균 Accuracy : 0.990\n"
     ]
    },
    {
     "output_type": "display_data",
     "data": {
      "text/plain": [
       "HBox(children=(HTML(value=''), FloatProgress(value=0.0, max=60.0), HTML(value='')))"
      ],
      "application/vnd.jupyter.widget-view+json": {
       "model_id": "4931794d376b4d3a9ccc8057c7face2e",
       "version_major": 2,
       "version_minor": 0
      }
     },
     "metadata": {}
    },
    {
     "output_type": "stream",
     "name": "stdout",
     "text": [
      "\n",
      "현재 epoch-2의 test-데이터 셋에서 평균 Loss : 0.097, 평균 Accuracy : 0.968\n",
      "Get best model!\n"
     ]
    },
    {
     "output_type": "display_data",
     "data": {
      "text/plain": [
       "HBox(children=(HTML(value=''), FloatProgress(value=0.0, max=237.0), HTML(value='')))"
      ],
      "application/vnd.jupyter.widget-view+json": {
       "model_id": "0e425ec5c0cc48ab856b9bd827dacf18",
       "version_major": 2,
       "version_minor": 0
      }
     },
     "metadata": {}
    },
    {
     "output_type": "stream",
     "name": "stdout",
     "text": [
      "\n",
      "현재 epoch-3의 train-데이터 셋에서 평균 Loss : 0.019, 평균 Accuracy : 0.994\n"
     ]
    },
    {
     "output_type": "display_data",
     "data": {
      "text/plain": [
       "HBox(children=(HTML(value=''), FloatProgress(value=0.0, max=60.0), HTML(value='')))"
      ],
      "application/vnd.jupyter.widget-view+json": {
       "model_id": "ebb840202ff1408a936b63f3f236f50e",
       "version_major": 2,
       "version_minor": 0
      }
     },
     "metadata": {}
    },
    {
     "output_type": "stream",
     "name": "stdout",
     "text": [
      "\n",
      "현재 epoch-3의 test-데이터 셋에서 평균 Loss : 0.092, 평균 Accuracy : 0.974\n",
      "Get best model!\n"
     ]
    },
    {
     "output_type": "display_data",
     "data": {
      "text/plain": [
       "HBox(children=(HTML(value=''), FloatProgress(value=0.0, max=237.0), HTML(value='')))"
      ],
      "application/vnd.jupyter.widget-view+json": {
       "model_id": "a1cd093b568849759d96634daf033584",
       "version_major": 2,
       "version_minor": 0
      }
     },
     "metadata": {}
    },
    {
     "output_type": "stream",
     "name": "stdout",
     "text": [
      "\n",
      "현재 epoch-4의 train-데이터 셋에서 평균 Loss : 0.014, 평균 Accuracy : 0.996\n"
     ]
    },
    {
     "output_type": "display_data",
     "data": {
      "text/plain": [
       "HBox(children=(HTML(value=''), FloatProgress(value=0.0, max=60.0), HTML(value='')))"
      ],
      "application/vnd.jupyter.widget-view+json": {
       "model_id": "c0698cb783594334820070de96528cb8",
       "version_major": 2,
       "version_minor": 0
      }
     },
     "metadata": {}
    },
    {
     "output_type": "stream",
     "name": "stdout",
     "text": [
      "\n",
      "현재 epoch-4의 test-데이터 셋에서 평균 Loss : 0.087, 평균 Accuracy : 0.975\n",
      "Get best model!\n"
     ]
    },
    {
     "output_type": "display_data",
     "data": {
      "text/plain": [
       "HBox(children=(HTML(value=''), FloatProgress(value=0.0, max=237.0), HTML(value='')))"
      ],
      "application/vnd.jupyter.widget-view+json": {
       "model_id": "94cf5982b4f94129bc778464fbeef571",
       "version_major": 2,
       "version_minor": 0
      }
     },
     "metadata": {}
    },
    {
     "output_type": "stream",
     "name": "stdout",
     "text": [
      "\n",
      "현재 epoch-5의 train-데이터 셋에서 평균 Loss : 0.021, 평균 Accuracy : 0.994\n"
     ]
    },
    {
     "output_type": "display_data",
     "data": {
      "text/plain": [
       "HBox(children=(HTML(value=''), FloatProgress(value=0.0, max=60.0), HTML(value='')))"
      ],
      "application/vnd.jupyter.widget-view+json": {
       "model_id": "341ad984bc27461dbe41ce236f860f30",
       "version_major": 2,
       "version_minor": 0
      }
     },
     "metadata": {}
    },
    {
     "output_type": "stream",
     "name": "stdout",
     "text": [
      "\n",
      "현재 epoch-5의 test-데이터 셋에서 평균 Loss : 0.087, 평균 Accuracy : 0.972\n",
      "Get best model!\n"
     ]
    },
    {
     "output_type": "display_data",
     "data": {
      "text/plain": [
       "HBox(children=(HTML(value=''), FloatProgress(value=0.0, max=237.0), HTML(value='')))"
      ],
      "application/vnd.jupyter.widget-view+json": {
       "model_id": "512295e6464c4b608f79a4a2d76d9747",
       "version_major": 2,
       "version_minor": 0
      }
     },
     "metadata": {}
    },
    {
     "output_type": "stream",
     "name": "stdout",
     "text": [
      "\n",
      "현재 epoch-6의 train-데이터 셋에서 평균 Loss : 0.018, 평균 Accuracy : 0.995\n"
     ]
    },
    {
     "output_type": "display_data",
     "data": {
      "text/plain": [
       "HBox(children=(HTML(value=''), FloatProgress(value=0.0, max=60.0), HTML(value='')))"
      ],
      "application/vnd.jupyter.widget-view+json": {
       "model_id": "6d5fd6ba030647c89fbeb9cd4a9ee4a6",
       "version_major": 2,
       "version_minor": 0
      }
     },
     "metadata": {}
    },
    {
     "output_type": "stream",
     "name": "stdout",
     "text": [
      "\n",
      "현재 epoch-6의 test-데이터 셋에서 평균 Loss : 0.086, 평균 Accuracy : 0.980\n",
      "Get best model!\n"
     ]
    },
    {
     "output_type": "display_data",
     "data": {
      "text/plain": [
       "HBox(children=(HTML(value=''), FloatProgress(value=0.0, max=237.0), HTML(value='')))"
      ],
      "application/vnd.jupyter.widget-view+json": {
       "model_id": "d36a29ded17c49f88be1c57377f5a256",
       "version_major": 2,
       "version_minor": 0
      }
     },
     "metadata": {}
    },
    {
     "output_type": "stream",
     "name": "stdout",
     "text": [
      "\n",
      "현재 epoch-7의 train-데이터 셋에서 평균 Loss : 0.017, 평균 Accuracy : 0.995\n"
     ]
    },
    {
     "output_type": "display_data",
     "data": {
      "text/plain": [
       "HBox(children=(HTML(value=''), FloatProgress(value=0.0, max=60.0), HTML(value='')))"
      ],
      "application/vnd.jupyter.widget-view+json": {
       "model_id": "5f2e06a30d0a4f948e014d7899e312d8",
       "version_major": 2,
       "version_minor": 0
      }
     },
     "metadata": {}
    },
    {
     "output_type": "stream",
     "name": "stdout",
     "text": [
      "\n",
      "현재 epoch-7의 test-데이터 셋에서 평균 Loss : 0.091, 평균 Accuracy : 0.975\n"
     ]
    },
    {
     "output_type": "display_data",
     "data": {
      "text/plain": [
       "HBox(children=(HTML(value=''), FloatProgress(value=0.0, max=237.0), HTML(value='')))"
      ],
      "application/vnd.jupyter.widget-view+json": {
       "model_id": "92e0eb9f326a44e7be95236bc46f1788",
       "version_major": 2,
       "version_minor": 0
      }
     },
     "metadata": {}
    },
    {
     "output_type": "stream",
     "name": "stdout",
     "text": [
      "\n",
      "현재 epoch-8의 train-데이터 셋에서 평균 Loss : 0.011, 평균 Accuracy : 0.997\n"
     ]
    },
    {
     "output_type": "display_data",
     "data": {
      "text/plain": [
       "HBox(children=(HTML(value=''), FloatProgress(value=0.0, max=60.0), HTML(value='')))"
      ],
      "application/vnd.jupyter.widget-view+json": {
       "model_id": "d42e7d6d7b084999a841c6534a40f90f",
       "version_major": 2,
       "version_minor": 0
      }
     },
     "metadata": {}
    },
    {
     "output_type": "stream",
     "name": "stdout",
     "text": [
      "\n",
      "현재 epoch-8의 test-데이터 셋에서 평균 Loss : 0.108, 평균 Accuracy : 0.974\n"
     ]
    },
    {
     "output_type": "display_data",
     "data": {
      "text/plain": [
       "HBox(children=(HTML(value=''), FloatProgress(value=0.0, max=237.0), HTML(value='')))"
      ],
      "application/vnd.jupyter.widget-view+json": {
       "model_id": "2513518e11b249eab8ef8c502c17b715",
       "version_major": 2,
       "version_minor": 0
      }
     },
     "metadata": {}
    },
    {
     "output_type": "stream",
     "name": "stdout",
     "text": [
      "\n",
      "현재 epoch-9의 train-데이터 셋에서 평균 Loss : 0.011, 평균 Accuracy : 0.997\n"
     ]
    },
    {
     "output_type": "display_data",
     "data": {
      "text/plain": [
       "HBox(children=(HTML(value=''), FloatProgress(value=0.0, max=60.0), HTML(value='')))"
      ],
      "application/vnd.jupyter.widget-view+json": {
       "model_id": "496eb905db57460b9a8773684e6628f6",
       "version_major": 2,
       "version_minor": 0
      }
     },
     "metadata": {}
    },
    {
     "output_type": "stream",
     "name": "stdout",
     "text": [
      "\n",
      "현재 epoch-9의 test-데이터 셋에서 평균 Loss : 0.094, 평균 Accuracy : 0.972\n"
     ]
    },
    {
     "output_type": "display_data",
     "data": {
      "text/plain": [
       "HBox(children=(HTML(value=''), FloatProgress(value=0.0, max=237.0), HTML(value='')))"
      ],
      "application/vnd.jupyter.widget-view+json": {
       "model_id": "62ee8678a6d54b12a994c5696bf9f6b8",
       "version_major": 2,
       "version_minor": 0
      }
     },
     "metadata": {}
    },
    {
     "output_type": "stream",
     "name": "stdout",
     "text": [
      "\n",
      "현재 epoch-10의 train-데이터 셋에서 평균 Loss : 0.015, 평균 Accuracy : 0.996\n"
     ]
    },
    {
     "output_type": "display_data",
     "data": {
      "text/plain": [
       "HBox(children=(HTML(value=''), FloatProgress(value=0.0, max=60.0), HTML(value='')))"
      ],
      "application/vnd.jupyter.widget-view+json": {
       "model_id": "4a1dc781091f4ca293e35ec54978890b",
       "version_major": 2,
       "version_minor": 0
      }
     },
     "metadata": {}
    },
    {
     "output_type": "stream",
     "name": "stdout",
     "text": [
      "\n",
      "현재 epoch-10의 test-데이터 셋에서 평균 Loss : 0.162, 평균 Accuracy : 0.960\n"
     ]
    },
    {
     "output_type": "display_data",
     "data": {
      "text/plain": [
       "HBox(children=(HTML(value=''), FloatProgress(value=0.0, max=237.0), HTML(value='')))"
      ],
      "application/vnd.jupyter.widget-view+json": {
       "model_id": "e30e1585e35540829008f759b87852b8",
       "version_major": 2,
       "version_minor": 0
      }
     },
     "metadata": {}
    },
    {
     "output_type": "stream",
     "name": "stdout",
     "text": [
      "\n",
      "현재 epoch-11의 train-데이터 셋에서 평균 Loss : 0.014, 평균 Accuracy : 0.995\n"
     ]
    },
    {
     "output_type": "display_data",
     "data": {
      "text/plain": [
       "HBox(children=(HTML(value=''), FloatProgress(value=0.0, max=60.0), HTML(value='')))"
      ],
      "application/vnd.jupyter.widget-view+json": {
       "model_id": "0828b53fd1ed46cd9b17008b1da856d8",
       "version_major": 2,
       "version_minor": 0
      }
     },
     "metadata": {}
    },
    {
     "output_type": "stream",
     "name": "stdout",
     "text": [
      "\n",
      "현재 epoch-11의 test-데이터 셋에서 평균 Loss : 0.106, 평균 Accuracy : 0.972\n"
     ]
    },
    {
     "output_type": "display_data",
     "data": {
      "text/plain": [
       "HBox(children=(HTML(value=''), FloatProgress(value=0.0, max=237.0), HTML(value='')))"
      ],
      "application/vnd.jupyter.widget-view+json": {
       "model_id": "7344f5f24a4d499a9283bc36c7c497af",
       "version_major": 2,
       "version_minor": 0
      }
     },
     "metadata": {}
    },
    {
     "output_type": "stream",
     "name": "stdout",
     "text": [
      "\n",
      "현재 epoch-12의 train-데이터 셋에서 평균 Loss : 0.006, 평균 Accuracy : 0.998\n"
     ]
    },
    {
     "output_type": "display_data",
     "data": {
      "text/plain": [
       "HBox(children=(HTML(value=''), FloatProgress(value=0.0, max=60.0), HTML(value='')))"
      ],
      "application/vnd.jupyter.widget-view+json": {
       "model_id": "031f855d0b814c8296a0994f547e0a93",
       "version_major": 2,
       "version_minor": 0
      }
     },
     "metadata": {}
    },
    {
     "output_type": "stream",
     "name": "stdout",
     "text": [
      "\n",
      "현재 epoch-12의 test-데이터 셋에서 평균 Loss : 0.094, 평균 Accuracy : 0.982\n"
     ]
    },
    {
     "output_type": "display_data",
     "data": {
      "text/plain": [
       "HBox(children=(HTML(value=''), FloatProgress(value=0.0, max=237.0), HTML(value='')))"
      ],
      "application/vnd.jupyter.widget-view+json": {
       "model_id": "7b90d74a891448189a67b3048040cb2b",
       "version_major": 2,
       "version_minor": 0
      }
     },
     "metadata": {}
    },
    {
     "output_type": "stream",
     "name": "stdout",
     "text": [
      "\n",
      "현재 epoch-13의 train-데이터 셋에서 평균 Loss : 0.010, 평균 Accuracy : 0.997\n"
     ]
    },
    {
     "output_type": "display_data",
     "data": {
      "text/plain": [
       "HBox(children=(HTML(value=''), FloatProgress(value=0.0, max=60.0), HTML(value='')))"
      ],
      "application/vnd.jupyter.widget-view+json": {
       "model_id": "1bc12c152dbf434ca5a3957dede6c1ca",
       "version_major": 2,
       "version_minor": 0
      }
     },
     "metadata": {}
    },
    {
     "output_type": "stream",
     "name": "stdout",
     "text": [
      "\n",
      "현재 epoch-13의 test-데이터 셋에서 평균 Loss : 0.243, 평균 Accuracy : 0.952\n"
     ]
    },
    {
     "output_type": "display_data",
     "data": {
      "text/plain": [
       "HBox(children=(HTML(value=''), FloatProgress(value=0.0, max=237.0), HTML(value='')))"
      ],
      "application/vnd.jupyter.widget-view+json": {
       "model_id": "f19b2a704114429eb11b08a265b74daa",
       "version_major": 2,
       "version_minor": 0
      }
     },
     "metadata": {}
    },
    {
     "output_type": "stream",
     "name": "stdout",
     "text": [
      "\n",
      "현재 epoch-14의 train-데이터 셋에서 평균 Loss : 0.018, 평균 Accuracy : 0.995\n"
     ]
    },
    {
     "output_type": "display_data",
     "data": {
      "text/plain": [
       "HBox(children=(HTML(value=''), FloatProgress(value=0.0, max=60.0), HTML(value='')))"
      ],
      "application/vnd.jupyter.widget-view+json": {
       "model_id": "ab67ba554d48490e9cbd6467dd967754",
       "version_major": 2,
       "version_minor": 0
      }
     },
     "metadata": {}
    },
    {
     "output_type": "stream",
     "name": "stdout",
     "text": [
      "\n",
      "현재 epoch-14의 test-데이터 셋에서 평균 Loss : 0.078, 평균 Accuracy : 0.979\n",
      "Get best model!\n",
      "학습 종료!\n",
      "최고 accuracy : 0.9820106029510498, 최고 낮은 loss : 0.07784833696295253\n"
     ]
    }
   ],
   "metadata": {}
  },
  {
   "cell_type": "code",
   "execution_count": 123,
   "source": [
    "# 5.\n",
    "\n",
    "target_model = models.resnet50(pretrained=True)\n",
    "CLASS_NUM = 18\n",
    "target_model.fc = torch.nn.Linear(in_features=2048, out_features=CLASS_NUM, bias=True)\n",
    "nn.init.xavier_uniform_(target_model.fc.weight)\n",
    "stdv =  1 / math.sqrt(target_model.fc.in_features)\n",
    "target_model.fc.bias.data.uniform_(-stdv, stdv)\n",
    "\n",
    "train_data = CustomDatasetFromDF(df.iloc[folds[4][0]])\n",
    "valid_data = CustomDatasetFromDF(df.iloc[folds[4][1]])\n",
    "\n",
    "# Mnist Dataset을 DataLoader에 붙이기\n",
    "BATCH_SIZE = 64\n",
    "train_dataloader = torch.utils.data.DataLoader(train_data, batch_size=BATCH_SIZE, shuffle=True, num_workers=4)\n",
    "valid_dataloader = torch.utils.data.DataLoader(valid_data, batch_size=BATCH_SIZE, shuffle=False, num_workers=4)\n",
    "\n",
    "## 2. mnist train 데이터 셋을 resnet50 모델에 학습하기\n",
    "device = torch.device(\"cuda\" if torch.cuda.is_available() else \"cpu\") # 학습 때 GPU 사용여부 결정. Colab에서는 \"런타임\"->\"런타임 유형 변경\"에서 \"GPU\"를 선택할 수 있음\n",
    "\n",
    "print(f\"{device} is using!\")\n",
    "\n",
    "target_model.to(device) # Resnent 18 네트워크의 Tensor들을 GPU에 올릴지 Memory에 올릴지 결정함\n",
    "\n",
    "LEARNING_RATE = 0.0001 # 학습 때 사용하는 optimizer의 학습률 옵션 설정\n",
    "NUM_EPOCH = 15 # 학습 때 mnist train 데이터 셋을 얼마나 많이 학습할지 결정하는 옵션\n",
    "\n",
    "loss_fn = torch.nn.CrossEntropyLoss() # 분류 학습 때 많이 사용되는 Cross entropy loss를 objective function으로 사용 - https://en.wikipedia.org/wiki/Cross_entropy\n",
    "optimizer = torch.optim.Adam(target_model.parameters(), lr=LEARNING_RATE) # weight 업데이트를 위한 optimizer를 Adam으로 사용함\n",
    "\n",
    "dataloaders = {\n",
    "    \"train\" : train_dataloader,\n",
    "    \"test\" : valid_dataloader\n",
    "}\n",
    "\n",
    "# freeze\n",
    "for param in target_model.parameters():\n",
    "    param.requires_grad = False\n",
    "\n",
    "CLASS_NUM = 18\n",
    "\n",
    "# melt layer4\n",
    "for param in target_model.layer4.parameters():\n",
    "    param.requires_grad = True\n",
    "\n",
    "# melt fc\n",
    "for param in target_model.fc.parameters():\n",
    "    param.requires_grad = True\n",
    "\n",
    "### 학습 코드 시작\n",
    "best_test_accuracy = 0.\n",
    "best_test_loss = 1.\n",
    "\n",
    "for epoch in range(NUM_EPOCH):\n",
    "  for phase in [\"train\", \"test\"]:\n",
    "    running_loss = 0.\n",
    "    running_acc = 0.\n",
    "    if phase == \"train\":\n",
    "      target_model.train() # 네트워크 모델을 train 모드로 두어 gradient을 계산하고, 여러 sub module (배치 정규화, 드롭아웃 등)이 train mode로 작동할 수 있도록 함\n",
    "    elif phase == \"test\":\n",
    "      target_model.eval() # 네트워크 모델을 eval 모드 두어 여러 sub module들이 eval mode로 작동할 수 있게 함\n",
    "\n",
    "    for ind, (images, labels) in enumerate(tqdm(dataloaders[phase])):\n",
    "      # (참고.해보기) 현재 tqdm으로 출력되는 것이 단순히 진행 상황 뿐인데 현재 epoch, running_loss와 running_acc을 출력하려면 어떻게 할 수 있는지 tqdm 문서를 보고 해봅시다!\n",
    "      # hint - with, pbar\n",
    "      images = images.to(device)\n",
    "      labels = labels.to(device)\n",
    "\n",
    "      optimizer.zero_grad() # parameter gradient를 업데이트 전 초기화함\n",
    "\n",
    "      with torch.set_grad_enabled(phase == \"train\"): # train 모드일 시에는 gradient를 계산하고, 아닐 때는 gradient를 계산하지 않아 연산량 최소화\n",
    "        logits = target_model(images)\n",
    "        _, preds = torch.max(logits, 1) # 모델에서 linear 값으로 나오는 예측 값 ([0.9,1.2, 3.2,0.1,-0.1,...])을 최대 output index를 찾아 예측 레이블([2])로 변경함  \n",
    "        loss = loss_fn(logits, labels)\n",
    "\n",
    "        if phase == \"train\":\n",
    "          loss.backward() # 모델의 예측 값과 실제 값의 CrossEntropy 차이를 통해 gradient 계산\n",
    "          optimizer.step() # 계산된 gradient를 가지고 모델 업데이트\n",
    "\n",
    "      running_loss += loss.item() * images.size(0) # 한 Batch에서의 loss 값 저장\n",
    "      running_acc += torch.sum(preds == labels.data) # 한 Batch에서의 Accuracy 값 저장\n",
    "\n",
    "    # 한 epoch이 모두 종료되었을 때,\n",
    "    epoch_loss = running_loss / len(dataloaders[phase].dataset)\n",
    "    epoch_acc = running_acc / len(dataloaders[phase].dataset)\n",
    "    print(f\"현재 epoch-{epoch}의 {phase}-데이터 셋에서 평균 Loss : {epoch_loss:.3f}, 평균 Accuracy : {epoch_acc:.3f}\")\n",
    "    if phase == \"test\" and best_test_accuracy < epoch_acc: # phase가 test일 때, best accuracy 계산\n",
    "      best_test_accuracy = epoch_acc\n",
    "    if phase == \"test\" and best_test_loss > epoch_loss: # phase가 test일 때, best loss 계산\n",
    "      print('Get best model!')\n",
    "      best_test_loss = epoch_loss\n",
    "      best_model_5 = target_model\n",
    "    \n",
    "print(\"학습 종료!\")\n",
    "print(f\"최고 accuracy : {best_test_accuracy}, 최고 낮은 loss : {best_test_loss}\")"
   ],
   "outputs": [
    {
     "output_type": "stream",
     "name": "stdout",
     "text": [
      "cuda is using!\n"
     ]
    },
    {
     "output_type": "display_data",
     "data": {
      "text/plain": [
       "HBox(children=(HTML(value=''), FloatProgress(value=0.0, max=237.0), HTML(value='')))"
      ],
      "application/vnd.jupyter.widget-view+json": {
       "model_id": "5fc78690dde847269006a0d21439ac8e",
       "version_major": 2,
       "version_minor": 0
      }
     },
     "metadata": {}
    },
    {
     "output_type": "stream",
     "name": "stdout",
     "text": [
      "\n",
      "현재 epoch-0의 train-데이터 셋에서 평균 Loss : 0.423, 평균 Accuracy : 0.865\n"
     ]
    },
    {
     "output_type": "display_data",
     "data": {
      "text/plain": [
       "HBox(children=(HTML(value=''), FloatProgress(value=0.0, max=60.0), HTML(value='')))"
      ],
      "application/vnd.jupyter.widget-view+json": {
       "model_id": "9c7eac4a35af4a4a8f1c8838a0c74dec",
       "version_major": 2,
       "version_minor": 0
      }
     },
     "metadata": {}
    },
    {
     "output_type": "stream",
     "name": "stdout",
     "text": [
      "\n",
      "현재 epoch-0의 test-데이터 셋에서 평균 Loss : 0.196, 평균 Accuracy : 0.931\n",
      "Get best model!\n"
     ]
    },
    {
     "output_type": "display_data",
     "data": {
      "text/plain": [
       "HBox(children=(HTML(value=''), FloatProgress(value=0.0, max=237.0), HTML(value='')))"
      ],
      "application/vnd.jupyter.widget-view+json": {
       "model_id": "d796c2a99d3942c6bae2adff8241d468",
       "version_major": 2,
       "version_minor": 0
      }
     },
     "metadata": {}
    },
    {
     "output_type": "stream",
     "name": "stdout",
     "text": [
      "\n",
      "현재 epoch-1의 train-데이터 셋에서 평균 Loss : 0.078, 평균 Accuracy : 0.975\n"
     ]
    },
    {
     "output_type": "display_data",
     "data": {
      "text/plain": [
       "HBox(children=(HTML(value=''), FloatProgress(value=0.0, max=60.0), HTML(value='')))"
      ],
      "application/vnd.jupyter.widget-view+json": {
       "model_id": "a67443886dcb4d7a854d6d85a55e65c1",
       "version_major": 2,
       "version_minor": 0
      }
     },
     "metadata": {}
    },
    {
     "output_type": "stream",
     "name": "stdout",
     "text": [
      "\n",
      "현재 epoch-1의 test-데이터 셋에서 평균 Loss : 0.146, 평균 Accuracy : 0.952\n",
      "Get best model!\n"
     ]
    },
    {
     "output_type": "display_data",
     "data": {
      "text/plain": [
       "HBox(children=(HTML(value=''), FloatProgress(value=0.0, max=237.0), HTML(value='')))"
      ],
      "application/vnd.jupyter.widget-view+json": {
       "model_id": "1814938d38ed4ee692913783cbded13e",
       "version_major": 2,
       "version_minor": 0
      }
     },
     "metadata": {}
    },
    {
     "output_type": "stream",
     "name": "stdout",
     "text": [
      "\n",
      "현재 epoch-2의 train-데이터 셋에서 평균 Loss : 0.029, 평균 Accuracy : 0.991\n"
     ]
    },
    {
     "output_type": "display_data",
     "data": {
      "text/plain": [
       "HBox(children=(HTML(value=''), FloatProgress(value=0.0, max=60.0), HTML(value='')))"
      ],
      "application/vnd.jupyter.widget-view+json": {
       "model_id": "c0538cf3bb4a4886817b8f4af37ade92",
       "version_major": 2,
       "version_minor": 0
      }
     },
     "metadata": {}
    },
    {
     "output_type": "stream",
     "name": "stdout",
     "text": [
      "\n",
      "현재 epoch-2의 test-데이터 셋에서 평균 Loss : 0.105, 평균 Accuracy : 0.967\n",
      "Get best model!\n"
     ]
    },
    {
     "output_type": "display_data",
     "data": {
      "text/plain": [
       "HBox(children=(HTML(value=''), FloatProgress(value=0.0, max=237.0), HTML(value='')))"
      ],
      "application/vnd.jupyter.widget-view+json": {
       "model_id": "767cc076626e41f2b2aa4c6b3c9497ca",
       "version_major": 2,
       "version_minor": 0
      }
     },
     "metadata": {}
    },
    {
     "output_type": "stream",
     "name": "stdout",
     "text": [
      "\n",
      "현재 epoch-3의 train-데이터 셋에서 평균 Loss : 0.018, 평균 Accuracy : 0.995\n"
     ]
    },
    {
     "output_type": "display_data",
     "data": {
      "text/plain": [
       "HBox(children=(HTML(value=''), FloatProgress(value=0.0, max=60.0), HTML(value='')))"
      ],
      "application/vnd.jupyter.widget-view+json": {
       "model_id": "4798c6a8ed4a49f995bdc1504647714a",
       "version_major": 2,
       "version_minor": 0
      }
     },
     "metadata": {}
    },
    {
     "output_type": "stream",
     "name": "stdout",
     "text": [
      "\n",
      "현재 epoch-3의 test-데이터 셋에서 평균 Loss : 0.098, 평균 Accuracy : 0.970\n",
      "Get best model!\n"
     ]
    },
    {
     "output_type": "display_data",
     "data": {
      "text/plain": [
       "HBox(children=(HTML(value=''), FloatProgress(value=0.0, max=237.0), HTML(value='')))"
      ],
      "application/vnd.jupyter.widget-view+json": {
       "model_id": "11c4f0d8a69747c594226b12bd7b3ca8",
       "version_major": 2,
       "version_minor": 0
      }
     },
     "metadata": {}
    },
    {
     "output_type": "stream",
     "name": "stdout",
     "text": [
      "\n",
      "현재 epoch-4의 train-데이터 셋에서 평균 Loss : 0.031, 평균 Accuracy : 0.990\n"
     ]
    },
    {
     "output_type": "display_data",
     "data": {
      "text/plain": [
       "HBox(children=(HTML(value=''), FloatProgress(value=0.0, max=60.0), HTML(value='')))"
      ],
      "application/vnd.jupyter.widget-view+json": {
       "model_id": "39933a417bfe44a594d3a48ee4e23391",
       "version_major": 2,
       "version_minor": 0
      }
     },
     "metadata": {}
    },
    {
     "output_type": "stream",
     "name": "stdout",
     "text": [
      "\n",
      "현재 epoch-4의 test-데이터 셋에서 평균 Loss : 0.103, 평균 Accuracy : 0.973\n"
     ]
    },
    {
     "output_type": "display_data",
     "data": {
      "text/plain": [
       "HBox(children=(HTML(value=''), FloatProgress(value=0.0, max=237.0), HTML(value='')))"
      ],
      "application/vnd.jupyter.widget-view+json": {
       "model_id": "18b244b2378a434397ccba36ee5a861d",
       "version_major": 2,
       "version_minor": 0
      }
     },
     "metadata": {}
    },
    {
     "output_type": "stream",
     "name": "stdout",
     "text": [
      "\n",
      "현재 epoch-5의 train-데이터 셋에서 평균 Loss : 0.013, 평균 Accuracy : 0.997\n"
     ]
    },
    {
     "output_type": "display_data",
     "data": {
      "text/plain": [
       "HBox(children=(HTML(value=''), FloatProgress(value=0.0, max=60.0), HTML(value='')))"
      ],
      "application/vnd.jupyter.widget-view+json": {
       "model_id": "3c0f87773889483bb2c33f8dcc703975",
       "version_major": 2,
       "version_minor": 0
      }
     },
     "metadata": {}
    },
    {
     "output_type": "stream",
     "name": "stdout",
     "text": [
      "\n",
      "현재 epoch-5의 test-데이터 셋에서 평균 Loss : 0.080, 평균 Accuracy : 0.977\n",
      "Get best model!\n"
     ]
    },
    {
     "output_type": "display_data",
     "data": {
      "text/plain": [
       "HBox(children=(HTML(value=''), FloatProgress(value=0.0, max=237.0), HTML(value='')))"
      ],
      "application/vnd.jupyter.widget-view+json": {
       "model_id": "6440c03221894b80a3a34237d336e4b9",
       "version_major": 2,
       "version_minor": 0
      }
     },
     "metadata": {}
    },
    {
     "output_type": "stream",
     "name": "stdout",
     "text": [
      "\n",
      "현재 epoch-6의 train-데이터 셋에서 평균 Loss : 0.004, 평균 Accuracy : 0.999\n"
     ]
    },
    {
     "output_type": "display_data",
     "data": {
      "text/plain": [
       "HBox(children=(HTML(value=''), FloatProgress(value=0.0, max=60.0), HTML(value='')))"
      ],
      "application/vnd.jupyter.widget-view+json": {
       "model_id": "acb219ac37824cbcbb655438b4523a82",
       "version_major": 2,
       "version_minor": 0
      }
     },
     "metadata": {}
    },
    {
     "output_type": "stream",
     "name": "stdout",
     "text": [
      "\n",
      "현재 epoch-6의 test-데이터 셋에서 평균 Loss : 0.059, 평균 Accuracy : 0.982\n",
      "Get best model!\n"
     ]
    },
    {
     "output_type": "display_data",
     "data": {
      "text/plain": [
       "HBox(children=(HTML(value=''), FloatProgress(value=0.0, max=237.0), HTML(value='')))"
      ],
      "application/vnd.jupyter.widget-view+json": {
       "model_id": "a3894cbcc59b4cdfbf5cb2359aa866c3",
       "version_major": 2,
       "version_minor": 0
      }
     },
     "metadata": {}
    },
    {
     "output_type": "stream",
     "name": "stdout",
     "text": [
      "\n",
      "현재 epoch-7의 train-데이터 셋에서 평균 Loss : 0.021, 평균 Accuracy : 0.994\n"
     ]
    },
    {
     "output_type": "display_data",
     "data": {
      "text/plain": [
       "HBox(children=(HTML(value=''), FloatProgress(value=0.0, max=60.0), HTML(value='')))"
      ],
      "application/vnd.jupyter.widget-view+json": {
       "model_id": "6a5c2061febb49379ef7284df746a967",
       "version_major": 2,
       "version_minor": 0
      }
     },
     "metadata": {}
    },
    {
     "output_type": "stream",
     "name": "stdout",
     "text": [
      "\n",
      "현재 epoch-7의 test-데이터 셋에서 평균 Loss : 0.081, 평균 Accuracy : 0.972\n"
     ]
    },
    {
     "output_type": "display_data",
     "data": {
      "text/plain": [
       "HBox(children=(HTML(value=''), FloatProgress(value=0.0, max=237.0), HTML(value='')))"
      ],
      "application/vnd.jupyter.widget-view+json": {
       "model_id": "0f11de3d8f21467ebe1903e67719efb8",
       "version_major": 2,
       "version_minor": 0
      }
     },
     "metadata": {}
    },
    {
     "output_type": "stream",
     "name": "stdout",
     "text": [
      "\n",
      "현재 epoch-8의 train-데이터 셋에서 평균 Loss : 0.018, 평균 Accuracy : 0.995\n"
     ]
    },
    {
     "output_type": "display_data",
     "data": {
      "text/plain": [
       "HBox(children=(HTML(value=''), FloatProgress(value=0.0, max=60.0), HTML(value='')))"
      ],
      "application/vnd.jupyter.widget-view+json": {
       "model_id": "baedb4b79f0c495cab6786b26750af98",
       "version_major": 2,
       "version_minor": 0
      }
     },
     "metadata": {}
    },
    {
     "output_type": "stream",
     "name": "stdout",
     "text": [
      "\n",
      "현재 epoch-8의 test-데이터 셋에서 평균 Loss : 0.107, 평균 Accuracy : 0.971\n"
     ]
    },
    {
     "output_type": "display_data",
     "data": {
      "text/plain": [
       "HBox(children=(HTML(value=''), FloatProgress(value=0.0, max=237.0), HTML(value='')))"
      ],
      "application/vnd.jupyter.widget-view+json": {
       "model_id": "f79ecdc54bcb4f09aff0aef90cebcf97",
       "version_major": 2,
       "version_minor": 0
      }
     },
     "metadata": {}
    },
    {
     "output_type": "stream",
     "name": "stdout",
     "text": [
      "\n",
      "현재 epoch-9의 train-데이터 셋에서 평균 Loss : 0.021, 평균 Accuracy : 0.994\n"
     ]
    },
    {
     "output_type": "display_data",
     "data": {
      "text/plain": [
       "HBox(children=(HTML(value=''), FloatProgress(value=0.0, max=60.0), HTML(value='')))"
      ],
      "application/vnd.jupyter.widget-view+json": {
       "model_id": "493a28da867c4b6ba69a9c80da552a79",
       "version_major": 2,
       "version_minor": 0
      }
     },
     "metadata": {}
    },
    {
     "output_type": "stream",
     "name": "stdout",
     "text": [
      "\n",
      "현재 epoch-9의 test-데이터 셋에서 평균 Loss : 0.109, 평균 Accuracy : 0.971\n"
     ]
    },
    {
     "output_type": "display_data",
     "data": {
      "text/plain": [
       "HBox(children=(HTML(value=''), FloatProgress(value=0.0, max=237.0), HTML(value='')))"
      ],
      "application/vnd.jupyter.widget-view+json": {
       "model_id": "af8f611d22ab426fb219ef95ec4d7848",
       "version_major": 2,
       "version_minor": 0
      }
     },
     "metadata": {}
    },
    {
     "output_type": "stream",
     "name": "stdout",
     "text": [
      "\n",
      "현재 epoch-10의 train-데이터 셋에서 평균 Loss : 0.016, 평균 Accuracy : 0.995\n"
     ]
    },
    {
     "output_type": "display_data",
     "data": {
      "text/plain": [
       "HBox(children=(HTML(value=''), FloatProgress(value=0.0, max=60.0), HTML(value='')))"
      ],
      "application/vnd.jupyter.widget-view+json": {
       "model_id": "513c600765944666a86d70e7ea17fc5c",
       "version_major": 2,
       "version_minor": 0
      }
     },
     "metadata": {}
    },
    {
     "output_type": "stream",
     "name": "stdout",
     "text": [
      "\n",
      "현재 epoch-10의 test-데이터 셋에서 평균 Loss : 0.168, 평균 Accuracy : 0.953\n"
     ]
    },
    {
     "output_type": "display_data",
     "data": {
      "text/plain": [
       "HBox(children=(HTML(value=''), FloatProgress(value=0.0, max=237.0), HTML(value='')))"
      ],
      "application/vnd.jupyter.widget-view+json": {
       "model_id": "85a96ac637f64c8f835fe6d3901be30e",
       "version_major": 2,
       "version_minor": 0
      }
     },
     "metadata": {}
    },
    {
     "output_type": "stream",
     "name": "stdout",
     "text": [
      "\n",
      "현재 epoch-11의 train-데이터 셋에서 평균 Loss : 0.014, 평균 Accuracy : 0.996\n"
     ]
    },
    {
     "output_type": "display_data",
     "data": {
      "text/plain": [
       "HBox(children=(HTML(value=''), FloatProgress(value=0.0, max=60.0), HTML(value='')))"
      ],
      "application/vnd.jupyter.widget-view+json": {
       "model_id": "97e681290af04a8ab6f76a4803c7d66c",
       "version_major": 2,
       "version_minor": 0
      }
     },
     "metadata": {}
    },
    {
     "output_type": "stream",
     "name": "stdout",
     "text": [
      "\n",
      "현재 epoch-11의 test-데이터 셋에서 평균 Loss : 0.077, 평균 Accuracy : 0.976\n"
     ]
    },
    {
     "output_type": "display_data",
     "data": {
      "text/plain": [
       "HBox(children=(HTML(value=''), FloatProgress(value=0.0, max=237.0), HTML(value='')))"
      ],
      "application/vnd.jupyter.widget-view+json": {
       "model_id": "580241b32b5f40588d4b323ac95107e9",
       "version_major": 2,
       "version_minor": 0
      }
     },
     "metadata": {}
    },
    {
     "output_type": "stream",
     "name": "stdout",
     "text": [
      "\n",
      "현재 epoch-12의 train-데이터 셋에서 평균 Loss : 0.006, 평균 Accuracy : 0.998\n"
     ]
    },
    {
     "output_type": "display_data",
     "data": {
      "text/plain": [
       "HBox(children=(HTML(value=''), FloatProgress(value=0.0, max=60.0), HTML(value='')))"
      ],
      "application/vnd.jupyter.widget-view+json": {
       "model_id": "60ea73b306624837b10a992ffdc531f9",
       "version_major": 2,
       "version_minor": 0
      }
     },
     "metadata": {}
    },
    {
     "output_type": "stream",
     "name": "stdout",
     "text": [
      "\n",
      "현재 epoch-12의 test-데이터 셋에서 평균 Loss : 0.076, 평균 Accuracy : 0.980\n"
     ]
    },
    {
     "output_type": "display_data",
     "data": {
      "text/plain": [
       "HBox(children=(HTML(value=''), FloatProgress(value=0.0, max=237.0), HTML(value='')))"
      ],
      "application/vnd.jupyter.widget-view+json": {
       "model_id": "dc7d25f95d7f4e0799a345fce2def2eb",
       "version_major": 2,
       "version_minor": 0
      }
     },
     "metadata": {}
    },
    {
     "output_type": "stream",
     "name": "stdout",
     "text": [
      "\n",
      "현재 epoch-13의 train-데이터 셋에서 평균 Loss : 0.003, 평균 Accuracy : 0.999\n"
     ]
    },
    {
     "output_type": "display_data",
     "data": {
      "text/plain": [
       "HBox(children=(HTML(value=''), FloatProgress(value=0.0, max=60.0), HTML(value='')))"
      ],
      "application/vnd.jupyter.widget-view+json": {
       "model_id": "c01ed2981c5a43be844979b18db057e1",
       "version_major": 2,
       "version_minor": 0
      }
     },
     "metadata": {}
    },
    {
     "output_type": "stream",
     "name": "stdout",
     "text": [
      "\n",
      "현재 epoch-13의 test-데이터 셋에서 평균 Loss : 0.055, 평균 Accuracy : 0.985\n",
      "Get best model!\n"
     ]
    },
    {
     "output_type": "display_data",
     "data": {
      "text/plain": [
       "HBox(children=(HTML(value=''), FloatProgress(value=0.0, max=237.0), HTML(value='')))"
      ],
      "application/vnd.jupyter.widget-view+json": {
       "model_id": "3b0376981bb5427397242ea19d8f04ef",
       "version_major": 2,
       "version_minor": 0
      }
     },
     "metadata": {}
    },
    {
     "output_type": "stream",
     "name": "stdout",
     "text": [
      "\n",
      "현재 epoch-14의 train-데이터 셋에서 평균 Loss : 0.018, 평균 Accuracy : 0.995\n"
     ]
    },
    {
     "output_type": "display_data",
     "data": {
      "text/plain": [
       "HBox(children=(HTML(value=''), FloatProgress(value=0.0, max=60.0), HTML(value='')))"
      ],
      "application/vnd.jupyter.widget-view+json": {
       "model_id": "aa25f6b14f9e4e0680834040ac5c1b17",
       "version_major": 2,
       "version_minor": 0
      }
     },
     "metadata": {}
    },
    {
     "output_type": "stream",
     "name": "stdout",
     "text": [
      "\n",
      "현재 epoch-14의 test-데이터 셋에서 평균 Loss : 0.163, 평균 Accuracy : 0.958\n",
      "학습 종료!\n",
      "최고 accuracy : 0.9846560955047607, 최고 낮은 loss : 0.05476845637633194\n"
     ]
    }
   ],
   "metadata": {}
  },
  {
   "cell_type": "markdown",
   "source": [
    "# 제출"
   ],
   "metadata": {}
  },
  {
   "cell_type": "code",
   "execution_count": 107,
   "source": [
    "# 테스트 데이터셋 폴더 경로를 지정해주세요.\n",
    "test_dir = '/opt/ml/input/data/eval'"
   ],
   "outputs": [],
   "metadata": {}
  },
  {
   "cell_type": "code",
   "execution_count": 108,
   "source": [
    "class TestDataset(Dataset):\n",
    "    def __init__(self, img_paths, transform):\n",
    "        self.img_paths = img_paths\n",
    "        self.transform = transforms.Compose([transforms.Resize(256),\n",
    "                                             transforms.CenterCrop(224),\n",
    "                                             transforms.ToTensor()])\n",
    "\n",
    "    def __getitem__(self, index):\n",
    "        image = Image.open(self.img_paths[index])\n",
    "\n",
    "        if self.transform:\n",
    "            image = self.transform(image)\n",
    "        return image\n",
    "\n",
    "    def __len__(self):\n",
    "        return len(self.img_paths)"
   ],
   "outputs": [],
   "metadata": {}
  },
  {
   "cell_type": "code",
   "execution_count": 196,
   "source": [
    "# meta 데이터와 이미지 경로를 불러옵니다.\n",
    "submission = pd.read_csv(os.path.join(test_dir, 'info.csv'))\n",
    "image_dir = os.path.join(test_dir, 'images')\n",
    "\n",
    "# Test Dataset 클래스 객체를 생성하고 DataLoader를 만듭니다.\n",
    "image_paths = [os.path.join(image_dir, img_id) for img_id in submission.ImageID]\n",
    "transform = transforms.Compose([\n",
    "    Resize((512, 384), Image.BILINEAR),\n",
    "    ToTensor(),\n",
    "    Normalize(mean=(0.5, 0.5, 0.5), std=(0.2, 0.2, 0.2)),\n",
    "])\n",
    "dataset = TestDataset(image_paths, transform)\n",
    "\n",
    "loader = DataLoader(\n",
    "    dataset,\n",
    "    shuffle=False\n",
    ")\n",
    "\n",
    "# 모델을 정의합니다. (학습한 모델이 있다면 torch.load로 모델을 불러주세요!)\n",
    "device = torch.device('cuda')\n",
    "models = [best_model_1, best_model_2, best_model_3, best_model_4, best_model_5]\n",
    "\n",
    "all_predictions = []\n",
    "\n",
    "for model in tqdm(models):\n",
    "    model.to(device)\n",
    "    model.eval()\n",
    "    \n",
    "    pred_list = []\n",
    "    # 모델이 테스트 데이터셋을 예측하고 결과를 저장합니다.\n",
    "    for images in tqdm(loader):\n",
    "        with torch.no_grad():\n",
    "            images = images.to(device)\n",
    "            pred = model(images)\n",
    "            pred_list.extend(pred.cpu().numpy())\n",
    "    all_predictions.append(np.array(pred_list))\n",
    "\n",
    "# 각 fold로 학습시킨 모델의 결과 soft voting\n",
    "total_pred = (all_predictions[0] + all_predictions[1] + all_predictions[2] + all_predictions[3] + all_predictions[4]).argmax(-1)\n",
    "submission['ans'] = total_pred\n",
    "\n",
    "# 제출할 파일을 저장합니다.\n",
    "submission.to_csv(os.path.join(test_dir, 'submission_50_5fold_20210826.csv'), index=False)\n",
    "print('test inference is done!')"
   ],
   "outputs": [
    {
     "output_type": "display_data",
     "data": {
      "text/plain": [
       "HBox(children=(HTML(value=''), FloatProgress(value=0.0, max=5.0), HTML(value='')))"
      ],
      "application/vnd.jupyter.widget-view+json": {
       "model_id": "fec62a266b6542aa8b3608b2959a189a",
       "version_major": 2,
       "version_minor": 0
      }
     },
     "metadata": {}
    },
    {
     "output_type": "display_data",
     "data": {
      "text/plain": [
       "HBox(children=(HTML(value=''), FloatProgress(value=0.0, max=12600.0), HTML(value='')))"
      ],
      "application/vnd.jupyter.widget-view+json": {
       "model_id": "ce8c25825b0349bdac42485a05c44063",
       "version_major": 2,
       "version_minor": 0
      }
     },
     "metadata": {}
    },
    {
     "output_type": "stream",
     "name": "stdout",
     "text": [
      "\n"
     ]
    },
    {
     "output_type": "display_data",
     "data": {
      "text/plain": [
       "HBox(children=(HTML(value=''), FloatProgress(value=0.0, max=12600.0), HTML(value='')))"
      ],
      "application/vnd.jupyter.widget-view+json": {
       "model_id": "f7bd4dc947474602b108e851954156e2",
       "version_major": 2,
       "version_minor": 0
      }
     },
     "metadata": {}
    },
    {
     "output_type": "stream",
     "name": "stdout",
     "text": [
      "\n"
     ]
    },
    {
     "output_type": "display_data",
     "data": {
      "text/plain": [
       "HBox(children=(HTML(value=''), FloatProgress(value=0.0, max=12600.0), HTML(value='')))"
      ],
      "application/vnd.jupyter.widget-view+json": {
       "model_id": "faa19597f59e4d82b1f6cf47e5abbe9b",
       "version_major": 2,
       "version_minor": 0
      }
     },
     "metadata": {}
    },
    {
     "output_type": "stream",
     "name": "stdout",
     "text": [
      "\n"
     ]
    },
    {
     "output_type": "display_data",
     "data": {
      "text/plain": [
       "HBox(children=(HTML(value=''), FloatProgress(value=0.0, max=12600.0), HTML(value='')))"
      ],
      "application/vnd.jupyter.widget-view+json": {
       "model_id": "609181d428e94a05aa74065da1dcec76",
       "version_major": 2,
       "version_minor": 0
      }
     },
     "metadata": {}
    },
    {
     "output_type": "stream",
     "name": "stdout",
     "text": [
      "\n"
     ]
    },
    {
     "output_type": "display_data",
     "data": {
      "text/plain": [
       "HBox(children=(HTML(value=''), FloatProgress(value=0.0, max=12600.0), HTML(value='')))"
      ],
      "application/vnd.jupyter.widget-view+json": {
       "model_id": "789cc69bd6f84002a0efbde5c4f84682",
       "version_major": 2,
       "version_minor": 0
      }
     },
     "metadata": {}
    },
    {
     "output_type": "stream",
     "name": "stdout",
     "text": [
      "\n",
      "\n"
     ]
    },
    {
     "output_type": "error",
     "ename": "ValueError",
     "evalue": "Length of values (5) does not match length of index (12600)",
     "traceback": [
      "\u001b[0;31m---------------------------------------------------------------------------\u001b[0m",
      "\u001b[0;31mValueError\u001b[0m                                Traceback (most recent call last)",
      "\u001b[0;32m<ipython-input-196-bfa80911b9aa>\u001b[0m in \u001b[0;36m<module>\u001b[0;34m\u001b[0m\n\u001b[1;32m     37\u001b[0m \u001b[0;34m\u001b[0m\u001b[0m\n\u001b[1;32m     38\u001b[0m \u001b[0mtotal_pred\u001b[0m \u001b[0;34m=\u001b[0m \u001b[0;34m(\u001b[0m\u001b[0mall_predictions\u001b[0m\u001b[0;34m[\u001b[0m\u001b[0;36m0\u001b[0m\u001b[0;34m]\u001b[0m \u001b[0;34m+\u001b[0m \u001b[0mall_predictions\u001b[0m\u001b[0;34m[\u001b[0m\u001b[0;36m1\u001b[0m\u001b[0;34m]\u001b[0m \u001b[0;34m+\u001b[0m \u001b[0mall_predictions\u001b[0m\u001b[0;34m[\u001b[0m\u001b[0;36m2\u001b[0m\u001b[0;34m]\u001b[0m \u001b[0;34m+\u001b[0m \u001b[0mall_predictions\u001b[0m\u001b[0;34m[\u001b[0m\u001b[0;36m3\u001b[0m\u001b[0;34m]\u001b[0m \u001b[0;34m+\u001b[0m \u001b[0mall_predictions\u001b[0m\u001b[0;34m[\u001b[0m\u001b[0;36m4\u001b[0m\u001b[0;34m]\u001b[0m\u001b[0;34m)\u001b[0m\u001b[0;34m.\u001b[0m\u001b[0margmax\u001b[0m\u001b[0;34m(\u001b[0m\u001b[0;34m-\u001b[0m\u001b[0;36m1\u001b[0m\u001b[0;34m)\u001b[0m\u001b[0;34m\u001b[0m\u001b[0;34m\u001b[0m\u001b[0m\n\u001b[0;32m---> 39\u001b[0;31m \u001b[0msubmission\u001b[0m\u001b[0;34m[\u001b[0m\u001b[0;34m'ans'\u001b[0m\u001b[0;34m]\u001b[0m \u001b[0;34m=\u001b[0m \u001b[0mall_predictions\u001b[0m\u001b[0;34m\u001b[0m\u001b[0;34m\u001b[0m\u001b[0m\n\u001b[0m\u001b[1;32m     40\u001b[0m \u001b[0;34m\u001b[0m\u001b[0m\n\u001b[1;32m     41\u001b[0m \u001b[0;31m# 제출할 파일을 저장합니다.\u001b[0m\u001b[0;34m\u001b[0m\u001b[0;34m\u001b[0m\u001b[0;34m\u001b[0m\u001b[0m\n",
      "\u001b[0;32m/opt/conda/lib/python3.8/site-packages/pandas/core/frame.py\u001b[0m in \u001b[0;36m__setitem__\u001b[0;34m(self, key, value)\u001b[0m\n\u001b[1;32m   3042\u001b[0m         \u001b[0;32melse\u001b[0m\u001b[0;34m:\u001b[0m\u001b[0;34m\u001b[0m\u001b[0;34m\u001b[0m\u001b[0m\n\u001b[1;32m   3043\u001b[0m             \u001b[0;31m# set column\u001b[0m\u001b[0;34m\u001b[0m\u001b[0;34m\u001b[0m\u001b[0;34m\u001b[0m\u001b[0m\n\u001b[0;32m-> 3044\u001b[0;31m             \u001b[0mself\u001b[0m\u001b[0;34m.\u001b[0m\u001b[0m_set_item\u001b[0m\u001b[0;34m(\u001b[0m\u001b[0mkey\u001b[0m\u001b[0;34m,\u001b[0m \u001b[0mvalue\u001b[0m\u001b[0;34m)\u001b[0m\u001b[0;34m\u001b[0m\u001b[0;34m\u001b[0m\u001b[0m\n\u001b[0m\u001b[1;32m   3045\u001b[0m \u001b[0;34m\u001b[0m\u001b[0m\n\u001b[1;32m   3046\u001b[0m     \u001b[0;32mdef\u001b[0m \u001b[0m_setitem_slice\u001b[0m\u001b[0;34m(\u001b[0m\u001b[0mself\u001b[0m\u001b[0;34m,\u001b[0m \u001b[0mkey\u001b[0m\u001b[0;34m:\u001b[0m \u001b[0mslice\u001b[0m\u001b[0;34m,\u001b[0m \u001b[0mvalue\u001b[0m\u001b[0;34m)\u001b[0m\u001b[0;34m:\u001b[0m\u001b[0;34m\u001b[0m\u001b[0;34m\u001b[0m\u001b[0m\n",
      "\u001b[0;32m/opt/conda/lib/python3.8/site-packages/pandas/core/frame.py\u001b[0m in \u001b[0;36m_set_item\u001b[0;34m(self, key, value)\u001b[0m\n\u001b[1;32m   3118\u001b[0m         \"\"\"\n\u001b[1;32m   3119\u001b[0m         \u001b[0mself\u001b[0m\u001b[0;34m.\u001b[0m\u001b[0m_ensure_valid_index\u001b[0m\u001b[0;34m(\u001b[0m\u001b[0mvalue\u001b[0m\u001b[0;34m)\u001b[0m\u001b[0;34m\u001b[0m\u001b[0;34m\u001b[0m\u001b[0m\n\u001b[0;32m-> 3120\u001b[0;31m         \u001b[0mvalue\u001b[0m \u001b[0;34m=\u001b[0m \u001b[0mself\u001b[0m\u001b[0;34m.\u001b[0m\u001b[0m_sanitize_column\u001b[0m\u001b[0;34m(\u001b[0m\u001b[0mkey\u001b[0m\u001b[0;34m,\u001b[0m \u001b[0mvalue\u001b[0m\u001b[0;34m)\u001b[0m\u001b[0;34m\u001b[0m\u001b[0;34m\u001b[0m\u001b[0m\n\u001b[0m\u001b[1;32m   3121\u001b[0m         \u001b[0mNDFrame\u001b[0m\u001b[0;34m.\u001b[0m\u001b[0m_set_item\u001b[0m\u001b[0;34m(\u001b[0m\u001b[0mself\u001b[0m\u001b[0;34m,\u001b[0m \u001b[0mkey\u001b[0m\u001b[0;34m,\u001b[0m \u001b[0mvalue\u001b[0m\u001b[0;34m)\u001b[0m\u001b[0;34m\u001b[0m\u001b[0;34m\u001b[0m\u001b[0m\n\u001b[1;32m   3122\u001b[0m \u001b[0;34m\u001b[0m\u001b[0m\n",
      "\u001b[0;32m/opt/conda/lib/python3.8/site-packages/pandas/core/frame.py\u001b[0m in \u001b[0;36m_sanitize_column\u001b[0;34m(self, key, value, broadcast)\u001b[0m\n\u001b[1;32m   3766\u001b[0m \u001b[0;34m\u001b[0m\u001b[0m\n\u001b[1;32m   3767\u001b[0m             \u001b[0;31m# turn me into an ndarray\u001b[0m\u001b[0;34m\u001b[0m\u001b[0;34m\u001b[0m\u001b[0;34m\u001b[0m\u001b[0m\n\u001b[0;32m-> 3768\u001b[0;31m             \u001b[0mvalue\u001b[0m \u001b[0;34m=\u001b[0m \u001b[0msanitize_index\u001b[0m\u001b[0;34m(\u001b[0m\u001b[0mvalue\u001b[0m\u001b[0;34m,\u001b[0m \u001b[0mself\u001b[0m\u001b[0;34m.\u001b[0m\u001b[0mindex\u001b[0m\u001b[0;34m)\u001b[0m\u001b[0;34m\u001b[0m\u001b[0;34m\u001b[0m\u001b[0m\n\u001b[0m\u001b[1;32m   3769\u001b[0m             \u001b[0;32mif\u001b[0m \u001b[0;32mnot\u001b[0m \u001b[0misinstance\u001b[0m\u001b[0;34m(\u001b[0m\u001b[0mvalue\u001b[0m\u001b[0;34m,\u001b[0m \u001b[0;34m(\u001b[0m\u001b[0mnp\u001b[0m\u001b[0;34m.\u001b[0m\u001b[0mndarray\u001b[0m\u001b[0;34m,\u001b[0m \u001b[0mIndex\u001b[0m\u001b[0;34m)\u001b[0m\u001b[0;34m)\u001b[0m\u001b[0;34m:\u001b[0m\u001b[0;34m\u001b[0m\u001b[0;34m\u001b[0m\u001b[0m\n\u001b[1;32m   3770\u001b[0m                 \u001b[0;32mif\u001b[0m \u001b[0misinstance\u001b[0m\u001b[0;34m(\u001b[0m\u001b[0mvalue\u001b[0m\u001b[0;34m,\u001b[0m \u001b[0mlist\u001b[0m\u001b[0;34m)\u001b[0m \u001b[0;32mand\u001b[0m \u001b[0mlen\u001b[0m\u001b[0;34m(\u001b[0m\u001b[0mvalue\u001b[0m\u001b[0;34m)\u001b[0m \u001b[0;34m>\u001b[0m \u001b[0;36m0\u001b[0m\u001b[0;34m:\u001b[0m\u001b[0;34m\u001b[0m\u001b[0;34m\u001b[0m\u001b[0m\n",
      "\u001b[0;32m/opt/conda/lib/python3.8/site-packages/pandas/core/internals/construction.py\u001b[0m in \u001b[0;36msanitize_index\u001b[0;34m(data, index)\u001b[0m\n\u001b[1;32m    745\u001b[0m     \"\"\"\n\u001b[1;32m    746\u001b[0m     \u001b[0;32mif\u001b[0m \u001b[0mlen\u001b[0m\u001b[0;34m(\u001b[0m\u001b[0mdata\u001b[0m\u001b[0;34m)\u001b[0m \u001b[0;34m!=\u001b[0m \u001b[0mlen\u001b[0m\u001b[0;34m(\u001b[0m\u001b[0mindex\u001b[0m\u001b[0;34m)\u001b[0m\u001b[0;34m:\u001b[0m\u001b[0;34m\u001b[0m\u001b[0;34m\u001b[0m\u001b[0m\n\u001b[0;32m--> 747\u001b[0;31m         raise ValueError(\n\u001b[0m\u001b[1;32m    748\u001b[0m             \u001b[0;34m\"Length of values \"\u001b[0m\u001b[0;34m\u001b[0m\u001b[0;34m\u001b[0m\u001b[0m\n\u001b[1;32m    749\u001b[0m             \u001b[0;34mf\"({len(data)}) \"\u001b[0m\u001b[0;34m\u001b[0m\u001b[0;34m\u001b[0m\u001b[0m\n",
      "\u001b[0;31mValueError\u001b[0m: Length of values (5) does not match length of index (12600)"
     ]
    }
   ],
   "metadata": {}
  },
  {
   "cell_type": "code",
   "execution_count": 198,
   "source": [
    "submission"
   ],
   "outputs": [
    {
     "output_type": "execute_result",
     "data": {
      "text/plain": [
       "                                            ImageID  ans\n",
       "0      cbc5c6e168e63498590db46022617123f1fe1268.jpg   13\n",
       "1      0e72482bf56b3581c081f7da2a6180b8792c7089.jpg    1\n",
       "2      b549040c49190cedc41327748aeb197c1670f14d.jpg   13\n",
       "3      4f9cb2a045c6d5b9e50ad3459ea7b791eb6e18bc.jpg   13\n",
       "4      248428d9a4a5b6229a7081c32851b90cb8d38d0c.jpg   12\n",
       "...                                             ...  ...\n",
       "12595  d71d4570505d6af8f777690e63edfa8d85ea4476.jpg    1\n",
       "12596  6cf1300e8e218716728d5820c0bab553306c2cfd.jpg    4\n",
       "12597  8140edbba31c3a824e817e6d5fb95343199e2387.jpg    9\n",
       "12598  030d439efe6fb5a7bafda45a393fc19f2bf57f54.jpg    1\n",
       "12599  f1e0b9594ae9f72571f0a9dc67406ad41f2edab0.jpg    7\n",
       "\n",
       "[12600 rows x 2 columns]"
      ],
      "text/html": [
       "<div>\n",
       "<style scoped>\n",
       "    .dataframe tbody tr th:only-of-type {\n",
       "        vertical-align: middle;\n",
       "    }\n",
       "\n",
       "    .dataframe tbody tr th {\n",
       "        vertical-align: top;\n",
       "    }\n",
       "\n",
       "    .dataframe thead th {\n",
       "        text-align: right;\n",
       "    }\n",
       "</style>\n",
       "<table border=\"1\" class=\"dataframe\">\n",
       "  <thead>\n",
       "    <tr style=\"text-align: right;\">\n",
       "      <th></th>\n",
       "      <th>ImageID</th>\n",
       "      <th>ans</th>\n",
       "    </tr>\n",
       "  </thead>\n",
       "  <tbody>\n",
       "    <tr>\n",
       "      <th>0</th>\n",
       "      <td>cbc5c6e168e63498590db46022617123f1fe1268.jpg</td>\n",
       "      <td>13</td>\n",
       "    </tr>\n",
       "    <tr>\n",
       "      <th>1</th>\n",
       "      <td>0e72482bf56b3581c081f7da2a6180b8792c7089.jpg</td>\n",
       "      <td>1</td>\n",
       "    </tr>\n",
       "    <tr>\n",
       "      <th>2</th>\n",
       "      <td>b549040c49190cedc41327748aeb197c1670f14d.jpg</td>\n",
       "      <td>13</td>\n",
       "    </tr>\n",
       "    <tr>\n",
       "      <th>3</th>\n",
       "      <td>4f9cb2a045c6d5b9e50ad3459ea7b791eb6e18bc.jpg</td>\n",
       "      <td>13</td>\n",
       "    </tr>\n",
       "    <tr>\n",
       "      <th>4</th>\n",
       "      <td>248428d9a4a5b6229a7081c32851b90cb8d38d0c.jpg</td>\n",
       "      <td>12</td>\n",
       "    </tr>\n",
       "    <tr>\n",
       "      <th>...</th>\n",
       "      <td>...</td>\n",
       "      <td>...</td>\n",
       "    </tr>\n",
       "    <tr>\n",
       "      <th>12595</th>\n",
       "      <td>d71d4570505d6af8f777690e63edfa8d85ea4476.jpg</td>\n",
       "      <td>1</td>\n",
       "    </tr>\n",
       "    <tr>\n",
       "      <th>12596</th>\n",
       "      <td>6cf1300e8e218716728d5820c0bab553306c2cfd.jpg</td>\n",
       "      <td>4</td>\n",
       "    </tr>\n",
       "    <tr>\n",
       "      <th>12597</th>\n",
       "      <td>8140edbba31c3a824e817e6d5fb95343199e2387.jpg</td>\n",
       "      <td>9</td>\n",
       "    </tr>\n",
       "    <tr>\n",
       "      <th>12598</th>\n",
       "      <td>030d439efe6fb5a7bafda45a393fc19f2bf57f54.jpg</td>\n",
       "      <td>1</td>\n",
       "    </tr>\n",
       "    <tr>\n",
       "      <th>12599</th>\n",
       "      <td>f1e0b9594ae9f72571f0a9dc67406ad41f2edab0.jpg</td>\n",
       "      <td>7</td>\n",
       "    </tr>\n",
       "  </tbody>\n",
       "</table>\n",
       "<p>12600 rows × 2 columns</p>\n",
       "</div>"
      ]
     },
     "metadata": {},
     "execution_count": 198
    }
   ],
   "metadata": {}
  }
 ],
 "metadata": {
  "kernelspec": {
   "display_name": "Python 3 (ipykernel)",
   "language": "python",
   "name": "python3"
  },
  "language_info": {
   "codemirror_mode": {
    "name": "ipython",
    "version": 3
   },
   "file_extension": ".py",
   "mimetype": "text/x-python",
   "name": "python",
   "nbconvert_exporter": "python",
   "pygments_lexer": "ipython3",
   "version": "3.8.5"
  }
 },
 "nbformat": 4,
 "nbformat_minor": 5
}