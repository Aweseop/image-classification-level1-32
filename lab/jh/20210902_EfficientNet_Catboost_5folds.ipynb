{
 "cells": [
  {
   "cell_type": "code",
   "execution_count": 1,
   "source": [
    "import os\n",
    "import sys\n",
    "from glob import glob\n",
    "import numpy as np\n",
    "import pandas as pd\n",
    "import cv2\n",
    "from PIL import Image\n",
    "from tqdm.notebook import tqdm\n",
    "from time import time\n",
    "import pickle\n",
    "import math\n",
    "import timm\n",
    "\n",
    "import matplotlib.pyplot as plt\n",
    "import seaborn as sns\n",
    "import multiprocessing as mp\n",
    "\n",
    "import torch\n",
    "import torch.nn as nn\n",
    "import torch.nn.functional as F\n",
    "from torch.utils.data import Dataset, DataLoader\n",
    "\n",
    "from torchvision import transforms, models\n",
    "from torchvision.transforms import Resize, ToTensor, Normalize\n",
    "\n",
    "import warnings\n",
    "warnings.filterwarnings('ignore')\n",
    "\n",
    "import random\n",
    "# Set random seed\n",
    "SEED = 32\n",
    "random.seed(SEED)\n",
    "np.random.seed(SEED)\n",
    "os.environ[\"PYTHONHASHSEED\"] = str(SEED)\n",
    "torch.manual_seed(SEED)\n",
    "torch.cuda.manual_seed(SEED)  # type: ignore\n",
    "torch.backends.cudnn.deterministic = True  # type: ignore\n",
    "torch.backends.cudnn.benchmark = True  # type: ignore\n",
    "\n",
    "from sklearn.metrics import f1_score"
   ],
   "outputs": [],
   "metadata": {}
  },
  {
   "cell_type": "markdown",
   "source": [
    "# dataset"
   ],
   "metadata": {}
  },
  {
   "cell_type": "code",
   "execution_count": 2,
   "source": [
    "class cfg:\n",
    "    data_dir = '/opt/ml/input/data/train'\n",
    "    img_dir = f'{data_dir}/images'\n",
    "    df_path = f'{data_dir}/train.csv'\n",
    "\n",
    "# 데이터프레임 -> 데이터셋\n",
    "class CustomDatasetFromDF(Dataset):\n",
    "    def __init__(self, DataFrame):\n",
    "        # Transforms\n",
    "        self.to_tensor = transforms.Compose([\n",
    "                                             transforms.ToTensor()])\n",
    "        self.data_info = DataFrame\n",
    "        # First column contains the image paths\n",
    "        self.image_arr = np.asarray(self.data_info.loc[:, 'imageFile'])\n",
    "        # Second column is the labels\n",
    "        self.label_arr = np.asarray(self.data_info.loc[:, 'allcate'])\n",
    "        # Third column is for an operation indicator\n",
    "        # self.operation_arr = np.asarray(self.data_info.iloc[:, 2])\n",
    "        # Calculate len\n",
    "        self.data_len = len(self.data_info.index)\n",
    "\n",
    "    def __getitem__(self, index):\n",
    "        # Get image name from the pandas df\n",
    "        single_image_name = self.image_arr[index]\n",
    "        # Open image\n",
    "        img_as_img = Image.open(single_image_name)\n",
    "\n",
    "        # Check if there is an operation\n",
    "        # some_operation = self.operation_arr[index]\n",
    "        # If there is an operation\n",
    "        # if some_operation:\n",
    "            # Do some operation on image\n",
    "            # ...\n",
    "            # ...\n",
    "        #    pass\n",
    "        # Transform image to tensor\n",
    "        img_as_tensor = self.to_tensor(img_as_img)\n",
    "\n",
    "        # Get label(class) of the image based on the cropped pandas column\n",
    "        single_image_label = self.label_arr[index]\n",
    "\n",
    "        return (img_as_tensor, single_image_label)\n",
    "\n",
    "    def __len__(self):\n",
    "        return self.data_len"
   ],
   "outputs": [],
   "metadata": {}
  },
  {
   "cell_type": "code",
   "execution_count": 3,
   "source": [
    "with open(f'{cfg.data_dir}/df_0825.pickle', 'rb') as f:\n",
    "    df = pickle.load(f)"
   ],
   "outputs": [],
   "metadata": {}
  },
  {
   "cell_type": "code",
   "execution_count": 4,
   "source": [
    "class F1Loss(nn.Module):\n",
    "    def __init__(self, classes=18, epsilon=1e-7):\n",
    "        super().__init__()\n",
    "        self.classes = classes\n",
    "        self.epsilon = epsilon\n",
    "    def forward(self, y_pred, y_true):\n",
    "        assert y_pred.ndim == 2\n",
    "        assert y_true.ndim == 1\n",
    "        y_true = F.one_hot(y_true, self.classes).to(torch.float32)\n",
    "        y_pred = F.softmax(y_pred, dim=1)\n",
    "\n",
    "        tp = (y_true * y_pred).sum(dim=0).to(torch.float32)\n",
    "        tn = ((1 - y_true) * (1 - y_pred)).sum(dim=0).to(torch.float32)\n",
    "        fp = ((1 - y_true) * y_pred).sum(dim=0).to(torch.float32)\n",
    "        fn = (y_true * (1 - y_pred)).sum(dim=0).to(torch.float32)\n",
    "\n",
    "        precision = tp / (tp + fp + self.epsilon)\n",
    "        recall = tp / (tp + fn + self.epsilon)\n",
    "\n",
    "        f1 = 2 * (precision * recall) / (precision + recall + self.epsilon)\n",
    "        f1 = f1.clamp(min=self.epsilon, max=1 - self.epsilon)\n",
    "        return 1 - f1.mean()"
   ],
   "outputs": [],
   "metadata": {}
  },
  {
   "cell_type": "code",
   "execution_count": 4,
   "source": [
    "# 5 - fold cross validation\n",
    "from sklearn.model_selection import StratifiedKFold\n",
    "\n",
    "skf = StratifiedKFold(n_splits=5, shuffle=True, random_state=42)\n",
    "folds = []\n",
    "for train_idx, valid_idx in skf.split(df, df['allcate']):\n",
    "    folds.append((train_idx, valid_idx))"
   ],
   "outputs": [],
   "metadata": {}
  },
  {
   "cell_type": "code",
   "execution_count": 5,
   "source": [
    "# 동일한 기본값 설정\n",
    "train_data = CustomDatasetFromDF(df.iloc[folds[0][0]])\n",
    "valid_data = CustomDatasetFromDF(df.iloc[folds[0][1]])\n",
    "\n",
    "# Mnist Dataset을 DataLoader에 붙이기\n",
    "BATCH_SIZE = 16\n",
    "train_dataloader = torch.utils.data.DataLoader(train_data, batch_size=BATCH_SIZE, shuffle=True, num_workers=4)\n",
    "valid_dataloader = torch.utils.data.DataLoader(valid_data, batch_size=BATCH_SIZE, shuffle=False, num_workers=4)\n",
    "\n",
    "LEARNING_RATE = 0.0001 # 학습 때 사용하는 optimizer의 학습률 옵션 설정\n",
    "NUM_EPOCH = 5 # 학습 때 mnist train 데이터 셋을 얼마나 많이 학습할지 결정하는 옵션\n",
    "\n",
    "loss_fn = torch.nn.CrossEntropyLoss() # 분류 학습 때 많이 사용되는 Cross entropy loss를 objective function으로 사용 - https://en.wikipedia.org/wiki/Cross_entropy\n",
    "# optimizer = torch.optim.Adam(target_model.parameters(), lr=LEARNING_RATE) # weight 업데이트를 위한 optimizer를 Adam으로 사용함\n",
    "\n",
    "dataloaders = {\n",
    "    \"train\" : train_dataloader,\n",
    "    \"test\" : valid_dataloader\n",
    "}"
   ],
   "outputs": [],
   "metadata": {}
  },
  {
   "cell_type": "markdown",
   "source": [
    "# 모델 정의"
   ],
   "metadata": {}
  },
  {
   "cell_type": "markdown",
   "source": [
    "## ResNet50"
   ],
   "metadata": {}
  },
  {
   "cell_type": "code",
   "execution_count": 8,
   "source": [
    "# Custom Model Template\n",
    "class Resnet50(nn.Module):\n",
    "    def __init__(self, num_classes):\n",
    "        super().__init__()\n",
    "\n",
    "        \"\"\"\n",
    "        1. 위와 같이 생성자의 parameter 에 num_claases 를 포함해주세요.\n",
    "        2. 나만의 모델 아키텍쳐를 디자인 해봅니다.\n",
    "        3. 모델의 output_dimension 은 num_classes 로 설정해주세요.\n",
    "        \"\"\"\n",
    "\n",
    "        self.resnet50 = models.resnet50(pretrained=True)\n",
    "        self.resnet50.fc = torch.nn.Linear(in_features=2048, out_features=num_classes, bias=True)\n",
    "        nn.init.xavier_uniform_(self.resnet50.fc.weight)\n",
    "        stdv =  1 / math.sqrt(self.resnet50.fc.in_features)\n",
    "        self.resnet50.fc.bias.data.uniform_(-stdv, stdv)\n",
    "\n",
    "    def forward(self, x):\n",
    "        \"\"\"\n",
    "        1. 위에서 정의한 모델 아키텍쳐를 forward propagation 을 진행해주세요\n",
    "        2. 결과로 나온 output 을 return 해주세요\n",
    "        \"\"\"\n",
    "        x = self.resnet50(x)\n",
    "        return x"
   ],
   "outputs": [],
   "metadata": {}
  },
  {
   "cell_type": "markdown",
   "source": [
    "## EfficientNet b0"
   ],
   "metadata": {}
  },
  {
   "cell_type": "code",
   "execution_count": 43,
   "source": [
    "# Custom Model Template\n",
    "class EfficientNet_b0(nn.Module):\n",
    "    def __init__(self, num_classes):\n",
    "        super().__init__()\n",
    "\n",
    "        \"\"\"\n",
    "        1. 위와 같이 생성자의 parameter 에 num_claases 를 포함해주세요.\n",
    "        2. 나만의 모델 아키텍쳐를 디자인 해봅니다.\n",
    "        3. 모델의 output_dimension 은 num_classes 로 설정해주세요.\n",
    "        \"\"\"\n",
    "\n",
    "        self.model = timm.create_model('tf_efficientnet_b0', pretrained = True)\n",
    "        self.model.classifier = nn.Linear(in_features=1280, out_features=num_classes, bias=True)\n",
    "        nn.init.xavier_uniform_(self.model.classifier.weight)\n",
    "        stdv =  1 / math.sqrt(self.model.classifier.in_features)\n",
    "        self.model.classifier.bias.data.uniform_(-stdv, stdv)\n",
    "\n",
    "\n",
    "    def forward(self, x):\n",
    "        \"\"\"\n",
    "        1. 위에서 정의한 모델 아키텍쳐를 forward propagation 을 진행해주세요\n",
    "        2. 결과로 나온 output 을 return 해주세요\n",
    "        \"\"\"\n",
    "        x = self.model(x)\n",
    "        return x"
   ],
   "outputs": [],
   "metadata": {}
  },
  {
   "cell_type": "markdown",
   "source": [
    "## EfficientNet b1"
   ],
   "metadata": {}
  },
  {
   "cell_type": "code",
   "execution_count": 44,
   "source": [
    "# Custom Model Template\n",
    "class EfficientNet_b1(nn.Module):\n",
    "    def __init__(self, num_classes):\n",
    "        super().__init__()\n",
    "\n",
    "        \"\"\"\n",
    "        1. 위와 같이 생성자의 parameter 에 num_claases 를 포함해주세요.\n",
    "        2. 나만의 모델 아키텍쳐를 디자인 해봅니다.\n",
    "        3. 모델의 output_dimension 은 num_classes 로 설정해주세요.\n",
    "        \"\"\"\n",
    "\n",
    "        self.model = timm.create_model('tf_efficientnet_b1', pretrained = True)\n",
    "        self.model.classifier = nn.Linear(in_features=1280, out_features=num_classes, bias=True)\n",
    "        nn.init.xavier_uniform_(self.model.classifier.weight)\n",
    "        stdv =  1 / math.sqrt(self.model.classifier.in_features)\n",
    "        self.model.classifier.bias.data.uniform_(-stdv, stdv)\n",
    "\n",
    "\n",
    "    def forward(self, x):\n",
    "        \"\"\"\n",
    "        1. 위에서 정의한 모델 아키텍쳐를 forward propagation 을 진행해주세요\n",
    "        2. 결과로 나온 output 을 return 해주세요\n",
    "        \"\"\"\n",
    "        x = self.model(x)\n",
    "        return x"
   ],
   "outputs": [],
   "metadata": {}
  },
  {
   "cell_type": "markdown",
   "source": [
    "## EfficientNet b2"
   ],
   "metadata": {}
  },
  {
   "cell_type": "code",
   "execution_count": 45,
   "source": [
    "# Custom Model Template\n",
    "class EfficientNet_b2(nn.Module):\n",
    "    def __init__(self, num_classes):\n",
    "        super().__init__()\n",
    "\n",
    "        \"\"\"\n",
    "        1. 위와 같이 생성자의 parameter 에 num_claases 를 포함해주세요.\n",
    "        2. 나만의 모델 아키텍쳐를 디자인 해봅니다.\n",
    "        3. 모델의 output_dimension 은 num_classes 로 설정해주세요.\n",
    "        \"\"\"\n",
    "\n",
    "        self.model = timm.create_model('tf_efficientnet_b2', pretrained = True)\n",
    "        self.model.classifier = nn.Linear(in_features=1408, out_features=num_classes, bias=True)\n",
    "        nn.init.xavier_uniform_(self.model.classifier.weight)\n",
    "        stdv =  1 / math.sqrt(self.model.classifier.in_features)\n",
    "        self.model.classifier.bias.data.uniform_(-stdv, stdv)\n",
    "\n",
    "\n",
    "    def forward(self, x):\n",
    "        \"\"\"\n",
    "        1. 위에서 정의한 모델 아키텍쳐를 forward propagation 을 진행해주세요\n",
    "        2. 결과로 나온 output 을 return 해주세요\n",
    "        \"\"\"\n",
    "        x = self.model(x)\n",
    "        return x"
   ],
   "outputs": [],
   "metadata": {}
  },
  {
   "cell_type": "markdown",
   "source": [
    "## EfficientNet b3"
   ],
   "metadata": {}
  },
  {
   "cell_type": "code",
   "execution_count": 46,
   "source": [
    "# Custom Model Template\n",
    "class EfficientNet_b3(nn.Module):\n",
    "    def __init__(self, num_classes):\n",
    "        super().__init__()\n",
    "\n",
    "        \"\"\"\n",
    "        1. 위와 같이 생성자의 parameter 에 num_claases 를 포함해주세요.\n",
    "        2. 나만의 모델 아키텍쳐를 디자인 해봅니다.\n",
    "        3. 모델의 output_dimension 은 num_classes 로 설정해주세요.\n",
    "        \"\"\"\n",
    "\n",
    "        self.model = timm.create_model('tf_efficientnet_b3', pretrained = True)\n",
    "        self.model.classifier = nn.Linear(in_features=1536, out_features=num_classes, bias=True)\n",
    "        nn.init.xavier_uniform_(self.model.classifier.weight)\n",
    "        stdv =  1 / math.sqrt(self.model.classifier.in_features)\n",
    "        self.model.classifier.bias.data.uniform_(-stdv, stdv)\n",
    "\n",
    "\n",
    "    def forward(self, x):\n",
    "        \"\"\"\n",
    "        1. 위에서 정의한 모델 아키텍쳐를 forward propagation 을 진행해주세요\n",
    "        2. 결과로 나온 output 을 return 해주세요\n",
    "        \"\"\"\n",
    "        x = self.model(x)\n",
    "        return x"
   ],
   "outputs": [],
   "metadata": {}
  },
  {
   "cell_type": "markdown",
   "source": [
    "## EfficientNet b4"
   ],
   "metadata": {}
  },
  {
   "cell_type": "code",
   "execution_count": 148,
   "source": [
    "# Custom Model Template\n",
    "class EfficientNet_b4(nn.Module):\n",
    "    def __init__(self, num_classes):\n",
    "        super().__init__()\n",
    "\n",
    "        \"\"\"\n",
    "        1. 위와 같이 생성자의 parameter 에 num_claases 를 포함해주세요.\n",
    "        2. 나만의 모델 아키텍쳐를 디자인 해봅니다.\n",
    "        3. 모델의 output_dimension 은 num_classes 로 설정해주세요.\n",
    "        \"\"\"\n",
    "\n",
    "        self.model = timm.create_model('tf_efficientnet_b4', pretrained = True)\n",
    "        self.model.classifier = nn.Linear(in_features=1792, out_features=num_classes, bias=True)\n",
    "        nn.init.xavier_uniform_(self.model.classifier.weight)\n",
    "        stdv =  1 / math.sqrt(self.model.classifier.in_features)\n",
    "        self.model.classifier.bias.data.uniform_(-stdv, stdv)\n",
    "\n",
    "\n",
    "    def forward(self, x):\n",
    "        \"\"\"\n",
    "        1. 위에서 정의한 모델 아키텍쳐를 forward propagation 을 진행해주세요\n",
    "        2. 결과로 나온 output 을 return 해주세요\n",
    "        \"\"\"\n",
    "        x = self.model(x)\n",
    "        return x"
   ],
   "outputs": [],
   "metadata": {}
  },
  {
   "cell_type": "markdown",
   "source": [
    "## EfficientNet b5"
   ],
   "metadata": {}
  },
  {
   "cell_type": "code",
   "execution_count": 48,
   "source": [
    "# Custom Model Template\n",
    "class EfficientNet_b5(nn.Module):\n",
    "    def __init__(self, num_classes):\n",
    "        super().__init__()\n",
    "\n",
    "        \"\"\"\n",
    "        1. 위와 같이 생성자의 parameter 에 num_claases 를 포함해주세요.\n",
    "        2. 나만의 모델 아키텍쳐를 디자인 해봅니다.\n",
    "        3. 모델의 output_dimension 은 num_classes 로 설정해주세요.\n",
    "        \"\"\"\n",
    "\n",
    "        self.model = timm.create_model('tf_efficientnet_b5', pretrained = True)\n",
    "        self.model.classifier = nn.Linear(in_features=2048, out_features=num_classes, bias=True)\n",
    "        nn.init.xavier_uniform_(self.model.classifier.weight)\n",
    "        stdv =  1 / math.sqrt(self.model.classifier.in_features)\n",
    "        self.model.classifier.bias.data.uniform_(-stdv, stdv)\n",
    "\n",
    "\n",
    "    def forward(self, x):\n",
    "        \"\"\"\n",
    "        1. 위에서 정의한 모델 아키텍쳐를 forward propagation 을 진행해주세요\n",
    "        2. 결과로 나온 output 을 return 해주세요\n",
    "        \"\"\"\n",
    "        x = self.model(x)\n",
    "        return x"
   ],
   "outputs": [],
   "metadata": {}
  },
  {
   "cell_type": "markdown",
   "source": [
    "## Vision Transformer"
   ],
   "metadata": {}
  },
  {
   "cell_type": "code",
   "execution_count": 49,
   "source": [
    "# Custom Model Template\n",
    "class Vit_large(nn.Module):\n",
    "    def __init__(self, num_classes):\n",
    "        super().__init__()\n",
    "\n",
    "        \"\"\"\n",
    "        1. 위와 같이 생성자의 parameter 에 num_claases 를 포함해주세요.\n",
    "        2. 나만의 모델 아키텍쳐를 디자인 해봅니다.\n",
    "        3. 모델의 output_dimension 은 num_classes 로 설정해주세요.\n",
    "        \"\"\"\n",
    "\n",
    "        self.model = timm.create_model('vit_large_patch16_224', pretrained=True)\n",
    "        self.model.head = nn.Linear(in_features=1024, out_features=num_classes, bias=True)\n",
    "        nn.init.xavier_uniform_(self.model.head.weight)\n",
    "        stdv =  1 / math.sqrt(self.model.head.in_features)\n",
    "        self.model.head.bias.data.uniform_(-stdv, stdv)\n",
    "\n",
    "\n",
    "    def forward(self, x):\n",
    "        \"\"\"\n",
    "        1. 위에서 정의한 모델 아키텍쳐를 forward propagation 을 진행해주세요\n",
    "        2. 결과로 나온 output 을 return 해주세요\n",
    "        \"\"\"\n",
    "        x = self.model(x)\n",
    "        return x"
   ],
   "outputs": [],
   "metadata": {}
  },
  {
   "cell_type": "code",
   "execution_count": 50,
   "source": [
    "# Custom Model Template\n",
    "class Vit_base(nn.Module):\n",
    "    def __init__(self, num_classes):\n",
    "        super().__init__()\n",
    "\n",
    "        \"\"\"\n",
    "        1. 위와 같이 생성자의 parameter 에 num_claases 를 포함해주세요.\n",
    "        2. 나만의 모델 아키텍쳐를 디자인 해봅니다.\n",
    "        3. 모델의 output_dimension 은 num_classes 로 설정해주세요.\n",
    "        \"\"\"\n",
    "\n",
    "        self.model = timm.create_model('vit_base_patch16_224', pretrained=True)\n",
    "        self.model.head = nn.Linear(in_features=768, out_features=num_classes, bias=True)\n",
    "        nn.init.xavier_uniform_(self.model.head.weight)\n",
    "        stdv =  1 / math.sqrt(self.model.head.in_features)\n",
    "        self.model.head.bias.data.uniform_(-stdv, stdv)\n",
    "\n",
    "\n",
    "    def forward(self, x):\n",
    "        \"\"\"\n",
    "        1. 위에서 정의한 모델 아키텍쳐를 forward propagation 을 진행해주세요\n",
    "        2. 결과로 나온 output 을 return 해주세요\n",
    "        \"\"\"\n",
    "        x = self.model(x)\n",
    "        return x"
   ],
   "outputs": [],
   "metadata": {}
  },
  {
   "cell_type": "code",
   "execution_count": 51,
   "source": [
    "# Custom Model Template\n",
    "class Vit_base_resnet50(nn.Module):\n",
    "    def __init__(self, num_classes):\n",
    "        super().__init__()\n",
    "\n",
    "        \"\"\"\n",
    "        1. 위와 같이 생성자의 parameter 에 num_claases 를 포함해주세요.\n",
    "        2. 나만의 모델 아키텍쳐를 디자인 해봅니다.\n",
    "        3. 모델의 output_dimension 은 num_classes 로 설정해주세요.\n",
    "        \"\"\"\n",
    "\n",
    "        self.model = timm.create_model('vit_base_resnet50_384', pretrained=True)\n",
    "        self.model.head = nn.Linear(in_features=768, out_features=num_classes, bias=True)\n",
    "        nn.init.xavier_uniform_(self.model.head.weight)\n",
    "        stdv =  1 / math.sqrt(self.model.head.in_features)\n",
    "        self.model.head.bias.data.uniform_(-stdv, stdv)\n",
    "\n",
    "\n",
    "    def forward(self, x):\n",
    "        \"\"\"\n",
    "        1. 위에서 정의한 모델 아키텍쳐를 forward propagation 을 진행해주세요\n",
    "        2. 결과로 나온 output 을 return 해주세요\n",
    "        \"\"\"\n",
    "        x = self.model(x)\n",
    "        return x"
   ],
   "outputs": [],
   "metadata": {}
  },
  {
   "cell_type": "markdown",
   "source": [
    "## EfficientNet pruned"
   ],
   "metadata": {}
  },
  {
   "cell_type": "code",
   "execution_count": 48,
   "source": [
    "# Custom Model Template\n",
    "class efficientnet_b1_pruned(nn.Module):\n",
    "    def __init__(self, num_classes):\n",
    "        super().__init__()\n",
    "\n",
    "        \"\"\"\n",
    "        1. 위와 같이 생성자의 parameter 에 num_claases 를 포함해주세요.\n",
    "        2. 나만의 모델 아키텍쳐를 디자인 해봅니다.\n",
    "        3. 모델의 output_dimension 은 num_classes 로 설정해주세요.\n",
    "        \"\"\"\n",
    "\n",
    "        self.model = timm.create_model('efficientnet_b1_pruned', pretrained=True)\n",
    "        self.model.classifier = nn.Linear(in_features=1280, out_features=num_classes, bias=True)\n",
    "        nn.init.xavier_uniform_(self.model.classifier.weight)\n",
    "        stdv =  1 / math.sqrt(self.model.classifier.in_features)\n",
    "        self.model.classifier.bias.data.uniform_(-stdv, stdv)\n",
    "\n",
    "\n",
    "    def forward(self, x):\n",
    "        \"\"\"\n",
    "        1. 위에서 정의한 모델 아키텍쳐를 forward propagation 을 진행해주세요\n",
    "        2. 결과로 나온 output 을 return 해주세요\n",
    "        \"\"\"\n",
    "        x = self.model(x)\n",
    "        return x"
   ],
   "outputs": [],
   "metadata": {}
  },
  {
   "cell_type": "code",
   "execution_count": 53,
   "source": [
    "# Custom Model Template\n",
    "class efficientnet_b2_pruned(nn.Module):\n",
    "    def __init__(self, num_classes):\n",
    "        super().__init__()\n",
    "\n",
    "        \"\"\"\n",
    "        1. 위와 같이 생성자의 parameter 에 num_claases 를 포함해주세요.\n",
    "        2. 나만의 모델 아키텍쳐를 디자인 해봅니다.\n",
    "        3. 모델의 output_dimension 은 num_classes 로 설정해주세요.\n",
    "        \"\"\"\n",
    "\n",
    "        self.model = timm.create_model('efficientnet_b2_pruned', pretrained=True)\n",
    "        self.model.classifier = nn.Linear(in_features=1408, out_features=num_classes, bias=True)\n",
    "        nn.init.xavier_uniform_(self.model.classifier.weight)\n",
    "        stdv =  1 / math.sqrt(self.model.classifier.in_features)\n",
    "        self.model.classifier.bias.data.uniform_(-stdv, stdv)\n",
    "\n",
    "\n",
    "    def forward(self, x):\n",
    "        \"\"\"\n",
    "        1. 위에서 정의한 모델 아키텍쳐를 forward propagation 을 진행해주세요\n",
    "        2. 결과로 나온 output 을 return 해주세요\n",
    "        \"\"\"\n",
    "        x = self.model(x)\n",
    "        return x"
   ],
   "outputs": [],
   "metadata": {}
  },
  {
   "cell_type": "code",
   "execution_count": 54,
   "source": [
    "# Custom Model Template\n",
    "class efficientnet_b3_pruned(nn.Module):\n",
    "    def __init__(self, num_classes):\n",
    "        super().__init__()\n",
    "\n",
    "        \"\"\"\n",
    "        1. 위와 같이 생성자의 parameter 에 num_claases 를 포함해주세요.\n",
    "        2. 나만의 모델 아키텍쳐를 디자인 해봅니다.\n",
    "        3. 모델의 output_dimension 은 num_classes 로 설정해주세요.\n",
    "        \"\"\"\n",
    "\n",
    "        self.model = timm.create_model('efficientnet_b3_pruned', pretrained=True)\n",
    "        self.model.classifier = nn.Linear(in_features=1536, out_features=num_classes, bias=True)\n",
    "        nn.init.xavier_uniform_(self.model.classifier.weight)\n",
    "        stdv =  1 / math.sqrt(self.model.classifier.in_features)\n",
    "        self.model.classifier.bias.data.uniform_(-stdv, stdv)\n",
    "\n",
    "\n",
    "    def forward(self, x):\n",
    "        \"\"\"\n",
    "        1. 위에서 정의한 모델 아키텍쳐를 forward propagation 을 진행해주세요\n",
    "        2. 결과로 나온 output 을 return 해주세요\n",
    "        \"\"\"\n",
    "        x = self.model(x)\n",
    "        return x"
   ],
   "outputs": [],
   "metadata": {}
  },
  {
   "cell_type": "markdown",
   "source": [
    "# 학습"
   ],
   "metadata": {}
  },
  {
   "cell_type": "code",
   "execution_count": 216,
   "source": [
    "def training(Model):\n",
    "    device = torch.device(\"cuda\" if torch.cuda.is_available() else \"cpu\")\n",
    "    \n",
    "    CLASS_NUM = 18\n",
    "    BATCH_SIZE = 16\n",
    "    LEARNING_RATE = 0.0001\n",
    "    NUM_EPOCH = 5\n",
    "    \n",
    "    target_model = Model\n",
    "    target_model.to(device)\n",
    "\n",
    "    train_data = CustomDatasetFromDF(df.iloc[fold[0]])\n",
    "    valid_data = CustomDatasetFromDF(df.iloc[fold[1]])\n",
    "\n",
    "    # Mnist Dataset을 DataLoader에 붙이기\n",
    "    train_dataloader = torch.utils.data.DataLoader(train_data, batch_size=BATCH_SIZE, shuffle=True, num_workers=4)\n",
    "    valid_dataloader = torch.utils.data.DataLoader(valid_data, batch_size=BATCH_SIZE, shuffle=False, num_workers=4)\n",
    "\n",
    "    loss_fn = torch.nn.CrossEntropyLoss()\n",
    "    optimizer = torch.optim.Adam(target_model.parameters(), lr=LEARNING_RATE)\n",
    "\n",
    "    dataloaders = {\n",
    "        \"train\" : train_dataloader,\n",
    "        \"test\" : valid_dataloader\n",
    "    }\n",
    "    ### 학습 코드 시작\n",
    "    best_test_accuracy = 0.\n",
    "    best_test_f1score = 0.\n",
    "    best_test_loss = 1.\n",
    "\n",
    "\n",
    "    for epoch in range(NUM_EPOCH):\n",
    "      for phase in [\"train\", \"test\"]:\n",
    "        running_loss = 0.\n",
    "        running_acc = 0.\n",
    "        running_f1 = 0.\n",
    "        if phase == \"train\":\n",
    "          target_model.train() # 네트워크 모델을 train 모드로 두어 gradient을 계산하고, 여러 sub module (배치 정규화, 드롭아웃 등)이 train mode로 작동할 수 있도록 함\n",
    "        elif phase == \"test\":\n",
    "          target_model.eval() # 네트워크 모델을 eval 모드 두어 여러 sub module들이 eval mode로 작동할 수 있게 함\n",
    "\n",
    "        for ind, (images, labels) in enumerate(tqdm(dataloaders[phase])):\n",
    "          # (참고.해보기) 현재 tqdm으로 출력되는 것이 단순히 진행 상황 뿐인데 현재 epoch, running_loss와 running_acc을 출력하려면 어떻게 할 수 있는지 tqdm 문서를 보고 해봅시다!\n",
    "          # hint - with, pbar\n",
    "          images = images.to(device)\n",
    "          labels = labels.to(device)\n",
    "\n",
    "          optimizer.zero_grad() # parameter gradient를 업데이트 전 초기화함\n",
    "\n",
    "          with torch.set_grad_enabled(phase == \"train\"): # train 모드일 시에는 gradient를 계산하고, 아닐 때는 gradient를 계산하지 않아 연산량 최소화\n",
    "            logits = target_model(images)\n",
    "            _, preds = torch.max(logits, 1) # 모델에서 linear 값으로 나오는 예측 값 ([0.9,1.2, 3.2,0.1,-0.1,...])을 최대 output index를 찾아 예측 레이블([2])로 변경함  \n",
    "            loss = loss_fn(logits, labels)\n",
    "\n",
    "            y_true = F.one_hot(labels, 18).to(torch.float32)\n",
    "            y_pred = logits\n",
    "\n",
    "            tp = (y_true * y_pred).sum(dim=0).to(torch.float32)\n",
    "            tn = ((1 - y_true) * (1 - y_pred)).sum(dim=0).to(torch.float32)\n",
    "            fp = ((1 - y_true) * y_pred).sum(dim=0).to(torch.float32)\n",
    "            fn = (y_true * (1 - y_pred)).sum(dim=0).to(torch.float32)\n",
    "\n",
    "            precision = tp / (tp + fp + 1e-7)\n",
    "            recall = tp / (tp + fn + 1e-7)\n",
    "\n",
    "            f1 = 2 * (precision * recall) / (precision + recall + 1e-7)\n",
    "            f1 = f1.clamp(min=1e-7, max=1 - 1e-7)\n",
    "\n",
    "            if phase == \"train\":\n",
    "              loss.backward() # 모델의 예측 값과 실제 값의 CrossEntropy 차이를 통해 gradient 계산\n",
    "              optimizer.step() # 계산된 gradient를 가지고 모델 업데이트\n",
    "\n",
    "          running_loss += loss.item() * images.size(0) # 한 Batch에서의 loss 값 저장\n",
    "          running_acc += torch.sum(preds == labels.data) # 한 Batch에서의 Accuracy 값 저장\n",
    "          running_f1 += f1.mean()\n",
    "\n",
    "\n",
    "\n",
    "        # 한 epoch이 모두 종료되었을 때,\n",
    "        epoch_loss = running_loss / len(dataloaders[phase].dataset)\n",
    "        epoch_acc = running_acc / len(dataloaders[phase].dataset)\n",
    "        epoch_f1 = running_f1 / len(dataloaders[phase])\n",
    "\n",
    "        print(f\"현재 epoch-{epoch}의 {phase}-데이터 셋에서 평균 loss : {epoch_loss:.3f}, 평균 f1 Score: {epoch_f1:.3f}, 평균 Accuracy : {epoch_acc:.3f}\")\n",
    "        if phase == \"test\" and best_test_loss > epoch_loss: # phase가 test일 때, best loss 계산\n",
    "          print('Get best model!')\n",
    "          best_test_loss = epoch_loss\n",
    "          best_test_accuracy = epoch_acc\n",
    "          best_test_f1score = epoch_f1\n",
    "          best_model = target_model\n",
    "\n",
    "    print(\"학습 종료!\")\n",
    "    print(f\"최고 accuracy : {best_test_accuracy}, 최고 낮은 loss : {best_test_loss}, 최고 f1 score : {best_test_f1score}\")\n",
    "\n",
    "    return best_model"
   ],
   "outputs": [],
   "metadata": {}
  },
  {
   "cell_type": "code",
   "execution_count": 217,
   "source": [
    "# efficientnet_b4, 5-fold ensemble 용\n",
    "def training_b4():\n",
    "    Models = {}\n",
    "    device = torch.device(\"cuda\" if torch.cuda.is_available() else \"cpu\")\n",
    "    \n",
    "    CLASS_NUM = 18\n",
    "    BATCH_SIZE = 16\n",
    "    LEARNING_RATE = 0.0001\n",
    "    NUM_EPOCH = 5\n",
    "    \n",
    "    for idx, fold in enumerate(folds):\n",
    "        target_model = timm.create_model('tf_efficientnet_b4', pretrained = True)\n",
    "        target_model.classifier = nn.Linear(in_features=1792, out_features=CLASS_NUM, bias=True)\n",
    "        nn.init.xavier_uniform_(target_model.classifier.weight)\n",
    "        stdv =  1 / math.sqrt(target_model.classifier.in_features)\n",
    "        target_model.classifier.bias.data.uniform_(-stdv, stdv)\n",
    "        target_model.to(device)\n",
    "        \n",
    "        train_data = CustomDatasetFromDF(df.iloc[fold[0]])\n",
    "        valid_data = CustomDatasetFromDF(df.iloc[fold[1]])\n",
    "\n",
    "        # Mnist Dataset을 DataLoader에 붙이기\n",
    "        train_dataloader = torch.utils.data.DataLoader(train_data, batch_size=BATCH_SIZE, shuffle=True, num_workers=4)\n",
    "        valid_dataloader = torch.utils.data.DataLoader(valid_data, batch_size=BATCH_SIZE, shuffle=False, num_workers=4)\n",
    "\n",
    "        loss_fn = torch.nn.CrossEntropyLoss()\n",
    "        optimizer = torch.optim.Adam(target_model.parameters(), lr=LEARNING_RATE)\n",
    "\n",
    "        dataloaders = {\n",
    "            \"train\" : train_dataloader,\n",
    "            \"test\" : valid_dataloader\n",
    "        }\n",
    "        ### 학습 코드 시작\n",
    "        best_test_accuracy = 0.\n",
    "        best_test_f1score = 0.\n",
    "        best_test_loss = 1.\n",
    "\n",
    "\n",
    "        for epoch in range(NUM_EPOCH):\n",
    "          for phase in [\"train\", \"test\"]:\n",
    "            running_loss = 0.\n",
    "            running_acc = 0.\n",
    "            running_f1 = 0.\n",
    "            if phase == \"train\":\n",
    "              target_model.train() # 네트워크 모델을 train 모드로 두어 gradient을 계산하고, 여러 sub module (배치 정규화, 드롭아웃 등)이 train mode로 작동할 수 있도록 함\n",
    "            elif phase == \"test\":\n",
    "              target_model.eval() # 네트워크 모델을 eval 모드 두어 여러 sub module들이 eval mode로 작동할 수 있게 함\n",
    "\n",
    "            for ind, (images, labels) in enumerate(tqdm(dataloaders[phase])):\n",
    "              # (참고.해보기) 현재 tqdm으로 출력되는 것이 단순히 진행 상황 뿐인데 현재 epoch, running_loss와 running_acc을 출력하려면 어떻게 할 수 있는지 tqdm 문서를 보고 해봅시다!\n",
    "              # hint - with, pbar\n",
    "              images = images.to(device)\n",
    "              labels = labels.to(device)\n",
    "\n",
    "              optimizer.zero_grad() # parameter gradient를 업데이트 전 초기화함\n",
    "\n",
    "              with torch.set_grad_enabled(phase == \"train\"): # train 모드일 시에는 gradient를 계산하고, 아닐 때는 gradient를 계산하지 않아 연산량 최소화\n",
    "                logits = target_model(images)\n",
    "                _, preds = torch.max(logits, 1) # 모델에서 linear 값으로 나오는 예측 값 ([0.9,1.2, 3.2,0.1,-0.1,...])을 최대 output index를 찾아 예측 레이블([2])로 변경함  \n",
    "                loss = loss_fn(logits, labels)\n",
    "\n",
    "                y_true = F.one_hot(labels, 18).to(torch.float32)\n",
    "                y_pred = logits\n",
    "\n",
    "                tp = (y_true * y_pred).sum(dim=0).to(torch.float32)\n",
    "                tn = ((1 - y_true) * (1 - y_pred)).sum(dim=0).to(torch.float32)\n",
    "                fp = ((1 - y_true) * y_pred).sum(dim=0).to(torch.float32)\n",
    "                fn = (y_true * (1 - y_pred)).sum(dim=0).to(torch.float32)\n",
    "\n",
    "                precision = tp / (tp + fp + 1e-7)\n",
    "                recall = tp / (tp + fn + 1e-7)\n",
    "\n",
    "                f1 = 2 * (precision * recall) / (precision + recall + 1e-7)\n",
    "                f1 = f1.clamp(min=1e-7, max=1 - 1e-7)\n",
    "\n",
    "                if phase == \"train\":\n",
    "                  loss.backward() # 모델의 예측 값과 실제 값의 CrossEntropy 차이를 통해 gradient 계산\n",
    "                  optimizer.step() # 계산된 gradient를 가지고 모델 업데이트\n",
    "\n",
    "              running_loss += loss.item() * images.size(0) # 한 Batch에서의 loss 값 저장\n",
    "              running_acc += torch.sum(preds == labels.data) # 한 Batch에서의 Accuracy 값 저장\n",
    "              running_f1 += f1.mean()\n",
    "\n",
    "\n",
    "\n",
    "            # 한 epoch이 모두 종료되었을 때,\n",
    "            epoch_loss = running_loss / len(dataloaders[phase].dataset)\n",
    "            epoch_acc = running_acc / len(dataloaders[phase].dataset)\n",
    "            epoch_f1 = running_f1 / len(dataloaders[phase])\n",
    "\n",
    "            print(f\"현재 epoch-{epoch}의 {phase}-데이터 셋에서 평균 loss : {epoch_loss:.3f}, 평균 f1 Score: {epoch_f1:.3f}, 평균 Accuracy : {epoch_acc:.3f}\")\n",
    "            if phase == \"test\" and best_test_loss > epoch_loss: # phase가 test일 때, best loss 계산\n",
    "              print('Get best model!')\n",
    "              best_test_loss = epoch_loss\n",
    "              best_test_accuracy = epoch_acc\n",
    "              best_test_f1score = epoch_f1\n",
    "              best_model = target_model\n",
    "\n",
    "        print(\"학습 종료!\")\n",
    "        print(f\"최고 accuracy : {best_test_accuracy}, 최고 낮은 loss : {best_test_loss}, 최고 f1 score : {best_test_f1score}\")\n",
    "        Models[idx] = best_model\n",
    "    return Models"
   ],
   "outputs": [],
   "metadata": {}
  },
  {
   "cell_type": "markdown",
   "source": [
    "## ResNet"
   ],
   "metadata": {}
  },
  {
   "cell_type": "code",
   "execution_count": 10,
   "source": [
    "training(Resnet50(18))"
   ],
   "outputs": [
    {
     "output_type": "display_data",
     "data": {
      "text/plain": [
       "HBox(children=(HTML(value=''), FloatProgress(value=0.0, max=945.0), HTML(value='')))"
      ],
      "application/vnd.jupyter.widget-view+json": {
       "model_id": "06dd00e8d95f445babdf9b3e51111677",
       "version_major": 2,
       "version_minor": 0
      }
     },
     "metadata": {}
    },
    {
     "output_type": "stream",
     "name": "stdout",
     "text": [
      "\n"
     ]
    },
    {
     "output_type": "error",
     "ename": "KeyboardInterrupt",
     "evalue": "",
     "traceback": [
      "\u001b[0;31m---------------------------------------------------------------------------\u001b[0m",
      "\u001b[0;31mKeyboardInterrupt\u001b[0m                         Traceback (most recent call last)",
      "\u001b[0;32m<ipython-input-10-18cbc7f8e348>\u001b[0m in \u001b[0;36m<module>\u001b[0;34m\u001b[0m\n\u001b[0;32m----> 1\u001b[0;31m \u001b[0mtraining\u001b[0m\u001b[0;34m(\u001b[0m\u001b[0mResnet50\u001b[0m\u001b[0;34m(\u001b[0m\u001b[0;36m18\u001b[0m\u001b[0;34m)\u001b[0m\u001b[0;34m)\u001b[0m\u001b[0;34m\u001b[0m\u001b[0;34m\u001b[0m\u001b[0m\n\u001b[0m",
      "\u001b[0;32m<ipython-input-9-ffe0a6a75a3c>\u001b[0m in \u001b[0;36mtraining\u001b[0;34m(Model)\u001b[0m\n\u001b[1;32m     51\u001b[0m             \u001b[0mloss\u001b[0m \u001b[0;34m=\u001b[0m \u001b[0mloss_fn\u001b[0m\u001b[0;34m(\u001b[0m\u001b[0mlogits\u001b[0m\u001b[0;34m,\u001b[0m \u001b[0mlabels\u001b[0m\u001b[0;34m)\u001b[0m\u001b[0;34m\u001b[0m\u001b[0;34m\u001b[0m\u001b[0m\n\u001b[1;32m     52\u001b[0m \u001b[0;34m\u001b[0m\u001b[0m\n\u001b[0;32m---> 53\u001b[0;31m             \u001b[0my_true\u001b[0m \u001b[0;34m=\u001b[0m \u001b[0mF\u001b[0m\u001b[0;34m.\u001b[0m\u001b[0mone_hot\u001b[0m\u001b[0;34m(\u001b[0m\u001b[0mlabels\u001b[0m\u001b[0;34m,\u001b[0m \u001b[0;36m18\u001b[0m\u001b[0;34m)\u001b[0m\u001b[0;34m.\u001b[0m\u001b[0mto\u001b[0m\u001b[0;34m(\u001b[0m\u001b[0mtorch\u001b[0m\u001b[0;34m.\u001b[0m\u001b[0mfloat32\u001b[0m\u001b[0;34m)\u001b[0m\u001b[0;34m\u001b[0m\u001b[0;34m\u001b[0m\u001b[0m\n\u001b[0m\u001b[1;32m     54\u001b[0m             \u001b[0my_pred\u001b[0m \u001b[0;34m=\u001b[0m \u001b[0mlogits\u001b[0m\u001b[0;34m\u001b[0m\u001b[0;34m\u001b[0m\u001b[0m\n\u001b[1;32m     55\u001b[0m \u001b[0;34m\u001b[0m\u001b[0m\n",
      "\u001b[0;31mKeyboardInterrupt\u001b[0m: "
     ]
    }
   ],
   "metadata": {}
  },
  {
   "cell_type": "markdown",
   "source": [
    "## EfficientNet"
   ],
   "metadata": {}
  },
  {
   "cell_type": "code",
   "execution_count": 72,
   "source": [
    "torch.cuda.empty_cache()\n",
    "training(EfficientNet_b0(18))"
   ],
   "outputs": [
    {
     "output_type": "display_data",
     "data": {
      "text/plain": [
       "HBox(children=(HTML(value=''), FloatProgress(value=0.0, max=945.0), HTML(value='')))"
      ],
      "application/vnd.jupyter.widget-view+json": {
       "model_id": "18a70dfa56064b9395daf4368ba765a2",
       "version_major": 2,
       "version_minor": 0
      }
     },
     "metadata": {}
    },
    {
     "output_type": "stream",
     "name": "stdout",
     "text": [
      "\n",
      "현재 epoch-0의 train-데이터 셋에서 평균 loss : 0.573, 평균 f1 Score: 0.012, 평균 Accuracy : 0.829\n"
     ]
    },
    {
     "output_type": "display_data",
     "data": {
      "text/plain": [
       "HBox(children=(HTML(value=''), FloatProgress(value=0.0, max=237.0), HTML(value='')))"
      ],
      "application/vnd.jupyter.widget-view+json": {
       "model_id": "b9110c290dca491b849cf88fb0ff2113",
       "version_major": 2,
       "version_minor": 0
      }
     },
     "metadata": {}
    },
    {
     "output_type": "stream",
     "name": "stdout",
     "text": [
      "\n",
      "현재 epoch-0의 test-데이터 셋에서 평균 loss : 0.196, 평균 f1 Score: 0.011, 평균 Accuracy : 0.933\n",
      "Get best model!\n"
     ]
    },
    {
     "output_type": "display_data",
     "data": {
      "text/plain": [
       "HBox(children=(HTML(value=''), FloatProgress(value=0.0, max=945.0), HTML(value='')))"
      ],
      "application/vnd.jupyter.widget-view+json": {
       "model_id": "9f6b06a4334a45dd8651b0d97bc13c03",
       "version_major": 2,
       "version_minor": 0
      }
     },
     "metadata": {}
    },
    {
     "output_type": "stream",
     "name": "stdout",
     "text": [
      "\n",
      "현재 epoch-1의 train-데이터 셋에서 평균 loss : 0.160, 평균 f1 Score: 0.013, 평균 Accuracy : 0.948\n"
     ]
    },
    {
     "output_type": "display_data",
     "data": {
      "text/plain": [
       "HBox(children=(HTML(value=''), FloatProgress(value=0.0, max=237.0), HTML(value='')))"
      ],
      "application/vnd.jupyter.widget-view+json": {
       "model_id": "584a33b72b4743f0af74656a8fd006b9",
       "version_major": 2,
       "version_minor": 0
      }
     },
     "metadata": {}
    },
    {
     "output_type": "stream",
     "name": "stdout",
     "text": [
      "\n",
      "현재 epoch-1의 test-데이터 셋에서 평균 loss : 0.117, 평균 f1 Score: 0.011, 평균 Accuracy : 0.957\n",
      "Get best model!\n"
     ]
    },
    {
     "output_type": "display_data",
     "data": {
      "text/plain": [
       "HBox(children=(HTML(value=''), FloatProgress(value=0.0, max=945.0), HTML(value='')))"
      ],
      "application/vnd.jupyter.widget-view+json": {
       "model_id": "ba0c56fb484249818a907c953830505d",
       "version_major": 2,
       "version_minor": 0
      }
     },
     "metadata": {}
    },
    {
     "output_type": "stream",
     "name": "stdout",
     "text": [
      "\n",
      "현재 epoch-2의 train-데이터 셋에서 평균 loss : 0.070, 평균 f1 Score: 0.013, 평균 Accuracy : 0.980\n"
     ]
    },
    {
     "output_type": "display_data",
     "data": {
      "text/plain": [
       "HBox(children=(HTML(value=''), FloatProgress(value=0.0, max=237.0), HTML(value='')))"
      ],
      "application/vnd.jupyter.widget-view+json": {
       "model_id": "2434e10455004bc6857ac060c3b8c84d",
       "version_major": 2,
       "version_minor": 0
      }
     },
     "metadata": {}
    },
    {
     "output_type": "stream",
     "name": "stdout",
     "text": [
      "\n",
      "현재 epoch-2의 test-데이터 셋에서 평균 loss : 0.075, 평균 f1 Score: 0.011, 평균 Accuracy : 0.975\n",
      "Get best model!\n"
     ]
    },
    {
     "output_type": "display_data",
     "data": {
      "text/plain": [
       "HBox(children=(HTML(value=''), FloatProgress(value=0.0, max=945.0), HTML(value='')))"
      ],
      "application/vnd.jupyter.widget-view+json": {
       "model_id": "d148a2da47104fa39f5da57d14e06471",
       "version_major": 2,
       "version_minor": 0
      }
     },
     "metadata": {}
    },
    {
     "output_type": "stream",
     "name": "stdout",
     "text": [
      "\n",
      "현재 epoch-3의 train-데이터 셋에서 평균 loss : 0.040, 평균 f1 Score: 0.012, 평균 Accuracy : 0.988\n"
     ]
    },
    {
     "output_type": "display_data",
     "data": {
      "text/plain": [
       "HBox(children=(HTML(value=''), FloatProgress(value=0.0, max=237.0), HTML(value='')))"
      ],
      "application/vnd.jupyter.widget-view+json": {
       "model_id": "cea6f6c87ec7421ba7dad97d66e5257b",
       "version_major": 2,
       "version_minor": 0
      }
     },
     "metadata": {}
    },
    {
     "output_type": "stream",
     "name": "stdout",
     "text": [
      "\n",
      "현재 epoch-3의 test-데이터 셋에서 평균 loss : 0.060, 평균 f1 Score: 0.011, 평균 Accuracy : 0.981\n",
      "Get best model!\n"
     ]
    },
    {
     "output_type": "display_data",
     "data": {
      "text/plain": [
       "HBox(children=(HTML(value=''), FloatProgress(value=0.0, max=945.0), HTML(value='')))"
      ],
      "application/vnd.jupyter.widget-view+json": {
       "model_id": "a104646ec4ab4dd3ad2726d6f2960041",
       "version_major": 2,
       "version_minor": 0
      }
     },
     "metadata": {}
    },
    {
     "output_type": "stream",
     "name": "stdout",
     "text": [
      "\n",
      "현재 epoch-4의 train-데이터 셋에서 평균 loss : 0.029, 평균 f1 Score: 0.012, 평균 Accuracy : 0.992\n"
     ]
    },
    {
     "output_type": "display_data",
     "data": {
      "text/plain": [
       "HBox(children=(HTML(value=''), FloatProgress(value=0.0, max=237.0), HTML(value='')))"
      ],
      "application/vnd.jupyter.widget-view+json": {
       "model_id": "67467494d7d94e8bb350d2c86f1cb6cf",
       "version_major": 2,
       "version_minor": 0
      }
     },
     "metadata": {}
    },
    {
     "output_type": "stream",
     "name": "stdout",
     "text": [
      "\n",
      "현재 epoch-4의 test-데이터 셋에서 평균 loss : 0.059, 평균 f1 Score: 0.011, 평균 Accuracy : 0.983\n",
      "Get best model!\n",
      "학습 종료!\n",
      "최고 accuracy : 0.9828042387962341, 최고 낮은 loss : 0.05867854012210657, 최고 f1 score : 0.01099776104092598\n"
     ]
    }
   ],
   "metadata": {}
  },
  {
   "cell_type": "code",
   "execution_count": 59,
   "source": [
    "torch.cuda.empty_cache()\n",
    "training(EfficientNet_b1(18))"
   ],
   "outputs": [
    {
     "output_type": "display_data",
     "data": {
      "text/plain": [
       "HBox(children=(HTML(value=''), FloatProgress(value=0.0, max=945.0), HTML(value='')))"
      ],
      "application/vnd.jupyter.widget-view+json": {
       "model_id": "26252cb80f114762af340cc6a7ab2ac9",
       "version_major": 2,
       "version_minor": 0
      }
     },
     "metadata": {}
    },
    {
     "output_type": "stream",
     "name": "stdout",
     "text": [
      "\n",
      "현재 epoch-0의 train-데이터 셋에서 평균 loss : 0.521, 평균 f1 Score: 0.202, 평균 Accuracy : 0.843\n"
     ]
    },
    {
     "output_type": "display_data",
     "data": {
      "text/plain": [
       "HBox(children=(HTML(value=''), FloatProgress(value=0.0, max=237.0), HTML(value='')))"
      ],
      "application/vnd.jupyter.widget-view+json": {
       "model_id": "adfbbb969e9d498bb80f107bf4bf16ad",
       "version_major": 2,
       "version_minor": 0
      }
     },
     "metadata": {}
    },
    {
     "output_type": "stream",
     "name": "stdout",
     "text": [
      "\n",
      "현재 epoch-0의 test-데이터 셋에서 평균 loss : 0.172, 평균 f1 Score: 0.183, 평균 Accuracy : 0.938\n",
      "Get best model!\n"
     ]
    },
    {
     "output_type": "display_data",
     "data": {
      "text/plain": [
       "HBox(children=(HTML(value=''), FloatProgress(value=0.0, max=945.0), HTML(value='')))"
      ],
      "application/vnd.jupyter.widget-view+json": {
       "model_id": "ffc56ea9fb0c4ae3b0e9d586c059627d",
       "version_major": 2,
       "version_minor": 0
      }
     },
     "metadata": {}
    },
    {
     "output_type": "stream",
     "name": "stdout",
     "text": [
      "\n",
      "현재 epoch-1의 train-데이터 셋에서 평균 loss : 0.143, 평균 f1 Score: 0.205, 평균 Accuracy : 0.954\n"
     ]
    },
    {
     "output_type": "display_data",
     "data": {
      "text/plain": [
       "HBox(children=(HTML(value=''), FloatProgress(value=0.0, max=237.0), HTML(value='')))"
      ],
      "application/vnd.jupyter.widget-view+json": {
       "model_id": "b17fd5a8900f4987a488946e717493e6",
       "version_major": 2,
       "version_minor": 0
      }
     },
     "metadata": {}
    },
    {
     "output_type": "stream",
     "name": "stdout",
     "text": [
      "\n",
      "현재 epoch-1의 test-데이터 셋에서 평균 loss : 0.094, 평균 f1 Score: 0.188, 평균 Accuracy : 0.969\n",
      "Get best model!\n"
     ]
    },
    {
     "output_type": "display_data",
     "data": {
      "text/plain": [
       "HBox(children=(HTML(value=''), FloatProgress(value=0.0, max=945.0), HTML(value='')))"
      ],
      "application/vnd.jupyter.widget-view+json": {
       "model_id": "b1f9252cfd604c3b920052f7a4c157c6",
       "version_major": 2,
       "version_minor": 0
      }
     },
     "metadata": {}
    },
    {
     "output_type": "stream",
     "name": "stdout",
     "text": [
      "\n",
      "현재 epoch-2의 train-데이터 셋에서 평균 loss : 0.059, 평균 f1 Score: 0.206, 평균 Accuracy : 0.981\n"
     ]
    },
    {
     "output_type": "display_data",
     "data": {
      "text/plain": [
       "HBox(children=(HTML(value=''), FloatProgress(value=0.0, max=237.0), HTML(value='')))"
      ],
      "application/vnd.jupyter.widget-view+json": {
       "model_id": "ad772eaa06b1434ba1c1fa4c8ac2c883",
       "version_major": 2,
       "version_minor": 0
      }
     },
     "metadata": {}
    },
    {
     "output_type": "stream",
     "name": "stdout",
     "text": [
      "\n",
      "현재 epoch-2의 test-데이터 셋에서 평균 loss : 0.088, 평균 f1 Score: 0.178, 평균 Accuracy : 0.972\n",
      "Get best model!\n"
     ]
    },
    {
     "output_type": "display_data",
     "data": {
      "text/plain": [
       "HBox(children=(HTML(value=''), FloatProgress(value=0.0, max=945.0), HTML(value='')))"
      ],
      "application/vnd.jupyter.widget-view+json": {
       "model_id": "55af8959c015418795a4629a9d7c7b01",
       "version_major": 2,
       "version_minor": 0
      }
     },
     "metadata": {}
    },
    {
     "output_type": "stream",
     "name": "stdout",
     "text": [
      "\n",
      "현재 epoch-3의 train-데이터 셋에서 평균 loss : 0.041, 평균 f1 Score: 0.205, 평균 Accuracy : 0.987\n"
     ]
    },
    {
     "output_type": "display_data",
     "data": {
      "text/plain": [
       "HBox(children=(HTML(value=''), FloatProgress(value=0.0, max=237.0), HTML(value='')))"
      ],
      "application/vnd.jupyter.widget-view+json": {
       "model_id": "5d1099eac28041d0ae0e8c50a427ebc0",
       "version_major": 2,
       "version_minor": 0
      }
     },
     "metadata": {}
    },
    {
     "output_type": "stream",
     "name": "stdout",
     "text": [
      "\n",
      "현재 epoch-3의 test-데이터 셋에서 평균 loss : 0.095, 평균 f1 Score: 0.174, 평균 Accuracy : 0.970\n"
     ]
    },
    {
     "output_type": "display_data",
     "data": {
      "text/plain": [
       "HBox(children=(HTML(value=''), FloatProgress(value=0.0, max=945.0), HTML(value='')))"
      ],
      "application/vnd.jupyter.widget-view+json": {
       "model_id": "6cd2f312138640c6b534b5acb44f2d30",
       "version_major": 2,
       "version_minor": 0
      }
     },
     "metadata": {}
    },
    {
     "output_type": "stream",
     "name": "stdout",
     "text": [
      "\n",
      "현재 epoch-4의 train-데이터 셋에서 평균 loss : 0.033, 평균 f1 Score: 0.205, 평균 Accuracy : 0.990\n"
     ]
    },
    {
     "output_type": "display_data",
     "data": {
      "text/plain": [
       "HBox(children=(HTML(value=''), FloatProgress(value=0.0, max=237.0), HTML(value='')))"
      ],
      "application/vnd.jupyter.widget-view+json": {
       "model_id": "ce3cec8ee5c14b27ba7f2752d840737c",
       "version_major": 2,
       "version_minor": 0
      }
     },
     "metadata": {}
    },
    {
     "output_type": "stream",
     "name": "stdout",
     "text": [
      "\n",
      "현재 epoch-4의 test-데이터 셋에서 평균 loss : 0.072, 평균 f1 Score: 0.175, 평균 Accuracy : 0.980\n",
      "Get best model!\n",
      "학습 종료!\n",
      "최고 accuracy : 0.9804232716560364, 최고 낮은 loss : 0.07173065482087497, 최고 f1 score : 0.17497272789478302\n"
     ]
    }
   ],
   "metadata": {}
  },
  {
   "cell_type": "code",
   "execution_count": 60,
   "source": [
    "torch.cuda.empty_cache()\n",
    "training(EfficientNet_b2(18))"
   ],
   "outputs": [
    {
     "output_type": "display_data",
     "data": {
      "text/plain": [
       "HBox(children=(HTML(value=''), FloatProgress(value=0.0, max=945.0), HTML(value='')))"
      ],
      "application/vnd.jupyter.widget-view+json": {
       "model_id": "69f21c3dc930438087ebfb63a8e0afff",
       "version_major": 2,
       "version_minor": 0
      }
     },
     "metadata": {}
    },
    {
     "output_type": "stream",
     "name": "stdout",
     "text": [
      "\n",
      "현재 epoch-0의 train-데이터 셋에서 평균 loss : 0.537, 평균 f1 Score: 0.214, 평균 Accuracy : 0.838\n"
     ]
    },
    {
     "output_type": "display_data",
     "data": {
      "text/plain": [
       "HBox(children=(HTML(value=''), FloatProgress(value=0.0, max=237.0), HTML(value='')))"
      ],
      "application/vnd.jupyter.widget-view+json": {
       "model_id": "90f06ea4ae7349c8ab420f103672dd0c",
       "version_major": 2,
       "version_minor": 0
      }
     },
     "metadata": {}
    },
    {
     "output_type": "stream",
     "name": "stdout",
     "text": [
      "\n",
      "현재 epoch-0의 test-데이터 셋에서 평균 loss : 0.181, 평균 f1 Score: 0.204, 평균 Accuracy : 0.940\n",
      "Get best model!\n"
     ]
    },
    {
     "output_type": "display_data",
     "data": {
      "text/plain": [
       "HBox(children=(HTML(value=''), FloatProgress(value=0.0, max=945.0), HTML(value='')))"
      ],
      "application/vnd.jupyter.widget-view+json": {
       "model_id": "1ce380b9e0b04ea0b02c21ac817d9294",
       "version_major": 2,
       "version_minor": 0
      }
     },
     "metadata": {}
    },
    {
     "output_type": "stream",
     "name": "stdout",
     "text": [
      "\n",
      "현재 epoch-1의 train-데이터 셋에서 평균 loss : 0.126, 평균 f1 Score: 0.205, 평균 Accuracy : 0.960\n"
     ]
    },
    {
     "output_type": "display_data",
     "data": {
      "text/plain": [
       "HBox(children=(HTML(value=''), FloatProgress(value=0.0, max=237.0), HTML(value='')))"
      ],
      "application/vnd.jupyter.widget-view+json": {
       "model_id": "a53507e192894a75a9d34fb4905bcc9c",
       "version_major": 2,
       "version_minor": 0
      }
     },
     "metadata": {}
    },
    {
     "output_type": "stream",
     "name": "stdout",
     "text": [
      "\n",
      "현재 epoch-1의 test-데이터 셋에서 평균 loss : 0.111, 평균 f1 Score: 0.198, 평균 Accuracy : 0.962\n",
      "Get best model!\n"
     ]
    },
    {
     "output_type": "display_data",
     "data": {
      "text/plain": [
       "HBox(children=(HTML(value=''), FloatProgress(value=0.0, max=945.0), HTML(value='')))"
      ],
      "application/vnd.jupyter.widget-view+json": {
       "model_id": "eaf0fb1ca1c7473fb81a2b80bcadc0be",
       "version_major": 2,
       "version_minor": 0
      }
     },
     "metadata": {}
    },
    {
     "output_type": "stream",
     "name": "stdout",
     "text": [
      "\n",
      "현재 epoch-2의 train-데이터 셋에서 평균 loss : 0.058, 평균 f1 Score: 0.207, 평균 Accuracy : 0.982\n"
     ]
    },
    {
     "output_type": "display_data",
     "data": {
      "text/plain": [
       "HBox(children=(HTML(value=''), FloatProgress(value=0.0, max=237.0), HTML(value='')))"
      ],
      "application/vnd.jupyter.widget-view+json": {
       "model_id": "37bb6263aca041aabcf4f6df0e41a0c6",
       "version_major": 2,
       "version_minor": 0
      }
     },
     "metadata": {}
    },
    {
     "output_type": "stream",
     "name": "stdout",
     "text": [
      "\n",
      "현재 epoch-2의 test-데이터 셋에서 평균 loss : 0.078, 평균 f1 Score: 0.193, 평균 Accuracy : 0.976\n",
      "Get best model!\n"
     ]
    },
    {
     "output_type": "display_data",
     "data": {
      "text/plain": [
       "HBox(children=(HTML(value=''), FloatProgress(value=0.0, max=945.0), HTML(value='')))"
      ],
      "application/vnd.jupyter.widget-view+json": {
       "model_id": "dc9a54871eb847d690e60e7bfd7cb2da",
       "version_major": 2,
       "version_minor": 0
      }
     },
     "metadata": {}
    },
    {
     "output_type": "stream",
     "name": "stdout",
     "text": [
      "\n",
      "현재 epoch-3의 train-데이터 셋에서 평균 loss : 0.039, 평균 f1 Score: 0.206, 평균 Accuracy : 0.989\n"
     ]
    },
    {
     "output_type": "display_data",
     "data": {
      "text/plain": [
       "HBox(children=(HTML(value=''), FloatProgress(value=0.0, max=237.0), HTML(value='')))"
      ],
      "application/vnd.jupyter.widget-view+json": {
       "model_id": "09bb7a3100e3420098260a5190328d5b",
       "version_major": 2,
       "version_minor": 0
      }
     },
     "metadata": {}
    },
    {
     "output_type": "stream",
     "name": "stdout",
     "text": [
      "\n",
      "현재 epoch-3의 test-데이터 셋에서 평균 loss : 0.081, 평균 f1 Score: 0.184, 평균 Accuracy : 0.979\n"
     ]
    },
    {
     "output_type": "display_data",
     "data": {
      "text/plain": [
       "HBox(children=(HTML(value=''), FloatProgress(value=0.0, max=945.0), HTML(value='')))"
      ],
      "application/vnd.jupyter.widget-view+json": {
       "model_id": "26d502fea761432188a722a80bfe5c28",
       "version_major": 2,
       "version_minor": 0
      }
     },
     "metadata": {}
    },
    {
     "output_type": "stream",
     "name": "stdout",
     "text": [
      "\n",
      "현재 epoch-4의 train-데이터 셋에서 평균 loss : 0.032, 평균 f1 Score: 0.205, 평균 Accuracy : 0.990\n"
     ]
    },
    {
     "output_type": "display_data",
     "data": {
      "text/plain": [
       "HBox(children=(HTML(value=''), FloatProgress(value=0.0, max=237.0), HTML(value='')))"
      ],
      "application/vnd.jupyter.widget-view+json": {
       "model_id": "13c7002a692747e2b2011a49c327738e",
       "version_major": 2,
       "version_minor": 0
      }
     },
     "metadata": {}
    },
    {
     "output_type": "stream",
     "name": "stdout",
     "text": [
      "\n",
      "현재 epoch-4의 test-데이터 셋에서 평균 loss : 0.095, 평균 f1 Score: 0.190, 평균 Accuracy : 0.976\n",
      "학습 종료!\n",
      "최고 accuracy : 0.9759259223937988, 최고 낮은 loss : 0.07794957169622341, 최고 f1 score : 0.19325381517410278\n"
     ]
    }
   ],
   "metadata": {}
  },
  {
   "cell_type": "code",
   "execution_count": 57,
   "source": [
    "torch.cuda.empty_cache()\n",
    "training(EfficientNet_b3(18))"
   ],
   "outputs": [
    {
     "output_type": "display_data",
     "data": {
      "text/plain": [
       "HBox(children=(HTML(value=''), FloatProgress(value=0.0, max=945.0), HTML(value='')))"
      ],
      "application/vnd.jupyter.widget-view+json": {
       "model_id": "fa8c856d071942c0a0d6b7dc73e6109d",
       "version_major": 2,
       "version_minor": 0
      }
     },
     "metadata": {}
    },
    {
     "output_type": "stream",
     "name": "stdout",
     "text": [
      "\n",
      "현재 epoch-0의 train-데이터 셋에서 평균 loss : 0.494, 평균 f1 Score: 0.201, 평균 Accuracy : 0.849\n"
     ]
    },
    {
     "output_type": "display_data",
     "data": {
      "text/plain": [
       "HBox(children=(HTML(value=''), FloatProgress(value=0.0, max=237.0), HTML(value='')))"
      ],
      "application/vnd.jupyter.widget-view+json": {
       "model_id": "824a4a80c3f547ef82c82cb40fc273a4",
       "version_major": 2,
       "version_minor": 0
      }
     },
     "metadata": {}
    },
    {
     "output_type": "stream",
     "name": "stdout",
     "text": [
      "\n",
      "현재 epoch-0의 test-데이터 셋에서 평균 loss : 0.170, 평균 f1 Score: 0.206, 평균 Accuracy : 0.947\n",
      "Get best model!\n"
     ]
    },
    {
     "output_type": "display_data",
     "data": {
      "text/plain": [
       "HBox(children=(HTML(value=''), FloatProgress(value=0.0, max=945.0), HTML(value='')))"
      ],
      "application/vnd.jupyter.widget-view+json": {
       "model_id": "5de973752d0947889b7d7c0ed16bee4a",
       "version_major": 2,
       "version_minor": 0
      }
     },
     "metadata": {}
    },
    {
     "output_type": "stream",
     "name": "stdout",
     "text": [
      "\n",
      "현재 epoch-1의 train-데이터 셋에서 평균 loss : 0.115, 평균 f1 Score: 0.206, 평균 Accuracy : 0.964\n"
     ]
    },
    {
     "output_type": "display_data",
     "data": {
      "text/plain": [
       "HBox(children=(HTML(value=''), FloatProgress(value=0.0, max=237.0), HTML(value='')))"
      ],
      "application/vnd.jupyter.widget-view+json": {
       "model_id": "07bd6d80488743bdacc7fd2f3233f84e",
       "version_major": 2,
       "version_minor": 0
      }
     },
     "metadata": {}
    },
    {
     "output_type": "stream",
     "name": "stdout",
     "text": [
      "\n",
      "현재 epoch-1의 test-데이터 셋에서 평균 loss : 0.093, 평균 f1 Score: 0.198, 평균 Accuracy : 0.973\n",
      "Get best model!\n"
     ]
    },
    {
     "output_type": "display_data",
     "data": {
      "text/plain": [
       "HBox(children=(HTML(value=''), FloatProgress(value=0.0, max=945.0), HTML(value='')))"
      ],
      "application/vnd.jupyter.widget-view+json": {
       "model_id": "acb253d469694964be15046369740bc3",
       "version_major": 2,
       "version_minor": 0
      }
     },
     "metadata": {}
    },
    {
     "output_type": "stream",
     "name": "stdout",
     "text": [
      "\n",
      "현재 epoch-2의 train-데이터 셋에서 평균 loss : 0.053, 평균 f1 Score: 0.205, 평균 Accuracy : 0.985\n"
     ]
    },
    {
     "output_type": "display_data",
     "data": {
      "text/plain": [
       "HBox(children=(HTML(value=''), FloatProgress(value=0.0, max=237.0), HTML(value='')))"
      ],
      "application/vnd.jupyter.widget-view+json": {
       "model_id": "c1e463e9ac104fad87f7d24611990f1f",
       "version_major": 2,
       "version_minor": 0
      }
     },
     "metadata": {}
    },
    {
     "output_type": "stream",
     "name": "stdout",
     "text": [
      "\n",
      "현재 epoch-2의 test-데이터 셋에서 평균 loss : 0.077, 평균 f1 Score: 0.196, 평균 Accuracy : 0.977\n",
      "Get best model!\n"
     ]
    },
    {
     "output_type": "display_data",
     "data": {
      "text/plain": [
       "HBox(children=(HTML(value=''), FloatProgress(value=0.0, max=945.0), HTML(value='')))"
      ],
      "application/vnd.jupyter.widget-view+json": {
       "model_id": "142a942d9ba0435189e22610e6f28862",
       "version_major": 2,
       "version_minor": 0
      }
     },
     "metadata": {}
    },
    {
     "output_type": "stream",
     "name": "stdout",
     "text": [
      "\n",
      "현재 epoch-3의 train-데이터 셋에서 평균 loss : 0.039, 평균 f1 Score: 0.207, 평균 Accuracy : 0.987\n"
     ]
    },
    {
     "output_type": "display_data",
     "data": {
      "text/plain": [
       "HBox(children=(HTML(value=''), FloatProgress(value=0.0, max=237.0), HTML(value='')))"
      ],
      "application/vnd.jupyter.widget-view+json": {
       "model_id": "6615832de9874e8bb4a92d4698efee07",
       "version_major": 2,
       "version_minor": 0
      }
     },
     "metadata": {}
    },
    {
     "output_type": "stream",
     "name": "stdout",
     "text": [
      "\n",
      "현재 epoch-3의 test-데이터 셋에서 평균 loss : 0.060, 평균 f1 Score: 0.190, 평균 Accuracy : 0.983\n",
      "Get best model!\n"
     ]
    },
    {
     "output_type": "display_data",
     "data": {
      "text/plain": [
       "HBox(children=(HTML(value=''), FloatProgress(value=0.0, max=945.0), HTML(value='')))"
      ],
      "application/vnd.jupyter.widget-view+json": {
       "model_id": "1409955b49e2404ba4c5563afd665212",
       "version_major": 2,
       "version_minor": 0
      }
     },
     "metadata": {}
    },
    {
     "output_type": "stream",
     "name": "stdout",
     "text": [
      "\n",
      "현재 epoch-4의 train-데이터 셋에서 평균 loss : 0.038, 평균 f1 Score: 0.205, 평균 Accuracy : 0.989\n"
     ]
    },
    {
     "output_type": "display_data",
     "data": {
      "text/plain": [
       "HBox(children=(HTML(value=''), FloatProgress(value=0.0, max=237.0), HTML(value='')))"
      ],
      "application/vnd.jupyter.widget-view+json": {
       "model_id": "eac25f9a8db94dd7bd2f4027f91b5b93",
       "version_major": 2,
       "version_minor": 0
      }
     },
     "metadata": {}
    },
    {
     "output_type": "stream",
     "name": "stdout",
     "text": [
      "\n",
      "현재 epoch-4의 test-데이터 셋에서 평균 loss : 0.071, 평균 f1 Score: 0.195, 평균 Accuracy : 0.980\n",
      "학습 종료!\n",
      "최고 accuracy : 0.9828042387962341, 최고 낮은 loss : 0.06035067331619935, 최고 f1 score : 0.18976990878582\n"
     ]
    }
   ],
   "metadata": {}
  },
  {
   "cell_type": "code",
   "execution_count": 218,
   "source": [
    "torch.cuda.empty_cache()\n",
    "model_b4 = training_b4()"
   ],
   "outputs": [
    {
     "output_type": "display_data",
     "data": {
      "text/plain": [
       "HBox(children=(HTML(value=''), FloatProgress(value=0.0, max=945.0), HTML(value='')))"
      ],
      "application/vnd.jupyter.widget-view+json": {
       "model_id": "4ddf7fe71ff24276833550b22b379387",
       "version_major": 2,
       "version_minor": 0
      }
     },
     "metadata": {}
    },
    {
     "output_type": "stream",
     "name": "stdout",
     "text": [
      "\n",
      "현재 epoch-0의 train-데이터 셋에서 평균 loss : 0.402, 평균 f1 Score: 0.216, 평균 Accuracy : 0.884\n"
     ]
    },
    {
     "output_type": "display_data",
     "data": {
      "text/plain": [
       "HBox(children=(HTML(value=''), FloatProgress(value=0.0, max=237.0), HTML(value='')))"
      ],
      "application/vnd.jupyter.widget-view+json": {
       "model_id": "6c6c10a227c34623b5e3533479a31c74",
       "version_major": 2,
       "version_minor": 0
      }
     },
     "metadata": {}
    },
    {
     "output_type": "stream",
     "name": "stdout",
     "text": [
      "\n",
      "현재 epoch-0의 test-데이터 셋에서 평균 loss : 0.094, 평균 f1 Score: 0.214, 평균 Accuracy : 0.970\n",
      "Get best model!\n"
     ]
    },
    {
     "output_type": "display_data",
     "data": {
      "text/plain": [
       "HBox(children=(HTML(value=''), FloatProgress(value=0.0, max=945.0), HTML(value='')))"
      ],
      "application/vnd.jupyter.widget-view+json": {
       "model_id": "377bd7a6dcd94cbaa754fe7ba049c6b2",
       "version_major": 2,
       "version_minor": 0
      }
     },
     "metadata": {}
    },
    {
     "output_type": "stream",
     "name": "stdout",
     "text": [
      "\n",
      "현재 epoch-1의 train-데이터 셋에서 평균 loss : 0.077, 평균 f1 Score: 0.205, 평균 Accuracy : 0.977\n"
     ]
    },
    {
     "output_type": "display_data",
     "data": {
      "text/plain": [
       "HBox(children=(HTML(value=''), FloatProgress(value=0.0, max=237.0), HTML(value='')))"
      ],
      "application/vnd.jupyter.widget-view+json": {
       "model_id": "aee946ccad5f4f24ab1abfe13cbce846",
       "version_major": 2,
       "version_minor": 0
      }
     },
     "metadata": {}
    },
    {
     "output_type": "stream",
     "name": "stdout",
     "text": [
      "\n",
      "현재 epoch-1의 test-데이터 셋에서 평균 loss : 0.123, 평균 f1 Score: 0.213, 평균 Accuracy : 0.962\n"
     ]
    },
    {
     "output_type": "display_data",
     "data": {
      "text/plain": [
       "HBox(children=(HTML(value=''), FloatProgress(value=0.0, max=945.0), HTML(value='')))"
      ],
      "application/vnd.jupyter.widget-view+json": {
       "model_id": "29e0f6820bbe461d852285acbbd8c6b4",
       "version_major": 2,
       "version_minor": 0
      }
     },
     "metadata": {}
    },
    {
     "output_type": "stream",
     "name": "stdout",
     "text": [
      "\n",
      "현재 epoch-2의 train-데이터 셋에서 평균 loss : 0.037, 평균 f1 Score: 0.207, 평균 Accuracy : 0.989\n"
     ]
    },
    {
     "output_type": "display_data",
     "data": {
      "text/plain": [
       "HBox(children=(HTML(value=''), FloatProgress(value=0.0, max=237.0), HTML(value='')))"
      ],
      "application/vnd.jupyter.widget-view+json": {
       "model_id": "00792d13a20d4d9a8c9ea9943ce62d61",
       "version_major": 2,
       "version_minor": 0
      }
     },
     "metadata": {}
    },
    {
     "output_type": "stream",
     "name": "stdout",
     "text": [
      "\n",
      "현재 epoch-2의 test-데이터 셋에서 평균 loss : 0.040, 평균 f1 Score: 0.214, 평균 Accuracy : 0.988\n",
      "Get best model!\n"
     ]
    },
    {
     "output_type": "display_data",
     "data": {
      "text/plain": [
       "HBox(children=(HTML(value=''), FloatProgress(value=0.0, max=945.0), HTML(value='')))"
      ],
      "application/vnd.jupyter.widget-view+json": {
       "model_id": "cae0bfb9f95c48bebd7aacd68c8ceb8f",
       "version_major": 2,
       "version_minor": 0
      }
     },
     "metadata": {}
    },
    {
     "output_type": "stream",
     "name": "stdout",
     "text": [
      "\n",
      "현재 epoch-3의 train-데이터 셋에서 평균 loss : 0.030, 평균 f1 Score: 0.204, 평균 Accuracy : 0.991\n"
     ]
    },
    {
     "output_type": "display_data",
     "data": {
      "text/plain": [
       "HBox(children=(HTML(value=''), FloatProgress(value=0.0, max=237.0), HTML(value='')))"
      ],
      "application/vnd.jupyter.widget-view+json": {
       "model_id": "220a0bc930004a63b122bd3d179c057d",
       "version_major": 2,
       "version_minor": 0
      }
     },
     "metadata": {}
    },
    {
     "output_type": "stream",
     "name": "stdout",
     "text": [
      "\n",
      "현재 epoch-3의 test-데이터 셋에서 평균 loss : 0.044, 평균 f1 Score: 0.213, 평균 Accuracy : 0.987\n"
     ]
    },
    {
     "output_type": "display_data",
     "data": {
      "text/plain": [
       "HBox(children=(HTML(value=''), FloatProgress(value=0.0, max=945.0), HTML(value='')))"
      ],
      "application/vnd.jupyter.widget-view+json": {
       "model_id": "7c1784c878484df393b4f6885c61215a",
       "version_major": 2,
       "version_minor": 0
      }
     },
     "metadata": {}
    },
    {
     "output_type": "stream",
     "name": "stdout",
     "text": [
      "\n",
      "현재 epoch-4의 train-데이터 셋에서 평균 loss : 0.022, 평균 f1 Score: 0.206, 평균 Accuracy : 0.994\n"
     ]
    },
    {
     "output_type": "display_data",
     "data": {
      "text/plain": [
       "HBox(children=(HTML(value=''), FloatProgress(value=0.0, max=237.0), HTML(value='')))"
      ],
      "application/vnd.jupyter.widget-view+json": {
       "model_id": "7f20f6db4c1049e995cf16b832c69197",
       "version_major": 2,
       "version_minor": 0
      }
     },
     "metadata": {}
    },
    {
     "output_type": "stream",
     "name": "stdout",
     "text": [
      "\n",
      "현재 epoch-4의 test-데이터 셋에서 평균 loss : 0.082, 평균 f1 Score: 0.204, 평균 Accuracy : 0.973\n",
      "학습 종료!\n",
      "최고 accuracy : 0.988095223903656, 최고 낮은 loss : 0.03995518133599525, 최고 f1 score : 0.21378378570079803\n"
     ]
    },
    {
     "output_type": "display_data",
     "data": {
      "text/plain": [
       "HBox(children=(HTML(value=''), FloatProgress(value=0.0, max=945.0), HTML(value='')))"
      ],
      "application/vnd.jupyter.widget-view+json": {
       "model_id": "f1dec23427fd4384a148ca35ca9bfa21",
       "version_major": 2,
       "version_minor": 0
      }
     },
     "metadata": {}
    },
    {
     "output_type": "stream",
     "name": "stdout",
     "text": [
      "\n",
      "현재 epoch-0의 train-데이터 셋에서 평균 loss : 0.392, 평균 f1 Score: 0.208, 평균 Accuracy : 0.885\n"
     ]
    },
    {
     "output_type": "display_data",
     "data": {
      "text/plain": [
       "HBox(children=(HTML(value=''), FloatProgress(value=0.0, max=237.0), HTML(value='')))"
      ],
      "application/vnd.jupyter.widget-view+json": {
       "model_id": "bbfa0c5a7c474fe99ae05036f6c92275",
       "version_major": 2,
       "version_minor": 0
      }
     },
     "metadata": {}
    },
    {
     "output_type": "stream",
     "name": "stdout",
     "text": [
      "\n",
      "현재 epoch-0의 test-데이터 셋에서 평균 loss : 0.114, 평균 f1 Score: 0.208, 평균 Accuracy : 0.963\n",
      "Get best model!\n"
     ]
    },
    {
     "output_type": "display_data",
     "data": {
      "text/plain": [
       "HBox(children=(HTML(value=''), FloatProgress(value=0.0, max=945.0), HTML(value='')))"
      ],
      "application/vnd.jupyter.widget-view+json": {
       "model_id": "02abb09e60714704bcf2bd4d89d335aa",
       "version_major": 2,
       "version_minor": 0
      }
     },
     "metadata": {}
    },
    {
     "output_type": "stream",
     "name": "stdout",
     "text": [
      "\n",
      "현재 epoch-1의 train-데이터 셋에서 평균 loss : 0.079, 평균 f1 Score: 0.207, 평균 Accuracy : 0.975\n"
     ]
    },
    {
     "output_type": "display_data",
     "data": {
      "text/plain": [
       "HBox(children=(HTML(value=''), FloatProgress(value=0.0, max=237.0), HTML(value='')))"
      ],
      "application/vnd.jupyter.widget-view+json": {
       "model_id": "fe38007093084220afa443c77a08638a",
       "version_major": 2,
       "version_minor": 0
      }
     },
     "metadata": {}
    },
    {
     "output_type": "stream",
     "name": "stdout",
     "text": [
      "\n",
      "현재 epoch-1의 test-데이터 셋에서 평균 loss : 0.042, 평균 f1 Score: 0.209, 평균 Accuracy : 0.989\n",
      "Get best model!\n"
     ]
    },
    {
     "output_type": "display_data",
     "data": {
      "text/plain": [
       "HBox(children=(HTML(value=''), FloatProgress(value=0.0, max=945.0), HTML(value='')))"
      ],
      "application/vnd.jupyter.widget-view+json": {
       "model_id": "ed1a6e69e8d240909bfd8d090892abc2",
       "version_major": 2,
       "version_minor": 0
      }
     },
     "metadata": {}
    },
    {
     "output_type": "stream",
     "name": "stdout",
     "text": [
      "\n",
      "현재 epoch-2의 train-데이터 셋에서 평균 loss : 0.033, 평균 f1 Score: 0.208, 평균 Accuracy : 0.991\n"
     ]
    },
    {
     "output_type": "display_data",
     "data": {
      "text/plain": [
       "HBox(children=(HTML(value=''), FloatProgress(value=0.0, max=237.0), HTML(value='')))"
      ],
      "application/vnd.jupyter.widget-view+json": {
       "model_id": "50c20eb991234c929fdf27b509d1a830",
       "version_major": 2,
       "version_minor": 0
      }
     },
     "metadata": {}
    },
    {
     "output_type": "stream",
     "name": "stdout",
     "text": [
      "\n",
      "현재 epoch-2의 test-데이터 셋에서 평균 loss : 0.032, 평균 f1 Score: 0.206, 평균 Accuracy : 0.990\n",
      "Get best model!\n"
     ]
    },
    {
     "output_type": "display_data",
     "data": {
      "text/plain": [
       "HBox(children=(HTML(value=''), FloatProgress(value=0.0, max=945.0), HTML(value='')))"
      ],
      "application/vnd.jupyter.widget-view+json": {
       "model_id": "516dbd24d0a44a968eb2e27367fa90e8",
       "version_major": 2,
       "version_minor": 0
      }
     },
     "metadata": {}
    },
    {
     "output_type": "stream",
     "name": "stdout",
     "text": [
      "\n",
      "현재 epoch-3의 train-데이터 셋에서 평균 loss : 0.028, 평균 f1 Score: 0.206, 평균 Accuracy : 0.992\n"
     ]
    },
    {
     "output_type": "display_data",
     "data": {
      "text/plain": [
       "HBox(children=(HTML(value=''), FloatProgress(value=0.0, max=237.0), HTML(value='')))"
      ],
      "application/vnd.jupyter.widget-view+json": {
       "model_id": "97cfda28b8064587b6f5707afe28e0d5",
       "version_major": 2,
       "version_minor": 0
      }
     },
     "metadata": {}
    },
    {
     "output_type": "stream",
     "name": "stdout",
     "text": [
      "\n",
      "현재 epoch-3의 test-데이터 셋에서 평균 loss : 0.047, 평균 f1 Score: 0.202, 평균 Accuracy : 0.988\n"
     ]
    },
    {
     "output_type": "display_data",
     "data": {
      "text/plain": [
       "HBox(children=(HTML(value=''), FloatProgress(value=0.0, max=945.0), HTML(value='')))"
      ],
      "application/vnd.jupyter.widget-view+json": {
       "model_id": "7312e08c068c48eb8b59c14090372ecb",
       "version_major": 2,
       "version_minor": 0
      }
     },
     "metadata": {}
    },
    {
     "output_type": "stream",
     "name": "stdout",
     "text": [
      "\n",
      "현재 epoch-4의 train-데이터 셋에서 평균 loss : 0.027, 평균 f1 Score: 0.206, 평균 Accuracy : 0.992\n"
     ]
    },
    {
     "output_type": "display_data",
     "data": {
      "text/plain": [
       "HBox(children=(HTML(value=''), FloatProgress(value=0.0, max=237.0), HTML(value='')))"
      ],
      "application/vnd.jupyter.widget-view+json": {
       "model_id": "172c51a17d19413ea411c1efe5129d72",
       "version_major": 2,
       "version_minor": 0
      }
     },
     "metadata": {}
    },
    {
     "output_type": "stream",
     "name": "stdout",
     "text": [
      "\n",
      "현재 epoch-4의 test-데이터 셋에서 평균 loss : 0.035, 평균 f1 Score: 0.203, 평균 Accuracy : 0.990\n",
      "학습 종료!\n",
      "최고 accuracy : 0.9899470806121826, 최고 낮은 loss : 0.0323701809487483, 최고 f1 score : 0.20587469637393951\n"
     ]
    },
    {
     "output_type": "display_data",
     "data": {
      "text/plain": [
       "HBox(children=(HTML(value=''), FloatProgress(value=0.0, max=945.0), HTML(value='')))"
      ],
      "application/vnd.jupyter.widget-view+json": {
       "model_id": "41286aacdb6f449d9e269cab0e5b1913",
       "version_major": 2,
       "version_minor": 0
      }
     },
     "metadata": {}
    },
    {
     "output_type": "stream",
     "name": "stdout",
     "text": [
      "\n",
      "현재 epoch-0의 train-데이터 셋에서 평균 loss : 0.412, 평균 f1 Score: 0.204, 평균 Accuracy : 0.879\n"
     ]
    },
    {
     "output_type": "display_data",
     "data": {
      "text/plain": [
       "HBox(children=(HTML(value=''), FloatProgress(value=0.0, max=237.0), HTML(value='')))"
      ],
      "application/vnd.jupyter.widget-view+json": {
       "model_id": "6fa62147f4024d4da7b4cdb7c2c7724b",
       "version_major": 2,
       "version_minor": 0
      }
     },
     "metadata": {}
    },
    {
     "output_type": "stream",
     "name": "stdout",
     "text": [
      "\n",
      "현재 epoch-0의 test-데이터 셋에서 평균 loss : 0.097, 평균 f1 Score: 0.208, 평균 Accuracy : 0.972\n",
      "Get best model!\n"
     ]
    },
    {
     "output_type": "display_data",
     "data": {
      "text/plain": [
       "HBox(children=(HTML(value=''), FloatProgress(value=0.0, max=945.0), HTML(value='')))"
      ],
      "application/vnd.jupyter.widget-view+json": {
       "model_id": "c51a771d70624daf99fbea0cd342fb06",
       "version_major": 2,
       "version_minor": 0
      }
     },
     "metadata": {}
    },
    {
     "output_type": "stream",
     "name": "stdout",
     "text": [
      "\n",
      "현재 epoch-1의 train-데이터 셋에서 평균 loss : 0.073, 평균 f1 Score: 0.207, 평균 Accuracy : 0.977\n"
     ]
    },
    {
     "output_type": "display_data",
     "data": {
      "text/plain": [
       "HBox(children=(HTML(value=''), FloatProgress(value=0.0, max=237.0), HTML(value='')))"
      ],
      "application/vnd.jupyter.widget-view+json": {
       "model_id": "7404ef537b7c4468ab0b5ad57a21a05d",
       "version_major": 2,
       "version_minor": 0
      }
     },
     "metadata": {}
    },
    {
     "output_type": "stream",
     "name": "stdout",
     "text": [
      "\n",
      "현재 epoch-1의 test-데이터 셋에서 평균 loss : 0.070, 평균 f1 Score: 0.209, 평균 Accuracy : 0.976\n",
      "Get best model!\n"
     ]
    },
    {
     "output_type": "display_data",
     "data": {
      "text/plain": [
       "HBox(children=(HTML(value=''), FloatProgress(value=0.0, max=945.0), HTML(value='')))"
      ],
      "application/vnd.jupyter.widget-view+json": {
       "model_id": "0104e169db7341f7b7984a1f362b08bb",
       "version_major": 2,
       "version_minor": 0
      }
     },
     "metadata": {}
    },
    {
     "output_type": "stream",
     "name": "stdout",
     "text": [
      "\n",
      "현재 epoch-2의 train-데이터 셋에서 평균 loss : 0.037, 평균 f1 Score: 0.206, 평균 Accuracy : 0.989\n"
     ]
    },
    {
     "output_type": "display_data",
     "data": {
      "text/plain": [
       "HBox(children=(HTML(value=''), FloatProgress(value=0.0, max=237.0), HTML(value='')))"
      ],
      "application/vnd.jupyter.widget-view+json": {
       "model_id": "50f3b294de8844ae9f6f9d3d79073c94",
       "version_major": 2,
       "version_minor": 0
      }
     },
     "metadata": {}
    },
    {
     "output_type": "stream",
     "name": "stdout",
     "text": [
      "\n",
      "현재 epoch-2의 test-데이터 셋에서 평균 loss : 0.052, 평균 f1 Score: 0.209, 평균 Accuracy : 0.985\n",
      "Get best model!\n"
     ]
    },
    {
     "output_type": "display_data",
     "data": {
      "text/plain": [
       "HBox(children=(HTML(value=''), FloatProgress(value=0.0, max=945.0), HTML(value='')))"
      ],
      "application/vnd.jupyter.widget-view+json": {
       "model_id": "0bab2df70b6b4c60ace039774598281f",
       "version_major": 2,
       "version_minor": 0
      }
     },
     "metadata": {}
    },
    {
     "output_type": "stream",
     "name": "stdout",
     "text": [
      "\n",
      "현재 epoch-3의 train-데이터 셋에서 평균 loss : 0.027, 평균 f1 Score: 0.206, 평균 Accuracy : 0.993\n"
     ]
    },
    {
     "output_type": "display_data",
     "data": {
      "text/plain": [
       "HBox(children=(HTML(value=''), FloatProgress(value=0.0, max=237.0), HTML(value='')))"
      ],
      "application/vnd.jupyter.widget-view+json": {
       "model_id": "e3aab1a0c30046aebe242cd885a37fd7",
       "version_major": 2,
       "version_minor": 0
      }
     },
     "metadata": {}
    },
    {
     "output_type": "stream",
     "name": "stdout",
     "text": [
      "\n",
      "현재 epoch-3의 test-데이터 셋에서 평균 loss : 0.100, 평균 f1 Score: 0.199, 평균 Accuracy : 0.978\n"
     ]
    },
    {
     "output_type": "display_data",
     "data": {
      "text/plain": [
       "HBox(children=(HTML(value=''), FloatProgress(value=0.0, max=945.0), HTML(value='')))"
      ],
      "application/vnd.jupyter.widget-view+json": {
       "model_id": "048e925a970240d98996088fb24b7c94",
       "version_major": 2,
       "version_minor": 0
      }
     },
     "metadata": {}
    },
    {
     "output_type": "stream",
     "name": "stdout",
     "text": [
      "\n",
      "현재 epoch-4의 train-데이터 셋에서 평균 loss : 0.024, 평균 f1 Score: 0.206, 평균 Accuracy : 0.993\n"
     ]
    },
    {
     "output_type": "display_data",
     "data": {
      "text/plain": [
       "HBox(children=(HTML(value=''), FloatProgress(value=0.0, max=237.0), HTML(value='')))"
      ],
      "application/vnd.jupyter.widget-view+json": {
       "model_id": "0fa2117b990b4e94a4850f6532e272eb",
       "version_major": 2,
       "version_minor": 0
      }
     },
     "metadata": {}
    },
    {
     "output_type": "stream",
     "name": "stdout",
     "text": [
      "\n",
      "현재 epoch-4의 test-데이터 셋에서 평균 loss : 0.049, 평균 f1 Score: 0.198, 평균 Accuracy : 0.987\n",
      "Get best model!\n",
      "학습 종료!\n",
      "최고 accuracy : 0.9870370626449585, 최고 낮은 loss : 0.048529305944660255, 최고 f1 score : 0.19763261079788208\n"
     ]
    },
    {
     "output_type": "display_data",
     "data": {
      "text/plain": [
       "HBox(children=(HTML(value=''), FloatProgress(value=0.0, max=945.0), HTML(value='')))"
      ],
      "application/vnd.jupyter.widget-view+json": {
       "model_id": "951cb6220b9b49aa8113ca33dba5541f",
       "version_major": 2,
       "version_minor": 0
      }
     },
     "metadata": {}
    },
    {
     "output_type": "stream",
     "name": "stdout",
     "text": [
      "\n",
      "현재 epoch-0의 train-데이터 셋에서 평균 loss : 0.405, 평균 f1 Score: 0.206, 평균 Accuracy : 0.879\n"
     ]
    },
    {
     "output_type": "display_data",
     "data": {
      "text/plain": [
       "HBox(children=(HTML(value=''), FloatProgress(value=0.0, max=237.0), HTML(value='')))"
      ],
      "application/vnd.jupyter.widget-view+json": {
       "model_id": "4124b0b9e8bb4213a56992fdef3d3c7a",
       "version_major": 2,
       "version_minor": 0
      }
     },
     "metadata": {}
    },
    {
     "output_type": "stream",
     "name": "stdout",
     "text": [
      "\n",
      "현재 epoch-0의 test-데이터 셋에서 평균 loss : 0.137, 평균 f1 Score: 0.205, 평균 Accuracy : 0.948\n",
      "Get best model!\n"
     ]
    },
    {
     "output_type": "display_data",
     "data": {
      "text/plain": [
       "HBox(children=(HTML(value=''), FloatProgress(value=0.0, max=945.0), HTML(value='')))"
      ],
      "application/vnd.jupyter.widget-view+json": {
       "model_id": "daae3abf7126414fbc1a01ad30e96444",
       "version_major": 2,
       "version_minor": 0
      }
     },
     "metadata": {}
    },
    {
     "output_type": "stream",
     "name": "stdout",
     "text": [
      "\n",
      "현재 epoch-1의 train-데이터 셋에서 평균 loss : 0.080, 평균 f1 Score: 0.205, 평균 Accuracy : 0.976\n"
     ]
    },
    {
     "output_type": "display_data",
     "data": {
      "text/plain": [
       "HBox(children=(HTML(value=''), FloatProgress(value=0.0, max=237.0), HTML(value='')))"
      ],
      "application/vnd.jupyter.widget-view+json": {
       "model_id": "e2aa7265d6d34f4484153f73e3be9c6d",
       "version_major": 2,
       "version_minor": 0
      }
     },
     "metadata": {}
    },
    {
     "output_type": "stream",
     "name": "stdout",
     "text": [
      "\n",
      "현재 epoch-1의 test-데이터 셋에서 평균 loss : 0.053, 평균 f1 Score: 0.212, 평균 Accuracy : 0.983\n",
      "Get best model!\n"
     ]
    },
    {
     "output_type": "display_data",
     "data": {
      "text/plain": [
       "HBox(children=(HTML(value=''), FloatProgress(value=0.0, max=945.0), HTML(value='')))"
      ],
      "application/vnd.jupyter.widget-view+json": {
       "model_id": "b44af4c190e2467aad85c4d50816ec63",
       "version_major": 2,
       "version_minor": 0
      }
     },
     "metadata": {}
    },
    {
     "output_type": "stream",
     "name": "stdout",
     "text": [
      "\n",
      "현재 epoch-2의 train-데이터 셋에서 평균 loss : 0.037, 평균 f1 Score: 0.206, 평균 Accuracy : 0.989\n"
     ]
    },
    {
     "output_type": "display_data",
     "data": {
      "text/plain": [
       "HBox(children=(HTML(value=''), FloatProgress(value=0.0, max=237.0), HTML(value='')))"
      ],
      "application/vnd.jupyter.widget-view+json": {
       "model_id": "4b54d52f15114d46bd4fb227fe7b46ac",
       "version_major": 2,
       "version_minor": 0
      }
     },
     "metadata": {}
    },
    {
     "output_type": "stream",
     "name": "stdout",
     "text": [
      "\n",
      "현재 epoch-2의 test-데이터 셋에서 평균 loss : 0.076, 평균 f1 Score: 0.203, 평균 Accuracy : 0.978\n"
     ]
    },
    {
     "output_type": "display_data",
     "data": {
      "text/plain": [
       "HBox(children=(HTML(value=''), FloatProgress(value=0.0, max=945.0), HTML(value='')))"
      ],
      "application/vnd.jupyter.widget-view+json": {
       "model_id": "44a7dc9361ff42d5a5aaa875b7270510",
       "version_major": 2,
       "version_minor": 0
      }
     },
     "metadata": {}
    },
    {
     "output_type": "stream",
     "name": "stdout",
     "text": [
      "\n",
      "현재 epoch-3의 train-데이터 셋에서 평균 loss : 0.026, 평균 f1 Score: 0.206, 평균 Accuracy : 0.993\n"
     ]
    },
    {
     "output_type": "display_data",
     "data": {
      "text/plain": [
       "HBox(children=(HTML(value=''), FloatProgress(value=0.0, max=237.0), HTML(value='')))"
      ],
      "application/vnd.jupyter.widget-view+json": {
       "model_id": "0993ae681b6d4252820ec9826bb2c671",
       "version_major": 2,
       "version_minor": 0
      }
     },
     "metadata": {}
    },
    {
     "output_type": "stream",
     "name": "stdout",
     "text": [
      "\n",
      "현재 epoch-3의 test-데이터 셋에서 평균 loss : 0.065, 평균 f1 Score: 0.204, 평균 Accuracy : 0.982\n"
     ]
    },
    {
     "output_type": "display_data",
     "data": {
      "text/plain": [
       "HBox(children=(HTML(value=''), FloatProgress(value=0.0, max=945.0), HTML(value='')))"
      ],
      "application/vnd.jupyter.widget-view+json": {
       "model_id": "0b6391d834ae4954bba77cf3660bd77f",
       "version_major": 2,
       "version_minor": 0
      }
     },
     "metadata": {}
    },
    {
     "output_type": "stream",
     "name": "stdout",
     "text": [
      "\n",
      "현재 epoch-4의 train-데이터 셋에서 평균 loss : 0.025, 평균 f1 Score: 0.206, 평균 Accuracy : 0.991\n"
     ]
    },
    {
     "output_type": "display_data",
     "data": {
      "text/plain": [
       "HBox(children=(HTML(value=''), FloatProgress(value=0.0, max=237.0), HTML(value='')))"
      ],
      "application/vnd.jupyter.widget-view+json": {
       "model_id": "fc1160fd2f2d44a284cb82df65760e59",
       "version_major": 2,
       "version_minor": 0
      }
     },
     "metadata": {}
    },
    {
     "output_type": "stream",
     "name": "stdout",
     "text": [
      "\n",
      "현재 epoch-4의 test-데이터 셋에서 평균 loss : 0.040, 평균 f1 Score: 0.193, 평균 Accuracy : 0.989\n",
      "Get best model!\n",
      "학습 종료!\n",
      "최고 accuracy : 0.9886243343353271, 최고 낮은 loss : 0.03998357936996774, 최고 f1 score : 0.1933542788028717\n"
     ]
    },
    {
     "output_type": "display_data",
     "data": {
      "text/plain": [
       "HBox(children=(HTML(value=''), FloatProgress(value=0.0, max=945.0), HTML(value='')))"
      ],
      "application/vnd.jupyter.widget-view+json": {
       "model_id": "b35b1fcb7e234b6ab12f5cf30ec5e6b4",
       "version_major": 2,
       "version_minor": 0
      }
     },
     "metadata": {}
    },
    {
     "output_type": "stream",
     "name": "stdout",
     "text": [
      "\n",
      "현재 epoch-0의 train-데이터 셋에서 평균 loss : 0.410, 평균 f1 Score: 0.227, 평균 Accuracy : 0.875\n"
     ]
    },
    {
     "output_type": "display_data",
     "data": {
      "text/plain": [
       "HBox(children=(HTML(value=''), FloatProgress(value=0.0, max=237.0), HTML(value='')))"
      ],
      "application/vnd.jupyter.widget-view+json": {
       "model_id": "15083a7fdb804d8ba600038ab185ce20",
       "version_major": 2,
       "version_minor": 0
      }
     },
     "metadata": {}
    },
    {
     "output_type": "stream",
     "name": "stdout",
     "text": [
      "\n",
      "현재 epoch-0의 test-데이터 셋에서 평균 loss : 0.122, 평균 f1 Score: 0.217, 평균 Accuracy : 0.961\n",
      "Get best model!\n"
     ]
    },
    {
     "output_type": "display_data",
     "data": {
      "text/plain": [
       "HBox(children=(HTML(value=''), FloatProgress(value=0.0, max=945.0), HTML(value='')))"
      ],
      "application/vnd.jupyter.widget-view+json": {
       "model_id": "370fe194463d4c37849073281c9e0aae",
       "version_major": 2,
       "version_minor": 0
      }
     },
     "metadata": {}
    },
    {
     "output_type": "stream",
     "name": "stdout",
     "text": [
      "\n",
      "현재 epoch-1의 train-데이터 셋에서 평균 loss : 0.071, 평균 f1 Score: 0.210, 평균 Accuracy : 0.978\n"
     ]
    },
    {
     "output_type": "display_data",
     "data": {
      "text/plain": [
       "HBox(children=(HTML(value=''), FloatProgress(value=0.0, max=237.0), HTML(value='')))"
      ],
      "application/vnd.jupyter.widget-view+json": {
       "model_id": "3c2c1a8fa01a4c41a9e8348e2e781f2d",
       "version_major": 2,
       "version_minor": 0
      }
     },
     "metadata": {}
    },
    {
     "output_type": "stream",
     "name": "stdout",
     "text": [
      "\n",
      "현재 epoch-1의 test-데이터 셋에서 평균 loss : 0.048, 평균 f1 Score: 0.211, 평균 Accuracy : 0.987\n",
      "Get best model!\n"
     ]
    },
    {
     "output_type": "display_data",
     "data": {
      "text/plain": [
       "HBox(children=(HTML(value=''), FloatProgress(value=0.0, max=945.0), HTML(value='')))"
      ],
      "application/vnd.jupyter.widget-view+json": {
       "model_id": "1f0c6dbb1cb1464bafb93fab839fc2b4",
       "version_major": 2,
       "version_minor": 0
      }
     },
     "metadata": {}
    },
    {
     "output_type": "stream",
     "name": "stdout",
     "text": [
      "\n",
      "현재 epoch-2의 train-데이터 셋에서 평균 loss : 0.045, 평균 f1 Score: 0.211, 평균 Accuracy : 0.988\n"
     ]
    },
    {
     "output_type": "display_data",
     "data": {
      "text/plain": [
       "HBox(children=(HTML(value=''), FloatProgress(value=0.0, max=237.0), HTML(value='')))"
      ],
      "application/vnd.jupyter.widget-view+json": {
       "model_id": "54347c2738b54d3fbcf48528bb3c3508",
       "version_major": 2,
       "version_minor": 0
      }
     },
     "metadata": {}
    },
    {
     "output_type": "stream",
     "name": "stdout",
     "text": [
      "\n",
      "현재 epoch-2의 test-데이터 셋에서 평균 loss : 0.044, 평균 f1 Score: 0.219, 평균 Accuracy : 0.987\n",
      "Get best model!\n"
     ]
    },
    {
     "output_type": "display_data",
     "data": {
      "text/plain": [
       "HBox(children=(HTML(value=''), FloatProgress(value=0.0, max=945.0), HTML(value='')))"
      ],
      "application/vnd.jupyter.widget-view+json": {
       "model_id": "b35621f8eaa3439bbf5a5cfe499ea6c1",
       "version_major": 2,
       "version_minor": 0
      }
     },
     "metadata": {}
    },
    {
     "output_type": "stream",
     "name": "stdout",
     "text": [
      "\n",
      "현재 epoch-3의 train-데이터 셋에서 평균 loss : 0.025, 평균 f1 Score: 0.204, 평균 Accuracy : 0.993\n"
     ]
    },
    {
     "output_type": "display_data",
     "data": {
      "text/plain": [
       "HBox(children=(HTML(value=''), FloatProgress(value=0.0, max=237.0), HTML(value='')))"
      ],
      "application/vnd.jupyter.widget-view+json": {
       "model_id": "d134ffed422846f989c99402f9e07317",
       "version_major": 2,
       "version_minor": 0
      }
     },
     "metadata": {}
    },
    {
     "output_type": "stream",
     "name": "stdout",
     "text": [
      "\n",
      "현재 epoch-3의 test-데이터 셋에서 평균 loss : 0.035, 평균 f1 Score: 0.211, 평균 Accuracy : 0.989\n",
      "Get best model!\n"
     ]
    },
    {
     "output_type": "display_data",
     "data": {
      "text/plain": [
       "HBox(children=(HTML(value=''), FloatProgress(value=0.0, max=945.0), HTML(value='')))"
      ],
      "application/vnd.jupyter.widget-view+json": {
       "model_id": "91095691d240466d8e3810d88a91a865",
       "version_major": 2,
       "version_minor": 0
      }
     },
     "metadata": {}
    },
    {
     "output_type": "stream",
     "name": "stdout",
     "text": [
      "\n",
      "현재 epoch-4의 train-데이터 셋에서 평균 loss : 0.022, 평균 f1 Score: 0.192, 평균 Accuracy : 0.994\n"
     ]
    },
    {
     "output_type": "display_data",
     "data": {
      "text/plain": [
       "HBox(children=(HTML(value=''), FloatProgress(value=0.0, max=237.0), HTML(value='')))"
      ],
      "application/vnd.jupyter.widget-view+json": {
       "model_id": "56a1b1357fa34129a710592a34220a1e",
       "version_major": 2,
       "version_minor": 0
      }
     },
     "metadata": {}
    },
    {
     "output_type": "stream",
     "name": "stdout",
     "text": [
      "\n",
      "현재 epoch-4의 test-데이터 셋에서 평균 loss : 0.035, 평균 f1 Score: 0.208, 평균 Accuracy : 0.989\n",
      "학습 종료!\n",
      "최고 accuracy : 0.9894180297851562, 최고 낮은 loss : 0.034780217180123724, 최고 f1 score : 0.21110902726650238\n"
     ]
    }
   ],
   "metadata": {}
  },
  {
   "cell_type": "code",
   "execution_count": 61,
   "source": [
    "torch.cuda.empty_cache()\n",
    "training(EfficientNet_b5(18))"
   ],
   "outputs": [
    {
     "output_type": "display_data",
     "data": {
      "text/plain": [
       "HBox(children=(HTML(value=''), FloatProgress(value=0.0, max=945.0), HTML(value='')))"
      ],
      "application/vnd.jupyter.widget-view+json": {
       "model_id": "2a836824a38d4308a09910e5aa2ce7b9",
       "version_major": 2,
       "version_minor": 0
      }
     },
     "metadata": {}
    },
    {
     "output_type": "stream",
     "name": "stdout",
     "text": [
      "\n",
      "현재 epoch-0의 train-데이터 셋에서 평균 loss : 0.512, 평균 f1 Score: 0.207, 평균 Accuracy : 0.843\n"
     ]
    },
    {
     "output_type": "display_data",
     "data": {
      "text/plain": [
       "HBox(children=(HTML(value=''), FloatProgress(value=0.0, max=237.0), HTML(value='')))"
      ],
      "application/vnd.jupyter.widget-view+json": {
       "model_id": "7c0657be6de84639807a051b90dc53d7",
       "version_major": 2,
       "version_minor": 0
      }
     },
     "metadata": {}
    },
    {
     "output_type": "stream",
     "name": "stdout",
     "text": [
      "\n",
      "현재 epoch-0의 test-데이터 셋에서 평균 loss : 0.173, 평균 f1 Score: 0.203, 평균 Accuracy : 0.938\n",
      "Get best model!\n"
     ]
    },
    {
     "output_type": "display_data",
     "data": {
      "text/plain": [
       "HBox(children=(HTML(value=''), FloatProgress(value=0.0, max=945.0), HTML(value='')))"
      ],
      "application/vnd.jupyter.widget-view+json": {
       "model_id": "58e8be57800940fbbef0dc2f6a4a5fa8",
       "version_major": 2,
       "version_minor": 0
      }
     },
     "metadata": {}
    },
    {
     "output_type": "stream",
     "name": "stdout",
     "text": [
      "\n",
      "현재 epoch-1의 train-데이터 셋에서 평균 loss : 0.122, 평균 f1 Score: 0.206, 평균 Accuracy : 0.960\n"
     ]
    },
    {
     "output_type": "display_data",
     "data": {
      "text/plain": [
       "HBox(children=(HTML(value=''), FloatProgress(value=0.0, max=237.0), HTML(value='')))"
      ],
      "application/vnd.jupyter.widget-view+json": {
       "model_id": "c5f2855a4d81418286f6383c0a313df4",
       "version_major": 2,
       "version_minor": 0
      }
     },
     "metadata": {}
    },
    {
     "output_type": "stream",
     "name": "stdout",
     "text": [
      "\n",
      "현재 epoch-1의 test-데이터 셋에서 평균 loss : 0.084, 평균 f1 Score: 0.198, 평균 Accuracy : 0.974\n",
      "Get best model!\n"
     ]
    },
    {
     "output_type": "display_data",
     "data": {
      "text/plain": [
       "HBox(children=(HTML(value=''), FloatProgress(value=0.0, max=945.0), HTML(value='')))"
      ],
      "application/vnd.jupyter.widget-view+json": {
       "model_id": "78f5691349e24e2aacbf7bda59003993",
       "version_major": 2,
       "version_minor": 0
      }
     },
     "metadata": {}
    },
    {
     "output_type": "stream",
     "name": "stdout",
     "text": [
      "\n",
      "현재 epoch-2의 train-데이터 셋에서 평균 loss : 0.051, 평균 f1 Score: 0.205, 평균 Accuracy : 0.984\n"
     ]
    },
    {
     "output_type": "display_data",
     "data": {
      "text/plain": [
       "HBox(children=(HTML(value=''), FloatProgress(value=0.0, max=237.0), HTML(value='')))"
      ],
      "application/vnd.jupyter.widget-view+json": {
       "model_id": "89e0e2f44cc54923866c8487e7be6e0a",
       "version_major": 2,
       "version_minor": 0
      }
     },
     "metadata": {}
    },
    {
     "output_type": "stream",
     "name": "stdout",
     "text": [
      "\n",
      "현재 epoch-2의 test-데이터 셋에서 평균 loss : 0.145, 평균 f1 Score: 0.196, 평균 Accuracy : 0.959\n"
     ]
    },
    {
     "output_type": "display_data",
     "data": {
      "text/plain": [
       "HBox(children=(HTML(value=''), FloatProgress(value=0.0, max=945.0), HTML(value='')))"
      ],
      "application/vnd.jupyter.widget-view+json": {
       "model_id": "b36c04a037e247ff86f80b4e00d0fdf7",
       "version_major": 2,
       "version_minor": 0
      }
     },
     "metadata": {}
    },
    {
     "output_type": "stream",
     "name": "stdout",
     "text": [
      "\n",
      "현재 epoch-3의 train-데이터 셋에서 평균 loss : 0.047, 평균 f1 Score: 0.205, 평균 Accuracy : 0.986\n"
     ]
    },
    {
     "output_type": "display_data",
     "data": {
      "text/plain": [
       "HBox(children=(HTML(value=''), FloatProgress(value=0.0, max=237.0), HTML(value='')))"
      ],
      "application/vnd.jupyter.widget-view+json": {
       "model_id": "7df12c2f1d2f45dbb509dd5ca68e3e84",
       "version_major": 2,
       "version_minor": 0
      }
     },
     "metadata": {}
    },
    {
     "output_type": "stream",
     "name": "stdout",
     "text": [
      "\n",
      "현재 epoch-3의 test-데이터 셋에서 평균 loss : 0.086, 평균 f1 Score: 0.197, 평균 Accuracy : 0.973\n"
     ]
    },
    {
     "output_type": "display_data",
     "data": {
      "text/plain": [
       "HBox(children=(HTML(value=''), FloatProgress(value=0.0, max=945.0), HTML(value='')))"
      ],
      "application/vnd.jupyter.widget-view+json": {
       "model_id": "27bf71de7ba34400a8ad99b15799e492",
       "version_major": 2,
       "version_minor": 0
      }
     },
     "metadata": {}
    },
    {
     "output_type": "stream",
     "name": "stdout",
     "text": [
      "\n",
      "현재 epoch-4의 train-데이터 셋에서 평균 loss : 0.040, 평균 f1 Score: 0.207, 평균 Accuracy : 0.988\n"
     ]
    },
    {
     "output_type": "display_data",
     "data": {
      "text/plain": [
       "HBox(children=(HTML(value=''), FloatProgress(value=0.0, max=237.0), HTML(value='')))"
      ],
      "application/vnd.jupyter.widget-view+json": {
       "model_id": "9ce0962eae9247c0ab956fc319414e54",
       "version_major": 2,
       "version_minor": 0
      }
     },
     "metadata": {}
    },
    {
     "output_type": "stream",
     "name": "stdout",
     "text": [
      "\n",
      "현재 epoch-4의 test-데이터 셋에서 평균 loss : 0.050, 평균 f1 Score: 0.196, 평균 Accuracy : 0.987\n",
      "Get best model!\n",
      "학습 종료!\n",
      "최고 accuracy : 0.9873015880584717, 최고 낮은 loss : 0.0498379780537718, 최고 f1 score : 0.19564712047576904\n"
     ]
    }
   ],
   "metadata": {}
  },
  {
   "cell_type": "markdown",
   "source": [
    "## vit"
   ],
   "metadata": {
    "tags": []
   }
  },
  {
   "cell_type": "code",
   "execution_count": 86,
   "source": [
    "torch.cuda.empty_cache()\n",
    "training(Vit_large(18))"
   ],
   "outputs": [
    {
     "output_type": "display_data",
     "data": {
      "text/plain": [
       "HBox(children=(HTML(value=''), FloatProgress(value=0.0, max=945.0), HTML(value='')))"
      ],
      "application/vnd.jupyter.widget-view+json": {
       "model_id": "29e211d947b84ef59cadc09bb2ee6ecd",
       "version_major": 2,
       "version_minor": 0
      }
     },
     "metadata": {}
    },
    {
     "output_type": "stream",
     "name": "stdout",
     "text": [
      "\n",
      "현재 epoch-0의 train-데이터 셋에서 평균 loss : 0.545, 평균 f1 Score: 0.271, 평균 Accuracy : 0.830\n"
     ]
    },
    {
     "output_type": "display_data",
     "data": {
      "text/plain": [
       "HBox(children=(HTML(value=''), FloatProgress(value=0.0, max=237.0), HTML(value='')))"
      ],
      "application/vnd.jupyter.widget-view+json": {
       "model_id": "3a3c43cc6d4c447b942f798a8d14394b",
       "version_major": 2,
       "version_minor": 0
      }
     },
     "metadata": {}
    },
    {
     "output_type": "stream",
     "name": "stdout",
     "text": [
      "\n",
      "현재 epoch-0의 test-데이터 셋에서 평균 loss : 0.295, 평균 f1 Score: 0.203, 평균 Accuracy : 0.897\n",
      "Get best model!\n"
     ]
    },
    {
     "output_type": "display_data",
     "data": {
      "text/plain": [
       "HBox(children=(HTML(value=''), FloatProgress(value=0.0, max=945.0), HTML(value='')))"
      ],
      "application/vnd.jupyter.widget-view+json": {
       "model_id": "95d72107e17e4da1bf8f54629d24002e",
       "version_major": 2,
       "version_minor": 0
      }
     },
     "metadata": {}
    },
    {
     "output_type": "stream",
     "name": "stdout",
     "text": [
      "\n",
      "현재 epoch-1의 train-데이터 셋에서 평균 loss : 0.275, 평균 f1 Score: 0.297, 평균 Accuracy : 0.910\n"
     ]
    },
    {
     "output_type": "display_data",
     "data": {
      "text/plain": [
       "HBox(children=(HTML(value=''), FloatProgress(value=0.0, max=237.0), HTML(value='')))"
      ],
      "application/vnd.jupyter.widget-view+json": {
       "model_id": "980e5a390975469a9c8465621a19c51b",
       "version_major": 2,
       "version_minor": 0
      }
     },
     "metadata": {}
    },
    {
     "output_type": "stream",
     "name": "stdout",
     "text": [
      "\n",
      "현재 epoch-1의 test-데이터 셋에서 평균 loss : 0.321, 평균 f1 Score: 0.203, 평균 Accuracy : 0.893\n"
     ]
    },
    {
     "output_type": "display_data",
     "data": {
      "text/plain": [
       "HBox(children=(HTML(value=''), FloatProgress(value=0.0, max=945.0), HTML(value='')))"
      ],
      "application/vnd.jupyter.widget-view+json": {
       "model_id": "107ffcb5fc2a48e39759964f0f61f677",
       "version_major": 2,
       "version_minor": 0
      }
     },
     "metadata": {}
    },
    {
     "output_type": "stream",
     "name": "stdout",
     "text": [
      "\n",
      "현재 epoch-2의 train-데이터 셋에서 평균 loss : 0.162, 평균 f1 Score: 0.306, 평균 Accuracy : 0.950\n"
     ]
    },
    {
     "output_type": "display_data",
     "data": {
      "text/plain": [
       "HBox(children=(HTML(value=''), FloatProgress(value=0.0, max=237.0), HTML(value='')))"
      ],
      "application/vnd.jupyter.widget-view+json": {
       "model_id": "95a24594418547fd8bd884357855676a",
       "version_major": 2,
       "version_minor": 0
      }
     },
     "metadata": {}
    },
    {
     "output_type": "stream",
     "name": "stdout",
     "text": [
      "\n",
      "현재 epoch-2의 test-데이터 셋에서 평균 loss : 0.427, 평균 f1 Score: 0.213, 평균 Accuracy : 0.859\n",
      "Get best model!\n"
     ]
    },
    {
     "output_type": "display_data",
     "data": {
      "text/plain": [
       "HBox(children=(HTML(value=''), FloatProgress(value=0.0, max=945.0), HTML(value='')))"
      ],
      "application/vnd.jupyter.widget-view+json": {
       "model_id": "ce4da252d9434c30bc065672434d6b48",
       "version_major": 2,
       "version_minor": 0
      }
     },
     "metadata": {}
    },
    {
     "output_type": "stream",
     "name": "stdout",
     "text": [
      "\n",
      "현재 epoch-3의 train-데이터 셋에서 평균 loss : 0.170, 평균 f1 Score: 0.300, 평균 Accuracy : 0.945\n"
     ]
    },
    {
     "output_type": "display_data",
     "data": {
      "text/plain": [
       "HBox(children=(HTML(value=''), FloatProgress(value=0.0, max=237.0), HTML(value='')))"
      ],
      "application/vnd.jupyter.widget-view+json": {
       "model_id": "6344e58193f34acfa2f2c8b29eb5766b",
       "version_major": 2,
       "version_minor": 0
      }
     },
     "metadata": {}
    },
    {
     "output_type": "stream",
     "name": "stdout",
     "text": [
      "\n",
      "현재 epoch-3의 test-데이터 셋에서 평균 loss : 0.214, 평균 f1 Score: 0.214, 평균 Accuracy : 0.933\n",
      "Get best model!\n"
     ]
    },
    {
     "output_type": "display_data",
     "data": {
      "text/plain": [
       "HBox(children=(HTML(value=''), FloatProgress(value=0.0, max=945.0), HTML(value='')))"
      ],
      "application/vnd.jupyter.widget-view+json": {
       "model_id": "01a687a22d524714b202423a1fd6328f",
       "version_major": 2,
       "version_minor": 0
      }
     },
     "metadata": {}
    },
    {
     "output_type": "stream",
     "name": "stdout",
     "text": [
      "\n",
      "현재 epoch-4의 train-데이터 셋에서 평균 loss : 0.109, 평균 f1 Score: 0.303, 평균 Accuracy : 0.967\n"
     ]
    },
    {
     "output_type": "display_data",
     "data": {
      "text/plain": [
       "HBox(children=(HTML(value=''), FloatProgress(value=0.0, max=237.0), HTML(value='')))"
      ],
      "application/vnd.jupyter.widget-view+json": {
       "model_id": "e07d7f7f120a4c37ba40d3412c57ece0",
       "version_major": 2,
       "version_minor": 0
      }
     },
     "metadata": {}
    },
    {
     "output_type": "stream",
     "name": "stdout",
     "text": [
      "\n",
      "현재 epoch-4의 test-데이터 셋에서 평균 loss : 0.163, 평균 f1 Score: 0.206, 평균 Accuracy : 0.951\n",
      "학습 종료!\n",
      "최고 accuracy : 0.9513227939605713, 최고 낮은 loss : 0.16282613948973082, 최고 f1 score : 0.0028347852639853954\n"
     ]
    }
   ],
   "metadata": {}
  },
  {
   "cell_type": "code",
   "execution_count": 87,
   "source": [
    "torch.cuda.empty_cache()\n",
    "training(Vit_base(18))"
   ],
   "outputs": [
    {
     "output_type": "display_data",
     "data": {
      "text/plain": [
       "HBox(children=(HTML(value=''), FloatProgress(value=0.0, max=945.0), HTML(value='')))"
      ],
      "application/vnd.jupyter.widget-view+json": {
       "model_id": "8d0620e7748a4ac99ac117213ab5be12",
       "version_major": 2,
       "version_minor": 0
      }
     },
     "metadata": {}
    },
    {
     "output_type": "stream",
     "name": "stdout",
     "text": [
      "\n",
      "현재 epoch-0의 train-데이터 셋에서 평균 loss : 1.203, 평균 f1 Score: 0.213, 평균 Accuracy : 0.631\n"
     ]
    },
    {
     "output_type": "display_data",
     "data": {
      "text/plain": [
       "HBox(children=(HTML(value=''), FloatProgress(value=0.0, max=237.0), HTML(value='')))"
      ],
      "application/vnd.jupyter.widget-view+json": {
       "model_id": "879cd0eb57014b4a915356d6ce9f0048",
       "version_major": 2,
       "version_minor": 0
      }
     },
     "metadata": {}
    },
    {
     "output_type": "stream",
     "name": "stdout",
     "text": [
      "\n",
      "현재 epoch-0의 test-데이터 셋에서 평균 loss : 0.378, 평균 f1 Score: 0.198, 평균 Accuracy : 0.881\n",
      "Get best model!\n"
     ]
    },
    {
     "output_type": "display_data",
     "data": {
      "text/plain": [
       "HBox(children=(HTML(value=''), FloatProgress(value=0.0, max=945.0), HTML(value='')))"
      ],
      "application/vnd.jupyter.widget-view+json": {
       "model_id": "f4a6a369cebd4ee5953abc6a28b2868f",
       "version_major": 2,
       "version_minor": 0
      }
     },
     "metadata": {}
    },
    {
     "output_type": "stream",
     "name": "stdout",
     "text": [
      "\n",
      "현재 epoch-1의 train-데이터 셋에서 평균 loss : 0.322, 평균 f1 Score: 0.280, 평균 Accuracy : 0.895\n"
     ]
    },
    {
     "output_type": "display_data",
     "data": {
      "text/plain": [
       "HBox(children=(HTML(value=''), FloatProgress(value=0.0, max=237.0), HTML(value='')))"
      ],
      "application/vnd.jupyter.widget-view+json": {
       "model_id": "c2df85c6358e480583aa0dca1f3b1331",
       "version_major": 2,
       "version_minor": 0
      }
     },
     "metadata": {}
    },
    {
     "output_type": "stream",
     "name": "stdout",
     "text": [
      "\n",
      "현재 epoch-1의 test-데이터 셋에서 평균 loss : 0.318, 평균 f1 Score: 0.204, 평균 Accuracy : 0.895\n",
      "Get best model!\n"
     ]
    },
    {
     "output_type": "display_data",
     "data": {
      "text/plain": [
       "HBox(children=(HTML(value=''), FloatProgress(value=0.0, max=945.0), HTML(value='')))"
      ],
      "application/vnd.jupyter.widget-view+json": {
       "model_id": "cf4bf0572e1840b39cbbeeb12059bf66",
       "version_major": 2,
       "version_minor": 0
      }
     },
     "metadata": {}
    },
    {
     "output_type": "stream",
     "name": "stdout",
     "text": [
      "\n",
      "현재 epoch-2의 train-데이터 셋에서 평균 loss : 0.229, 평균 f1 Score: 0.283, 평균 Accuracy : 0.923\n"
     ]
    },
    {
     "output_type": "display_data",
     "data": {
      "text/plain": [
       "HBox(children=(HTML(value=''), FloatProgress(value=0.0, max=237.0), HTML(value='')))"
      ],
      "application/vnd.jupyter.widget-view+json": {
       "model_id": "c1db9b89ed48424296055e2366d773ed",
       "version_major": 2,
       "version_minor": 0
      }
     },
     "metadata": {}
    },
    {
     "output_type": "stream",
     "name": "stdout",
     "text": [
      "\n",
      "현재 epoch-2의 test-데이터 셋에서 평균 loss : 0.235, 평균 f1 Score: 0.196, 평균 Accuracy : 0.922\n"
     ]
    },
    {
     "output_type": "display_data",
     "data": {
      "text/plain": [
       "HBox(children=(HTML(value=''), FloatProgress(value=0.0, max=945.0), HTML(value='')))"
      ],
      "application/vnd.jupyter.widget-view+json": {
       "model_id": "210d423ee7ea48bda391461081862473",
       "version_major": 2,
       "version_minor": 0
      }
     },
     "metadata": {}
    },
    {
     "output_type": "stream",
     "name": "stdout",
     "text": [
      "\n",
      "현재 epoch-3의 train-데이터 셋에서 평균 loss : 0.175, 평균 f1 Score: 0.293, 평균 Accuracy : 0.941\n"
     ]
    },
    {
     "output_type": "display_data",
     "data": {
      "text/plain": [
       "HBox(children=(HTML(value=''), FloatProgress(value=0.0, max=237.0), HTML(value='')))"
      ],
      "application/vnd.jupyter.widget-view+json": {
       "model_id": "4c660bed4fbd458f804bbd0c896d1a63",
       "version_major": 2,
       "version_minor": 0
      }
     },
     "metadata": {}
    },
    {
     "output_type": "stream",
     "name": "stdout",
     "text": [
      "\n",
      "현재 epoch-3의 test-데이터 셋에서 평균 loss : 0.242, 평균 f1 Score: 0.209, 평균 Accuracy : 0.927\n",
      "Get best model!\n"
     ]
    },
    {
     "output_type": "display_data",
     "data": {
      "text/plain": [
       "HBox(children=(HTML(value=''), FloatProgress(value=0.0, max=945.0), HTML(value='')))"
      ],
      "application/vnd.jupyter.widget-view+json": {
       "model_id": "acb6d53195a34b7c8452145b77ff6fe3",
       "version_major": 2,
       "version_minor": 0
      }
     },
     "metadata": {}
    },
    {
     "output_type": "stream",
     "name": "stdout",
     "text": [
      "\n",
      "현재 epoch-4의 train-데이터 셋에서 평균 loss : 0.148, 평균 f1 Score: 0.297, 평균 Accuracy : 0.952\n"
     ]
    },
    {
     "output_type": "display_data",
     "data": {
      "text/plain": [
       "HBox(children=(HTML(value=''), FloatProgress(value=0.0, max=237.0), HTML(value='')))"
      ],
      "application/vnd.jupyter.widget-view+json": {
       "model_id": "0f3f4d87008d4aadbd92f3f7f6da9c04",
       "version_major": 2,
       "version_minor": 0
      }
     },
     "metadata": {}
    },
    {
     "output_type": "stream",
     "name": "stdout",
     "text": [
      "\n",
      "현재 epoch-4의 test-데이터 셋에서 평균 loss : 0.225, 평균 f1 Score: 0.201, 평균 Accuracy : 0.929\n",
      "학습 종료!\n",
      "최고 accuracy : 0.9285714626312256, 최고 낮은 loss : 0.22508089318428012, 최고 f1 score : 0.0028347852639853954\n"
     ]
    }
   ],
   "metadata": {}
  },
  {
   "cell_type": "code",
   "execution_count": 89,
   "source": [
    "torch.cuda.empty_cache()\n",
    "training(Vit_base_resnet50(18))"
   ],
   "outputs": [
    {
     "output_type": "display_data",
     "data": {
      "text/plain": [
       "HBox(children=(HTML(value=''), FloatProgress(value=0.0, max=945.0), HTML(value='')))"
      ],
      "application/vnd.jupyter.widget-view+json": {
       "model_id": "c27c3d333fb2433f999157b7ae84c3b4",
       "version_major": 2,
       "version_minor": 0
      }
     },
     "metadata": {}
    },
    {
     "output_type": "stream",
     "name": "stdout",
     "text": [
      "\n"
     ]
    },
    {
     "output_type": "error",
     "ename": "RuntimeError",
     "evalue": "The size of tensor a (197) must match the size of tensor b (577) at non-singleton dimension 1",
     "traceback": [
      "\u001b[0;31m---------------------------------------------------------------------------\u001b[0m",
      "\u001b[0;31mRuntimeError\u001b[0m                              Traceback (most recent call last)",
      "\u001b[0;32m<ipython-input-89-fbe5510b819c>\u001b[0m in \u001b[0;36m<module>\u001b[0;34m\u001b[0m\n\u001b[1;32m      1\u001b[0m \u001b[0mtorch\u001b[0m\u001b[0;34m.\u001b[0m\u001b[0mcuda\u001b[0m\u001b[0;34m.\u001b[0m\u001b[0mempty_cache\u001b[0m\u001b[0;34m(\u001b[0m\u001b[0;34m)\u001b[0m\u001b[0;34m\u001b[0m\u001b[0;34m\u001b[0m\u001b[0m\n\u001b[0;32m----> 2\u001b[0;31m \u001b[0mtraining\u001b[0m\u001b[0;34m(\u001b[0m\u001b[0mVit_base_resnet50\u001b[0m\u001b[0;34m(\u001b[0m\u001b[0;36m18\u001b[0m\u001b[0;34m)\u001b[0m\u001b[0;34m)\u001b[0m\u001b[0;34m\u001b[0m\u001b[0;34m\u001b[0m\u001b[0m\n\u001b[0m",
      "\u001b[0;32m<ipython-input-82-cdfd3aeeea1f>\u001b[0m in \u001b[0;36mtraining\u001b[0;34m(Model)\u001b[0m\n\u001b[1;32m     47\u001b[0m \u001b[0;34m\u001b[0m\u001b[0m\n\u001b[1;32m     48\u001b[0m           \u001b[0;32mwith\u001b[0m \u001b[0mtorch\u001b[0m\u001b[0;34m.\u001b[0m\u001b[0mset_grad_enabled\u001b[0m\u001b[0;34m(\u001b[0m\u001b[0mphase\u001b[0m \u001b[0;34m==\u001b[0m \u001b[0;34m\"train\"\u001b[0m\u001b[0;34m)\u001b[0m\u001b[0;34m:\u001b[0m \u001b[0;31m# train 모드일 시에는 gradient를 계산하고, 아닐 때는 gradient를 계산하지 않아 연산량 최소화\u001b[0m\u001b[0;34m\u001b[0m\u001b[0;34m\u001b[0m\u001b[0m\n\u001b[0;32m---> 49\u001b[0;31m             \u001b[0mlogits\u001b[0m \u001b[0;34m=\u001b[0m \u001b[0mtarget_model\u001b[0m\u001b[0;34m(\u001b[0m\u001b[0mimages\u001b[0m\u001b[0;34m)\u001b[0m\u001b[0;34m\u001b[0m\u001b[0;34m\u001b[0m\u001b[0m\n\u001b[0m\u001b[1;32m     50\u001b[0m             \u001b[0m_\u001b[0m\u001b[0;34m,\u001b[0m \u001b[0mpreds\u001b[0m \u001b[0;34m=\u001b[0m \u001b[0mtorch\u001b[0m\u001b[0;34m.\u001b[0m\u001b[0mmax\u001b[0m\u001b[0;34m(\u001b[0m\u001b[0mlogits\u001b[0m\u001b[0;34m,\u001b[0m \u001b[0;36m1\u001b[0m\u001b[0;34m)\u001b[0m \u001b[0;31m# 모델에서 linear 값으로 나오는 예측 값 ([0.9,1.2, 3.2,0.1,-0.1,...])을 최대 output index를 찾아 예측 레이블([2])로 변경함\u001b[0m\u001b[0;34m\u001b[0m\u001b[0;34m\u001b[0m\u001b[0m\n\u001b[1;32m     51\u001b[0m             \u001b[0mloss\u001b[0m \u001b[0;34m=\u001b[0m \u001b[0mloss_fn\u001b[0m\u001b[0;34m(\u001b[0m\u001b[0mlogits\u001b[0m\u001b[0;34m,\u001b[0m \u001b[0mlabels\u001b[0m\u001b[0;34m)\u001b[0m\u001b[0;34m\u001b[0m\u001b[0;34m\u001b[0m\u001b[0m\n",
      "\u001b[0;32m/opt/conda/lib/python3.8/site-packages/torch/nn/modules/module.py\u001b[0m in \u001b[0;36m_call_impl\u001b[0;34m(self, *input, **kwargs)\u001b[0m\n\u001b[1;32m    720\u001b[0m             \u001b[0mresult\u001b[0m \u001b[0;34m=\u001b[0m \u001b[0mself\u001b[0m\u001b[0;34m.\u001b[0m\u001b[0m_slow_forward\u001b[0m\u001b[0;34m(\u001b[0m\u001b[0;34m*\u001b[0m\u001b[0minput\u001b[0m\u001b[0;34m,\u001b[0m \u001b[0;34m**\u001b[0m\u001b[0mkwargs\u001b[0m\u001b[0;34m)\u001b[0m\u001b[0;34m\u001b[0m\u001b[0;34m\u001b[0m\u001b[0m\n\u001b[1;32m    721\u001b[0m         \u001b[0;32melse\u001b[0m\u001b[0;34m:\u001b[0m\u001b[0;34m\u001b[0m\u001b[0;34m\u001b[0m\u001b[0m\n\u001b[0;32m--> 722\u001b[0;31m             \u001b[0mresult\u001b[0m \u001b[0;34m=\u001b[0m \u001b[0mself\u001b[0m\u001b[0;34m.\u001b[0m\u001b[0mforward\u001b[0m\u001b[0;34m(\u001b[0m\u001b[0;34m*\u001b[0m\u001b[0minput\u001b[0m\u001b[0;34m,\u001b[0m \u001b[0;34m**\u001b[0m\u001b[0mkwargs\u001b[0m\u001b[0;34m)\u001b[0m\u001b[0;34m\u001b[0m\u001b[0;34m\u001b[0m\u001b[0m\n\u001b[0m\u001b[1;32m    723\u001b[0m         for hook in itertools.chain(\n\u001b[1;32m    724\u001b[0m                 \u001b[0m_global_forward_hooks\u001b[0m\u001b[0;34m.\u001b[0m\u001b[0mvalues\u001b[0m\u001b[0;34m(\u001b[0m\u001b[0;34m)\u001b[0m\u001b[0;34m,\u001b[0m\u001b[0;34m\u001b[0m\u001b[0;34m\u001b[0m\u001b[0m\n",
      "\u001b[0;32m<ipython-input-48-31371add5507>\u001b[0m in \u001b[0;36mforward\u001b[0;34m(self, x)\u001b[0m\n\u001b[1;32m     22\u001b[0m         \u001b[0;36m2.\u001b[0m \u001b[0m결과로\u001b[0m \u001b[0m나온\u001b[0m \u001b[0moutput\u001b[0m \u001b[0m을\u001b[0m \u001b[0;32mreturn\u001b[0m \u001b[0m해주세요\u001b[0m\u001b[0;34m\u001b[0m\u001b[0;34m\u001b[0m\u001b[0m\n\u001b[1;32m     23\u001b[0m         \"\"\"\n\u001b[0;32m---> 24\u001b[0;31m         \u001b[0mx\u001b[0m \u001b[0;34m=\u001b[0m \u001b[0mself\u001b[0m\u001b[0;34m.\u001b[0m\u001b[0mmodel\u001b[0m\u001b[0;34m(\u001b[0m\u001b[0mx\u001b[0m\u001b[0;34m)\u001b[0m\u001b[0;34m\u001b[0m\u001b[0;34m\u001b[0m\u001b[0m\n\u001b[0m\u001b[1;32m     25\u001b[0m         \u001b[0;32mreturn\u001b[0m \u001b[0mx\u001b[0m\u001b[0;34m\u001b[0m\u001b[0;34m\u001b[0m\u001b[0m\n",
      "\u001b[0;32m/opt/conda/lib/python3.8/site-packages/torch/nn/modules/module.py\u001b[0m in \u001b[0;36m_call_impl\u001b[0;34m(self, *input, **kwargs)\u001b[0m\n\u001b[1;32m    720\u001b[0m             \u001b[0mresult\u001b[0m \u001b[0;34m=\u001b[0m \u001b[0mself\u001b[0m\u001b[0;34m.\u001b[0m\u001b[0m_slow_forward\u001b[0m\u001b[0;34m(\u001b[0m\u001b[0;34m*\u001b[0m\u001b[0minput\u001b[0m\u001b[0;34m,\u001b[0m \u001b[0;34m**\u001b[0m\u001b[0mkwargs\u001b[0m\u001b[0;34m)\u001b[0m\u001b[0;34m\u001b[0m\u001b[0;34m\u001b[0m\u001b[0m\n\u001b[1;32m    721\u001b[0m         \u001b[0;32melse\u001b[0m\u001b[0;34m:\u001b[0m\u001b[0;34m\u001b[0m\u001b[0;34m\u001b[0m\u001b[0m\n\u001b[0;32m--> 722\u001b[0;31m             \u001b[0mresult\u001b[0m \u001b[0;34m=\u001b[0m \u001b[0mself\u001b[0m\u001b[0;34m.\u001b[0m\u001b[0mforward\u001b[0m\u001b[0;34m(\u001b[0m\u001b[0;34m*\u001b[0m\u001b[0minput\u001b[0m\u001b[0;34m,\u001b[0m \u001b[0;34m**\u001b[0m\u001b[0mkwargs\u001b[0m\u001b[0;34m)\u001b[0m\u001b[0;34m\u001b[0m\u001b[0;34m\u001b[0m\u001b[0m\n\u001b[0m\u001b[1;32m    723\u001b[0m         for hook in itertools.chain(\n\u001b[1;32m    724\u001b[0m                 \u001b[0m_global_forward_hooks\u001b[0m\u001b[0;34m.\u001b[0m\u001b[0mvalues\u001b[0m\u001b[0;34m(\u001b[0m\u001b[0;34m)\u001b[0m\u001b[0;34m,\u001b[0m\u001b[0;34m\u001b[0m\u001b[0;34m\u001b[0m\u001b[0m\n",
      "\u001b[0;32m/opt/conda/lib/python3.8/site-packages/timm/models/vision_transformer.py\u001b[0m in \u001b[0;36mforward\u001b[0;34m(self, x)\u001b[0m\n\u001b[1;32m    345\u001b[0m \u001b[0;34m\u001b[0m\u001b[0m\n\u001b[1;32m    346\u001b[0m     \u001b[0;32mdef\u001b[0m \u001b[0mforward\u001b[0m\u001b[0;34m(\u001b[0m\u001b[0mself\u001b[0m\u001b[0;34m,\u001b[0m \u001b[0mx\u001b[0m\u001b[0;34m)\u001b[0m\u001b[0;34m:\u001b[0m\u001b[0;34m\u001b[0m\u001b[0;34m\u001b[0m\u001b[0m\n\u001b[0;32m--> 347\u001b[0;31m         \u001b[0mx\u001b[0m \u001b[0;34m=\u001b[0m \u001b[0mself\u001b[0m\u001b[0;34m.\u001b[0m\u001b[0mforward_features\u001b[0m\u001b[0;34m(\u001b[0m\u001b[0mx\u001b[0m\u001b[0;34m)\u001b[0m\u001b[0;34m\u001b[0m\u001b[0;34m\u001b[0m\u001b[0m\n\u001b[0m\u001b[1;32m    348\u001b[0m         \u001b[0;32mif\u001b[0m \u001b[0mself\u001b[0m\u001b[0;34m.\u001b[0m\u001b[0mhead_dist\u001b[0m \u001b[0;32mis\u001b[0m \u001b[0;32mnot\u001b[0m \u001b[0;32mNone\u001b[0m\u001b[0;34m:\u001b[0m\u001b[0;34m\u001b[0m\u001b[0;34m\u001b[0m\u001b[0m\n\u001b[1;32m    349\u001b[0m             \u001b[0mx\u001b[0m\u001b[0;34m,\u001b[0m \u001b[0mx_dist\u001b[0m \u001b[0;34m=\u001b[0m \u001b[0mself\u001b[0m\u001b[0;34m.\u001b[0m\u001b[0mhead\u001b[0m\u001b[0;34m(\u001b[0m\u001b[0mx\u001b[0m\u001b[0;34m[\u001b[0m\u001b[0;36m0\u001b[0m\u001b[0;34m]\u001b[0m\u001b[0;34m)\u001b[0m\u001b[0;34m,\u001b[0m \u001b[0mself\u001b[0m\u001b[0;34m.\u001b[0m\u001b[0mhead_dist\u001b[0m\u001b[0;34m(\u001b[0m\u001b[0mx\u001b[0m\u001b[0;34m[\u001b[0m\u001b[0;36m1\u001b[0m\u001b[0;34m]\u001b[0m\u001b[0;34m)\u001b[0m  \u001b[0;31m# x must be a tuple\u001b[0m\u001b[0;34m\u001b[0m\u001b[0;34m\u001b[0m\u001b[0m\n",
      "\u001b[0;32m/opt/conda/lib/python3.8/site-packages/timm/models/vision_transformer.py\u001b[0m in \u001b[0;36mforward_features\u001b[0;34m(self, x)\u001b[0m\n\u001b[1;32m    336\u001b[0m         \u001b[0;32melse\u001b[0m\u001b[0;34m:\u001b[0m\u001b[0;34m\u001b[0m\u001b[0;34m\u001b[0m\u001b[0m\n\u001b[1;32m    337\u001b[0m             \u001b[0mx\u001b[0m \u001b[0;34m=\u001b[0m \u001b[0mtorch\u001b[0m\u001b[0;34m.\u001b[0m\u001b[0mcat\u001b[0m\u001b[0;34m(\u001b[0m\u001b[0;34m(\u001b[0m\u001b[0mcls_token\u001b[0m\u001b[0;34m,\u001b[0m \u001b[0mself\u001b[0m\u001b[0;34m.\u001b[0m\u001b[0mdist_token\u001b[0m\u001b[0;34m.\u001b[0m\u001b[0mexpand\u001b[0m\u001b[0;34m(\u001b[0m\u001b[0mx\u001b[0m\u001b[0;34m.\u001b[0m\u001b[0mshape\u001b[0m\u001b[0;34m[\u001b[0m\u001b[0;36m0\u001b[0m\u001b[0;34m]\u001b[0m\u001b[0;34m,\u001b[0m \u001b[0;34m-\u001b[0m\u001b[0;36m1\u001b[0m\u001b[0;34m,\u001b[0m \u001b[0;34m-\u001b[0m\u001b[0;36m1\u001b[0m\u001b[0;34m)\u001b[0m\u001b[0;34m,\u001b[0m \u001b[0mx\u001b[0m\u001b[0;34m)\u001b[0m\u001b[0;34m,\u001b[0m \u001b[0mdim\u001b[0m\u001b[0;34m=\u001b[0m\u001b[0;36m1\u001b[0m\u001b[0;34m)\u001b[0m\u001b[0;34m\u001b[0m\u001b[0;34m\u001b[0m\u001b[0m\n\u001b[0;32m--> 338\u001b[0;31m         \u001b[0mx\u001b[0m \u001b[0;34m=\u001b[0m \u001b[0mself\u001b[0m\u001b[0;34m.\u001b[0m\u001b[0mpos_drop\u001b[0m\u001b[0;34m(\u001b[0m\u001b[0mx\u001b[0m \u001b[0;34m+\u001b[0m \u001b[0mself\u001b[0m\u001b[0;34m.\u001b[0m\u001b[0mpos_embed\u001b[0m\u001b[0;34m)\u001b[0m\u001b[0;34m\u001b[0m\u001b[0;34m\u001b[0m\u001b[0m\n\u001b[0m\u001b[1;32m    339\u001b[0m         \u001b[0mx\u001b[0m \u001b[0;34m=\u001b[0m \u001b[0mself\u001b[0m\u001b[0;34m.\u001b[0m\u001b[0mblocks\u001b[0m\u001b[0;34m(\u001b[0m\u001b[0mx\u001b[0m\u001b[0;34m)\u001b[0m\u001b[0;34m\u001b[0m\u001b[0;34m\u001b[0m\u001b[0m\n\u001b[1;32m    340\u001b[0m         \u001b[0mx\u001b[0m \u001b[0;34m=\u001b[0m \u001b[0mself\u001b[0m\u001b[0;34m.\u001b[0m\u001b[0mnorm\u001b[0m\u001b[0;34m(\u001b[0m\u001b[0mx\u001b[0m\u001b[0;34m)\u001b[0m\u001b[0;34m\u001b[0m\u001b[0;34m\u001b[0m\u001b[0m\n",
      "\u001b[0;31mRuntimeError\u001b[0m: The size of tensor a (197) must match the size of tensor b (577) at non-singleton dimension 1"
     ]
    }
   ],
   "metadata": {}
  },
  {
   "cell_type": "markdown",
   "source": [
    "## efficientnet_pruned"
   ],
   "metadata": {}
  },
  {
   "cell_type": "code",
   "execution_count": 51,
   "source": [
    "torch.cuda.empty_cache()\n",
    "model_b1_pruned = training(efficientnet_b1_pruned(18))"
   ],
   "outputs": [
    {
     "output_type": "display_data",
     "data": {
      "text/plain": [
       "HBox(children=(HTML(value=''), FloatProgress(value=0.0, max=945.0), HTML(value='')))"
      ],
      "application/vnd.jupyter.widget-view+json": {
       "model_id": "38bc0a8d084149a0b50b3e35db2f2423",
       "version_major": 2,
       "version_minor": 0
      }
     },
     "metadata": {}
    },
    {
     "output_type": "stream",
     "name": "stdout",
     "text": [
      "\n",
      "현재 epoch-0의 train-데이터 셋에서 평균 loss : 0.481, 평균 f1 Score: 0.219, 평균 Accuracy : 0.862\n"
     ]
    },
    {
     "output_type": "display_data",
     "data": {
      "text/plain": [
       "HBox(children=(HTML(value=''), FloatProgress(value=0.0, max=237.0), HTML(value='')))"
      ],
      "application/vnd.jupyter.widget-view+json": {
       "model_id": "7bb2008f0f844937bd6ff0ad48451713",
       "version_major": 2,
       "version_minor": 0
      }
     },
     "metadata": {}
    },
    {
     "output_type": "stream",
     "name": "stdout",
     "text": [
      "\n",
      "현재 epoch-0의 test-데이터 셋에서 평균 loss : 0.202, 평균 f1 Score: 0.197, 평균 Accuracy : 0.941\n",
      "Get best model!\n"
     ]
    },
    {
     "output_type": "display_data",
     "data": {
      "text/plain": [
       "HBox(children=(HTML(value=''), FloatProgress(value=0.0, max=945.0), HTML(value='')))"
      ],
      "application/vnd.jupyter.widget-view+json": {
       "model_id": "22f9f9ebdc3c4b3d8e63ceb2f7f07df0",
       "version_major": 2,
       "version_minor": 0
      }
     },
     "metadata": {}
    },
    {
     "output_type": "stream",
     "name": "stdout",
     "text": [
      "\n",
      "현재 epoch-1의 train-데이터 셋에서 평균 loss : 0.123, 평균 f1 Score: 0.207, 평균 Accuracy : 0.960\n"
     ]
    },
    {
     "output_type": "display_data",
     "data": {
      "text/plain": [
       "HBox(children=(HTML(value=''), FloatProgress(value=0.0, max=237.0), HTML(value='')))"
      ],
      "application/vnd.jupyter.widget-view+json": {
       "model_id": "ce5e5a5c9a864e199eb006acca3e0fbe",
       "version_major": 2,
       "version_minor": 0
      }
     },
     "metadata": {}
    },
    {
     "output_type": "stream",
     "name": "stdout",
     "text": [
      "\n",
      "현재 epoch-1의 test-데이터 셋에서 평균 loss : 0.105, 평균 f1 Score: 0.196, 평균 Accuracy : 0.964\n",
      "Get best model!\n"
     ]
    },
    {
     "output_type": "display_data",
     "data": {
      "text/plain": [
       "HBox(children=(HTML(value=''), FloatProgress(value=0.0, max=945.0), HTML(value='')))"
      ],
      "application/vnd.jupyter.widget-view+json": {
       "model_id": "d14c91c919f742e1a3e660f0bc129a06",
       "version_major": 2,
       "version_minor": 0
      }
     },
     "metadata": {}
    },
    {
     "output_type": "stream",
     "name": "stdout",
     "text": [
      "\n",
      "현재 epoch-2의 train-데이터 셋에서 평균 loss : 0.049, 평균 f1 Score: 0.205, 평균 Accuracy : 0.986\n"
     ]
    },
    {
     "output_type": "display_data",
     "data": {
      "text/plain": [
       "HBox(children=(HTML(value=''), FloatProgress(value=0.0, max=237.0), HTML(value='')))"
      ],
      "application/vnd.jupyter.widget-view+json": {
       "model_id": "c7935c58cfe9449180fc0b82b451054f",
       "version_major": 2,
       "version_minor": 0
      }
     },
     "metadata": {}
    },
    {
     "output_type": "stream",
     "name": "stdout",
     "text": [
      "\n",
      "현재 epoch-2의 test-데이터 셋에서 평균 loss : 0.076, 평균 f1 Score: 0.192, 평균 Accuracy : 0.972\n",
      "Get best model!\n"
     ]
    },
    {
     "output_type": "display_data",
     "data": {
      "text/plain": [
       "HBox(children=(HTML(value=''), FloatProgress(value=0.0, max=945.0), HTML(value='')))"
      ],
      "application/vnd.jupyter.widget-view+json": {
       "model_id": "d5bfef3c1bab4f02955d8800c1d5de21",
       "version_major": 2,
       "version_minor": 0
      }
     },
     "metadata": {}
    },
    {
     "output_type": "stream",
     "name": "stdout",
     "text": [
      "\n",
      "현재 epoch-3의 train-데이터 셋에서 평균 loss : 0.033, 평균 f1 Score: 0.205, 평균 Accuracy : 0.991\n"
     ]
    },
    {
     "output_type": "display_data",
     "data": {
      "text/plain": [
       "HBox(children=(HTML(value=''), FloatProgress(value=0.0, max=237.0), HTML(value='')))"
      ],
      "application/vnd.jupyter.widget-view+json": {
       "model_id": "f490e7c2c72d4b96a5b19a8dbc12be8c",
       "version_major": 2,
       "version_minor": 0
      }
     },
     "metadata": {}
    },
    {
     "output_type": "stream",
     "name": "stdout",
     "text": [
      "\n",
      "현재 epoch-3의 test-데이터 셋에서 평균 loss : 0.049, 평균 f1 Score: 0.186, 평균 Accuracy : 0.985\n",
      "Get best model!\n"
     ]
    },
    {
     "output_type": "display_data",
     "data": {
      "text/plain": [
       "HBox(children=(HTML(value=''), FloatProgress(value=0.0, max=945.0), HTML(value='')))"
      ],
      "application/vnd.jupyter.widget-view+json": {
       "model_id": "9f59a0aa80824b81aacbe93305e310f3",
       "version_major": 2,
       "version_minor": 0
      }
     },
     "metadata": {}
    },
    {
     "output_type": "stream",
     "name": "stdout",
     "text": [
      "\n",
      "현재 epoch-4의 train-데이터 셋에서 평균 loss : 0.030, 평균 f1 Score: 0.197, 평균 Accuracy : 0.991\n"
     ]
    },
    {
     "output_type": "display_data",
     "data": {
      "text/plain": [
       "HBox(children=(HTML(value=''), FloatProgress(value=0.0, max=237.0), HTML(value='')))"
      ],
      "application/vnd.jupyter.widget-view+json": {
       "model_id": "19bf468b3c3c4ea49272a905ff4b1199",
       "version_major": 2,
       "version_minor": 0
      }
     },
     "metadata": {}
    },
    {
     "output_type": "stream",
     "name": "stdout",
     "text": [
      "\n",
      "현재 epoch-4의 test-데이터 셋에서 평균 loss : 0.083, 평균 f1 Score: 0.182, 평균 Accuracy : 0.976\n",
      "학습 종료!\n",
      "최고 accuracy : 0.9846560955047607, 최고 낮은 loss : 0.04934669828984644, 최고 f1 score : 0.18570572137832642\n"
     ]
    }
   ],
   "metadata": {}
  },
  {
   "cell_type": "code",
   "execution_count": 63,
   "source": [
    "torch.cuda.empty_cache()\n",
    "training(efficientnet_b2_pruned(18))"
   ],
   "outputs": [
    {
     "output_type": "display_data",
     "data": {
      "text/plain": [
       "HBox(children=(HTML(value=''), FloatProgress(value=0.0, max=945.0), HTML(value='')))"
      ],
      "application/vnd.jupyter.widget-view+json": {
       "model_id": "fbdcf18b1f014f6a8b037d91aee7e955",
       "version_major": 2,
       "version_minor": 0
      }
     },
     "metadata": {}
    },
    {
     "output_type": "stream",
     "name": "stdout",
     "text": [
      "\n",
      "현재 epoch-0의 train-데이터 셋에서 평균 loss : 0.522, 평균 f1 Score: 0.202, 평균 Accuracy : 0.840\n"
     ]
    },
    {
     "output_type": "display_data",
     "data": {
      "text/plain": [
       "HBox(children=(HTML(value=''), FloatProgress(value=0.0, max=237.0), HTML(value='')))"
      ],
      "application/vnd.jupyter.widget-view+json": {
       "model_id": "dbd3797463a0435a8dd53a35ea071571",
       "version_major": 2,
       "version_minor": 0
      }
     },
     "metadata": {}
    },
    {
     "output_type": "stream",
     "name": "stdout",
     "text": [
      "\n",
      "현재 epoch-0의 test-데이터 셋에서 평균 loss : 0.190, 평균 f1 Score: 0.197, 평균 Accuracy : 0.936\n",
      "Get best model!\n"
     ]
    },
    {
     "output_type": "display_data",
     "data": {
      "text/plain": [
       "HBox(children=(HTML(value=''), FloatProgress(value=0.0, max=945.0), HTML(value='')))"
      ],
      "application/vnd.jupyter.widget-view+json": {
       "model_id": "2759e9ecd7e143f0a2cad3a5439e4615",
       "version_major": 2,
       "version_minor": 0
      }
     },
     "metadata": {}
    },
    {
     "output_type": "stream",
     "name": "stdout",
     "text": [
      "\n",
      "현재 epoch-1의 train-데이터 셋에서 평균 loss : 0.139, 평균 f1 Score: 0.202, 평균 Accuracy : 0.955\n"
     ]
    },
    {
     "output_type": "display_data",
     "data": {
      "text/plain": [
       "HBox(children=(HTML(value=''), FloatProgress(value=0.0, max=237.0), HTML(value='')))"
      ],
      "application/vnd.jupyter.widget-view+json": {
       "model_id": "cebbd712949340a8bafa5eddfb12f3b1",
       "version_major": 2,
       "version_minor": 0
      }
     },
     "metadata": {}
    },
    {
     "output_type": "stream",
     "name": "stdout",
     "text": [
      "\n",
      "현재 epoch-1의 test-데이터 셋에서 평균 loss : 0.125, 평균 f1 Score: 0.192, 평균 Accuracy : 0.962\n",
      "Get best model!\n"
     ]
    },
    {
     "output_type": "display_data",
     "data": {
      "text/plain": [
       "HBox(children=(HTML(value=''), FloatProgress(value=0.0, max=945.0), HTML(value='')))"
      ],
      "application/vnd.jupyter.widget-view+json": {
       "model_id": "0b668f68fe92436eb7d366126292ae5f",
       "version_major": 2,
       "version_minor": 0
      }
     },
     "metadata": {}
    },
    {
     "output_type": "stream",
     "name": "stdout",
     "text": [
      "\n",
      "현재 epoch-2의 train-데이터 셋에서 평균 loss : 0.066, 평균 f1 Score: 0.203, 평균 Accuracy : 0.979\n"
     ]
    },
    {
     "output_type": "display_data",
     "data": {
      "text/plain": [
       "HBox(children=(HTML(value=''), FloatProgress(value=0.0, max=237.0), HTML(value='')))"
      ],
      "application/vnd.jupyter.widget-view+json": {
       "model_id": "b28f2776578b449eb5a3e75e62f233e0",
       "version_major": 2,
       "version_minor": 0
      }
     },
     "metadata": {}
    },
    {
     "output_type": "stream",
     "name": "stdout",
     "text": [
      "\n",
      "현재 epoch-2의 test-데이터 셋에서 평균 loss : 0.083, 평균 f1 Score: 0.188, 평균 Accuracy : 0.975\n",
      "Get best model!\n"
     ]
    },
    {
     "output_type": "display_data",
     "data": {
      "text/plain": [
       "HBox(children=(HTML(value=''), FloatProgress(value=0.0, max=945.0), HTML(value='')))"
      ],
      "application/vnd.jupyter.widget-view+json": {
       "model_id": "97786bceb1684b92be91dcd93c84625b",
       "version_major": 2,
       "version_minor": 0
      }
     },
     "metadata": {}
    },
    {
     "output_type": "stream",
     "name": "stdout",
     "text": [
      "\n",
      "현재 epoch-3의 train-데이터 셋에서 평균 loss : 0.042, 평균 f1 Score: 0.196, 평균 Accuracy : 0.987\n"
     ]
    },
    {
     "output_type": "display_data",
     "data": {
      "text/plain": [
       "HBox(children=(HTML(value=''), FloatProgress(value=0.0, max=237.0), HTML(value='')))"
      ],
      "application/vnd.jupyter.widget-view+json": {
       "model_id": "4541d60a4b0f41e28a560e7a5a9f8647",
       "version_major": 2,
       "version_minor": 0
      }
     },
     "metadata": {}
    },
    {
     "output_type": "stream",
     "name": "stdout",
     "text": [
      "\n",
      "현재 epoch-3의 test-데이터 셋에서 평균 loss : 0.090, 평균 f1 Score: 0.187, 평균 Accuracy : 0.971\n"
     ]
    },
    {
     "output_type": "display_data",
     "data": {
      "text/plain": [
       "HBox(children=(HTML(value=''), FloatProgress(value=0.0, max=945.0), HTML(value='')))"
      ],
      "application/vnd.jupyter.widget-view+json": {
       "model_id": "26320cd94da042daa76c23d8b0bf8161",
       "version_major": 2,
       "version_minor": 0
      }
     },
     "metadata": {}
    },
    {
     "output_type": "stream",
     "name": "stdout",
     "text": [
      "\n",
      "현재 epoch-4의 train-데이터 셋에서 평균 loss : 0.036, 평균 f1 Score: 0.198, 평균 Accuracy : 0.989\n"
     ]
    },
    {
     "output_type": "display_data",
     "data": {
      "text/plain": [
       "HBox(children=(HTML(value=''), FloatProgress(value=0.0, max=237.0), HTML(value='')))"
      ],
      "application/vnd.jupyter.widget-view+json": {
       "model_id": "cfbdf046312d41f89e1d86e47117a5aa",
       "version_major": 2,
       "version_minor": 0
      }
     },
     "metadata": {}
    },
    {
     "output_type": "stream",
     "name": "stdout",
     "text": [
      "\n",
      "현재 epoch-4의 test-데이터 셋에서 평균 loss : 0.071, 평균 f1 Score: 0.186, 평균 Accuracy : 0.980\n",
      "Get best model!\n",
      "학습 종료!\n",
      "최고 accuracy : 0.97989422082901, 최고 낮은 loss : 0.07068138973713975, 최고 f1 score : 0.186245858669281\n"
     ]
    }
   ],
   "metadata": {}
  },
  {
   "cell_type": "code",
   "execution_count": 64,
   "source": [
    "torch.cuda.empty_cache()\n",
    "training(efficientnet_b3_pruned(18))"
   ],
   "outputs": [
    {
     "output_type": "display_data",
     "data": {
      "text/plain": [
       "HBox(children=(HTML(value=''), FloatProgress(value=0.0, max=945.0), HTML(value='')))"
      ],
      "application/vnd.jupyter.widget-view+json": {
       "model_id": "dbfbba2e8b984a078b37bf18fa0ca4c7",
       "version_major": 2,
       "version_minor": 0
      }
     },
     "metadata": {}
    },
    {
     "output_type": "stream",
     "name": "stdout",
     "text": [
      "\n",
      "현재 epoch-0의 train-데이터 셋에서 평균 loss : 0.463, 평균 f1 Score: 0.227, 평균 Accuracy : 0.854\n"
     ]
    },
    {
     "output_type": "display_data",
     "data": {
      "text/plain": [
       "HBox(children=(HTML(value=''), FloatProgress(value=0.0, max=237.0), HTML(value='')))"
      ],
      "application/vnd.jupyter.widget-view+json": {
       "model_id": "7dff952aa941459c985ae482ff837a34",
       "version_major": 2,
       "version_minor": 0
      }
     },
     "metadata": {}
    },
    {
     "output_type": "stream",
     "name": "stdout",
     "text": [
      "\n",
      "현재 epoch-0의 test-데이터 셋에서 평균 loss : 0.188, 평균 f1 Score: 0.211, 평균 Accuracy : 0.932\n",
      "Get best model!\n"
     ]
    },
    {
     "output_type": "display_data",
     "data": {
      "text/plain": [
       "HBox(children=(HTML(value=''), FloatProgress(value=0.0, max=945.0), HTML(value='')))"
      ],
      "application/vnd.jupyter.widget-view+json": {
       "model_id": "920d1263556345079fc4022da88898ad",
       "version_major": 2,
       "version_minor": 0
      }
     },
     "metadata": {}
    },
    {
     "output_type": "stream",
     "name": "stdout",
     "text": [
      "\n",
      "현재 epoch-1의 train-데이터 셋에서 평균 loss : 0.158, 평균 f1 Score: 0.207, 평균 Accuracy : 0.947\n"
     ]
    },
    {
     "output_type": "display_data",
     "data": {
      "text/plain": [
       "HBox(children=(HTML(value=''), FloatProgress(value=0.0, max=237.0), HTML(value='')))"
      ],
      "application/vnd.jupyter.widget-view+json": {
       "model_id": "aa90937dbe0c4011877d706bf6f4a041",
       "version_major": 2,
       "version_minor": 0
      }
     },
     "metadata": {}
    },
    {
     "output_type": "stream",
     "name": "stdout",
     "text": [
      "\n",
      "현재 epoch-1의 test-데이터 셋에서 평균 loss : 0.132, 평균 f1 Score: 0.204, 평균 Accuracy : 0.956\n",
      "Get best model!\n"
     ]
    },
    {
     "output_type": "display_data",
     "data": {
      "text/plain": [
       "HBox(children=(HTML(value=''), FloatProgress(value=0.0, max=945.0), HTML(value='')))"
      ],
      "application/vnd.jupyter.widget-view+json": {
       "model_id": "a719f03a0eb348d5b77acdb693e439ea",
       "version_major": 2,
       "version_minor": 0
      }
     },
     "metadata": {}
    },
    {
     "output_type": "stream",
     "name": "stdout",
     "text": [
      "\n",
      "현재 epoch-2의 train-데이터 셋에서 평균 loss : 0.084, 평균 f1 Score: 0.206, 평균 Accuracy : 0.972\n"
     ]
    },
    {
     "output_type": "display_data",
     "data": {
      "text/plain": [
       "HBox(children=(HTML(value=''), FloatProgress(value=0.0, max=237.0), HTML(value='')))"
      ],
      "application/vnd.jupyter.widget-view+json": {
       "model_id": "e5a13831ff38453296f808f4fa162938",
       "version_major": 2,
       "version_minor": 0
      }
     },
     "metadata": {}
    },
    {
     "output_type": "stream",
     "name": "stdout",
     "text": [
      "\n",
      "현재 epoch-2의 test-데이터 셋에서 평균 loss : 0.111, 평균 f1 Score: 0.211, 평균 Accuracy : 0.966\n",
      "Get best model!\n"
     ]
    },
    {
     "output_type": "display_data",
     "data": {
      "text/plain": [
       "HBox(children=(HTML(value=''), FloatProgress(value=0.0, max=945.0), HTML(value='')))"
      ],
      "application/vnd.jupyter.widget-view+json": {
       "model_id": "01fa7d2e8ed74014a6668a3cf6197b91",
       "version_major": 2,
       "version_minor": 0
      }
     },
     "metadata": {}
    },
    {
     "output_type": "stream",
     "name": "stdout",
     "text": [
      "\n",
      "현재 epoch-3의 train-데이터 셋에서 평균 loss : 0.058, 평균 f1 Score: 0.208, 평균 Accuracy : 0.981\n"
     ]
    },
    {
     "output_type": "display_data",
     "data": {
      "text/plain": [
       "HBox(children=(HTML(value=''), FloatProgress(value=0.0, max=237.0), HTML(value='')))"
      ],
      "application/vnd.jupyter.widget-view+json": {
       "model_id": "4fca430de8e242d58b7927fb897358b8",
       "version_major": 2,
       "version_minor": 0
      }
     },
     "metadata": {}
    },
    {
     "output_type": "stream",
     "name": "stdout",
     "text": [
      "\n",
      "현재 epoch-3의 test-데이터 셋에서 평균 loss : 0.089, 평균 f1 Score: 0.203, 평균 Accuracy : 0.970\n",
      "Get best model!\n"
     ]
    },
    {
     "output_type": "display_data",
     "data": {
      "text/plain": [
       "HBox(children=(HTML(value=''), FloatProgress(value=0.0, max=945.0), HTML(value='')))"
      ],
      "application/vnd.jupyter.widget-view+json": {
       "model_id": "85b054a0172549d484d7a1a808c57dd4",
       "version_major": 2,
       "version_minor": 0
      }
     },
     "metadata": {}
    },
    {
     "output_type": "stream",
     "name": "stdout",
     "text": [
      "\n",
      "현재 epoch-4의 train-데이터 셋에서 평균 loss : 0.048, 평균 f1 Score: 0.207, 평균 Accuracy : 0.984\n"
     ]
    },
    {
     "output_type": "display_data",
     "data": {
      "text/plain": [
       "HBox(children=(HTML(value=''), FloatProgress(value=0.0, max=237.0), HTML(value='')))"
      ],
      "application/vnd.jupyter.widget-view+json": {
       "model_id": "86f37e9042044888b38a6e5255f90aac",
       "version_major": 2,
       "version_minor": 0
      }
     },
     "metadata": {}
    },
    {
     "output_type": "stream",
     "name": "stdout",
     "text": [
      "\n",
      "현재 epoch-4의 test-데이터 셋에서 평균 loss : 0.067, 평균 f1 Score: 0.199, 평균 Accuracy : 0.982\n",
      "Get best model!\n",
      "학습 종료!\n",
      "최고 accuracy : 0.982275128364563, 최고 낮은 loss : 0.06684485905127423, 최고 f1 score : 0.1985614001750946\n"
     ]
    }
   ],
   "metadata": {}
  },
  {
   "cell_type": "markdown",
   "source": [
    "# 모델 비교 실험"
   ],
   "metadata": {}
  },
  {
   "cell_type": "code",
   "execution_count": 29,
   "source": [
    "target_model = Resnet50(18)"
   ],
   "outputs": [],
   "metadata": {}
  },
  {
   "cell_type": "code",
   "execution_count": 30,
   "source": [
    "train_data = CustomDatasetFromDF(df.iloc[folds[0][0]])\n",
    "valid_data = CustomDatasetFromDF(df.iloc[folds[0][1]])\n",
    "\n",
    "# Mnist Dataset을 DataLoader에 붙이기\n",
    "BATCH_SIZE = 64\n",
    "train_dataloader = torch.utils.data.DataLoader(train_data, batch_size=BATCH_SIZE, shuffle=True, num_workers=4)\n",
    "valid_dataloader = torch.utils.data.DataLoader(valid_data, batch_size=BATCH_SIZE, shuffle=False, num_workers=4)"
   ],
   "outputs": [],
   "metadata": {}
  },
  {
   "cell_type": "code",
   "execution_count": 31,
   "source": [
    "## 2. mnist train 데이터 셋을 resnet50 모델에 학습하기\n",
    "\n",
    "device = torch.device(\"cuda\" if torch.cuda.is_available() else \"cpu\") # 학습 때 GPU 사용여부 결정. Colab에서는 \"런타임\"->\"런타임 유형 변경\"에서 \"GPU\"를 선택할 수 있음\n",
    "\n",
    "print(f\"{device} is using!\")\n",
    "\n",
    "target_model.to(device) # Resnent 18 네트워크의 Tensor들을 GPU에 올릴지 Memory에 올릴지 결정함\n",
    "\n",
    "LEARNING_RATE = 0.0001 # 학습 때 사용하는 optimizer의 학습률 옵션 설정\n",
    "NUM_EPOCH = 5 # 학습 때 mnist train 데이터 셋을 얼마나 많이 학습할지 결정하는 옵션\n",
    "\n",
    "loss_fn = torch.nn.CrossEntropyLoss()\n",
    "optimizer = torch.optim.Adam(target_model.parameters(), lr=LEARNING_RATE) # weight 업데이트를 위한 optimizer를 Adam으로 사용함\n",
    "\n",
    "dataloaders = {\n",
    "    \"train\" : train_dataloader,\n",
    "    \"test\" : valid_dataloader\n",
    "}"
   ],
   "outputs": [
    {
     "output_type": "stream",
     "name": "stdout",
     "text": [
      "cuda is using!\n"
     ]
    }
   ],
   "metadata": {}
  },
  {
   "cell_type": "code",
   "execution_count": 38,
   "source": [
    "### 학습 코드 시작\n",
    "best_test_accuracy = 0.\n",
    "best_test_f1score = 0.\n",
    "best_test_loss = 1.\n",
    "\n",
    "\n",
    "for epoch in range(NUM_EPOCH):\n",
    "  for phase in [\"train\", \"test\"]:\n",
    "    running_loss = 0.\n",
    "    running_acc = 0.\n",
    "    running_f1 = 0.\n",
    "    if phase == \"train\":\n",
    "      target_model.train() # 네트워크 모델을 train 모드로 두어 gradient을 계산하고, 여러 sub module (배치 정규화, 드롭아웃 등)이 train mode로 작동할 수 있도록 함\n",
    "    elif phase == \"test\":\n",
    "      target_model.eval() # 네트워크 모델을 eval 모드 두어 여러 sub module들이 eval mode로 작동할 수 있게 함\n",
    "\n",
    "    for ind, (images, labels) in enumerate(tqdm(dataloaders[phase])):\n",
    "      # (참고.해보기) 현재 tqdm으로 출력되는 것이 단순히 진행 상황 뿐인데 현재 epoch, running_loss와 running_acc을 출력하려면 어떻게 할 수 있는지 tqdm 문서를 보고 해봅시다!\n",
    "      # hint - with, pbar\n",
    "      images = images.to(device)\n",
    "      labels = labels.to(device)\n",
    "\n",
    "      optimizer.zero_grad() # parameter gradient를 업데이트 전 초기화함\n",
    "\n",
    "      with torch.set_grad_enabled(phase == \"train\"): # train 모드일 시에는 gradient를 계산하고, 아닐 때는 gradient를 계산하지 않아 연산량 최소화\n",
    "        logits = target_model(images)\n",
    "        _, preds = torch.max(logits, 1) # 모델에서 linear 값으로 나오는 예측 값 ([0.9,1.2, 3.2,0.1,-0.1,...])을 최대 output index를 찾아 예측 레이블([2])로 변경함  \n",
    "        loss = loss_fn(logits, labels)\n",
    "        \n",
    "        y_true = F.one_hot(labels, 18).to(torch.float32)\n",
    "        y_pred = logits\n",
    "\n",
    "        tp = (y_true * y_pred).sum(dim=0).to(torch.float32)\n",
    "        tn = ((1 - y_true) * (1 - y_pred)).sum(dim=0).to(torch.float32)\n",
    "        fp = ((1 - y_true) * y_pred).sum(dim=0).to(torch.float32)\n",
    "        fn = (y_true * (1 - y_pred)).sum(dim=0).to(torch.float32)\n",
    "\n",
    "        precision = tp / (tp + fp + 1e-7)\n",
    "        recall = tp / (tp + fn + 1e-7)\n",
    "\n",
    "        f1 = 2 * (precision * recall) / (precision + recall + 1e-7)\n",
    "        f1 = f1.clamp(min=1e-7, max=1 - 1e-7)\n",
    "\n",
    "        if phase == \"train\":\n",
    "          loss.backward() # 모델의 예측 값과 실제 값의 CrossEntropy 차이를 통해 gradient 계산\n",
    "          optimizer.step() # 계산된 gradient를 가지고 모델 업데이트\n",
    "\n",
    "      running_loss += loss.item() * images.size(0) # 한 Batch에서의 loss 값 저장\n",
    "      running_acc += torch.sum(preds == labels.data) # 한 Batch에서의 Accuracy 값 저장\n",
    "      running_f1 += f1.mean()\n",
    "      \n",
    "      \n",
    "\n",
    "    # 한 epoch이 모두 종료되었을 때,\n",
    "    epoch_loss = running_loss / len(dataloaders[phase].dataset)\n",
    "    epoch_acc = running_acc / len(dataloaders[phase].dataset)\n",
    "    epoch_f1 = running_f1 / NUM_EPOCH\n",
    "\n",
    "    print(f\"현재 epoch-{epoch}의 {phase}-데이터 셋에서 평균 loss : {epoch_loss:.3f}, 평균 f1 Score: {epoch_f1:.3f}, 평균 Accuracy : {epoch_acc:.3f}\")\n",
    "    if phase == \"test\" and best_test_accuracy < epoch_acc: # phase가 test일 때, best accuracy 계산\n",
    "      best_test_accuracy = epoch_acc\n",
    "    if phase == \"test\" and best_test_f1score < epoch_f1:\n",
    "      print('Get best model!')\n",
    "      best_test_f1 = epoch_f1\n",
    "      best_model = target_model\n",
    "    if phase == \"test\" and best_test_loss > epoch_loss: # phase가 test일 때, best loss 계산\n",
    "      best_test_loss = epoch_loss\n",
    "      \n",
    "    \n",
    "print(\"학습 종료!\")\n",
    "print(f\"최고 accuracy : {best_test_accuracy}, 최고 낮은 loss : {best_test_loss}, 최고 f1 score : {best_test_f1}\")"
   ],
   "outputs": [
    {
     "output_type": "display_data",
     "data": {
      "text/plain": [
       "HBox(children=(HTML(value=''), FloatProgress(value=0.0, max=237.0), HTML(value='')))"
      ],
      "application/vnd.jupyter.widget-view+json": {
       "model_id": "a7d2e4c7966e49df8c9c981aaae0968d",
       "version_major": 2,
       "version_minor": 0
      }
     },
     "metadata": {}
    },
    {
     "output_type": "stream",
     "name": "stdout",
     "text": [
      "\n",
      "현재 epoch-0의 train-데이터 셋에서 평균 loss : 0.012, 평균 f1 Score: 0.003, 평균 Accuracy : 0.997\n"
     ]
    },
    {
     "output_type": "display_data",
     "data": {
      "text/plain": [
       "HBox(children=(HTML(value=''), FloatProgress(value=0.0, max=60.0), HTML(value='')))"
      ],
      "application/vnd.jupyter.widget-view+json": {
       "model_id": "71ac0fdf171f4b39bf2a26234b7c82bd",
       "version_major": 2,
       "version_minor": 0
      }
     },
     "metadata": {}
    },
    {
     "output_type": "stream",
     "name": "stdout",
     "text": [
      "\n",
      "현재 epoch-0의 test-데이터 셋에서 평균 loss : 0.050, 평균 f1 Score: 0.003, 평균 Accuracy : 0.985\n",
      "Get best model!\n"
     ]
    },
    {
     "output_type": "display_data",
     "data": {
      "text/plain": [
       "HBox(children=(HTML(value=''), FloatProgress(value=0.0, max=237.0), HTML(value='')))"
      ],
      "application/vnd.jupyter.widget-view+json": {
       "model_id": "cb95ad883eed486e83dfcabb44f03c6f",
       "version_major": 2,
       "version_minor": 0
      }
     },
     "metadata": {}
    },
    {
     "output_type": "stream",
     "name": "stdout",
     "text": [
      "\n",
      "현재 epoch-1의 train-데이터 셋에서 평균 loss : 0.018, 평균 f1 Score: 0.003, 평균 Accuracy : 0.995\n"
     ]
    },
    {
     "output_type": "display_data",
     "data": {
      "text/plain": [
       "HBox(children=(HTML(value=''), FloatProgress(value=0.0, max=60.0), HTML(value='')))"
      ],
      "application/vnd.jupyter.widget-view+json": {
       "model_id": "ad216eb618b84f30b164ff52ec8cf51f",
       "version_major": 2,
       "version_minor": 0
      }
     },
     "metadata": {}
    },
    {
     "output_type": "stream",
     "name": "stdout",
     "text": [
      "\n",
      "현재 epoch-1의 test-데이터 셋에서 평균 loss : 0.221, 평균 f1 Score: 0.003, 평균 Accuracy : 0.945\n",
      "Get best model!\n"
     ]
    },
    {
     "output_type": "display_data",
     "data": {
      "text/plain": [
       "HBox(children=(HTML(value=''), FloatProgress(value=0.0, max=237.0), HTML(value='')))"
      ],
      "application/vnd.jupyter.widget-view+json": {
       "model_id": "43f7206689b34d48926d9d24655a3884",
       "version_major": 2,
       "version_minor": 0
      }
     },
     "metadata": {}
    },
    {
     "output_type": "stream",
     "name": "stdout",
     "text": [
      "\n",
      "현재 epoch-2의 train-데이터 셋에서 평균 loss : 0.018, 평균 f1 Score: 0.003, 평균 Accuracy : 0.994\n"
     ]
    },
    {
     "output_type": "display_data",
     "data": {
      "text/plain": [
       "HBox(children=(HTML(value=''), FloatProgress(value=0.0, max=60.0), HTML(value='')))"
      ],
      "application/vnd.jupyter.widget-view+json": {
       "model_id": "a1626542d8a74803a08b41ab300d692a",
       "version_major": 2,
       "version_minor": 0
      }
     },
     "metadata": {}
    },
    {
     "output_type": "stream",
     "name": "stdout",
     "text": [
      "\n",
      "현재 epoch-2의 test-데이터 셋에서 평균 loss : 0.058, 평균 f1 Score: 0.003, 평균 Accuracy : 0.983\n",
      "Get best model!\n"
     ]
    },
    {
     "output_type": "display_data",
     "data": {
      "text/plain": [
       "HBox(children=(HTML(value=''), FloatProgress(value=0.0, max=237.0), HTML(value='')))"
      ],
      "application/vnd.jupyter.widget-view+json": {
       "model_id": "16084bf5cdbc445e9647358b0028a8e4",
       "version_major": 2,
       "version_minor": 0
      }
     },
     "metadata": {}
    },
    {
     "output_type": "stream",
     "name": "stdout",
     "text": [
      "\n",
      "현재 epoch-3의 train-데이터 셋에서 평균 loss : 0.013, 평균 f1 Score: 0.003, 평균 Accuracy : 0.996\n"
     ]
    },
    {
     "output_type": "display_data",
     "data": {
      "text/plain": [
       "HBox(children=(HTML(value=''), FloatProgress(value=0.0, max=60.0), HTML(value='')))"
      ],
      "application/vnd.jupyter.widget-view+json": {
       "model_id": "5c1862d2ca9f4e839afdaf8a183d51fe",
       "version_major": 2,
       "version_minor": 0
      }
     },
     "metadata": {}
    },
    {
     "output_type": "stream",
     "name": "stdout",
     "text": [
      "\n",
      "현재 epoch-3의 test-데이터 셋에서 평균 loss : 0.054, 평균 f1 Score: 0.003, 평균 Accuracy : 0.985\n",
      "Get best model!\n"
     ]
    },
    {
     "output_type": "display_data",
     "data": {
      "text/plain": [
       "HBox(children=(HTML(value=''), FloatProgress(value=0.0, max=237.0), HTML(value='')))"
      ],
      "application/vnd.jupyter.widget-view+json": {
       "model_id": "dd51289b2a234a7dbec96d6995984ad4",
       "version_major": 2,
       "version_minor": 0
      }
     },
     "metadata": {}
    },
    {
     "output_type": "stream",
     "name": "stdout",
     "text": [
      "\n",
      "현재 epoch-4의 train-데이터 셋에서 평균 loss : 0.007, 평균 f1 Score: 0.003, 평균 Accuracy : 0.998\n"
     ]
    },
    {
     "output_type": "display_data",
     "data": {
      "text/plain": [
       "HBox(children=(HTML(value=''), FloatProgress(value=0.0, max=60.0), HTML(value='')))"
      ],
      "application/vnd.jupyter.widget-view+json": {
       "model_id": "e6d221c31e5e4ba39f7f356802479ff8",
       "version_major": 2,
       "version_minor": 0
      }
     },
     "metadata": {}
    },
    {
     "output_type": "stream",
     "name": "stdout",
     "text": [
      "\n",
      "현재 epoch-4의 test-데이터 셋에서 평균 loss : 0.046, 평균 f1 Score: 0.003, 평균 Accuracy : 0.986\n",
      "Get best model!\n",
      "학습 종료!\n",
      "최고 accuracy : 0.985714316368103, 최고 낮은 loss : 0.04594681285078199, 최고 f1 score : 0.0028347852639853954\n"
     ]
    }
   ],
   "metadata": {}
  },
  {
   "cell_type": "code",
   "execution_count": null,
   "source": [
    "def training():\n",
    "    device = torch.device(\"cuda\" if torch.cuda.is_available() else \"cpu\")\n",
    "    target_model = models.resnet50(pretrained=True)\n",
    "    target_model.to(device)\n",
    "    CLASS_NUM = 18\n",
    "    target_model.fc = torch.nn.Linear(in_features=2048, out_features=CLASS_NUM, bias=True)\n",
    "    nn.init.xavier_uniform_(target_model.fc.weight)\n",
    "    stdv =  1 / math.sqrt(target_model.fc.in_features)\n",
    "    target_model.fc.bias.data.uniform_(-stdv, stdv)\n",
    "    \n",
    "    train_data = CustomDatasetFromDF(df.iloc[folds[0][0]])\n",
    "    valid_data = CustomDatasetFromDF(df.iloc[folds[0][1]])\n",
    "\n",
    "    # Mnist Dataset을 DataLoader에 붙이기\n",
    "    BATCH_SIZE = 64\n",
    "    train_dataloader = torch.utils.data.DataLoader(train_data, batch_size=BATCH_SIZE, shuffle=True, num_workers=4)\n",
    "    valid_dataloader = torch.utils.data.DataLoader(valid_data, batch_size=BATCH_SIZE, shuffle=False, num_workers=4)\n",
    "\n",
    "    LEARNING_RATE = 0.0001\n",
    "    NUM_EPOCH = 5\n",
    "    loss_fn = F1Loss()\n",
    "    optimizer = torch.optim.Adam(target_model.parameters(), lr=LEARNING_RATE)\n",
    "\n",
    "    dataloaders = {\n",
    "        \"train\" : train_dataloader,\n",
    "        \"valid\" : valid_dataloader\n",
    "    }\n",
    "    ### 학습 코드 시작\n",
    "    best_test_accuracy = 0.\n",
    "    best_test_loss = 1.\n",
    "\n",
    "\n",
    "    for epoch in range(NUM_EPOCH):\n",
    "      for phase in [\"train\", \"valid\"]:\n",
    "        running_loss = 0.\n",
    "        running_acc = 0.\n",
    "        if phase == \"train\":\n",
    "          target_model.train() # 네트워크 모델을 train 모드로 두어 gradient을 계산하고, 여러 sub module (배치 정규화, 드롭아웃 등)이 train mode로 작동할 수 있도록 함\n",
    "        elif phase == \"valid\":\n",
    "          target_model.eval() # 네트워크 모델을 eval 모드 두어 여러 sub module들이 eval mode로 작동할 수 있게 함\n",
    "\n",
    "        for ind, (images, labels) in enumerate(tqdm(dataloaders[phase])):\n",
    "          # (참고.해보기) 현재 tqdm으로 출력되는 것이 단순히 진행 상황 뿐인데 현재 epoch, running_loss와 running_acc을 출력하려면 어떻게 할 수 있는지 tqdm 문서를 보고 해봅시다!\n",
    "          # hint - with, pbar\n",
    "          images = images.to(device)\n",
    "          labels = labels.to(device)\n",
    "\n",
    "          optimizer.zero_grad() # parameter gradient를 업데이트 전 초기화함\n",
    "\n",
    "          with torch.set_grad_enabled(phase == \"train\"): # train 모드일 시에는 gradient를 계산하고, 아닐 때는 gradient를 계산하지 않아 연산량 최소화\n",
    "            logits = target_model(images)\n",
    "            _, preds = torch.max(logits, 1) # 모델에서 linear 값으로 나오는 예측 값 ([0.9,1.2, 3.2,0.1,-0.1,...])을 최대 output index를 찾아 예측 레이블([2])로 변경함  \n",
    "            loss = loss_fn(logits, labels)\n",
    "\n",
    "            if phase == \"train\":\n",
    "              loss.backward() # 모델의 예측 값과 실제 값의 CrossEntropy 차이를 통해 gradient 계산\n",
    "              optimizer.step() # 계산된 gradient를 가지고 모델 업데이트\n",
    "\n",
    "          running_loss += loss.item() * images.size(0) # 한 Batch에서의 loss 값 저장\n",
    "          running_acc += torch.sum(preds == labels.data) # 한 Batch에서의 Accuracy 값 저장\n",
    "\n",
    "        # 한 epoch이 모두 종료되었을 때,\n",
    "        epoch_loss = running_loss / len(dataloaders[phase].dataset)\n",
    "        epoch_acc = running_acc / len(dataloaders[phase].dataset)\n",
    "\n",
    "        print(f\"현재 epoch-{epoch}의 {phase}-데이터 셋에서 평균 F1 score : {1 - epoch_loss:.3f}, 평균 Accuracy : {epoch_acc:.3f}\")\n",
    "        if phase == \"valid\" and best_test_accuracy < epoch_acc: # phase가 test일 때, best accuracy 계산\n",
    "          best_test_accuracy = epoch_acc\n",
    "        if phase == \"valid\" and best_test_loss > epoch_loss: # phase가 test일 때, best loss 계산\n",
    "          print('Get best model!')\n",
    "          best_test_loss = epoch_loss\n",
    "          best_model = target_model\n",
    "\n",
    "    print(\"학습 종료!\")\n",
    "    print(f\"최고 accuracy : {best_test_accuracy}, 최고 높은 F1 score : {1 - best_test_loss}\")"
   ],
   "outputs": [],
   "metadata": {}
  },
  {
   "cell_type": "markdown",
   "source": [
    "# XGBoost 학습"
   ],
   "metadata": {}
  },
  {
   "cell_type": "code",
   "execution_count": 11,
   "source": [
    "# 모델의 fully connected layer 제거\n",
    "# 이미지의 특성 매트릭스 추출을 위함\n",
    "class Resnet50_for_xgboost(nn.Module):\n",
    "    def __init__(self):\n",
    "        super().__init__()\n",
    "        self.resnet50 = models.resnet50(pretrained=True)\n",
    "\n",
    "    def forward(self, x):\n",
    "        x = self.resnet50.conv1(x)\n",
    "        x = self.resnet50.bn1(x)\n",
    "        x = self.resnet50.relu(x)\n",
    "        x = self.resnet50.maxpool(x)\n",
    "        x = self.resnet50.layer1(x)\n",
    "        x = self.resnet50.layer2(x)\n",
    "        x = self.resnet50.layer3(x)\n",
    "        x = self.resnet50.layer4(x)\n",
    "        x = self.resnet50.avgpool(x)\n",
    "        return x"
   ],
   "outputs": [],
   "metadata": {}
  },
  {
   "cell_type": "code",
   "execution_count": 19,
   "source": [
    "device = \"cuda\" if torch.cuda.is_available() else \"cpu\"\n",
    "\n",
    "xgm = Resnet50_for_xgboost().to(device)\n",
    "\n",
    "for params in xgm.parameters():\n",
    "    params.requires_grad = False\n",
    "\n",
    "# 동일한 기본값 설정\n",
    "train_data = CustomDatasetFromDF(df.iloc[folds[0][0]])\n",
    "valid_data = CustomDatasetFromDF(df.iloc[folds[0][1]])\n",
    "\n",
    "BATCH_SIZE = 16\n",
    "train_dataloader = torch.utils.data.DataLoader(train_data, batch_size=BATCH_SIZE, shuffle=True,\n",
    "                                               num_workers=4, drop_last=True)\n",
    "valid_dataloader = torch.utils.data.DataLoader(valid_data, batch_size=BATCH_SIZE, shuffle=False,\n",
    "                                               num_workers=4, drop_last=True)\n",
    "\n",
    "dataloaders = {\"train\" : train_dataloader, \"valid\" : valid_dataloader}\n",
    "\n",
    "intermediate_output = []\n",
    "labels_output = []\n",
    "\n",
    "xgm.eval()\n",
    "for ind, (images, labels) in enumerate(tqdm(dataloaders[\"train\"])):\n",
    "    images = images.to(device)\n",
    "    labels = labels.to(device)\n",
    "    intermediate_output.append(xgm(images).squeeze())\n",
    "    labels_output.append(labels)"
   ],
   "outputs": [
    {
     "output_type": "display_data",
     "data": {
      "text/plain": [
       "HBox(children=(HTML(value=''), FloatProgress(value=0.0, max=945.0), HTML(value='')))"
      ],
      "application/vnd.jupyter.widget-view+json": {
       "model_id": "e013436fe1644d6abd9e534582dffeab",
       "version_major": 2,
       "version_minor": 0
      }
     },
     "metadata": {}
    },
    {
     "output_type": "stream",
     "name": "stdout",
     "text": [
      "\n"
     ]
    }
   ],
   "metadata": {}
  },
  {
   "cell_type": "code",
   "execution_count": 27,
   "source": [
    "train_X = torch.cat(intermediate_output).cpu().numpy()\n",
    "train_X"
   ],
   "outputs": [
    {
     "output_type": "execute_result",
     "data": {
      "text/plain": [
       "array([[0.21668796, 0.37885714, 0.9215023 , ..., 0.11622887, 0.10953175,\n",
       "        0.33929878],\n",
       "       [0.20218973, 0.4073317 , 1.3194582 , ..., 0.07869539, 0.29567274,\n",
       "        0.85543364],\n",
       "       [0.24691093, 0.43906817, 1.0445836 , ..., 0.1949091 , 0.35603246,\n",
       "        0.4635967 ],\n",
       "       ...,\n",
       "       [0.07526978, 0.2699431 , 0.81679744, ..., 0.2250255 , 0.26572612,\n",
       "        0.9031057 ],\n",
       "       [0.14857924, 0.60255784, 1.1023167 , ..., 0.24992454, 0.29177183,\n",
       "        0.4671427 ],\n",
       "       [0.2558588 , 0.37128514, 1.0838196 , ..., 0.1774542 , 0.09716096,\n",
       "        0.73797363]], dtype=float32)"
      ]
     },
     "metadata": {},
     "execution_count": 27
    }
   ],
   "metadata": {}
  },
  {
   "cell_type": "code",
   "execution_count": 28,
   "source": [
    "train_y = torch.cat(labels_output).cpu().numpy()"
   ],
   "outputs": [],
   "metadata": {}
  },
  {
   "cell_type": "code",
   "execution_count": 32,
   "source": [
    "# XGBoost 모델 학습\n",
    "from xgboost import XGBClassifier\n",
    "\n",
    "xgbmodel = XGBClassifier(objective='multi:softprob', \n",
    "                         num_class= 18)\n",
    "xgbmodel.fit(train_X, train_y)"
   ],
   "outputs": [
    {
     "output_type": "stream",
     "name": "stdout",
     "text": [
      "[02:04:26] WARNING: ../src/learner.cc:1095: Starting in XGBoost 1.3.0, the default evaluation metric used with the objective 'multi:softprob' was changed from 'merror' to 'mlogloss'. Explicitly set eval_metric if you'd like to restore the old behavior.\n"
     ]
    },
    {
     "output_type": "execute_result",
     "data": {
      "text/plain": [
       "XGBClassifier(base_score=0.5, booster='gbtree', colsample_bylevel=1,\n",
       "              colsample_bynode=1, colsample_bytree=1, gamma=0, gpu_id=-1,\n",
       "              importance_type='gain', interaction_constraints='',\n",
       "              learning_rate=0.300000012, max_delta_step=0, max_depth=6,\n",
       "              min_child_weight=1, missing=nan, monotone_constraints='()',\n",
       "              n_estimators=100, n_jobs=8, num_class=18, num_parallel_tree=1,\n",
       "              objective='multi:softprob', random_state=0, reg_alpha=0,\n",
       "              reg_lambda=1, scale_pos_weight=None, subsample=1,\n",
       "              tree_method='exact', validate_parameters=1, verbosity=None)"
      ]
     },
     "metadata": {},
     "execution_count": 32
    }
   ],
   "metadata": {}
  },
  {
   "cell_type": "code",
   "execution_count": 33,
   "source": [
    "device = \"cuda\" if torch.cuda.is_available() else \"cpu\"\n",
    "\n",
    "xgm = Resnet50_for_xgboost().to(device)\n",
    "\n",
    "for params in xgm.parameters():\n",
    "    params.requires_grad = False\n",
    "\n",
    "# 동일한 기본값 설정\n",
    "train_data = CustomDatasetFromDF(df.iloc[folds[0][0]])\n",
    "valid_data = CustomDatasetFromDF(df.iloc[folds[0][1]])\n",
    "\n",
    "BATCH_SIZE = 16\n",
    "train_dataloader = torch.utils.data.DataLoader(train_data, batch_size=BATCH_SIZE, shuffle=True,\n",
    "                                               num_workers=4, drop_last=True)\n",
    "valid_dataloader = torch.utils.data.DataLoader(valid_data, batch_size=BATCH_SIZE, shuffle=False,\n",
    "                                               num_workers=4, drop_last=True)\n",
    "\n",
    "dataloaders = {\"train\" : train_dataloader, \"valid\" : valid_dataloader}\n",
    "\n",
    "intermediate_output = []\n",
    "labels_output = []\n",
    "\n",
    "xgm.eval()\n",
    "for ind, (images, labels) in enumerate(tqdm(dataloaders[\"valid\"])):\n",
    "    images = images.to(device)\n",
    "    labels = labels.to(device)\n",
    "    intermediate_output.append(xgm(images).squeeze())\n",
    "    labels_output.append(labels)"
   ],
   "outputs": [
    {
     "output_type": "display_data",
     "data": {
      "text/plain": [
       "HBox(children=(HTML(value=''), FloatProgress(value=0.0, max=236.0), HTML(value='')))"
      ],
      "application/vnd.jupyter.widget-view+json": {
       "model_id": "ea38f655a8ea4789a6f686adeb049ab5",
       "version_major": 2,
       "version_minor": 0
      }
     },
     "metadata": {}
    },
    {
     "output_type": "stream",
     "name": "stdout",
     "text": [
      "\n"
     ]
    }
   ],
   "metadata": {}
  },
  {
   "cell_type": "code",
   "execution_count": 34,
   "source": [
    "valid_X = torch.cat(intermediate_output).cpu().numpy()"
   ],
   "outputs": [],
   "metadata": {}
  },
  {
   "cell_type": "code",
   "execution_count": 35,
   "source": [
    "valid_y = torch.cat(labels_output).cpu().numpy()"
   ],
   "outputs": [],
   "metadata": {}
  },
  {
   "cell_type": "code",
   "execution_count": 36,
   "source": [
    "xgbmodel.score(valid_X, valid_y)"
   ],
   "outputs": [
    {
     "output_type": "execute_result",
     "data": {
      "text/plain": [
       "0.840042372881356"
      ]
     },
     "metadata": {},
     "execution_count": 36
    }
   ],
   "metadata": {}
  },
  {
   "cell_type": "code",
   "execution_count": 40,
   "source": [
    "y_pred = xgbmodel.predict(valid_X)"
   ],
   "outputs": [],
   "metadata": {}
  },
  {
   "cell_type": "code",
   "execution_count": 42,
   "source": [
    "y_pred.shape"
   ],
   "outputs": [
    {
     "output_type": "execute_result",
     "data": {
      "text/plain": [
       "(3776,)"
      ]
     },
     "metadata": {},
     "execution_count": 42
    }
   ],
   "metadata": {}
  },
  {
   "cell_type": "code",
   "execution_count": 43,
   "source": [
    "valid_y.shape"
   ],
   "outputs": [
    {
     "output_type": "execute_result",
     "data": {
      "text/plain": [
       "(3776,)"
      ]
     },
     "metadata": {},
     "execution_count": 43
    }
   ],
   "metadata": {}
  },
  {
   "cell_type": "code",
   "execution_count": 46,
   "source": [
    "from sklearn.metrics import confusion_matrix\n",
    "from sklearn.metrics import f1_score\n",
    "\n",
    "f1_score(valid_y, y_pred, average='macro')"
   ],
   "outputs": [
    {
     "output_type": "execute_result",
     "data": {
      "text/plain": [
       "0.6656326308202489"
      ]
     },
     "metadata": {},
     "execution_count": 46
    }
   ],
   "metadata": {}
  },
  {
   "cell_type": "code",
   "execution_count": 47,
   "source": [
    "from sklearn.metrics import accuracy_score\n",
    "\n",
    "accuracy_score(valid_y, y_pred)"
   ],
   "outputs": [
    {
     "output_type": "execute_result",
     "data": {
      "text/plain": [
       "0.840042372881356"
      ]
     },
     "metadata": {},
     "execution_count": 47
    }
   ],
   "metadata": {}
  },
  {
   "cell_type": "markdown",
   "source": [
    "## 학습된 efficientnet b1 prunded 모델로 이미지 특성 추출"
   ],
   "metadata": {}
  },
  {
   "cell_type": "code",
   "execution_count": 62,
   "source": [
    "# Custom Model Template\n",
    "class b1_pruned_for_xgboost(nn.Module):\n",
    "    def __init__(self):\n",
    "        super().__init__()\n",
    "        self.b1_pruned = model_b1_pruned.model\n",
    "        \n",
    "    def forward(self, x):\n",
    "        x = self.b1_pruned.conv_stem(x)\n",
    "        x = self.b1_pruned.bn1(x)\n",
    "        x = self.b1_pruned.act1(x)\n",
    "        x = self.b1_pruned.blocks(x)\n",
    "        x = self.b1_pruned.conv_head(x)\n",
    "        x = self.b1_pruned.bn2(x)\n",
    "        x = self.b1_pruned.act2(x)\n",
    "        x = self.b1_pruned.global_pool(x)\n",
    "        return x"
   ],
   "outputs": [],
   "metadata": {}
  },
  {
   "cell_type": "code",
   "execution_count": 84,
   "source": [
    "device = \"cuda\" if torch.cuda.is_available() else \"cpu\"\n",
    "xgm = b1_pruned_for_xgboost().to(device)\n",
    "\n",
    "for params in xgm.parameters():\n",
    "    params.requires_grad = False\n",
    "\n",
    "# 동일한 기본값 설정\n",
    "train_data = CustomDatasetFromDF(df.iloc[folds[0][0]])\n",
    "valid_data = CustomDatasetFromDF(df.iloc[folds[0][1]])\n",
    "\n",
    "BATCH_SIZE = 16\n",
    "train_dataloader = torch.utils.data.DataLoader(train_data, batch_size=BATCH_SIZE, shuffle=True,\n",
    "                                               num_workers=4, drop_last=True)\n",
    "valid_dataloader = torch.utils.data.DataLoader(valid_data, batch_size=BATCH_SIZE, shuffle=False,\n",
    "                                               num_workers=4, drop_last=True)\n",
    "\n",
    "dataloaders = {\"train\" : train_dataloader, \"valid\" : valid_dataloader}\n",
    "\n",
    "from collections import defaultdict\n",
    "\n",
    "xgb_data = defaultdict(list)\n",
    "xgm.eval()\n",
    "phases = [\"train\", \"valid\"]\n",
    "for phase in phases:\n",
    "    intermediate_output = []\n",
    "    labels_output = []\n",
    "    for ind, (images, labels) in enumerate(tqdm(dataloaders[phase])):\n",
    "        images = images.to(device)\n",
    "        labels = labels.to(device)\n",
    "        intermediate_output.append(xgm(images).squeeze())\n",
    "        labels_output.append(labels)\n",
    "    xgb_data[phase].append(torch.cat(intermediate_output).cpu().numpy())\n",
    "    xgb_data[phase].append(torch.cat(labels_output).cpu().numpy())"
   ],
   "outputs": [
    {
     "output_type": "display_data",
     "data": {
      "text/plain": [
       "HBox(children=(HTML(value=''), FloatProgress(value=0.0, max=945.0), HTML(value='')))"
      ],
      "application/vnd.jupyter.widget-view+json": {
       "model_id": "91fe5bdf8b924f81a7c21afd56ee8735",
       "version_major": 2,
       "version_minor": 0
      }
     },
     "metadata": {}
    },
    {
     "output_type": "stream",
     "name": "stdout",
     "text": [
      "\n"
     ]
    },
    {
     "output_type": "display_data",
     "data": {
      "text/plain": [
       "HBox(children=(HTML(value=''), FloatProgress(value=0.0, max=236.0), HTML(value='')))"
      ],
      "application/vnd.jupyter.widget-view+json": {
       "model_id": "f2b2c3278952438991215dbf9bb01b78",
       "version_major": 2,
       "version_minor": 0
      }
     },
     "metadata": {}
    },
    {
     "output_type": "stream",
     "name": "stdout",
     "text": [
      "\n"
     ]
    }
   ],
   "metadata": {}
  },
  {
   "cell_type": "code",
   "execution_count": 122,
   "source": [
    "from xgboost import XGBClassifier\n",
    "\n",
    "xgbmodel_b1_pruned = XGBClassifier(objective='multi:softprob', num_class= 18)\n",
    "xgbmodel_b1_pruned.fit(xgb_data['train'][0], xgb_data['train'][1])"
   ],
   "outputs": [
    {
     "output_type": "stream",
     "name": "stdout",
     "text": [
      "[04:14:51] WARNING: ../src/learner.cc:1095: Starting in XGBoost 1.3.0, the default evaluation metric used with the objective 'multi:softprob' was changed from 'merror' to 'mlogloss'. Explicitly set eval_metric if you'd like to restore the old behavior.\n"
     ]
    },
    {
     "output_type": "execute_result",
     "data": {
      "text/plain": [
       "XGBClassifier(base_score=0.5, booster='gbtree', colsample_bylevel=1,\n",
       "              colsample_bynode=1, colsample_bytree=1, gamma=0, gpu_id=-1,\n",
       "              importance_type='gain', interaction_constraints='',\n",
       "              learning_rate=0.300000012, max_delta_step=0, max_depth=6,\n",
       "              min_child_weight=1, missing=nan, monotone_constraints='()',\n",
       "              n_estimators=100, n_jobs=8, num_class=18, num_parallel_tree=1,\n",
       "              objective='multi:softprob', random_state=0, reg_alpha=0,\n",
       "              reg_lambda=1, scale_pos_weight=None, subsample=1,\n",
       "              tree_method='exact', validate_parameters=1, verbosity=None)"
      ]
     },
     "metadata": {},
     "execution_count": 122
    }
   ],
   "metadata": {}
  },
  {
   "cell_type": "code",
   "execution_count": 123,
   "source": [
    "xgb_data['train'][0].shape"
   ],
   "outputs": [
    {
     "output_type": "execute_result",
     "data": {
      "text/plain": [
       "(15120, 1280)"
      ]
     },
     "metadata": {},
     "execution_count": 123
    }
   ],
   "metadata": {}
  },
  {
   "cell_type": "code",
   "execution_count": 124,
   "source": [
    "y_true = xgb_data['valid'][1]\n",
    "y_pred = xgbmodel_b1_pruned.predict(xgb_data['valid'][0])"
   ],
   "outputs": [],
   "metadata": {}
  },
  {
   "cell_type": "code",
   "execution_count": 125,
   "source": [
    "from sklearn.metrics import accuracy_score\n",
    "from sklearn.metrics import f1_score\n",
    "\n",
    "print(f'Accuracy: {accuracy_score(y_true, y_pred)}, f1_score: {f1_score(y_true, y_pred, average=\"macro\")}')"
   ],
   "outputs": [
    {
     "output_type": "stream",
     "name": "stdout",
     "text": [
      "Accuracy: 0.9796080508474576, f1_score: 0.952992028678503\n"
     ]
    }
   ],
   "metadata": {}
  },
  {
   "cell_type": "code",
   "execution_count": 87,
   "source": [
    "xgb_data['valid'][0].shape"
   ],
   "outputs": [
    {
     "output_type": "execute_result",
     "data": {
      "text/plain": [
       "(3776, 1280)"
      ]
     },
     "metadata": {},
     "execution_count": 87
    }
   ],
   "metadata": {}
  },
  {
   "cell_type": "code",
   "execution_count": 120,
   "source": [
    "y_true"
   ],
   "outputs": [
    {
     "output_type": "execute_result",
     "data": {
      "text/plain": [
       "array([4, 4, 4, ..., 6, 0, 0])"
      ]
     },
     "metadata": {},
     "execution_count": 120
    }
   ],
   "metadata": {}
  },
  {
   "cell_type": "code",
   "execution_count": 121,
   "source": [
    "y_pred"
   ],
   "outputs": [
    {
     "output_type": "execute_result",
     "data": {
      "text/plain": [
       "array([4, 4, 4, ..., 6, 0, 0])"
      ]
     },
     "metadata": {},
     "execution_count": 121
    }
   ],
   "metadata": {}
  },
  {
   "cell_type": "code",
   "execution_count": 135,
   "source": [
    "train_X = np.concatenate([xgb_data['train'][0], xgb_data['valid'][0]])\n",
    "train_y = np.concatenate([xgb_data['train'][1], xgb_data['valid'][1]])\n",
    "\n",
    "train_X.shape, train_y.shape"
   ],
   "outputs": [
    {
     "output_type": "execute_result",
     "data": {
      "text/plain": [
       "((18896, 1280), (18896,))"
      ]
     },
     "metadata": {},
     "execution_count": 135
    }
   ],
   "metadata": {}
  },
  {
   "cell_type": "code",
   "execution_count": 136,
   "source": [
    "xgbmodel_b1_pruned_all = XGBClassifier(objective='mlogloss', num_class= 18)\n",
    "xgbmodel_b1_pruned_all.fit(train_X, train_y)"
   ],
   "outputs": [
    {
     "output_type": "stream",
     "name": "stdout",
     "text": [
      "[04:36:52] WARNING: ../src/learner.cc:1095: Starting in XGBoost 1.3.0, the default evaluation metric used with the objective 'multi:softprob' was changed from 'merror' to 'mlogloss'. Explicitly set eval_metric if you'd like to restore the old behavior.\n"
     ]
    },
    {
     "output_type": "execute_result",
     "data": {
      "text/plain": [
       "XGBClassifier(base_score=0.5, booster='gbtree', colsample_bylevel=1,\n",
       "              colsample_bynode=1, colsample_bytree=1, gamma=0, gpu_id=-1,\n",
       "              importance_type='gain', interaction_constraints='',\n",
       "              learning_rate=0.300000012, max_delta_step=0, max_depth=6,\n",
       "              min_child_weight=1, missing=nan, monotone_constraints='()',\n",
       "              n_estimators=100, n_jobs=8, num_class=18, num_parallel_tree=1,\n",
       "              objective='multi:softprob', random_state=0, reg_alpha=0,\n",
       "              reg_lambda=1, scale_pos_weight=None, subsample=1,\n",
       "              tree_method='exact', validate_parameters=1, verbosity=None)"
      ]
     },
     "metadata": {},
     "execution_count": 136
    }
   ],
   "metadata": {}
  },
  {
   "cell_type": "markdown",
   "source": [
    "## PCA 변환, 차원 축소"
   ],
   "metadata": {}
  },
  {
   "cell_type": "code",
   "execution_count": 139,
   "source": [
    "from sklearn.decomposition import PCA\n",
    "\n",
    "pca = PCA(n_components=0.95)\n",
    "X_reduced = pca.fit_transform(xgb_data['train'][0])"
   ],
   "outputs": [],
   "metadata": {}
  },
  {
   "cell_type": "code",
   "execution_count": 141,
   "source": [
    "X_reduced.shape"
   ],
   "outputs": [
    {
     "output_type": "execute_result",
     "data": {
      "text/plain": [
       "(15120, 195)"
      ]
     },
     "metadata": {},
     "execution_count": 141
    }
   ],
   "metadata": {}
  },
  {
   "cell_type": "code",
   "execution_count": 143,
   "source": [
    "xgbmodel_b1_pruned_reduced = XGBClassifier(objective='mlogloss', num_class= 18)\n",
    "xgbmodel_b1_pruned_reduced.fit(X_reduced, xgb_data['train'][1])"
   ],
   "outputs": [
    {
     "output_type": "stream",
     "name": "stdout",
     "text": [
      "[04:44:16] WARNING: ../src/learner.cc:1095: Starting in XGBoost 1.3.0, the default evaluation metric used with the objective 'multi:softprob' was changed from 'merror' to 'mlogloss'. Explicitly set eval_metric if you'd like to restore the old behavior.\n"
     ]
    },
    {
     "output_type": "execute_result",
     "data": {
      "text/plain": [
       "XGBClassifier(base_score=0.5, booster='gbtree', colsample_bylevel=1,\n",
       "              colsample_bynode=1, colsample_bytree=1, gamma=0, gpu_id=-1,\n",
       "              importance_type='gain', interaction_constraints='',\n",
       "              learning_rate=0.300000012, max_delta_step=0, max_depth=6,\n",
       "              min_child_weight=1, missing=nan, monotone_constraints='()',\n",
       "              n_estimators=100, n_jobs=8, num_class=18, num_parallel_tree=1,\n",
       "              objective='multi:softprob', random_state=0, reg_alpha=0,\n",
       "              reg_lambda=1, scale_pos_weight=None, subsample=1,\n",
       "              tree_method='exact', validate_parameters=1, verbosity=None)"
      ]
     },
     "metadata": {},
     "execution_count": 143
    }
   ],
   "metadata": {}
  },
  {
   "cell_type": "code",
   "execution_count": 147,
   "source": [
    "X_valid_reduced = pca.transform(xgb_data['valid'][0])\n",
    "y_pred_reduced = xgbmodel_b1_pruned_reduced.predict(X_valid_reduced)\n",
    "\n",
    "from sklearn.metrics import accuracy_score\n",
    "from sklearn.metrics import f1_score\n",
    "\n",
    "print(f'Accuracy: {accuracy_score(y_true, y_pred_reduced)}, f1_score: {f1_score(y_true, y_pred_reduced, average=\"macro\")}')"
   ],
   "outputs": [
    {
     "output_type": "stream",
     "name": "stdout",
     "text": [
      "Accuracy: 0.9753707627118644, f1_score: 0.9529174884338902\n"
     ]
    }
   ],
   "metadata": {}
  },
  {
   "cell_type": "markdown",
   "source": [
    "## 제출 파일 만들기"
   ],
   "metadata": {}
  },
  {
   "cell_type": "code",
   "execution_count": 90,
   "source": [
    "import os\n",
    "import pandas as pd\n",
    "from PIL import Image\n",
    "\n",
    "import torch\n",
    "import torch.nn as nn\n",
    "import torch.nn.functional as F\n",
    "from torch.utils.data import Dataset, DataLoader\n",
    "\n",
    "from torchvision import transforms\n",
    "from torchvision.transforms import Resize, ToTensor, Normalize"
   ],
   "outputs": [],
   "metadata": {}
  },
  {
   "cell_type": "code",
   "execution_count": 91,
   "source": [
    "# 테스트 데이터셋 폴더 경로를 지정해주세요.\n",
    "test_dir = '/opt/ml/input/data/eval'"
   ],
   "outputs": [],
   "metadata": {}
  },
  {
   "cell_type": "code",
   "execution_count": 92,
   "source": [
    "class TestDataset(Dataset):\n",
    "    def __init__(self, img_paths):\n",
    "        self.img_paths = img_paths\n",
    "        self.transform = transforms.Compose([\n",
    "                                             transforms.ToTensor()])\n",
    "\n",
    "    def __getitem__(self, index):\n",
    "        image = Image.open(self.img_paths[index])\n",
    "\n",
    "        if self.transform:\n",
    "            image = self.transform(image)\n",
    "        return image\n",
    "\n",
    "    def __len__(self):\n",
    "        return len(self.img_paths)"
   ],
   "outputs": [],
   "metadata": {}
  },
  {
   "cell_type": "code",
   "execution_count": 103,
   "source": [
    "# meta 데이터와 이미지 경로를 불러옵니다.\n",
    "submission = pd.read_csv(os.path.join(test_dir, 'info.csv'))\n",
    "image_dir = os.path.join(test_dir, 'images')\n",
    "\n",
    "# Test Dataset 클래스 객체를 생성하고 DataLoader를 만듭니다.\n",
    "image_paths = [os.path.join(image_dir, img_id) for img_id in submission.ImageID]\n",
    "dataset = TestDataset(image_paths)\n",
    "\n",
    "loader = DataLoader(\n",
    "    dataset,\n",
    "    shuffle=False,\n",
    "    batch_size=100\n",
    ")"
   ],
   "outputs": [],
   "metadata": {}
  },
  {
   "cell_type": "code",
   "execution_count": 104,
   "source": [
    "len(loader)"
   ],
   "outputs": [
    {
     "output_type": "execute_result",
     "data": {
      "text/plain": [
       "126"
      ]
     },
     "metadata": {},
     "execution_count": 104
    }
   ],
   "metadata": {}
  },
  {
   "cell_type": "code",
   "execution_count": 105,
   "source": [
    "test_data = []\n",
    "intermediate_output = []\n",
    "for ind, images in enumerate(tqdm(loader)):\n",
    "    images = images.to(device)\n",
    "    intermediate_output.append(xgm(images).squeeze())\n",
    "test_data.append(torch.cat(intermediate_output).cpu().numpy())"
   ],
   "outputs": [
    {
     "output_type": "display_data",
     "data": {
      "text/plain": [
       "HBox(children=(HTML(value=''), FloatProgress(value=0.0, max=126.0), HTML(value='')))"
      ],
      "application/vnd.jupyter.widget-view+json": {
       "model_id": "d1d133fa5e244ed9b644bdd4b23fb2e3",
       "version_major": 2,
       "version_minor": 0
      }
     },
     "metadata": {}
    },
    {
     "output_type": "stream",
     "name": "stdout",
     "text": [
      "\n"
     ]
    }
   ],
   "metadata": {}
  },
  {
   "cell_type": "code",
   "execution_count": 130,
   "source": [
    "test_data[0]"
   ],
   "outputs": [
    {
     "output_type": "execute_result",
     "data": {
      "text/plain": [
       "array([[ 0.30339062,  1.4873213 ,  0.37995267, ...,  0.20099774,\n",
       "         0.16666704,  1.1302907 ],\n",
       "       [ 0.04240502,  0.015024  ,  0.51149863, ...,  0.5982672 ,\n",
       "         0.78917205,  0.43750882],\n",
       "       [ 0.13172886,  1.7017627 ,  0.35769626, ...,  0.51622677,\n",
       "         0.01860787,  1.3759849 ],\n",
       "       ...,\n",
       "       [ 0.07651859, -0.14223807,  0.41448256, ...,  0.07820901,\n",
       "        -0.12151265, -0.04866683],\n",
       "       [ 0.48232627, -0.04635229,  0.66566   , ...,  0.8424868 ,\n",
       "         0.7519783 ,  0.3553482 ],\n",
       "       [-0.0841377 ,  0.06739157,  1.8308672 , ...,  0.11808705,\n",
       "         0.3289736 , -0.11402351]], dtype=float32)"
      ]
     },
     "metadata": {},
     "execution_count": 130
    }
   ],
   "metadata": {}
  },
  {
   "cell_type": "code",
   "execution_count": 106,
   "source": [
    "test_data[0].shape"
   ],
   "outputs": [
    {
     "output_type": "execute_result",
     "data": {
      "text/plain": [
       "(12600, 1280)"
      ]
     },
     "metadata": {},
     "execution_count": 106
    }
   ],
   "metadata": {}
  },
  {
   "cell_type": "code",
   "execution_count": 126,
   "source": [
    "y_pred = xgbmodel_b1_pruned.predict(test_data[0])"
   ],
   "outputs": [],
   "metadata": {}
  },
  {
   "cell_type": "code",
   "execution_count": 127,
   "source": [
    "y_pred"
   ],
   "outputs": [
    {
     "output_type": "execute_result",
     "data": {
      "text/plain": [
       "array([13,  1, 13, ...,  9,  1,  7])"
      ]
     },
     "metadata": {},
     "execution_count": 127
    }
   ],
   "metadata": {}
  },
  {
   "cell_type": "code",
   "execution_count": 128,
   "source": [
    "submission['ans'] = y_pred"
   ],
   "outputs": [],
   "metadata": {}
  },
  {
   "cell_type": "code",
   "execution_count": null,
   "source": [
    "submission.to_csv(os.path.join(test_dir, 'submission.csv'), index=False)\n",
    "print('test inference is done!')"
   ],
   "outputs": [],
   "metadata": {}
  },
  {
   "cell_type": "code",
   "execution_count": 129,
   "source": [
    "submission"
   ],
   "outputs": [
    {
     "output_type": "execute_result",
     "data": {
      "text/plain": [
       "                                            ImageID  ans\n",
       "0      cbc5c6e168e63498590db46022617123f1fe1268.jpg   13\n",
       "1      0e72482bf56b3581c081f7da2a6180b8792c7089.jpg    1\n",
       "2      b549040c49190cedc41327748aeb197c1670f14d.jpg   13\n",
       "3      4f9cb2a045c6d5b9e50ad3459ea7b791eb6e18bc.jpg   13\n",
       "4      248428d9a4a5b6229a7081c32851b90cb8d38d0c.jpg   12\n",
       "...                                             ...  ...\n",
       "12595  d71d4570505d6af8f777690e63edfa8d85ea4476.jpg    1\n",
       "12596  6cf1300e8e218716728d5820c0bab553306c2cfd.jpg    4\n",
       "12597  8140edbba31c3a824e817e6d5fb95343199e2387.jpg    9\n",
       "12598  030d439efe6fb5a7bafda45a393fc19f2bf57f54.jpg    1\n",
       "12599  f1e0b9594ae9f72571f0a9dc67406ad41f2edab0.jpg    7\n",
       "\n",
       "[12600 rows x 2 columns]"
      ],
      "text/html": [
       "<div>\n",
       "<style scoped>\n",
       "    .dataframe tbody tr th:only-of-type {\n",
       "        vertical-align: middle;\n",
       "    }\n",
       "\n",
       "    .dataframe tbody tr th {\n",
       "        vertical-align: top;\n",
       "    }\n",
       "\n",
       "    .dataframe thead th {\n",
       "        text-align: right;\n",
       "    }\n",
       "</style>\n",
       "<table border=\"1\" class=\"dataframe\">\n",
       "  <thead>\n",
       "    <tr style=\"text-align: right;\">\n",
       "      <th></th>\n",
       "      <th>ImageID</th>\n",
       "      <th>ans</th>\n",
       "    </tr>\n",
       "  </thead>\n",
       "  <tbody>\n",
       "    <tr>\n",
       "      <th>0</th>\n",
       "      <td>cbc5c6e168e63498590db46022617123f1fe1268.jpg</td>\n",
       "      <td>13</td>\n",
       "    </tr>\n",
       "    <tr>\n",
       "      <th>1</th>\n",
       "      <td>0e72482bf56b3581c081f7da2a6180b8792c7089.jpg</td>\n",
       "      <td>1</td>\n",
       "    </tr>\n",
       "    <tr>\n",
       "      <th>2</th>\n",
       "      <td>b549040c49190cedc41327748aeb197c1670f14d.jpg</td>\n",
       "      <td>13</td>\n",
       "    </tr>\n",
       "    <tr>\n",
       "      <th>3</th>\n",
       "      <td>4f9cb2a045c6d5b9e50ad3459ea7b791eb6e18bc.jpg</td>\n",
       "      <td>13</td>\n",
       "    </tr>\n",
       "    <tr>\n",
       "      <th>4</th>\n",
       "      <td>248428d9a4a5b6229a7081c32851b90cb8d38d0c.jpg</td>\n",
       "      <td>12</td>\n",
       "    </tr>\n",
       "    <tr>\n",
       "      <th>...</th>\n",
       "      <td>...</td>\n",
       "      <td>...</td>\n",
       "    </tr>\n",
       "    <tr>\n",
       "      <th>12595</th>\n",
       "      <td>d71d4570505d6af8f777690e63edfa8d85ea4476.jpg</td>\n",
       "      <td>1</td>\n",
       "    </tr>\n",
       "    <tr>\n",
       "      <th>12596</th>\n",
       "      <td>6cf1300e8e218716728d5820c0bab553306c2cfd.jpg</td>\n",
       "      <td>4</td>\n",
       "    </tr>\n",
       "    <tr>\n",
       "      <th>12597</th>\n",
       "      <td>8140edbba31c3a824e817e6d5fb95343199e2387.jpg</td>\n",
       "      <td>9</td>\n",
       "    </tr>\n",
       "    <tr>\n",
       "      <th>12598</th>\n",
       "      <td>030d439efe6fb5a7bafda45a393fc19f2bf57f54.jpg</td>\n",
       "      <td>1</td>\n",
       "    </tr>\n",
       "    <tr>\n",
       "      <th>12599</th>\n",
       "      <td>f1e0b9594ae9f72571f0a9dc67406ad41f2edab0.jpg</td>\n",
       "      <td>7</td>\n",
       "    </tr>\n",
       "  </tbody>\n",
       "</table>\n",
       "<p>12600 rows × 2 columns</p>\n",
       "</div>"
      ]
     },
     "metadata": {},
     "execution_count": 129
    }
   ],
   "metadata": {}
  },
  {
   "cell_type": "code",
   "execution_count": 137,
   "source": [
    "y_pred_all = xgbmodel_b1_pruned_all.predict(test_data[0])"
   ],
   "outputs": [],
   "metadata": {}
  },
  {
   "cell_type": "code",
   "execution_count": 138,
   "source": [
    "y_pred_all"
   ],
   "outputs": [
    {
     "output_type": "execute_result",
     "data": {
      "text/plain": [
       "array([13,  1, 13, ...,  9,  1,  7])"
      ]
     },
     "metadata": {},
     "execution_count": 138
    }
   ],
   "metadata": {}
  },
  {
   "cell_type": "code",
   "execution_count": 114,
   "source": [
    "submission.to_csv(os.path.join(test_dir, 'b1_pruned_xgb.csv'), index=False)\n",
    "print('test inference is done!')"
   ],
   "outputs": [
    {
     "output_type": "stream",
     "name": "stdout",
     "text": [
      "test inference is done!\n"
     ]
    }
   ],
   "metadata": {}
  },
  {
   "cell_type": "markdown",
   "source": [
    "## 학습된 b4 모델에 적용"
   ],
   "metadata": {}
  },
  {
   "cell_type": "code",
   "execution_count": 151,
   "source": [
    "# Custom Model Template\n",
    "class b4_for_xgboost(nn.Module):\n",
    "    def __init__(self):\n",
    "        super().__init__()\n",
    "        self.b4 = model_b4.model\n",
    "        \n",
    "    def forward(self, x):\n",
    "        x = self.b4.conv_stem(x)\n",
    "        x = self.b4.bn1(x)\n",
    "        x = self.b4.act1(x)\n",
    "        x = self.b4.blocks(x)\n",
    "        x = self.b4.conv_head(x)\n",
    "        x = self.b4.bn2(x)\n",
    "        x = self.b4.act2(x)\n",
    "        x = self.b4.global_pool(x)\n",
    "        return x"
   ],
   "outputs": [],
   "metadata": {}
  },
  {
   "cell_type": "code",
   "execution_count": 187,
   "source": [
    "device = \"cuda\" if torch.cuda.is_available() else \"cpu\"\n",
    "xgm = b4_for_xgboost().to(device)\n",
    "\n",
    "for params in xgm.parameters():\n",
    "    params.requires_grad = False\n",
    "\n",
    "# 동일한 기본값 설정\n",
    "data_dict = {}\n",
    "for idx, fold in tqdm(enumerate(folds)):\n",
    "    train_data = CustomDatasetFromDF(df.iloc[fold[0]])\n",
    "    valid_data = CustomDatasetFromDF(df.iloc[fold[1]])\n",
    "\n",
    "    BATCH_SIZE = 16\n",
    "    train_dataloader = torch.utils.data.DataLoader(train_data, batch_size=BATCH_SIZE, shuffle=True,\n",
    "                                                   num_workers=4, drop_last=True)\n",
    "    valid_dataloader = torch.utils.data.DataLoader(valid_data, batch_size=BATCH_SIZE, shuffle=False,\n",
    "                                                   num_workers=4, drop_last=True)\n",
    "\n",
    "    dataloaders = {\"train\" : train_dataloader, \"valid\" : valid_dataloader}\n",
    "\n",
    "    from collections import defaultdict\n",
    "\n",
    "    xgb_data = defaultdict(list)\n",
    "    xgm.eval()\n",
    "    phases = [\"train\", \"valid\"]\n",
    "    for phase in phases:\n",
    "        intermediate_output = []\n",
    "        labels_output = []\n",
    "        for ind, (images, labels) in enumerate(tqdm(dataloaders[phase])):\n",
    "            images = images.to(device)\n",
    "            labels = labels.to(device)\n",
    "            intermediate_output.append(xgm(images).squeeze())\n",
    "            labels_output.append(labels)\n",
    "        xgb_data[phase].append(torch.cat(intermediate_output).cpu().numpy())\n",
    "        xgb_data[phase].append(torch.cat(labels_output).cpu().numpy())\n",
    "    \n",
    "    data_dict[idx] = xgb_data"
   ],
   "outputs": [
    {
     "output_type": "display_data",
     "data": {
      "text/plain": [
       "HBox(children=(HTML(value=''), FloatProgress(value=1.0, bar_style='info', layout=Layout(width='20px'), max=1.0…"
      ],
      "application/vnd.jupyter.widget-view+json": {
       "model_id": "7d3903d0536d4588a0eee788816fd9f7",
       "version_major": 2,
       "version_minor": 0
      }
     },
     "metadata": {}
    },
    {
     "output_type": "display_data",
     "data": {
      "text/plain": [
       "HBox(children=(HTML(value=''), FloatProgress(value=0.0, max=945.0), HTML(value='')))"
      ],
      "application/vnd.jupyter.widget-view+json": {
       "model_id": "4a0c2124e8ed48be8c4332b51b59f164",
       "version_major": 2,
       "version_minor": 0
      }
     },
     "metadata": {}
    },
    {
     "output_type": "stream",
     "name": "stdout",
     "text": [
      "\n"
     ]
    },
    {
     "output_type": "display_data",
     "data": {
      "text/plain": [
       "HBox(children=(HTML(value=''), FloatProgress(value=0.0, max=236.0), HTML(value='')))"
      ],
      "application/vnd.jupyter.widget-view+json": {
       "model_id": "b335152bc5804c4da83305cf7c2213e2",
       "version_major": 2,
       "version_minor": 0
      }
     },
     "metadata": {}
    },
    {
     "output_type": "stream",
     "name": "stdout",
     "text": [
      "\n"
     ]
    },
    {
     "output_type": "display_data",
     "data": {
      "text/plain": [
       "HBox(children=(HTML(value=''), FloatProgress(value=0.0, max=945.0), HTML(value='')))"
      ],
      "application/vnd.jupyter.widget-view+json": {
       "model_id": "f61522d86acf48c6964e150aeb9d2b99",
       "version_major": 2,
       "version_minor": 0
      }
     },
     "metadata": {}
    },
    {
     "output_type": "stream",
     "name": "stdout",
     "text": [
      "\n"
     ]
    },
    {
     "output_type": "display_data",
     "data": {
      "text/plain": [
       "HBox(children=(HTML(value=''), FloatProgress(value=0.0, max=236.0), HTML(value='')))"
      ],
      "application/vnd.jupyter.widget-view+json": {
       "model_id": "db2dcf7d3b5b4e01825a7bbbac5d7f68",
       "version_major": 2,
       "version_minor": 0
      }
     },
     "metadata": {}
    },
    {
     "output_type": "stream",
     "name": "stdout",
     "text": [
      "\n"
     ]
    },
    {
     "output_type": "display_data",
     "data": {
      "text/plain": [
       "HBox(children=(HTML(value=''), FloatProgress(value=0.0, max=945.0), HTML(value='')))"
      ],
      "application/vnd.jupyter.widget-view+json": {
       "model_id": "22ff92e8ce704af78fa0e7ec114860ac",
       "version_major": 2,
       "version_minor": 0
      }
     },
     "metadata": {}
    },
    {
     "output_type": "stream",
     "name": "stdout",
     "text": [
      "\n"
     ]
    },
    {
     "output_type": "display_data",
     "data": {
      "text/plain": [
       "HBox(children=(HTML(value=''), FloatProgress(value=0.0, max=236.0), HTML(value='')))"
      ],
      "application/vnd.jupyter.widget-view+json": {
       "model_id": "b789b7e8f84d43e09c18c1cebda684e6",
       "version_major": 2,
       "version_minor": 0
      }
     },
     "metadata": {}
    },
    {
     "output_type": "stream",
     "name": "stdout",
     "text": [
      "\n"
     ]
    },
    {
     "output_type": "display_data",
     "data": {
      "text/plain": [
       "HBox(children=(HTML(value=''), FloatProgress(value=0.0, max=945.0), HTML(value='')))"
      ],
      "application/vnd.jupyter.widget-view+json": {
       "model_id": "66b744fb87954feabfa3ede6d6cb0717",
       "version_major": 2,
       "version_minor": 0
      }
     },
     "metadata": {}
    },
    {
     "output_type": "stream",
     "name": "stdout",
     "text": [
      "\n"
     ]
    },
    {
     "output_type": "display_data",
     "data": {
      "text/plain": [
       "HBox(children=(HTML(value=''), FloatProgress(value=0.0, max=236.0), HTML(value='')))"
      ],
      "application/vnd.jupyter.widget-view+json": {
       "model_id": "23c9717d2124440db6499fa8e3ff6a10",
       "version_major": 2,
       "version_minor": 0
      }
     },
     "metadata": {}
    },
    {
     "output_type": "stream",
     "name": "stdout",
     "text": [
      "\n"
     ]
    },
    {
     "output_type": "display_data",
     "data": {
      "text/plain": [
       "HBox(children=(HTML(value=''), FloatProgress(value=0.0, max=945.0), HTML(value='')))"
      ],
      "application/vnd.jupyter.widget-view+json": {
       "model_id": "3098fa0fb9dd419dbdd47e8bdde96235",
       "version_major": 2,
       "version_minor": 0
      }
     },
     "metadata": {}
    },
    {
     "output_type": "stream",
     "name": "stdout",
     "text": [
      "\n"
     ]
    },
    {
     "output_type": "display_data",
     "data": {
      "text/plain": [
       "HBox(children=(HTML(value=''), FloatProgress(value=0.0, max=236.0), HTML(value='')))"
      ],
      "application/vnd.jupyter.widget-view+json": {
       "model_id": "cb117bcdb1ab45e098d34ecd8020c9a4",
       "version_major": 2,
       "version_minor": 0
      }
     },
     "metadata": {}
    },
    {
     "output_type": "stream",
     "name": "stdout",
     "text": [
      "\n",
      "\n"
     ]
    }
   ],
   "metadata": {}
  },
  {
   "cell_type": "code",
   "execution_count": 153,
   "source": [
    "from sklearn.decomposition import PCA\n",
    "\n",
    "pca = PCA(n_components=0.95)\n",
    "X_reduced = pca.fit_transform(xgb_data['train'][0])"
   ],
   "outputs": [],
   "metadata": {}
  },
  {
   "cell_type": "code",
   "execution_count": 314,
   "source": [
    "data_dict[0]['train'][0].shape, data_dict[0]['train'][1].shape"
   ],
   "outputs": [
    {
     "output_type": "execute_result",
     "data": {
      "text/plain": [
       "((15120, 1792), (15120,))"
      ]
     },
     "metadata": {},
     "execution_count": 314
    }
   ],
   "metadata": {}
  },
  {
   "cell_type": "code",
   "execution_count": 316,
   "source": [
    "from sklearn.metrics import accuracy_score\n",
    "from sklearn.metrics import f1_score\n",
    "\n",
    "y_pred = xgbmodel_b4.predict(xgb_data['valid'][0])\n",
    "y_true = xgb_data['valid'][1]\n",
    "\n",
    "print(f'Accuracy: {accuracy_score(y_true, y_pred)}, f1_score: {f1_score(y_true, y_pred, average=\"macro\")}')"
   ],
   "outputs": [
    {
     "output_type": "stream",
     "name": "stdout",
     "text": [
      "Accuracy: 0.9891419491525424, f1_score: 0.9707808189119498\n"
     ]
    }
   ],
   "metadata": {}
  },
  {
   "cell_type": "code",
   "execution_count": 312,
   "source": [
    "xgbmodel_b4 = XGBClassifier(objective='mlogloss', num_class= 18)\n",
    "xgbmodel_b4.fit(data_dict[0]['train'][0], data_dict[0]['train'][1])"
   ],
   "outputs": [
    {
     "output_type": "stream",
     "name": "stdout",
     "text": [
      "[01:53:55] WARNING: ../src/learner.cc:1095: Starting in XGBoost 1.3.0, the default evaluation metric used with the objective 'multi:softprob' was changed from 'merror' to 'mlogloss'. Explicitly set eval_metric if you'd like to restore the old behavior.\n"
     ]
    },
    {
     "output_type": "execute_result",
     "data": {
      "text/plain": [
       "XGBClassifier(base_score=0.5, booster='gbtree', colsample_bylevel=1,\n",
       "              colsample_bynode=1, colsample_bytree=1, gamma=0, gpu_id=-1,\n",
       "              importance_type='gain', interaction_constraints='',\n",
       "              learning_rate=0.300000012, max_delta_step=0, max_depth=6,\n",
       "              min_child_weight=1, missing=nan, monotone_constraints='()',\n",
       "              n_estimators=100, n_jobs=8, num_class=18, num_parallel_tree=1,\n",
       "              objective='multi:softprob', random_state=0, reg_alpha=0,\n",
       "              reg_lambda=1, scale_pos_weight=None, subsample=1,\n",
       "              tree_method='exact', validate_parameters=1, verbosity=None)"
      ]
     },
     "metadata": {},
     "execution_count": 312
    }
   ],
   "metadata": {}
  },
  {
   "cell_type": "code",
   "execution_count": 307,
   "source": [
    "xgb_data['train'][0].shape"
   ],
   "outputs": [
    {
     "output_type": "execute_result",
     "data": {
      "text/plain": [
       "(15120, 1792)"
      ]
     },
     "metadata": {},
     "execution_count": 307
    }
   ],
   "metadata": {}
  },
  {
   "cell_type": "code",
   "execution_count": 315,
   "source": [
    "X_reduced.shape, X_valid_reduced.shape"
   ],
   "outputs": [
    {
     "output_type": "execute_result",
     "data": {
      "text/plain": [
       "((15120, 132), (3776, 132))"
      ]
     },
     "metadata": {},
     "execution_count": 315
    }
   ],
   "metadata": {}
  },
  {
   "cell_type": "code",
   "execution_count": 156,
   "source": [
    "xgbmodel_b4_reduced = XGBClassifier(objective='mlogloss', num_class= 18)\n",
    "xgbmodel_b4_reduced.fit(X_reduced, xgb_data['train'][1])"
   ],
   "outputs": [
    {
     "output_type": "stream",
     "name": "stdout",
     "text": [
      "[06:34:17] WARNING: ../src/learner.cc:1095: Starting in XGBoost 1.3.0, the default evaluation metric used with the objective 'multi:softprob' was changed from 'merror' to 'mlogloss'. Explicitly set eval_metric if you'd like to restore the old behavior.\n"
     ]
    },
    {
     "output_type": "execute_result",
     "data": {
      "text/plain": [
       "XGBClassifier(base_score=0.5, booster='gbtree', colsample_bylevel=1,\n",
       "              colsample_bynode=1, colsample_bytree=1, gamma=0, gpu_id=-1,\n",
       "              importance_type='gain', interaction_constraints='',\n",
       "              learning_rate=0.300000012, max_delta_step=0, max_depth=6,\n",
       "              min_child_weight=1, missing=nan, monotone_constraints='()',\n",
       "              n_estimators=100, n_jobs=8, num_class=18, num_parallel_tree=1,\n",
       "              objective='multi:softprob', random_state=0, reg_alpha=0,\n",
       "              reg_lambda=1, scale_pos_weight=None, subsample=1,\n",
       "              tree_method='exact', validate_parameters=1, verbosity=None)"
      ]
     },
     "metadata": {},
     "execution_count": 156
    }
   ],
   "metadata": {}
  },
  {
   "cell_type": "code",
   "execution_count": 158,
   "source": [
    "X_valid_reduced = pca.transform(xgb_data['valid'][0])\n",
    "y_pred_reduced = xgbmodel_b4_reduced.predict(X_valid_reduced)\n",
    "y_true = xgb_data['valid'][1]\n",
    "\n",
    "from sklearn.metrics import accuracy_score\n",
    "from sklearn.metrics import f1_score\n",
    "\n",
    "print(f'Accuracy: {accuracy_score(y_true, y_pred_reduced)}, f1_score: {f1_score(y_true, y_pred_reduced, average=\"macro\")}')"
   ],
   "outputs": [
    {
     "output_type": "stream",
     "name": "stdout",
     "text": [
      "Accuracy: 0.988082627118644, f1_score: 0.9719054650719767\n"
     ]
    }
   ],
   "metadata": {}
  },
  {
   "cell_type": "code",
   "execution_count": null,
   "source": [
    "device = \"cuda\" if torch.cuda.is_available() else \"cpu\"\n",
    "xgm = b1_pruned_for_xgboost().to(device)\n",
    "\n",
    "for params in xgm.parameters():\n",
    "    params.requires_grad = False\n",
    "\n",
    "# 동일한 기본값 설정\n",
    "fold_list = []\n",
    "for fold in folds:\n",
    "    train_data = CustomDatasetFromDF(df.iloc[fold[0]])\n",
    "    valid_data = CustomDatasetFromDF(df.iloc[fold[1]])\n",
    "\n",
    "    BATCH_SIZE = 16\n",
    "    train_dataloader = torch.utils.data.DataLoader(train_data, batch_size=BATCH_SIZE, shuffle=True,\n",
    "                                                   num_workers=4, drop_last=True)\n",
    "    valid_dataloader = torch.utils.data.DataLoader(valid_data, batch_size=BATCH_SIZE, shuffle=False,\n",
    "                                                   num_workers=4, drop_last=True)\n",
    "\n",
    "    dataloaders = {\"train\" : train_dataloader, \"valid\" : valid_dataloader}\n",
    "\n",
    "    from collections import defaultdict\n",
    "\n",
    "    xgb_data = defaultdict(list)\n",
    "    xgm.eval()\n",
    "    phases = [\"train\", \"valid\"]\n",
    "    for phase in phases:\n",
    "        intermediate_output = []\n",
    "        labels_output = []\n",
    "        for ind, (images, labels) in enumerate(tqdm(dataloaders[phase])):\n",
    "            images = images.to(device)\n",
    "            labels = labels.to(device)\n",
    "            intermediate_output.append(xgm(images).squeeze())\n",
    "            labels_output.append(labels)\n",
    "        xgb_data[phase].append(torch.cat(intermediate_output).cpu().numpy())\n",
    "        xgb_data[phase].append(torch.cat(labels_output).cpu().numpy())\n",
    "    \n",
    "    fold_list.append(xgb_data)"
   ],
   "outputs": [],
   "metadata": {}
  },
  {
   "cell_type": "code",
   "execution_count": 160,
   "source": [
    "print(gridcv.best_params_)"
   ],
   "outputs": [
    {
     "output_type": "stream",
     "name": "stdout",
     "text": [
      "{'colsample_bytree': 0.3, 'max_depth': 6, 'min_child_weight': 1}\n"
     ]
    }
   ],
   "metadata": {}
  },
  {
   "cell_type": "code",
   "execution_count": 165,
   "source": [
    "print(gridcv.best_params_)"
   ],
   "outputs": [
    {
     "output_type": "stream",
     "name": "stdout",
     "text": [
      "{'colsample_bytree': 0.1}\n"
     ]
    }
   ],
   "metadata": {}
  },
  {
   "cell_type": "code",
   "execution_count": 169,
   "source": [
    "from sklearn.model_selection import GridSearchCV\n",
    "\n",
    "# 객체 생성, 일단은 트리 100개만 만듦\n",
    "xgb_model = XGBClassifier(min_child_weight = 1, max_depth=6, colsample_bytree = 0.1, n_estimators=200)\n",
    "\n",
    "# 후보 파라미터 선정\n",
    "params = {'learning_rate':[0.1, 0.2, 0.3]}\n",
    "\n",
    "# gridsearchcv 객체 정보 입력(어떤 모델, 파라미터 후보, 교차검증 몇 번)\n",
    "gridcv = GridSearchCV(xgb_model, param_grid=params, cv=3)\n",
    "\n",
    "# 파라미터 튜닝 시작\n",
    "gridcv.fit(X_reduced, xgb_data['train'][1], early_stopping_rounds=30, eval_metric='mlogloss', eval_set=[(X_valid_reduced, y_true)],\n",
    "           verbose=100)\n",
    "\n",
    "#튜닝된 파라미터 출력\n",
    "print(gridcv.best_params_)"
   ],
   "outputs": [
    {
     "output_type": "stream",
     "name": "stdout",
     "text": [
      "[0]\tvalidation_0-mlogloss:2.45864\n",
      "[100]\tvalidation_0-mlogloss:0.07397\n",
      "[199]\tvalidation_0-mlogloss:0.05098\n",
      "[0]\tvalidation_0-mlogloss:2.46183\n",
      "[100]\tvalidation_0-mlogloss:0.07580\n",
      "[199]\tvalidation_0-mlogloss:0.05193\n",
      "[0]\tvalidation_0-mlogloss:2.45708\n",
      "[100]\tvalidation_0-mlogloss:0.07411\n",
      "[199]\tvalidation_0-mlogloss:0.05107\n",
      "[0]\tvalidation_0-mlogloss:2.06922\n",
      "[100]\tvalidation_0-mlogloss:0.05498\n",
      "[199]\tvalidation_0-mlogloss:0.05055\n",
      "[0]\tvalidation_0-mlogloss:2.07470\n",
      "[100]\tvalidation_0-mlogloss:0.05491\n",
      "[199]\tvalidation_0-mlogloss:0.05062\n",
      "[0]\tvalidation_0-mlogloss:2.06590\n",
      "[100]\tvalidation_0-mlogloss:0.05392\n",
      "[199]\tvalidation_0-mlogloss:0.04962\n",
      "[0]\tvalidation_0-mlogloss:1.74463\n",
      "[100]\tvalidation_0-mlogloss:0.05316\n",
      "[199]\tvalidation_0-mlogloss:0.05123\n",
      "[0]\tvalidation_0-mlogloss:1.75069\n",
      "[100]\tvalidation_0-mlogloss:0.05554\n",
      "[199]\tvalidation_0-mlogloss:0.05357\n",
      "[0]\tvalidation_0-mlogloss:1.73902\n",
      "[100]\tvalidation_0-mlogloss:0.05271\n",
      "[199]\tvalidation_0-mlogloss:0.05066\n",
      "[0]\tvalidation_0-mlogloss:1.72097\n",
      "[100]\tvalidation_0-mlogloss:0.04995\n",
      "[199]\tvalidation_0-mlogloss:0.04837\n",
      "{'learning_rate': 0.3}\n"
     ]
    }
   ],
   "metadata": {}
  },
  {
   "cell_type": "markdown",
   "source": [
    "### 결과"
   ],
   "metadata": {}
  },
  {
   "cell_type": "code",
   "execution_count": 170,
   "source": [
    "# 1차적으로 튜닝된 파라미터를 가지고 객체 생성\n",
    "xgb_model = XGBClassifier(max_depth=6, min_child_weight=1, colsample_bytree=0.1, n_estimators=200)\n",
    "\n",
    "# 학습\n",
    "xgb_model.fit(X_reduced, xgb_data['train'][1], early_stopping_rounds=30, eval_metric='mlogloss', eval_set=[(X_valid_reduced, y_true)],\n",
    "             verbose=50)"
   ],
   "outputs": [
    {
     "output_type": "stream",
     "name": "stdout",
     "text": [
      "[0]\tvalidation_0-mlogloss:1.72097\n",
      "[50]\tvalidation_0-mlogloss:0.05703\n",
      "[100]\tvalidation_0-mlogloss:0.04995\n",
      "[150]\tvalidation_0-mlogloss:0.04862\n",
      "[199]\tvalidation_0-mlogloss:0.04837\n"
     ]
    },
    {
     "output_type": "execute_result",
     "data": {
      "text/plain": [
       "XGBClassifier(base_score=0.5, booster='gbtree', colsample_bylevel=1,\n",
       "              colsample_bynode=1, colsample_bytree=0.1, gamma=0, gpu_id=-1,\n",
       "              importance_type='gain', interaction_constraints='',\n",
       "              learning_rate=0.300000012, max_delta_step=0, max_depth=6,\n",
       "              min_child_weight=1, missing=nan, monotone_constraints='()',\n",
       "              n_estimators=200, n_jobs=8, num_parallel_tree=1,\n",
       "              objective='multi:softprob', random_state=0, reg_alpha=0,\n",
       "              reg_lambda=1, scale_pos_weight=None, subsample=1,\n",
       "              tree_method='exact', validate_parameters=1, verbosity=None)"
      ]
     },
     "metadata": {},
     "execution_count": 170
    }
   ],
   "metadata": {}
  },
  {
   "cell_type": "code",
   "execution_count": 171,
   "source": [
    "y_pred_reduced = xgb_model.predict(X_valid_reduced)\n",
    "y_true = xgb_data['valid'][1]\n",
    "\n",
    "from sklearn.metrics import accuracy_score\n",
    "from sklearn.metrics import f1_score\n",
    "\n",
    "print(f'Accuracy: {accuracy_score(y_true, y_pred_reduced)}, f1_score: {f1_score(y_true, y_pred_reduced, average=\"macro\")}')"
   ],
   "outputs": [
    {
     "output_type": "stream",
     "name": "stdout",
     "text": [
      "Accuracy: 0.9899364406779662, f1_score: 0.9786035649032008\n"
     ]
    }
   ],
   "metadata": {}
  },
  {
   "cell_type": "markdown",
   "source": [
    "# Catboost 학습"
   ],
   "metadata": {}
  },
  {
   "cell_type": "code",
   "execution_count": 173,
   "source": [
    "from catboost import CatBoostClassifier, Pool"
   ],
   "outputs": [],
   "metadata": {}
  },
  {
   "cell_type": "code",
   "execution_count": 174,
   "source": [
    "train_data = Pool(data=X_reduced, label=xgb_data['train'][1])\n",
    "valid_data = Pool(data=X_valid_reduced, label=xgb_data['valid'][1])\n",
    "\n",
    "model_cat = CatBoostClassifier()\n",
    "model_cat.fit(train_data, eval_set=valid_data, use_best_model=True, early_stopping_rounds=100, verbose=100)"
   ],
   "outputs": [
    {
     "output_type": "stream",
     "name": "stdout",
     "text": [
      "Learning rate set to 0.114004\n",
      "0:\tlearn: 1.5117918\ttest: 1.5549815\tbest: 1.5549815 (0)\ttotal: 193ms\tremaining: 3m 12s\n",
      "100:\tlearn: 0.0084193\ttest: 0.0459876\tbest: 0.0459520 (98)\ttotal: 12.3s\tremaining: 1m 49s\n",
      "200:\tlearn: 0.0044674\ttest: 0.0424127\tbest: 0.0423932 (199)\ttotal: 24.4s\tremaining: 1m 36s\n",
      "300:\tlearn: 0.0028699\ttest: 0.0416555\tbest: 0.0416100 (292)\ttotal: 36.7s\tremaining: 1m 25s\n",
      "400:\tlearn: 0.0020153\ttest: 0.0413092\tbest: 0.0412753 (389)\ttotal: 48.8s\tremaining: 1m 12s\n",
      "500:\tlearn: 0.0015395\ttest: 0.0410304\tbest: 0.0410130 (484)\ttotal: 1m\tremaining: 1m\n",
      "600:\tlearn: 0.0012108\ttest: 0.0409734\tbest: 0.0408020 (562)\ttotal: 1m 13s\tremaining: 48.5s\n",
      "Stopped by overfitting detector  (100 iterations wait)\n",
      "\n",
      "bestTest = 0.04080204801\n",
      "bestIteration = 562\n",
      "\n",
      "Shrink model to first 563 iterations.\n"
     ]
    },
    {
     "output_type": "execute_result",
     "data": {
      "text/plain": [
       "<catboost.core.CatBoostClassifier at 0x7f1f99c63a30>"
      ]
     },
     "metadata": {},
     "execution_count": 174
    }
   ],
   "metadata": {}
  },
  {
   "cell_type": "code",
   "execution_count": 175,
   "source": [
    "from sklearn.metrics import accuracy_score\n",
    "from sklearn.metrics import f1_score\n",
    "\n",
    "y_pred_reduced = model_cat.predict(X_valid_reduced)\n",
    "y_true = xgb_data['valid'][1]\n",
    "\n",
    "print(f'Accuracy: {accuracy_score(y_true, y_pred_reduced)}, f1_score: {f1_score(y_true, y_pred_reduced, average=\"macro\")}')"
   ],
   "outputs": [
    {
     "output_type": "stream",
     "name": "stdout",
     "text": [
      "Accuracy: 0.9909957627118644, f1_score: 0.9830412027135461\n"
     ]
    }
   ],
   "metadata": {}
  },
  {
   "cell_type": "code",
   "execution_count": 178,
   "source": [
    "y_pred_reduced.reshape(-1)"
   ],
   "outputs": [
    {
     "output_type": "execute_result",
     "data": {
      "text/plain": [
       "array([4, 4, 4, ..., 6, 0, 0])"
      ]
     },
     "metadata": {},
     "execution_count": 178
    }
   ],
   "metadata": {}
  },
  {
   "cell_type": "code",
   "execution_count": 177,
   "source": [
    "y_true"
   ],
   "outputs": [
    {
     "output_type": "execute_result",
     "data": {
      "text/plain": [
       "array([4, 4, 4, ..., 6, 0, 0])"
      ]
     },
     "metadata": {},
     "execution_count": 177
    }
   ],
   "metadata": {}
  },
  {
   "cell_type": "code",
   "execution_count": 179,
   "source": [
    "test_data = []\n",
    "intermediate_output = []\n",
    "for ind, images in enumerate(tqdm(loader)):\n",
    "    images = images.to(device)\n",
    "    intermediate_output.append(xgm(images).squeeze())\n",
    "test_data.append(torch.cat(intermediate_output).cpu().numpy())"
   ],
   "outputs": [
    {
     "output_type": "display_data",
     "data": {
      "text/plain": [
       "HBox(children=(HTML(value=''), FloatProgress(value=0.0, max=126.0), HTML(value='')))"
      ],
      "application/vnd.jupyter.widget-view+json": {
       "model_id": "a2690c2e8957435fa17824c28aca61ce",
       "version_major": 2,
       "version_minor": 0
      }
     },
     "metadata": {}
    },
    {
     "output_type": "stream",
     "name": "stdout",
     "text": [
      "\n"
     ]
    }
   ],
   "metadata": {}
  },
  {
   "cell_type": "code",
   "execution_count": 180,
   "source": [
    "test_data[0].shape"
   ],
   "outputs": [
    {
     "output_type": "execute_result",
     "data": {
      "text/plain": [
       "(12600, 1792)"
      ]
     },
     "metadata": {},
     "execution_count": 180
    }
   ],
   "metadata": {}
  },
  {
   "cell_type": "code",
   "execution_count": 183,
   "source": [
    "test_reduced = pca.transform(test_data[0])"
   ],
   "outputs": [],
   "metadata": {}
  },
  {
   "cell_type": "code",
   "execution_count": 184,
   "source": [
    "test_reduced"
   ],
   "outputs": [
    {
     "output_type": "execute_result",
     "data": {
      "text/plain": [
       "array([[ 3.8537211 ,  1.2231947 , -4.1451263 , ..., -0.17371412,\n",
       "        -0.16318451,  0.11631411],\n",
       "       [ 1.2126782 , -4.1606083 , -0.80252934, ..., -0.16583988,\n",
       "         0.30784526, -0.1896185 ],\n",
       "       [ 3.338316  ,  1.8520613 , -5.008249  , ..., -0.23278433,\n",
       "        -0.2318383 , -0.18566856],\n",
       "       ...,\n",
       "       [ 3.033539  ,  9.750283  ,  5.481638  , ..., -0.08406852,\n",
       "         0.14275274, -0.16424063],\n",
       "       [-0.7741766 , -7.1764    , -3.0245001 , ..., -0.32851264,\n",
       "        -0.42317456,  0.0351516 ],\n",
       "       [ 3.6438801 ,  6.477304  ,  6.2143836 , ...,  0.03459899,\n",
       "        -0.05342256, -0.16162072]], dtype=float32)"
      ]
     },
     "metadata": {},
     "execution_count": 184
    }
   ],
   "metadata": {}
  },
  {
   "cell_type": "code",
   "execution_count": 185,
   "source": [
    "y_pred = model_cat.predict(test_reduced)"
   ],
   "outputs": [],
   "metadata": {}
  },
  {
   "cell_type": "code",
   "execution_count": 186,
   "source": [
    "y_pred"
   ],
   "outputs": [
    {
     "output_type": "execute_result",
     "data": {
      "text/plain": [
       "array([[13],\n",
       "       [ 1],\n",
       "       [13],\n",
       "       ...,\n",
       "       [ 9],\n",
       "       [ 1],\n",
       "       [ 7]])"
      ]
     },
     "metadata": {},
     "execution_count": 186
    }
   ],
   "metadata": {}
  },
  {
   "cell_type": "markdown",
   "source": [
    "# Catboost 5-fold"
   ],
   "metadata": {}
  },
  {
   "cell_type": "code",
   "execution_count": 225,
   "source": [
    "# Custom Model Template\n",
    "class b4_0_for_xgboost(nn.Module):\n",
    "    def __init__(self):\n",
    "        super().__init__()\n",
    "        self.b4 = model_b4[0]\n",
    "        \n",
    "    def forward(self, x):\n",
    "        x = self.b4.conv_stem(x)\n",
    "        x = self.b4.bn1(x)\n",
    "        x = self.b4.act1(x)\n",
    "        x = self.b4.blocks(x)\n",
    "        x = self.b4.conv_head(x)\n",
    "        x = self.b4.bn2(x)\n",
    "        x = self.b4.act2(x)\n",
    "        x = self.b4.global_pool(x)\n",
    "        return x\n",
    "    \n",
    "class b4_1_for_xgboost(nn.Module):\n",
    "    def __init__(self):\n",
    "        super().__init__()\n",
    "        self.b4 = model_b4[1]\n",
    "        \n",
    "    def forward(self, x):\n",
    "        x = self.b4.conv_stem(x)\n",
    "        x = self.b4.bn1(x)\n",
    "        x = self.b4.act1(x)\n",
    "        x = self.b4.blocks(x)\n",
    "        x = self.b4.conv_head(x)\n",
    "        x = self.b4.bn2(x)\n",
    "        x = self.b4.act2(x)\n",
    "        x = self.b4.global_pool(x)\n",
    "        return x\n",
    "    \n",
    "class b4_2_for_xgboost(nn.Module):\n",
    "    def __init__(self):\n",
    "        super().__init__()\n",
    "        self.b4 = model_b4[2]\n",
    "        \n",
    "    def forward(self, x):\n",
    "        x = self.b4.conv_stem(x)\n",
    "        x = self.b4.bn1(x)\n",
    "        x = self.b4.act1(x)\n",
    "        x = self.b4.blocks(x)\n",
    "        x = self.b4.conv_head(x)\n",
    "        x = self.b4.bn2(x)\n",
    "        x = self.b4.act2(x)\n",
    "        x = self.b4.global_pool(x)\n",
    "        return x\n",
    "\n",
    "class b4_3_for_xgboost(nn.Module):\n",
    "    def __init__(self):\n",
    "        super().__init__()\n",
    "        self.b4 = model_b4[3]\n",
    "        \n",
    "    def forward(self, x):\n",
    "        x = self.b4.conv_stem(x)\n",
    "        x = self.b4.bn1(x)\n",
    "        x = self.b4.act1(x)\n",
    "        x = self.b4.blocks(x)\n",
    "        x = self.b4.conv_head(x)\n",
    "        x = self.b4.bn2(x)\n",
    "        x = self.b4.act2(x)\n",
    "        x = self.b4.global_pool(x)\n",
    "        return x\n",
    "\n",
    "class b4_4_for_xgboost(nn.Module):\n",
    "    def __init__(self):\n",
    "        super().__init__()\n",
    "        self.b4 = model_b4[4]\n",
    "        \n",
    "    def forward(self, x):\n",
    "        x = self.b4.conv_stem(x)\n",
    "        x = self.b4.bn1(x)\n",
    "        x = self.b4.act1(x)\n",
    "        x = self.b4.blocks(x)\n",
    "        x = self.b4.conv_head(x)\n",
    "        x = self.b4.bn2(x)\n",
    "        x = self.b4.act2(x)\n",
    "        x = self.b4.global_pool(x)\n",
    "        return x"
   ],
   "outputs": [],
   "metadata": {}
  },
  {
   "cell_type": "code",
   "execution_count": 226,
   "source": [
    "device = \"cuda\" if torch.cuda.is_available() else \"cpu\"\n",
    "xgm_0 = b4_0_for_xgboost().to(device)\n",
    "xgm_1 = b4_1_for_xgboost().to(device)\n",
    "xgm_2 = b4_2_for_xgboost().to(device)\n",
    "xgm_3 = b4_3_for_xgboost().to(device)\n",
    "xgm_4 = b4_4_for_xgboost().to(device)\n",
    "\n",
    "for params in xgm_0.parameters():\n",
    "    params.requires_grad = False\n",
    "for params in xgm_1.parameters():\n",
    "    params.requires_grad = False\n",
    "for params in xgm_2.parameters():\n",
    "    params.requires_grad = False\n",
    "for params in xgm_3.parameters():\n",
    "    params.requires_grad = False\n",
    "for params in xgm_4.parameters():\n",
    "    params.requires_grad = False\n",
    "\n",
    "xgm = [xgm_0, xgm_1, xgm_2, xgm_3, xgm_4]\n",
    "\n",
    "# 동일한 기본값 설정\n",
    "data_dict = {}\n",
    "for idx, fold in tqdm(enumerate(folds)):\n",
    "    train_data = CustomDatasetFromDF(df.iloc[fold[0]])\n",
    "    valid_data = CustomDatasetFromDF(df.iloc[fold[1]])\n",
    "\n",
    "    BATCH_SIZE = 16\n",
    "    train_dataloader = torch.utils.data.DataLoader(train_data, batch_size=BATCH_SIZE, shuffle=True,\n",
    "                                                   num_workers=4, drop_last=True)\n",
    "    valid_dataloader = torch.utils.data.DataLoader(valid_data, batch_size=BATCH_SIZE, shuffle=False,\n",
    "                                                   num_workers=4, drop_last=True)\n",
    "\n",
    "    dataloaders = {\"train\" : train_dataloader, \"valid\" : valid_dataloader}\n",
    "\n",
    "    from collections import defaultdict\n",
    "\n",
    "    xgb_data = defaultdict(list)\n",
    "    xgm[idx].eval()\n",
    "    phases = [\"train\", \"valid\"]\n",
    "    for phase in phases:\n",
    "        intermediate_output = []\n",
    "        labels_output = []\n",
    "        for ind, (images, labels) in enumerate(tqdm(dataloaders[phase])):\n",
    "            images = images.to(device)\n",
    "            labels = labels.to(device)\n",
    "            intermediate_output.append(xgm[idx](images).squeeze())\n",
    "            labels_output.append(labels)\n",
    "        xgb_data[phase].append(torch.cat(intermediate_output).cpu().numpy())\n",
    "        xgb_data[phase].append(torch.cat(labels_output).cpu().numpy())\n",
    "    \n",
    "    data_dict[idx] = xgb_data"
   ],
   "outputs": [
    {
     "output_type": "display_data",
     "data": {
      "text/plain": [
       "HBox(children=(HTML(value=''), FloatProgress(value=1.0, bar_style='info', layout=Layout(width='20px'), max=1.0…"
      ],
      "application/vnd.jupyter.widget-view+json": {
       "model_id": "b90475de4515469aa8fef722ae418476",
       "version_major": 2,
       "version_minor": 0
      }
     },
     "metadata": {}
    },
    {
     "output_type": "display_data",
     "data": {
      "text/plain": [
       "HBox(children=(HTML(value=''), FloatProgress(value=0.0, max=945.0), HTML(value='')))"
      ],
      "application/vnd.jupyter.widget-view+json": {
       "model_id": "f1b132919ec345a1851349e5afa7d9f6",
       "version_major": 2,
       "version_minor": 0
      }
     },
     "metadata": {}
    },
    {
     "output_type": "stream",
     "name": "stdout",
     "text": [
      "\n"
     ]
    },
    {
     "output_type": "display_data",
     "data": {
      "text/plain": [
       "HBox(children=(HTML(value=''), FloatProgress(value=0.0, max=236.0), HTML(value='')))"
      ],
      "application/vnd.jupyter.widget-view+json": {
       "model_id": "e37c7b88845546bab038f5bcc148becc",
       "version_major": 2,
       "version_minor": 0
      }
     },
     "metadata": {}
    },
    {
     "output_type": "stream",
     "name": "stdout",
     "text": [
      "\n"
     ]
    },
    {
     "output_type": "display_data",
     "data": {
      "text/plain": [
       "HBox(children=(HTML(value=''), FloatProgress(value=0.0, max=945.0), HTML(value='')))"
      ],
      "application/vnd.jupyter.widget-view+json": {
       "model_id": "68707b9a9e4444798e5768642e5f77ff",
       "version_major": 2,
       "version_minor": 0
      }
     },
     "metadata": {}
    },
    {
     "output_type": "stream",
     "name": "stdout",
     "text": [
      "\n"
     ]
    },
    {
     "output_type": "display_data",
     "data": {
      "text/plain": [
       "HBox(children=(HTML(value=''), FloatProgress(value=0.0, max=236.0), HTML(value='')))"
      ],
      "application/vnd.jupyter.widget-view+json": {
       "model_id": "f177c2de200a4ca0b8c22b9025fa8447",
       "version_major": 2,
       "version_minor": 0
      }
     },
     "metadata": {}
    },
    {
     "output_type": "stream",
     "name": "stdout",
     "text": [
      "\n"
     ]
    },
    {
     "output_type": "display_data",
     "data": {
      "text/plain": [
       "HBox(children=(HTML(value=''), FloatProgress(value=0.0, max=945.0), HTML(value='')))"
      ],
      "application/vnd.jupyter.widget-view+json": {
       "model_id": "c7ec0a4e8e7b45999c23c080b383cf4b",
       "version_major": 2,
       "version_minor": 0
      }
     },
     "metadata": {}
    },
    {
     "output_type": "stream",
     "name": "stdout",
     "text": [
      "\n"
     ]
    },
    {
     "output_type": "display_data",
     "data": {
      "text/plain": [
       "HBox(children=(HTML(value=''), FloatProgress(value=0.0, max=236.0), HTML(value='')))"
      ],
      "application/vnd.jupyter.widget-view+json": {
       "model_id": "20cbdbd9647c4541b7ccc1d516746bc3",
       "version_major": 2,
       "version_minor": 0
      }
     },
     "metadata": {}
    },
    {
     "output_type": "stream",
     "name": "stdout",
     "text": [
      "\n"
     ]
    },
    {
     "output_type": "display_data",
     "data": {
      "text/plain": [
       "HBox(children=(HTML(value=''), FloatProgress(value=0.0, max=945.0), HTML(value='')))"
      ],
      "application/vnd.jupyter.widget-view+json": {
       "model_id": "9b925b6d57b748e48215acb34fef5cd2",
       "version_major": 2,
       "version_minor": 0
      }
     },
     "metadata": {}
    },
    {
     "output_type": "stream",
     "name": "stdout",
     "text": [
      "\n"
     ]
    },
    {
     "output_type": "display_data",
     "data": {
      "text/plain": [
       "HBox(children=(HTML(value=''), FloatProgress(value=0.0, max=236.0), HTML(value='')))"
      ],
      "application/vnd.jupyter.widget-view+json": {
       "model_id": "00a1842d7bcc42f38ba2edc60456f760",
       "version_major": 2,
       "version_minor": 0
      }
     },
     "metadata": {}
    },
    {
     "output_type": "stream",
     "name": "stdout",
     "text": [
      "\n"
     ]
    },
    {
     "output_type": "display_data",
     "data": {
      "text/plain": [
       "HBox(children=(HTML(value=''), FloatProgress(value=0.0, max=945.0), HTML(value='')))"
      ],
      "application/vnd.jupyter.widget-view+json": {
       "model_id": "ef624338cf624557b82577c5f1cf170c",
       "version_major": 2,
       "version_minor": 0
      }
     },
     "metadata": {}
    },
    {
     "output_type": "stream",
     "name": "stdout",
     "text": [
      "\n"
     ]
    },
    {
     "output_type": "display_data",
     "data": {
      "text/plain": [
       "HBox(children=(HTML(value=''), FloatProgress(value=0.0, max=236.0), HTML(value='')))"
      ],
      "application/vnd.jupyter.widget-view+json": {
       "model_id": "39c528c16cd243b5bad3d77b247ef645",
       "version_major": 2,
       "version_minor": 0
      }
     },
     "metadata": {}
    },
    {
     "output_type": "stream",
     "name": "stdout",
     "text": [
      "\n",
      "\n"
     ]
    }
   ],
   "metadata": {}
  },
  {
   "cell_type": "code",
   "execution_count": 227,
   "source": [
    "data = data_dict[1]\n",
    "data['valid'][0].shape, data['valid'][1].shape"
   ],
   "outputs": [
    {
     "output_type": "execute_result",
     "data": {
      "text/plain": [
       "((3776, 1792), (3776,))"
      ]
     },
     "metadata": {},
     "execution_count": 227
    }
   ],
   "metadata": {}
  },
  {
   "cell_type": "code",
   "execution_count": 228,
   "source": [
    "data['train'][0].shape, data['train'][1].shape"
   ],
   "outputs": [
    {
     "output_type": "execute_result",
     "data": {
      "text/plain": [
       "((15120, 1792), (15120,))"
      ]
     },
     "metadata": {},
     "execution_count": 228
    }
   ],
   "metadata": {}
  },
  {
   "cell_type": "code",
   "execution_count": 229,
   "source": [
    "from sklearn.decomposition import PCA\n",
    "from catboost import CatBoostClassifier, Pool\n",
    "from sklearn.metrics import accuracy_score\n",
    "from sklearn.metrics import f1_score\n",
    "\n",
    "cat_models = {}\n",
    "pca_models = {}\n",
    "for i in range(5):\n",
    "    print(f'----------------------fold: {i+1}----------------------')\n",
    "    data = data_dict[i]\n",
    "    X_train, y_train, X_val, y_val = data['train'][0], data['train'][1], data['valid'][0], data['valid'][1]\n",
    "\n",
    "    pca = PCA(n_components=0.95)\n",
    "    X_train_reduced = pca.fit_transform(X_train)\n",
    "    X_val_reduced = pca.transform(X_val)\n",
    "    \n",
    "    train_data = Pool(data=X_train_reduced, label=y_train)\n",
    "    valid_data = Pool(data=X_val_reduced, label=y_val)\n",
    "\n",
    "    model_cat = CatBoostClassifier()\n",
    "    model_cat.fit(train_data, eval_set=valid_data, use_best_model=True, early_stopping_rounds=100, verbose=100)\n",
    "    \n",
    "    cat_models[i] = model_cat\n",
    "    pca_models[i] = pca\n",
    "    \n",
    "    y_pred_val_reduced = model_cat.predict(X_val_reduced)\n",
    "    y_true_val = y_val\n",
    "\n",
    "    print(f'Accuracy: {accuracy_score(y_true_val, y_pred_val_reduced)}, f1_score: {f1_score(y_true_val, y_pred_val_reduced, average=\"macro\")}')\n",
    "    print(f'------------------fold: {i+1} end----------------------')"
   ],
   "outputs": [
    {
     "output_type": "stream",
     "name": "stdout",
     "text": [
      "----------------------fold: 1----------------------\n",
      "Learning rate set to 0.114004\n",
      "0:\tlearn: 1.6382566\ttest: 1.6793519\tbest: 1.6793519 (0)\ttotal: 159ms\tremaining: 2m 38s\n",
      "100:\tlearn: 0.0155668\ttest: 0.0460882\tbest: 0.0460882 (100)\ttotal: 15.8s\tremaining: 2m 21s\n",
      "200:\tlearn: 0.0082529\ttest: 0.0396422\tbest: 0.0396416 (199)\ttotal: 31.4s\tremaining: 2m 4s\n",
      "300:\tlearn: 0.0052542\ttest: 0.0363801\tbest: 0.0363698 (289)\ttotal: 47.3s\tremaining: 1m 49s\n",
      "400:\tlearn: 0.0038336\ttest: 0.0348665\tbest: 0.0348357 (399)\ttotal: 1m 2s\tremaining: 1m 33s\n",
      "500:\tlearn: 0.0029222\ttest: 0.0333238\tbest: 0.0333238 (500)\ttotal: 1m 18s\tremaining: 1m 17s\n",
      "600:\tlearn: 0.0022382\ttest: 0.0320939\tbest: 0.0320932 (598)\ttotal: 1m 34s\tremaining: 1m 2s\n",
      "700:\tlearn: 0.0018047\ttest: 0.0314495\tbest: 0.0314495 (700)\ttotal: 1m 49s\tremaining: 46.9s\n",
      "800:\tlearn: 0.0015104\ttest: 0.0311174\tbest: 0.0311174 (800)\ttotal: 2m 5s\tremaining: 31.2s\n",
      "900:\tlearn: 0.0013020\ttest: 0.0308861\tbest: 0.0308861 (900)\ttotal: 2m 20s\tremaining: 15.5s\n",
      "999:\tlearn: 0.0011360\ttest: 0.0306957\tbest: 0.0306863 (986)\ttotal: 2m 36s\tremaining: 0us\n",
      "\n",
      "bestTest = 0.03068628031\n",
      "bestIteration = 986\n",
      "\n",
      "Shrink model to first 987 iterations.\n",
      "Accuracy: 0.9920550847457628, f1_score: 0.9851518635002816\n",
      "------------------fold: 1 end----------------------\n",
      "----------------------fold: 2----------------------\n",
      "Learning rate set to 0.114004\n",
      "0:\tlearn: 1.6693797\ttest: 1.7071454\tbest: 1.7071454 (0)\ttotal: 197ms\tremaining: 3m 16s\n",
      "100:\tlearn: 0.0099288\ttest: 0.0459471\tbest: 0.0459471 (100)\ttotal: 13.2s\tremaining: 1m 57s\n",
      "200:\tlearn: 0.0049617\ttest: 0.0403347\tbest: 0.0403347 (200)\ttotal: 25.8s\tremaining: 1m 42s\n",
      "300:\tlearn: 0.0029530\ttest: 0.0383484\tbest: 0.0383434 (299)\ttotal: 38.4s\tremaining: 1m 29s\n",
      "400:\tlearn: 0.0020212\ttest: 0.0372619\tbest: 0.0372593 (399)\ttotal: 51.5s\tremaining: 1m 16s\n",
      "500:\tlearn: 0.0015218\ttest: 0.0368149\tbest: 0.0368101 (487)\ttotal: 1m 3s\tremaining: 1m 3s\n",
      "600:\tlearn: 0.0012298\ttest: 0.0366686\tbest: 0.0366326 (583)\ttotal: 1m 16s\tremaining: 50.7s\n",
      "700:\tlearn: 0.0010370\ttest: 0.0365860\tbest: 0.0365604 (648)\ttotal: 1m 28s\tremaining: 37.9s\n",
      "800:\tlearn: 0.0008781\ttest: 0.0364504\tbest: 0.0364459 (799)\ttotal: 1m 41s\tremaining: 25.2s\n",
      "900:\tlearn: 0.0007603\ttest: 0.0364570\tbest: 0.0363919 (834)\ttotal: 1m 53s\tremaining: 12.5s\n",
      "Stopped by overfitting detector  (100 iterations wait)\n",
      "\n",
      "bestTest = 0.03639194814\n",
      "bestIteration = 834\n",
      "\n",
      "Shrink model to first 835 iterations.\n",
      "Accuracy: 0.9915254237288136, f1_score: 0.9796416288488968\n",
      "------------------fold: 2 end----------------------\n",
      "----------------------fold: 3----------------------\n",
      "Learning rate set to 0.114004\n",
      "0:\tlearn: 1.5608635\ttest: 1.5939017\tbest: 1.5939017 (0)\ttotal: 190ms\tremaining: 3m 9s\n",
      "100:\tlearn: 0.0069294\ttest: 0.0410468\tbest: 0.0410468 (100)\ttotal: 11.9s\tremaining: 1m 46s\n",
      "200:\tlearn: 0.0035318\ttest: 0.0376488\tbest: 0.0376437 (198)\ttotal: 23.6s\tremaining: 1m 33s\n",
      "300:\tlearn: 0.0023122\ttest: 0.0366440\tbest: 0.0366440 (300)\ttotal: 35.2s\tremaining: 1m 21s\n",
      "400:\tlearn: 0.0016158\ttest: 0.0360417\tbest: 0.0360417 (400)\ttotal: 47s\tremaining: 1m 10s\n",
      "500:\tlearn: 0.0012075\ttest: 0.0360856\tbest: 0.0359424 (462)\ttotal: 58.9s\tremaining: 58.7s\n",
      "Stopped by overfitting detector  (100 iterations wait)\n",
      "\n",
      "bestTest = 0.03594236921\n",
      "bestIteration = 462\n",
      "\n",
      "Shrink model to first 463 iterations.\n",
      "Accuracy: 0.9904661016949152, f1_score: 0.9780579898227738\n",
      "------------------fold: 3 end----------------------\n",
      "----------------------fold: 4----------------------\n",
      "Learning rate set to 0.114004\n",
      "0:\tlearn: 1.4629966\ttest: 1.5035387\tbest: 1.5035387 (0)\ttotal: 162ms\tremaining: 2m 41s\n",
      "100:\tlearn: 0.0075490\ttest: 0.0509585\tbest: 0.0509585 (100)\ttotal: 11.5s\tremaining: 1m 42s\n",
      "200:\tlearn: 0.0038402\ttest: 0.0468523\tbest: 0.0468389 (194)\ttotal: 22.4s\tremaining: 1m 29s\n",
      "300:\tlearn: 0.0024296\ttest: 0.0453625\tbest: 0.0453625 (300)\ttotal: 33.4s\tremaining: 1m 17s\n",
      "400:\tlearn: 0.0017234\ttest: 0.0449709\tbest: 0.0448513 (359)\ttotal: 44.7s\tremaining: 1m 6s\n",
      "500:\tlearn: 0.0013558\ttest: 0.0446659\tbest: 0.0446005 (487)\ttotal: 55.9s\tremaining: 55.6s\n",
      "Stopped by overfitting detector  (100 iterations wait)\n",
      "\n",
      "bestTest = 0.04460045847\n",
      "bestIteration = 487\n",
      "\n",
      "Shrink model to first 488 iterations.\n",
      "Accuracy: 0.9899364406779662, f1_score: 0.979032245357113\n",
      "------------------fold: 4 end----------------------\n",
      "----------------------fold: 5----------------------\n",
      "Learning rate set to 0.114004\n",
      "0:\tlearn: 1.6505370\ttest: 1.6890651\tbest: 1.6890651 (0)\ttotal: 178ms\tremaining: 2m 57s\n",
      "100:\tlearn: 0.0085066\ttest: 0.0418070\tbest: 0.0418070 (100)\ttotal: 11.6s\tremaining: 1m 43s\n",
      "200:\tlearn: 0.0034192\ttest: 0.0340814\tbest: 0.0340621 (199)\ttotal: 23.1s\tremaining: 1m 31s\n",
      "300:\tlearn: 0.0022143\ttest: 0.0320866\tbest: 0.0320866 (300)\ttotal: 34.8s\tremaining: 1m 20s\n",
      "400:\tlearn: 0.0016284\ttest: 0.0308859\tbest: 0.0308787 (398)\ttotal: 46.3s\tremaining: 1m 9s\n",
      "500:\tlearn: 0.0013051\ttest: 0.0301884\tbest: 0.0301883 (497)\ttotal: 57.7s\tremaining: 57.4s\n",
      "600:\tlearn: 0.0010185\ttest: 0.0296799\tbest: 0.0296781 (598)\ttotal: 1m 9s\tremaining: 45.8s\n",
      "700:\tlearn: 0.0008318\ttest: 0.0293319\tbest: 0.0293319 (700)\ttotal: 1m 20s\tremaining: 34.3s\n",
      "800:\tlearn: 0.0007084\ttest: 0.0290790\tbest: 0.0290790 (800)\ttotal: 1m 32s\tremaining: 22.9s\n",
      "900:\tlearn: 0.0006196\ttest: 0.0289638\tbest: 0.0289490 (899)\ttotal: 1m 43s\tremaining: 11.4s\n",
      "999:\tlearn: 0.0005588\ttest: 0.0289129\tbest: 0.0288671 (985)\ttotal: 1m 54s\tremaining: 0us\n",
      "\n",
      "bestTest = 0.02886711998\n",
      "bestIteration = 985\n",
      "\n",
      "Shrink model to first 986 iterations.\n",
      "Accuracy: 0.9920550847457628, f1_score: 0.9810901744377583\n",
      "------------------fold: 5 end----------------------\n"
     ]
    }
   ],
   "metadata": {}
  },
  {
   "cell_type": "markdown",
   "source": [
    "## 테스트 데이터"
   ],
   "metadata": {}
  },
  {
   "cell_type": "code",
   "execution_count": 272,
   "source": [
    "test_dict = {}\n",
    "xgm = [xgm_0, xgm_1, xgm_2, xgm_3, xgm_4]\n",
    "\n",
    "for idx in range(5):\n",
    "    intermediate_output = []\n",
    "    for images in tqdm(loader):\n",
    "        images = images.to(device)\n",
    "        intermediate_output.append(xgm[idx](images).squeeze())\n",
    "    test_dict[idx] = torch.cat(intermediate_output).cpu().numpy()"
   ],
   "outputs": [
    {
     "output_type": "display_data",
     "data": {
      "text/plain": [
       "HBox(children=(HTML(value=''), FloatProgress(value=0.0, max=126.0), HTML(value='')))"
      ],
      "application/vnd.jupyter.widget-view+json": {
       "model_id": "de0c4473f84e41a89d456fe73a0a4d4e",
       "version_major": 2,
       "version_minor": 0
      }
     },
     "metadata": {}
    },
    {
     "output_type": "stream",
     "name": "stdout",
     "text": [
      "\n"
     ]
    },
    {
     "output_type": "display_data",
     "data": {
      "text/plain": [
       "HBox(children=(HTML(value=''), FloatProgress(value=0.0, max=126.0), HTML(value='')))"
      ],
      "application/vnd.jupyter.widget-view+json": {
       "model_id": "ad0c8a50d21342ad94c89a17a545296e",
       "version_major": 2,
       "version_minor": 0
      }
     },
     "metadata": {}
    },
    {
     "output_type": "stream",
     "name": "stdout",
     "text": [
      "\n"
     ]
    },
    {
     "output_type": "display_data",
     "data": {
      "text/plain": [
       "HBox(children=(HTML(value=''), FloatProgress(value=0.0, max=126.0), HTML(value='')))"
      ],
      "application/vnd.jupyter.widget-view+json": {
       "model_id": "10890c6f6bb247ab9b2c687e0592c883",
       "version_major": 2,
       "version_minor": 0
      }
     },
     "metadata": {}
    },
    {
     "output_type": "stream",
     "name": "stdout",
     "text": [
      "\n"
     ]
    },
    {
     "output_type": "display_data",
     "data": {
      "text/plain": [
       "HBox(children=(HTML(value=''), FloatProgress(value=0.0, max=126.0), HTML(value='')))"
      ],
      "application/vnd.jupyter.widget-view+json": {
       "model_id": "6bbab64b1bd64e3c9284ae4025e030d8",
       "version_major": 2,
       "version_minor": 0
      }
     },
     "metadata": {}
    },
    {
     "output_type": "stream",
     "name": "stdout",
     "text": [
      "\n"
     ]
    },
    {
     "output_type": "display_data",
     "data": {
      "text/plain": [
       "HBox(children=(HTML(value=''), FloatProgress(value=0.0, max=126.0), HTML(value='')))"
      ],
      "application/vnd.jupyter.widget-view+json": {
       "model_id": "ea4d07d7d4e840858ff0acde2ba937f6",
       "version_major": 2,
       "version_minor": 0
      }
     },
     "metadata": {}
    },
    {
     "output_type": "stream",
     "name": "stdout",
     "text": [
      "\n"
     ]
    }
   ],
   "metadata": {}
  },
  {
   "cell_type": "code",
   "execution_count": 276,
   "source": [
    "test_dict[0].shape"
   ],
   "outputs": [
    {
     "output_type": "execute_result",
     "data": {
      "text/plain": [
       "(12600, 1792)"
      ]
     },
     "metadata": {},
     "execution_count": 276
    }
   ],
   "metadata": {}
  },
  {
   "cell_type": "code",
   "execution_count": 277,
   "source": [
    "X_0_test_reduced = pca_models[0].transform(test_dict[0])\n",
    "X_1_test_reduced = pca_models[1].transform(test_dict[1])\n",
    "X_2_test_reduced = pca_models[2].transform(test_dict[2])\n",
    "X_3_test_reduced = pca_models[3].transform(test_dict[3])\n",
    "X_4_test_reduced = pca_models[4].transform(test_dict[4])\n",
    "\n",
    "X_test_reduceds = [X_0_test_reduced, X_1_test_reduced, X_2_test_reduced, X_3_test_reduced, X_4_test_reduced]"
   ],
   "outputs": [],
   "metadata": {}
  },
  {
   "cell_type": "code",
   "execution_count": 278,
   "source": [
    "proba = 0\n",
    "for idx, X_test_reduced in enumerate(X_test_reduceds):\n",
    "    proba += cat_models[idx].predict_proba(X_test_reduced)\n",
    "\n",
    "proba.shape"
   ],
   "outputs": [
    {
     "output_type": "execute_result",
     "data": {
      "text/plain": [
       "(12600, 18)"
      ]
     },
     "metadata": {},
     "execution_count": 278
    }
   ],
   "metadata": {}
  },
  {
   "cell_type": "code",
   "execution_count": 279,
   "source": [
    "y_pred = np.argmax(proba, axis=-1)"
   ],
   "outputs": [],
   "metadata": {}
  },
  {
   "cell_type": "code",
   "execution_count": 280,
   "source": [
    "y_pred"
   ],
   "outputs": [
    {
     "output_type": "execute_result",
     "data": {
      "text/plain": [
       "array([13,  1, 13, ...,  9,  1,  7])"
      ]
     },
     "metadata": {},
     "execution_count": 280
    }
   ],
   "metadata": {}
  },
  {
   "cell_type": "code",
   "execution_count": 281,
   "source": [
    "submission['ans'] = y_pred"
   ],
   "outputs": [],
   "metadata": {}
  },
  {
   "cell_type": "code",
   "execution_count": 282,
   "source": [
    "submission"
   ],
   "outputs": [
    {
     "output_type": "execute_result",
     "data": {
      "text/plain": [
       "                                            ImageID  ans\n",
       "0      cbc5c6e168e63498590db46022617123f1fe1268.jpg   13\n",
       "1      0e72482bf56b3581c081f7da2a6180b8792c7089.jpg    1\n",
       "2      b549040c49190cedc41327748aeb197c1670f14d.jpg   13\n",
       "3      4f9cb2a045c6d5b9e50ad3459ea7b791eb6e18bc.jpg   13\n",
       "4      248428d9a4a5b6229a7081c32851b90cb8d38d0c.jpg   12\n",
       "...                                             ...  ...\n",
       "12595  d71d4570505d6af8f777690e63edfa8d85ea4476.jpg    1\n",
       "12596  6cf1300e8e218716728d5820c0bab553306c2cfd.jpg    4\n",
       "12597  8140edbba31c3a824e817e6d5fb95343199e2387.jpg    9\n",
       "12598  030d439efe6fb5a7bafda45a393fc19f2bf57f54.jpg    1\n",
       "12599  f1e0b9594ae9f72571f0a9dc67406ad41f2edab0.jpg    7\n",
       "\n",
       "[12600 rows x 2 columns]"
      ],
      "text/html": [
       "<div>\n",
       "<style scoped>\n",
       "    .dataframe tbody tr th:only-of-type {\n",
       "        vertical-align: middle;\n",
       "    }\n",
       "\n",
       "    .dataframe tbody tr th {\n",
       "        vertical-align: top;\n",
       "    }\n",
       "\n",
       "    .dataframe thead th {\n",
       "        text-align: right;\n",
       "    }\n",
       "</style>\n",
       "<table border=\"1\" class=\"dataframe\">\n",
       "  <thead>\n",
       "    <tr style=\"text-align: right;\">\n",
       "      <th></th>\n",
       "      <th>ImageID</th>\n",
       "      <th>ans</th>\n",
       "    </tr>\n",
       "  </thead>\n",
       "  <tbody>\n",
       "    <tr>\n",
       "      <th>0</th>\n",
       "      <td>cbc5c6e168e63498590db46022617123f1fe1268.jpg</td>\n",
       "      <td>13</td>\n",
       "    </tr>\n",
       "    <tr>\n",
       "      <th>1</th>\n",
       "      <td>0e72482bf56b3581c081f7da2a6180b8792c7089.jpg</td>\n",
       "      <td>1</td>\n",
       "    </tr>\n",
       "    <tr>\n",
       "      <th>2</th>\n",
       "      <td>b549040c49190cedc41327748aeb197c1670f14d.jpg</td>\n",
       "      <td>13</td>\n",
       "    </tr>\n",
       "    <tr>\n",
       "      <th>3</th>\n",
       "      <td>4f9cb2a045c6d5b9e50ad3459ea7b791eb6e18bc.jpg</td>\n",
       "      <td>13</td>\n",
       "    </tr>\n",
       "    <tr>\n",
       "      <th>4</th>\n",
       "      <td>248428d9a4a5b6229a7081c32851b90cb8d38d0c.jpg</td>\n",
       "      <td>12</td>\n",
       "    </tr>\n",
       "    <tr>\n",
       "      <th>...</th>\n",
       "      <td>...</td>\n",
       "      <td>...</td>\n",
       "    </tr>\n",
       "    <tr>\n",
       "      <th>12595</th>\n",
       "      <td>d71d4570505d6af8f777690e63edfa8d85ea4476.jpg</td>\n",
       "      <td>1</td>\n",
       "    </tr>\n",
       "    <tr>\n",
       "      <th>12596</th>\n",
       "      <td>6cf1300e8e218716728d5820c0bab553306c2cfd.jpg</td>\n",
       "      <td>4</td>\n",
       "    </tr>\n",
       "    <tr>\n",
       "      <th>12597</th>\n",
       "      <td>8140edbba31c3a824e817e6d5fb95343199e2387.jpg</td>\n",
       "      <td>9</td>\n",
       "    </tr>\n",
       "    <tr>\n",
       "      <th>12598</th>\n",
       "      <td>030d439efe6fb5a7bafda45a393fc19f2bf57f54.jpg</td>\n",
       "      <td>1</td>\n",
       "    </tr>\n",
       "    <tr>\n",
       "      <th>12599</th>\n",
       "      <td>f1e0b9594ae9f72571f0a9dc67406ad41f2edab0.jpg</td>\n",
       "      <td>7</td>\n",
       "    </tr>\n",
       "  </tbody>\n",
       "</table>\n",
       "<p>12600 rows × 2 columns</p>\n",
       "</div>"
      ]
     },
     "metadata": {},
     "execution_count": 282
    }
   ],
   "metadata": {}
  },
  {
   "cell_type": "code",
   "execution_count": 283,
   "source": [
    "submission.to_csv(os.path.join(test_dir, 'catboost_5fold.csv'), index=False)\n",
    "print('test inference is done!')"
   ],
   "outputs": [
    {
     "output_type": "stream",
     "name": "stdout",
     "text": [
      "test inference is done!\n"
     ]
    }
   ],
   "metadata": {}
  },
  {
   "cell_type": "code",
   "execution_count": 323,
   "source": [
    "# GPU를 활용해 학습하면 훨씬 빠릅니다.\n",
    "# Catboost 공식 문서를 읽고 알게 되었습니다.\n",
    "\n",
    "from sklearn.decomposition import PCA\n",
    "from catboost import CatBoostClassifier, Pool\n",
    "from sklearn.metrics import accuracy_score\n",
    "from sklearn.metrics import f1_score\n",
    "\n",
    "cat_models = {}\n",
    "pca_models = {}\n",
    "for i in range(5):\n",
    "    print(f'----------------------fold: {i+1}----------------------')\n",
    "    data = data_dict[i]\n",
    "    X_train, y_train, X_val, y_val = data['train'][0], data['train'][1], data['valid'][0], data['valid'][1]\n",
    "\n",
    "    pca = PCA(n_components=0.95)\n",
    "    X_train_reduced = pca.fit_transform(X_train)\n",
    "    X_val_reduced = pca.transform(X_val)\n",
    "    \n",
    "    train_data = Pool(data=X_train_reduced, label=y_train)\n",
    "    valid_data = Pool(data=X_val_reduced, label=y_val)\n",
    "\n",
    "    model_cat = CatBoostClassifier(task_type=\"GPU\", devices='cuda')\n",
    "    model_cat.fit(train_data, eval_set=valid_data, use_best_model=True, early_stopping_rounds=100, verbose=100)\n",
    "    \n",
    "    cat_models[i] = model_cat\n",
    "    pca_models[i] = pca\n",
    "    \n",
    "    y_pred_val_reduced = model_cat.predict(X_val_reduced)\n",
    "    y_true_val = y_val\n",
    "\n",
    "    print(f'Accuracy: {accuracy_score(y_true_val, y_pred_val_reduced)}, f1_score: {f1_score(y_true_val, y_pred_val_reduced, average=\"macro\")}')\n",
    "    print(f'------------------fold: {i+1} end----------------------')"
   ],
   "outputs": [
    {
     "output_type": "stream",
     "name": "stdout",
     "text": [
      "----------------------fold: 1----------------------\n",
      "Learning rate set to 0.138346\n",
      "0:\tlearn: 1.4783275\ttest: 1.5225362\tbest: 1.5225362 (0)\ttotal: 11.3ms\tremaining: 11.2s\n"
     ]
    },
    {
     "output_type": "stream",
     "name": "stderr",
     "text": [
      "Warning: less than 75% gpu memory available for training. Free: 5004.75 Total: 32510.5\n"
     ]
    },
    {
     "output_type": "stream",
     "name": "stdout",
     "text": [
      "100:\tlearn: 0.0134080\ttest: 0.0455767\tbest: 0.0455767 (100)\ttotal: 875ms\tremaining: 7.79s\n",
      "200:\tlearn: 0.0061191\ttest: 0.0381196\tbest: 0.0381196 (200)\ttotal: 1.69s\tremaining: 6.71s\n",
      "300:\tlearn: 0.0036214\ttest: 0.0355943\tbest: 0.0355885 (297)\ttotal: 2.71s\tremaining: 6.28s\n",
      "400:\tlearn: 0.0023964\ttest: 0.0343317\tbest: 0.0342468 (393)\ttotal: 3.53s\tremaining: 5.28s\n",
      "500:\tlearn: 0.0018028\ttest: 0.0334310\tbest: 0.0334292 (498)\ttotal: 4.33s\tremaining: 4.31s\n",
      "600:\tlearn: 0.0014154\ttest: 0.0327572\tbest: 0.0327435 (596)\ttotal: 5.18s\tremaining: 3.44s\n",
      "700:\tlearn: 0.0011354\ttest: 0.0324871\tbest: 0.0324871 (700)\ttotal: 5.98s\tremaining: 2.55s\n",
      "800:\tlearn: 0.0009516\ttest: 0.0321992\tbest: 0.0321978 (797)\ttotal: 6.77s\tremaining: 1.68s\n",
      "900:\tlearn: 0.0008279\ttest: 0.0321290\tbest: 0.0321110 (884)\ttotal: 7.62s\tremaining: 837ms\n",
      "999:\tlearn: 0.0007270\ttest: 0.0321209\tbest: 0.0321086 (905)\ttotal: 8.41s\tremaining: 0us\n",
      "bestTest = 0.03210859784\n",
      "bestIteration = 905\n",
      "Shrink model to first 906 iterations.\n",
      "Accuracy: 0.9920550847457628, f1_score: 0.9842744441472904\n",
      "------------------fold: 1 end----------------------\n",
      "----------------------fold: 2----------------------\n",
      "Learning rate set to 0.138346\n",
      "0:\tlearn: 1.3144394\ttest: 1.3619087\tbest: 1.3619087 (0)\ttotal: 13.3ms\tremaining: 13.3s\n"
     ]
    },
    {
     "output_type": "stream",
     "name": "stderr",
     "text": [
      "Warning: less than 75% gpu memory available for training. Free: 5004.75 Total: 32510.5\n"
     ]
    },
    {
     "output_type": "stream",
     "name": "stdout",
     "text": [
      "100:\tlearn: 0.0077633\ttest: 0.0500077\tbest: 0.0500077 (100)\ttotal: 984ms\tremaining: 8.76s\n",
      "200:\tlearn: 0.0034253\ttest: 0.0440317\tbest: 0.0440317 (200)\ttotal: 1.95s\tremaining: 7.76s\n",
      "300:\tlearn: 0.0020483\ttest: 0.0424398\tbest: 0.0424279 (296)\ttotal: 2.87s\tremaining: 6.66s\n",
      "400:\tlearn: 0.0014514\ttest: 0.0418665\tbest: 0.0418665 (400)\ttotal: 3.62s\tremaining: 5.41s\n",
      "500:\tlearn: 0.0011119\ttest: 0.0415318\tbest: 0.0415094 (499)\ttotal: 4.37s\tremaining: 4.35s\n",
      "600:\tlearn: 0.0008842\ttest: 0.0414240\tbest: 0.0413734 (564)\ttotal: 5.12s\tremaining: 3.4s\n",
      "700:\tlearn: 0.0007388\ttest: 0.0412879\tbest: 0.0412879 (700)\ttotal: 5.87s\tremaining: 2.5s\n",
      "800:\tlearn: 0.0006448\ttest: 0.0412294\tbest: 0.0412294 (800)\ttotal: 6.62s\tremaining: 1.64s\n",
      "900:\tlearn: 0.0005596\ttest: 0.0411547\tbest: 0.0411220 (865)\ttotal: 7.37s\tremaining: 809ms\n",
      "bestTest = 0.04112195969\n",
      "bestIteration = 865\n",
      "Shrink model to first 866 iterations.\n",
      "Accuracy: 0.9907309322033898, f1_score: 0.975634801888402\n",
      "------------------fold: 2 end----------------------\n",
      "----------------------fold: 3----------------------\n",
      "Learning rate set to 0.138346\n",
      "0:\tlearn: 1.3163067\ttest: 1.3644206\tbest: 1.3644206 (0)\ttotal: 9.3ms\tremaining: 9.29s\n"
     ]
    },
    {
     "output_type": "stream",
     "name": "stderr",
     "text": [
      "Warning: less than 75% gpu memory available for training. Free: 5004.75 Total: 32510.5\n"
     ]
    },
    {
     "output_type": "stream",
     "name": "stdout",
     "text": [
      "100:\tlearn: 0.0058374\ttest: 0.0405464\tbest: 0.0405464 (100)\ttotal: 771ms\tremaining: 6.86s\n",
      "200:\tlearn: 0.0027108\ttest: 0.0375507\tbest: 0.0375397 (196)\ttotal: 1.49s\tremaining: 5.92s\n",
      "300:\tlearn: 0.0016310\ttest: 0.0364860\tbest: 0.0364584 (292)\ttotal: 2.22s\tremaining: 5.15s\n",
      "400:\tlearn: 0.0011689\ttest: 0.0362639\tbest: 0.0362059 (345)\ttotal: 2.94s\tremaining: 4.39s\n",
      "bestTest = 0.03620592618\n",
      "bestIteration = 345\n",
      "Shrink model to first 346 iterations.\n",
      "Accuracy: 0.991260593220339, f1_score: 0.9790711014909443\n",
      "------------------fold: 3 end----------------------\n",
      "----------------------fold: 4----------------------\n",
      "Learning rate set to 0.138346\n",
      "0:\tlearn: 1.2195665\ttest: 1.2671440\tbest: 1.2671440 (0)\ttotal: 9.25ms\tremaining: 9.24s\n"
     ]
    },
    {
     "output_type": "stream",
     "name": "stderr",
     "text": [
      "Warning: less than 75% gpu memory available for training. Free: 5004.75 Total: 32510.5\n"
     ]
    },
    {
     "output_type": "stream",
     "name": "stdout",
     "text": [
      "100:\tlearn: 0.0074003\ttest: 0.0505132\tbest: 0.0505132 (100)\ttotal: 756ms\tremaining: 6.72s\n",
      "200:\tlearn: 0.0035487\ttest: 0.0462194\tbest: 0.0461307 (195)\ttotal: 1.46s\tremaining: 5.79s\n",
      "300:\tlearn: 0.0020296\ttest: 0.0446944\tbest: 0.0446944 (300)\ttotal: 2.17s\tremaining: 5.03s\n",
      "400:\tlearn: 0.0013046\ttest: 0.0444952\tbest: 0.0444032 (376)\ttotal: 2.88s\tremaining: 4.31s\n",
      "500:\tlearn: 0.0009938\ttest: 0.0444647\tbest: 0.0443708 (432)\ttotal: 3.67s\tremaining: 3.65s\n",
      "bestTest = 0.04437084925\n",
      "bestIteration = 432\n",
      "Shrink model to first 433 iterations.\n",
      "Accuracy: 0.9902012711864406, f1_score: 0.9809589406518737\n",
      "------------------fold: 4 end----------------------\n",
      "----------------------fold: 5----------------------\n",
      "Learning rate set to 0.138346\n",
      "0:\tlearn: 1.3546639\ttest: 1.4179293\tbest: 1.4179293 (0)\ttotal: 8.96ms\tremaining: 8.95s\n"
     ]
    },
    {
     "output_type": "stream",
     "name": "stderr",
     "text": [
      "Warning: less than 75% gpu memory available for training. Free: 5004.75 Total: 32510.5\n"
     ]
    },
    {
     "output_type": "stream",
     "name": "stdout",
     "text": [
      "100:\tlearn: 0.0060172\ttest: 0.0420039\tbest: 0.0420039 (100)\ttotal: 727ms\tremaining: 6.47s\n",
      "200:\tlearn: 0.0023857\ttest: 0.0355274\tbest: 0.0355274 (200)\ttotal: 1.41s\tremaining: 5.61s\n",
      "300:\tlearn: 0.0014417\ttest: 0.0336721\tbest: 0.0336721 (300)\ttotal: 2.07s\tremaining: 4.82s\n",
      "400:\tlearn: 0.0010448\ttest: 0.0326368\tbest: 0.0326285 (399)\ttotal: 2.75s\tremaining: 4.11s\n",
      "500:\tlearn: 0.0007988\ttest: 0.0322904\tbest: 0.0322504 (494)\ttotal: 3.41s\tremaining: 3.4s\n",
      "600:\tlearn: 0.0006512\ttest: 0.0319004\tbest: 0.0318901 (598)\ttotal: 4.07s\tremaining: 2.7s\n",
      "700:\tlearn: 0.0005603\ttest: 0.0315029\tbest: 0.0315029 (700)\ttotal: 4.73s\tremaining: 2.02s\n",
      "800:\tlearn: 0.0004793\ttest: 0.0313967\tbest: 0.0313757 (783)\ttotal: 5.4s\tremaining: 1.34s\n",
      "bestTest = 0.03137565265\n",
      "bestIteration = 783\n",
      "Shrink model to first 784 iterations.\n",
      "Accuracy: 0.991260593220339, f1_score: 0.9795349089864369\n",
      "------------------fold: 5 end----------------------\n"
     ]
    }
   ],
   "metadata": {}
  }
 ],
 "metadata": {
  "kernelspec": {
   "display_name": "Python 3 (ipykernel)",
   "language": "python",
   "name": "python3"
  },
  "language_info": {
   "codemirror_mode": {
    "name": "ipython",
    "version": 3
   },
   "file_extension": ".py",
   "mimetype": "text/x-python",
   "name": "python",
   "nbconvert_exporter": "python",
   "pygments_lexer": "ipython3",
   "version": "3.8.5"
  }
 },
 "nbformat": 4,
 "nbformat_minor": 5
}